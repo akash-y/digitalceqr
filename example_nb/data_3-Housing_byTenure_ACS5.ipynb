{
 "cells": [
  {
   "cell_type": "markdown",
   "metadata": {},
   "source": [
    "Author: Dana Chermesh Reshef, DRAW Brooklyn<br>\n",
    "April 2019\n",
    "\n",
    "### _Digital CEQR -- #3_\n",
    "# Data: Housing 2010, 2017; from:\n",
    "- **_ACS 5-yesr estimates 2013-2017 using Census API_**\n",
    "- **_ACS 5-yesr estimates 2006-2010 using Census API_**\n",
    "\n",
    "----\n",
    "\n",
    "A user guide for Census Data API:\n",
    "\n",
    "# [Census Data API User Guide](https://www.census.gov/content/dam/Census/data/developers/api-user-guide/api-guide.pdf)\n",
    "\n",
    "The Census Data API in an API that gives the public access to raw statistical data from various Census Bureau data\n",
    "programs. In terms of space, we aggregate the data and usually associate them with a\n",
    "certain Census geographic boundary/area defined by a FIPS code. \n",
    "\n",
    "## _get your API key from:_ \n",
    "https://api.census.gov/data/key_signup.html\n",
    "\n",
    "**Recommended:** In order to keep your API key confidential, please save your API key in a .py file named **censusAPI.py** as follows:\n",
    "\n",
    "```python\n",
    "myAPI = 'XXXXXXXXXXXXXXX'\n",
    "```\n",
    "Then read into this notebook as in the following cell:\n",
    "```python\n",
    "from censusAPI import myAPI\n",
    "```\n",
    "\n",
    "### The complete list of all available datasets for the API is located here:\n",
    "https://api.census.gov/data.html\n",
    "### Examples for calling the API for different geography levels (2017):\n",
    "https://api.census.gov/data/2017/acs/acs5/examples.html"
   ]
  },
  {
   "cell_type": "code",
   "execution_count": 41,
   "metadata": {},
   "outputs": [
    {
     "name": "stdout",
     "output_type": "stream",
     "text": [
      "Populating the interactive namespace from numpy and matplotlib\n"
     ]
    }
   ],
   "source": [
    "# imports for reading in, munging and calculating data\n",
    "import pandas as pd\n",
    "import json\n",
    "import requests \n",
    "import urllib\n",
    "import numpy as np\n",
    "\n",
    "# reading in my api key saved in censusAPI.py as\n",
    "# myAPI = 'XXXXXXXXXXXXXXX'\n",
    "# request an api key in: https://api.census.gov/data/key_signup.html\n",
    "from censusAPI import myAPI\n",
    "\n",
    "# Python 3 compatibility\n",
    "from __future__ import print_function, division\n",
    "\n",
    "# Spatial\n",
    "import geopandas as gpd\n",
    "import fiona\n",
    "import shapely\n",
    "\n",
    "# Plotting\n",
    "import matplotlib.pylab as pl\n",
    "import seaborn as sns\n",
    "sns.set_style('whitegrid')\n",
    "\n",
    "%pylab inline"
   ]
  },
  {
   "cell_type": "markdown",
   "metadata": {},
   "source": [
    "----\n",
    "# Housing units 2017\n",
    "### _data were obtained from the  ACS 2013-2017 5-year estimate, all counties in the US_\n",
    "variables to be acquired:\n",
    "- **B25001_001E** |\tTotal Housing Units (occupied+vacant)\n",
    "- **B25003_002E** | Owner occupied\n",
    "- **B25003_003E** | Renter occupied"
   ]
  },
  {
   "cell_type": "code",
   "execution_count": 42,
   "metadata": {},
   "outputs": [],
   "source": [
    "#read in in the variables available. the info you need is in the 1year ACS data\n",
    "url = \"https://api.census.gov/data/2017/acs/acs5/variables.json\"\n",
    "resp = requests.request('GET', url)\n",
    "aff1y = json.loads(resp.text)"
   ]
  },
  {
   "cell_type": "code",
   "execution_count": 43,
   "metadata": {},
   "outputs": [
    {
     "data": {
      "text/plain": [
       "array(['B21005_008E', 'B26108_060E', 'B27022_009E', ..., 'B26201_108E',\n",
       "       'B99191_002E', 'B27002_048E'], dtype='<U14')"
      ]
     },
     "execution_count": 43,
     "metadata": {},
     "output_type": "execute_result"
    }
   ],
   "source": [
    "#turning things into arrays to enable broadcasting\n",
    "#Python3\n",
    "affkeys = np.array(list(aff1y['variables'].keys()))\n",
    "\n",
    "affkeys"
   ]
  },
  {
   "cell_type": "code",
   "execution_count": 44,
   "metadata": {},
   "outputs": [
    {
     "data": {
      "text/plain": [
       "{'attributes': 'B25001_001EA,B25001_001M,B25001_001MA',\n",
       " 'concept': 'HOUSING UNITS',\n",
       " 'group': 'B25001',\n",
       " 'label': 'Estimate!!Total',\n",
       " 'limit': 0,\n",
       " 'predicateType': 'int'}"
      ]
     },
     "execution_count": 44,
     "metadata": {},
     "output_type": "execute_result"
    }
   ],
   "source": [
    "# keyword for POP estimates\n",
    "totalHU = 'B25001_001E'\n",
    "owner = 'B25003_002E'\n",
    "renter = 'B25003_003E'\n",
    "\n",
    "aff1y['variables'][totalHU]"
   ]
  },
  {
   "cell_type": "code",
   "execution_count": 45,
   "metadata": {},
   "outputs": [
    {
     "name": "stdout",
     "output_type": "stream",
     "text": [
      "(62, 5)\n"
     ]
    },
    {
     "data": {
      "text/html": [
       "<div>\n",
       "<style scoped>\n",
       "    .dataframe tbody tr th:only-of-type {\n",
       "        vertical-align: middle;\n",
       "    }\n",
       "\n",
       "    .dataframe tbody tr th {\n",
       "        vertical-align: top;\n",
       "    }\n",
       "\n",
       "    .dataframe thead th {\n",
       "        text-align: right;\n",
       "    }\n",
       "</style>\n",
       "<table border=\"1\" class=\"dataframe\">\n",
       "  <thead>\n",
       "    <tr style=\"text-align: right;\">\n",
       "      <th></th>\n",
       "      <th>TotalHousing17</th>\n",
       "      <th>Owners17</th>\n",
       "      <th>renters17</th>\n",
       "      <th>Name</th>\n",
       "      <th>STCO</th>\n",
       "    </tr>\n",
       "  </thead>\n",
       "  <tbody>\n",
       "    <tr>\n",
       "      <th>1</th>\n",
       "      <td>17465</td>\n",
       "      <td>9471</td>\n",
       "      <td>3068</td>\n",
       "      <td>Schoharie County, New York</td>\n",
       "      <td>36095</td>\n",
       "    </tr>\n",
       "    <tr>\n",
       "      <th>2</th>\n",
       "      <td>524488</td>\n",
       "      <td>97658</td>\n",
       "      <td>397698</td>\n",
       "      <td>Bronx County, New York</td>\n",
       "      <td>36005</td>\n",
       "    </tr>\n",
       "    <tr>\n",
       "      <th>3</th>\n",
       "      <td>206707</td>\n",
       "      <td>120606</td>\n",
       "      <td>65234</td>\n",
       "      <td>Onondaga County, New York</td>\n",
       "      <td>36067</td>\n",
       "    </tr>\n",
       "    <tr>\n",
       "      <th>4</th>\n",
       "      <td>29004</td>\n",
       "      <td>16085</td>\n",
       "      <td>6450</td>\n",
       "      <td>Fulton County, New York</td>\n",
       "      <td>36035</td>\n",
       "    </tr>\n",
       "    <tr>\n",
       "      <th>5</th>\n",
       "      <td>36352</td>\n",
       "      <td>21542</td>\n",
       "      <td>10138</td>\n",
       "      <td>Clinton County, New York</td>\n",
       "      <td>36019</td>\n",
       "    </tr>\n",
       "  </tbody>\n",
       "</table>\n",
       "</div>"
      ],
      "text/plain": [
       "  TotalHousing17 Owners17 renters17                        Name   STCO\n",
       "1          17465     9471      3068  Schoharie County, New York  36095\n",
       "2         524488    97658    397698      Bronx County, New York  36005\n",
       "3         206707   120606     65234   Onondaga County, New York  36067\n",
       "4          29004    16085      6450     Fulton County, New York  36035\n",
       "5          36352    21542     10138    Clinton County, New York  36019"
      ]
     },
     "execution_count": 45,
     "metadata": {},
     "output_type": "execute_result"
    }
   ],
   "source": [
    "# HU2017 data for all counties in the US\n",
    "totalHU17 = pd.read_json('https://api.census.gov/data/2017/acs/acs5?get='+\n",
    "                         totalHU + ',' +\n",
    "                         owner + ',' +\n",
    "                         renter +',NAME&for=county:*&in=state:36')\n",
    "totalHU17.columns = totalHU17.iloc[0]\n",
    "totalHU17 = totalHU17[1:]\n",
    "\n",
    "totalHU17['state'] = totalHU17['state'].apply(lambda x: '{0:0>2}'.format(x))\n",
    "totalHU17['county'] = totalHU17['county'].apply(lambda x: '{0:0>3}'.format(x))\n",
    "totalHU17['STCO'] = totalHU17[['state', 'county']].apply(lambda x: ''.join(x), axis=1)\n",
    "\n",
    "totalHU17 = totalHU17.drop(['state', 'county'], axis=1)\n",
    "totalHU17.columns = ['TotalHousing17', 'Owners17', 'renters17',\n",
    "                     'Name', 'STCO']\n",
    "\n",
    "print(totalHU17.shape)\n",
    "totalHU17.head()"
   ]
  },
  {
   "cell_type": "markdown",
   "metadata": {},
   "source": [
    "----\n",
    "\n",
    "## Places\n",
    "\n",
    "City-Suburbs by tenure"
   ]
  },
  {
   "cell_type": "code",
   "execution_count": 46,
   "metadata": {},
   "outputs": [
    {
     "name": "stdout",
     "output_type": "stream",
     "text": [
      "(29567, 5)\n"
     ]
    },
    {
     "data": {
      "text/html": [
       "<div>\n",
       "<style scoped>\n",
       "    .dataframe tbody tr th:only-of-type {\n",
       "        vertical-align: middle;\n",
       "    }\n",
       "\n",
       "    .dataframe tbody tr th {\n",
       "        vertical-align: top;\n",
       "    }\n",
       "\n",
       "    .dataframe thead th {\n",
       "        text-align: right;\n",
       "    }\n",
       "</style>\n",
       "<table border=\"1\" class=\"dataframe\">\n",
       "  <thead>\n",
       "    <tr style=\"text-align: right;\">\n",
       "      <th></th>\n",
       "      <th>TotalHousing17</th>\n",
       "      <th>Owners17</th>\n",
       "      <th>renters17</th>\n",
       "      <th>Name</th>\n",
       "      <th>STPL</th>\n",
       "    </tr>\n",
       "  </thead>\n",
       "  <tbody>\n",
       "    <tr>\n",
       "      <th>1</th>\n",
       "      <td>62</td>\n",
       "      <td>0</td>\n",
       "      <td>44</td>\n",
       "      <td>Boys Ranch CDP, Texas</td>\n",
       "      <td>4809796</td>\n",
       "    </tr>\n",
       "    <tr>\n",
       "      <th>2</th>\n",
       "      <td>74</td>\n",
       "      <td>9</td>\n",
       "      <td>53</td>\n",
       "      <td>Guthrie CDP, Texas</td>\n",
       "      <td>4831640</td>\n",
       "    </tr>\n",
       "    <tr>\n",
       "      <th>3</th>\n",
       "      <td>131</td>\n",
       "      <td>53</td>\n",
       "      <td>33</td>\n",
       "      <td>Gail CDP, Texas</td>\n",
       "      <td>4827972</td>\n",
       "    </tr>\n",
       "    <tr>\n",
       "      <th>4</th>\n",
       "      <td>626</td>\n",
       "      <td>570</td>\n",
       "      <td>42</td>\n",
       "      <td>Bartonville town, Texas</td>\n",
       "      <td>4805768</td>\n",
       "    </tr>\n",
       "    <tr>\n",
       "      <th>5</th>\n",
       "      <td>235</td>\n",
       "      <td>206</td>\n",
       "      <td>14</td>\n",
       "      <td>Annetta North town, Texas</td>\n",
       "      <td>4803340</td>\n",
       "    </tr>\n",
       "  </tbody>\n",
       "</table>\n",
       "</div>"
      ],
      "text/plain": [
       "  TotalHousing17 Owners17 renters17                       Name     STPL\n",
       "1             62        0        44      Boys Ranch CDP, Texas  4809796\n",
       "2             74        9        53         Guthrie CDP, Texas  4831640\n",
       "3            131       53        33            Gail CDP, Texas  4827972\n",
       "4            626      570        42    Bartonville town, Texas  4805768\n",
       "5            235      206        14  Annetta North town, Texas  4803340"
      ]
     },
     "execution_count": 46,
     "metadata": {},
     "output_type": "execute_result"
    }
   ],
   "source": [
    "# HU2017 data for all counties in the US\n",
    "placeHU17 = pd.read_json('https://api.census.gov/data/2017/acs/acs5?get='+\n",
    "                         totalHU + ',' +\n",
    "                         owner + ',' +\n",
    "                         renter +',NAME&for=place:*&in=state:*')\n",
    "placeHU17.columns = placeHU17.iloc[0]\n",
    "placeHU17 = placeHU17[1:]\n",
    "\n",
    "placeHU17['state'] = placeHU17['state'].apply(lambda x: '{0:0>2}'.format(x))\n",
    "placeHU17['place'] = placeHU17['place'].apply(lambda x: '{0:0>3}'.format(x))\n",
    "placeHU17['STPL'] = placeHU17[['state', 'place']].apply(lambda x: ''.join(x), axis=1)\n",
    "\n",
    "placeHU17 = placeHU17.drop(['state', 'place'], axis=1)\n",
    "placeHU17.columns = ['TotalHousing17', 'Owners17', 'renters17',\n",
    "                     'Name', 'STPL']\n",
    "\n",
    "print(placeHU17.shape)\n",
    "placeHU17.head()"
   ]
  },
  {
   "cell_type": "code",
   "execution_count": 47,
   "metadata": {},
   "outputs": [
    {
     "data": {
      "text/plain": [
       "TotalHousing17    object\n",
       "Owners17          object\n",
       "renters17         object\n",
       "Name              object\n",
       "STPL               int64\n",
       "dtype: object"
      ]
     },
     "execution_count": 47,
     "metadata": {},
     "output_type": "execute_result"
    }
   ],
   "source": [
    "placeHU17.STPL = placeHU16.STPL.astype(int)\n",
    "placeHU17.dtypes"
   ]
  }
 ],
 "metadata": {
  "kernelspec": {
   "display_name": "Python 3",
   "language": "python",
   "name": "python3"
  },
  "language_info": {
   "codemirror_mode": {
    "name": "ipython",
    "version": 3
   },
   "file_extension": ".py",
   "mimetype": "text/x-python",
   "name": "python",
   "nbconvert_exporter": "python",
   "pygments_lexer": "ipython3",
   "version": "3.5.5"
  }
 },
 "nbformat": 4,
 "nbformat_minor": 2
}
