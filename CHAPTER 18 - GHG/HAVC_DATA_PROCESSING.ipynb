{
 "cells": [
  {
   "cell_type": "markdown",
   "metadata": {},
   "source": [
    "#  Heating, ventilation, and air conditioning (HAVC) Analysis"
   ]
  },
  {
   "cell_type": "code",
   "execution_count": 2,
   "metadata": {},
   "outputs": [
    {
     "name": "stdout",
     "output_type": "stream",
     "text": [
      "Populating the interactive namespace from numpy and matplotlib\n"
     ]
    }
   ],
   "source": [
    "import numpy as np\n",
    "import pandas as pd\n",
    "import geopandas as gpd\n",
    "\n",
    "from fiona.crs import from_epsg\n",
    "\n",
    "\n",
    "\n",
    "from IPython.display import Image\n",
    "\n",
    "import urllib\n",
    "#import mplleaflet as mpll\n",
    "% pylab inline"
   ]
  },
  {
   "cell_type": "markdown",
   "metadata": {},
   "source": [
    "### 1. Heating"
   ]
  },
  {
   "cell_type": "code",
   "execution_count": 5,
   "metadata": {},
   "outputs": [
    {
     "name": "stdout",
     "output_type": "stream",
     "text": [
      "--2019-05-04 18:32:24--  https://data.cityofnewyork.us/api/views/it56-eyq4/rows.csv?accessType=DOWNLOAD\n",
      "Resolving data.cityofnewyork.us (data.cityofnewyork.us)... 52.206.140.199, 52.206.140.205, 52.206.68.26\n",
      "Connecting to data.cityofnewyork.us (data.cityofnewyork.us)|52.206.140.199|:443... connected.\n",
      "HTTP request sent, awaiting response... 200 OK\n",
      "Length: unspecified [text/csv]\n",
      "Saving to: ‘rows.csv?accessType=DOWNLOAD’\n",
      "\n",
      "rows.csv?accessType     [ <=>                ]  37.23M  5.07MB/s    in 7.5s    \n",
      "\n",
      "2019-05-04 18:32:32 (4.98 MB/s) - ‘rows.csv?accessType=DOWNLOAD’ saved [39034107]\n",
      "\n"
     ]
    }
   ],
   "source": [
    "#download data\n",
    "#!wget https://data.cityofnewyork.us/api/views/it56-eyq4/rows.csv?accessType=DOWNLOAD"
   ]
  },
  {
   "cell_type": "code",
   "execution_count": 9,
   "metadata": {},
   "outputs": [
    {
     "name": "stdout",
     "output_type": "stream",
     "text": [
      "Can't modify constant item in scalar assignment at (user-supplied code) line 3, at EOF\r\n",
      "syntax error at (user-supplied code) line 3, at EOF\r\n"
     ]
    }
   ],
   "source": [
    "#!rename rows.csv?accessType=DOWNLOAD.csv Heating Gas Consumption And Cost.csv"
   ]
  },
  {
   "cell_type": "code",
   "execution_count": 17,
   "metadata": {},
   "outputs": [],
   "source": [
    "#!mv  rows.csv data/heatinggasconsumption.csv"
   ]
  },
  {
   "cell_type": "code",
   "execution_count": 3,
   "metadata": {},
   "outputs": [],
   "source": [
    "heating = pd.read_csv('data/heatinggasconsumption.csv')"
   ]
  },
  {
   "cell_type": "code",
   "execution_count": 4,
   "metadata": {},
   "outputs": [
    {
     "data": {
      "text/html": [
       "<div>\n",
       "<table border=\"1\" class=\"dataframe\">\n",
       "  <thead>\n",
       "    <tr style=\"text-align: right;\">\n",
       "      <th></th>\n",
       "      <th>Development Name</th>\n",
       "      <th>Borough</th>\n",
       "      <th>Account Name</th>\n",
       "      <th>Location</th>\n",
       "      <th>Meter AMR</th>\n",
       "      <th>Meter Scope</th>\n",
       "      <th>TDS #</th>\n",
       "      <th>EDP</th>\n",
       "      <th>RC Code</th>\n",
       "      <th>Funding Source</th>\n",
       "      <th>...</th>\n",
       "      <th>Service End Date</th>\n",
       "      <th># days</th>\n",
       "      <th>Meter Number</th>\n",
       "      <th>Estimated</th>\n",
       "      <th>Current Charges</th>\n",
       "      <th>Rate Class</th>\n",
       "      <th>Bill Analyzed</th>\n",
       "      <th>Consumption (Therms)</th>\n",
       "      <th>ES Commodity</th>\n",
       "      <th>Underlying Utility</th>\n",
       "    </tr>\n",
       "  </thead>\n",
       "  <tbody>\n",
       "    <tr>\n",
       "      <th>0</th>\n",
       "      <td>BETANCES II, 9A</td>\n",
       "      <td>BRONX</td>\n",
       "      <td>BETANCES II (BLD 4)</td>\n",
       "      <td>BLD 04</td>\n",
       "      <td>Not Applicable</td>\n",
       "      <td>NaN</td>\n",
       "      <td>220.0</td>\n",
       "      <td>294</td>\n",
       "      <td>B022000</td>\n",
       "      <td>FEDERAL</td>\n",
       "      <td>...</td>\n",
       "      <td>06/30/2018</td>\n",
       "      <td>37</td>\n",
       "      <td>3.95416E+14</td>\n",
       "      <td>N</td>\n",
       "      <td>14.60</td>\n",
       "      <td>NaN</td>\n",
       "      <td>Exception</td>\n",
       "      <td>26.0</td>\n",
       "      <td>BROKERED GAS</td>\n",
       "      <td>ConEd</td>\n",
       "    </tr>\n",
       "    <tr>\n",
       "      <th>1</th>\n",
       "      <td>WOODSON</td>\n",
       "      <td>BROOKLYN</td>\n",
       "      <td>WOODSON</td>\n",
       "      <td>BLD 02</td>\n",
       "      <td>Not Applicable</td>\n",
       "      <td>NaN</td>\n",
       "      <td>182.0</td>\n",
       "      <td>285</td>\n",
       "      <td>K018200</td>\n",
       "      <td>FEDERAL</td>\n",
       "      <td>...</td>\n",
       "      <td>06/30/2018</td>\n",
       "      <td>36</td>\n",
       "      <td>548925110</td>\n",
       "      <td>N</td>\n",
       "      <td>5630.37</td>\n",
       "      <td>NaN</td>\n",
       "      <td>Yes</td>\n",
       "      <td>11831.0</td>\n",
       "      <td>BROKERED GAS</td>\n",
       "      <td>NatGrid NYC</td>\n",
       "    </tr>\n",
       "    <tr>\n",
       "      <th>2</th>\n",
       "      <td>GLEBE AVENUE-WESTCHESTER AVENUE</td>\n",
       "      <td>BRONX</td>\n",
       "      <td>GLEBE AVENUE-WESTCHESTER AVENUE</td>\n",
       "      <td>BLD 01</td>\n",
       "      <td>NONE</td>\n",
       "      <td>NaN</td>\n",
       "      <td>225.0</td>\n",
       "      <td>342</td>\n",
       "      <td>B022500</td>\n",
       "      <td>FEDERAL</td>\n",
       "      <td>...</td>\n",
       "      <td>06/30/2018</td>\n",
       "      <td>8</td>\n",
       "      <td>3434006</td>\n",
       "      <td>Y</td>\n",
       "      <td>362.56</td>\n",
       "      <td>Trans Gen Non-Res</td>\n",
       "      <td>Yes</td>\n",
       "      <td>623.0</td>\n",
       "      <td>UTILITY GAS</td>\n",
       "      <td>ConEd</td>\n",
       "    </tr>\n",
       "    <tr>\n",
       "      <th>3</th>\n",
       "      <td>BELMONT-SUTTER AREA</td>\n",
       "      <td>BROOKLYN</td>\n",
       "      <td>BELMONT-SUTTER AREA</td>\n",
       "      <td>BLD 01</td>\n",
       "      <td>AMR</td>\n",
       "      <td>NaN</td>\n",
       "      <td>345.0</td>\n",
       "      <td>761</td>\n",
       "      <td>K034500</td>\n",
       "      <td>FEDERAL</td>\n",
       "      <td>...</td>\n",
       "      <td>06/30/2018</td>\n",
       "      <td>36</td>\n",
       "      <td>5152819</td>\n",
       "      <td>Y</td>\n",
       "      <td>365.26</td>\n",
       "      <td>T3 TRAN MULT FAM</td>\n",
       "      <td>Yes</td>\n",
       "      <td>711.0</td>\n",
       "      <td>UTILITY GAS</td>\n",
       "      <td>NatGrid NYC</td>\n",
       "    </tr>\n",
       "    <tr>\n",
       "      <th>4</th>\n",
       "      <td>FENIMORE-LEFFERTS</td>\n",
       "      <td>BROOKLYN</td>\n",
       "      <td>FENIMORE-LEFFERTS</td>\n",
       "      <td>BLD 12</td>\n",
       "      <td>AMR</td>\n",
       "      <td>NaN</td>\n",
       "      <td>205.0</td>\n",
       "      <td>322</td>\n",
       "      <td>K020500</td>\n",
       "      <td>FEDERAL</td>\n",
       "      <td>...</td>\n",
       "      <td>06/30/2018</td>\n",
       "      <td>36</td>\n",
       "      <td>3907797</td>\n",
       "      <td>Y</td>\n",
       "      <td>59.71</td>\n",
       "      <td>T1B TRAN RES HEAT</td>\n",
       "      <td>Yes</td>\n",
       "      <td>33.0</td>\n",
       "      <td>UTILITY GAS</td>\n",
       "      <td>NatGrid NYC</td>\n",
       "    </tr>\n",
       "  </tbody>\n",
       "</table>\n",
       "<p>5 rows × 25 columns</p>\n",
       "</div>"
      ],
      "text/plain": [
       "                  Development Name   Borough                     Account Name  \\\n",
       "0                  BETANCES II, 9A     BRONX              BETANCES II (BLD 4)   \n",
       "1                          WOODSON  BROOKLYN                          WOODSON   \n",
       "2  GLEBE AVENUE-WESTCHESTER AVENUE     BRONX  GLEBE AVENUE-WESTCHESTER AVENUE   \n",
       "3              BELMONT-SUTTER AREA  BROOKLYN              BELMONT-SUTTER AREA   \n",
       "4                FENIMORE-LEFFERTS  BROOKLYN                FENIMORE-LEFFERTS   \n",
       "\n",
       "  Location       Meter AMR Meter Scope  TDS #  EDP  RC Code Funding Source  \\\n",
       "0   BLD 04  Not Applicable         NaN  220.0  294  B022000        FEDERAL   \n",
       "1   BLD 02  Not Applicable         NaN  182.0  285  K018200        FEDERAL   \n",
       "2   BLD 01            NONE         NaN  225.0  342  B022500        FEDERAL   \n",
       "3   BLD 01             AMR         NaN  345.0  761  K034500        FEDERAL   \n",
       "4   BLD 12             AMR         NaN  205.0  322  K020500        FEDERAL   \n",
       "\n",
       "          ...         Service End Date # days  Meter Number   Estimated  \\\n",
       "0         ...               06/30/2018     37   3.95416E+14  N            \n",
       "1         ...               06/30/2018     36     548925110  N            \n",
       "2         ...               06/30/2018      8       3434006  Y            \n",
       "3         ...               06/30/2018     36       5152819  Y            \n",
       "4         ...               06/30/2018     36       3907797  Y            \n",
       "\n",
       "  Current Charges         Rate Class  Bill Analyzed Consumption (Therms)  \\\n",
       "0           14.60                NaN      Exception                 26.0   \n",
       "1         5630.37                NaN            Yes              11831.0   \n",
       "2          362.56  Trans Gen Non-Res            Yes                623.0   \n",
       "3          365.26   T3 TRAN MULT FAM            Yes                711.0   \n",
       "4           59.71  T1B TRAN RES HEAT            Yes                 33.0   \n",
       "\n",
       "   ES Commodity  Underlying Utility  \n",
       "0  BROKERED GAS               ConEd  \n",
       "1  BROKERED GAS         NatGrid NYC  \n",
       "2   UTILITY GAS               ConEd  \n",
       "3   UTILITY GAS         NatGrid NYC  \n",
       "4   UTILITY GAS         NatGrid NYC  \n",
       "\n",
       "[5 rows x 25 columns]"
      ]
     },
     "execution_count": 4,
     "metadata": {},
     "output_type": "execute_result"
    }
   ],
   "source": [
    "heating.head()"
   ]
  },
  {
   "cell_type": "code",
   "execution_count": null,
   "metadata": {},
   "outputs": [],
   "source": [
    "#dictionary \n",
    "Column Name\tDescription\tExpected Values\n",
    "Development Name\tDevelopment name\tThe name of the housing development as listed in the Development Data Book.\n",
    "Borough\tBorough\tBronx, Brooklyn, Manhattan, Queens, or Staten Island.\n",
    "Account Name\tname of all the development an account supplies\t\n",
    "Location\t\"Building number. \n",
    "In order to run an analysis by building, you can use a combination of TDS and building number which gives a unique identifier for each building\"\tThe building number of the meter\n",
    "Meter AMR\tIs the meter Automatic Meter Reading (AMR), Interval or none\tAMR, Interval, None\n",
    "Meter Scope\tThe buildings or areas the account and meter supply\tListing of the buildings/Areas\n",
    "TDS #\tTDS (Tenant Data System) number is the unique identifier for all NCYHA developments. It is recommended to use it in order to run analysis by development. The TDS is also the unique link between NYCHA data sets.\t\"Number.\n",
    "The non development facilities (as identified in the field Funding Source) don't have a TDS #. For these facilities use EDP or RC Code.\"\n",
    "EDP\tNYCHA Electronic Data Processing. Number used to identify individual NYCHA developments. EDP is used by NYCHA only to link data issued from a different system (the energy management system that was used by NYCHA before 2010). It is recommended to use the TDS # as a unique identifier of each development.\tThree digit number\n",
    "RC Code\t\"NYCHA budget responsibility code.  Code representing a specific development.\n",
    "\"\tLetter indicating the borough and series of numbers.\n",
    "Funding Source\t\"The development’s funding source including Federal,\n",
    "Mixed Finance, or an indication that the facility is a non development facility which means a non residential facility.\"\tFederal, Mixed Finance, or Non Development Facility\n",
    "AMP number\tAbbreviation for Asset Management Project (AMP) numbers.  HUD Development asset tracking number.  An AMP number can consist of more than one development.\tNY and a series of numbers\n",
    "Vendor Name\tUtility vendor name\tVendor name\n",
    "UMIS Bill ID\ts utility management information system unique bill ID number.\t\n",
    "Revenue Month\tYear and month of bill: 2016-01\t2016-01\n",
    "Service Start Date\tBill start date\tDate\n",
    "Service End Date\tBill end date\tDate\n",
    "number days\tNumber of days on bill\tNumber of days on bill\n",
    "Meter Number\tMeter number\tMeter number\n",
    "Estimated\tMeter was not read for the time period. The consumption and cost are estimated. (Data is updated with actual reads once the meter is read)\tYes (Y)  or No (N)\n",
    "Current Charges\tTotal costs\tDollar value\n",
    "Rate Class\tThe rate applied to the account.  Details about each rate (dollar value) are available on the vendor web site.\tRate code is listed.\n",
    "Bill Analyzed\tThe bill was analyzed for billing errors by NYCHA's Utility Management system during the billing period\tYes (Y)  or No (N)\n",
    "Consumption (Therms)\tTotal therm consumption\tTherm consumption\n",
    "ES Commodity\tNYCHA procures brokered gas from the Energy market and is still billed by the utility.  Each month an account will have brokered gas bill and a utility gas bill.  Consumption is listed on both bills, only use utility consumption values when analyzing the data\tBrokered gas or Utility gas\n",
    "Underlying Utility\tIs the utility National Grid or Con edison\tNational Grid or Con edison\n"
   ]
  },
  {
   "cell_type": "code",
   "execution_count": 6,
   "metadata": {},
   "outputs": [
    {
     "data": {
      "text/plain": [
       "Index(['Development Name', 'Borough', 'Account Name', 'Location', 'Meter AMR',\n",
       "       'Meter Scope', 'TDS #', 'EDP', 'RC Code', 'Funding Source', 'AMP #',\n",
       "       'Vendor Name', 'UMIS BILL ID', 'Revenue Month', 'Service Start Date',\n",
       "       'Service End Date', '# days', 'Meter Number', 'Estimated',\n",
       "       'Current Charges', 'Rate Class', 'Bill Analyzed',\n",
       "       'Consumption (Therms)', 'ES Commodity', 'Underlying Utility'],\n",
       "      dtype='object')"
      ]
     },
     "execution_count": 6,
     "metadata": {},
     "output_type": "execute_result"
    }
   ],
   "source": [
    "heating.columns"
   ]
  },
  {
   "cell_type": "code",
   "execution_count": 7,
   "metadata": {},
   "outputs": [],
   "source": [
    "heating2 = heating[[ 'Borough',  'Location', \n",
    "     'Service Start Date',\n",
    "       'Service End Date',  \n",
    "       'Consumption (Therms)']]"
   ]
  },
  {
   "cell_type": "code",
   "execution_count": 8,
   "metadata": {},
   "outputs": [
    {
     "data": {
      "text/html": [
       "<div>\n",
       "<table border=\"1\" class=\"dataframe\">\n",
       "  <thead>\n",
       "    <tr style=\"text-align: right;\">\n",
       "      <th></th>\n",
       "      <th>Borough</th>\n",
       "      <th>Location</th>\n",
       "      <th>Service Start Date</th>\n",
       "      <th>Service End Date</th>\n",
       "      <th>Consumption (Therms)</th>\n",
       "    </tr>\n",
       "  </thead>\n",
       "  <tbody>\n",
       "    <tr>\n",
       "      <th>0</th>\n",
       "      <td>BRONX</td>\n",
       "      <td>BLD 04</td>\n",
       "      <td>05/24/2018</td>\n",
       "      <td>06/30/2018</td>\n",
       "      <td>26.0</td>\n",
       "    </tr>\n",
       "    <tr>\n",
       "      <th>1</th>\n",
       "      <td>BROOKLYN</td>\n",
       "      <td>BLD 02</td>\n",
       "      <td>05/25/2018</td>\n",
       "      <td>06/30/2018</td>\n",
       "      <td>11831.0</td>\n",
       "    </tr>\n",
       "    <tr>\n",
       "      <th>2</th>\n",
       "      <td>BRONX</td>\n",
       "      <td>BLD 01</td>\n",
       "      <td>06/22/2018</td>\n",
       "      <td>06/30/2018</td>\n",
       "      <td>623.0</td>\n",
       "    </tr>\n",
       "    <tr>\n",
       "      <th>3</th>\n",
       "      <td>BROOKLYN</td>\n",
       "      <td>BLD 01</td>\n",
       "      <td>05/25/2018</td>\n",
       "      <td>06/30/2018</td>\n",
       "      <td>711.0</td>\n",
       "    </tr>\n",
       "    <tr>\n",
       "      <th>4</th>\n",
       "      <td>BROOKLYN</td>\n",
       "      <td>BLD 12</td>\n",
       "      <td>05/25/2018</td>\n",
       "      <td>06/30/2018</td>\n",
       "      <td>33.0</td>\n",
       "    </tr>\n",
       "  </tbody>\n",
       "</table>\n",
       "</div>"
      ],
      "text/plain": [
       "    Borough Location Service Start Date Service End Date  Consumption (Therms)\n",
       "0     BRONX   BLD 04         05/24/2018       06/30/2018                  26.0\n",
       "1  BROOKLYN   BLD 02         05/25/2018       06/30/2018               11831.0\n",
       "2     BRONX   BLD 01         06/22/2018       06/30/2018                 623.0\n",
       "3  BROOKLYN   BLD 01         05/25/2018       06/30/2018                 711.0\n",
       "4  BROOKLYN   BLD 12         05/25/2018       06/30/2018                  33.0"
      ]
     },
     "execution_count": 8,
     "metadata": {},
     "output_type": "execute_result"
    }
   ],
   "source": [
    "heating2.head()"
   ]
  },
  {
   "cell_type": "code",
   "execution_count": 76,
   "metadata": {},
   "outputs": [],
   "source": [
    "heating_bk = heating2[heating2['Borough']=='BROOKLYN']"
   ]
  },
  {
   "cell_type": "code",
   "execution_count": 77,
   "metadata": {},
   "outputs": [
    {
     "name": "stderr",
     "output_type": "stream",
     "text": [
      "/usr/local/Anaconda3-5.0.0-Linux-x86_64/envs/PUI2016_Python3/lib/python3.5/site-packages/ipykernel/__main__.py:1: SettingWithCopyWarning: \n",
      "A value is trying to be set on a copy of a slice from a DataFrame\n",
      "\n",
      "See the caveats in the documentation: http://pandas.pydata.org/pandas-docs/stable/indexing.html#indexing-view-versus-copy\n",
      "  if __name__ == '__main__':\n"
     ]
    }
   ],
   "source": [
    "heating_bk.dropna(subset=['Consumption (Therms)'],inplace=True)"
   ]
  },
  {
   "cell_type": "code",
   "execution_count": 78,
   "metadata": {},
   "outputs": [],
   "source": [
    "heating_bk = heating_bk[heating_bk['Consumption (Therms)']>0]"
   ]
  },
  {
   "cell_type": "code",
   "execution_count": 79,
   "metadata": {},
   "outputs": [
    {
     "data": {
      "text/html": [
       "<div>\n",
       "<table border=\"1\" class=\"dataframe\">\n",
       "  <thead>\n",
       "    <tr style=\"text-align: right;\">\n",
       "      <th></th>\n",
       "      <th>Consumption (Therms)</th>\n",
       "    </tr>\n",
       "  </thead>\n",
       "  <tbody>\n",
       "    <tr>\n",
       "      <th>count</th>\n",
       "      <td>54541.000000</td>\n",
       "    </tr>\n",
       "    <tr>\n",
       "      <th>mean</th>\n",
       "      <td>17893.892323</td>\n",
       "    </tr>\n",
       "    <tr>\n",
       "      <th>std</th>\n",
       "      <td>42930.039095</td>\n",
       "    </tr>\n",
       "    <tr>\n",
       "      <th>min</th>\n",
       "      <td>1.000000</td>\n",
       "    </tr>\n",
       "    <tr>\n",
       "      <th>25%</th>\n",
       "      <td>650.000000</td>\n",
       "    </tr>\n",
       "    <tr>\n",
       "      <th>50%</th>\n",
       "      <td>1892.000000</td>\n",
       "    </tr>\n",
       "    <tr>\n",
       "      <th>75%</th>\n",
       "      <td>11085.000000</td>\n",
       "    </tr>\n",
       "    <tr>\n",
       "      <th>max</th>\n",
       "      <td>601102.470000</td>\n",
       "    </tr>\n",
       "  </tbody>\n",
       "</table>\n",
       "</div>"
      ],
      "text/plain": [
       "       Consumption (Therms)\n",
       "count          54541.000000\n",
       "mean           17893.892323\n",
       "std            42930.039095\n",
       "min                1.000000\n",
       "25%              650.000000\n",
       "50%             1892.000000\n",
       "75%            11085.000000\n",
       "max           601102.470000"
      ]
     },
     "execution_count": 79,
     "metadata": {},
     "output_type": "execute_result"
    }
   ],
   "source": [
    "heating_bk.describe()"
   ]
  },
  {
   "cell_type": "code",
   "execution_count": 80,
   "metadata": {},
   "outputs": [
    {
     "data": {
      "text/plain": [
       "Text(0.5,1,'Total Heating therms consumption by year')"
      ]
     },
     "execution_count": 80,
     "metadata": {},
     "output_type": "execute_result"
    },
    {
     "data": {
      "image/png": "[encoded data removed]",
      "text/plain": [
       "<matplotlib.figure.Figure at 0x7ff0c61efb00>"
      ]
     },
     "metadata": {},
     "output_type": "display_data"
    }
   ],
   "source": [
    "fig = plt.figure(figsize=(15,5))\n",
    "ax=fig.add_subplot(111)\n",
    "heating_bk.plot('Service Start Date','Consumption (Therms)',ax=ax,color='orange',alpha=0.3)\n",
    "plt.title('Total Heating therms consumption by year')"
   ]
  },
  {
   "cell_type": "code",
   "execution_count": 81,
   "metadata": {},
   "outputs": [],
   "source": [
    "heating_bk['Service Start Date'] = pd.to_datetime(heating_bk['Service Start Date'], format = \"%m/%d/%Y\", errors = 'coerce')"
   ]
  },
  {
   "cell_type": "code",
   "execution_count": 83,
   "metadata": {},
   "outputs": [
    {
     "data": {
      "text/plain": [
       "Text(0.5,1,'Heating consumption by year in Brooklyn')"
      ]
     },
     "execution_count": 83,
     "metadata": {},
     "output_type": "execute_result"
    },
    {
     "data": {
      "image/png": "[encoded data removed]",
      "text/plain": [
       "<matplotlib.figure.Figure at 0x7ff0c60c1860>"
      ]
     },
     "metadata": {},
     "output_type": "display_data"
    }
   ],
   "source": [
    "heating_bk.groupby(heating_bk['Service Start Date'].dt.year).mean()[['Consumption (Therms)']].plot(kind='bar',color='orange',edgecolor='grey',alpha=0.5)\n",
    "plt.title('Heating consumption by year in Brooklyn')"
   ]
  },
  {
   "cell_type": "markdown",
   "metadata": {},
   "source": [
    "### 2. Electric consumption"
   ]
  },
  {
   "cell_type": "code",
   "execution_count": 29,
   "metadata": {},
   "outputs": [],
   "source": [
    "electric = pd.read_csv('https://data.cityofnewyork.us/api/views/jr24-e7cr/rows.csv?accessType=DOWNLOAD')"
   ]
  },
  {
   "cell_type": "code",
   "execution_count": 54,
   "metadata": {},
   "outputs": [
    {
     "data": {
      "text/plain": [
       "Index(['Development Name', 'Borough', 'Account Name', 'Location', 'Meter AMR',\n",
       "       'Meter Scope', 'TDS #', 'EDP', 'RC Code', 'Funding Source', 'AMP #',\n",
       "       'Vendor Name', 'UMIS BILL ID', 'Revenue Month', 'Service Start Date',\n",
       "       'Service End Date', '# days', 'Meter Number', 'Estimated',\n",
       "       'Current Charges', 'Rate Class', 'Bill Analyzed', 'Consumption (KWH)',\n",
       "       'KWH Charges', 'Consumption (KW)', 'KW Charges', 'Other charges'],\n",
       "      dtype='object')"
      ]
     },
     "execution_count": 54,
     "metadata": {},
     "output_type": "execute_result"
    }
   ],
   "source": [
    "electric.columns"
   ]
  },
  {
   "cell_type": "markdown",
   "metadata": {},
   "source": [
    "\n",
    "-Current Charges\tTotal costs\tDollar value\n",
    "-Rate Class\tThe rate applied to the account.  Details about each rate (dollar value) are available on the vendor web site.\tRate code is listed.\n",
    "-Bill Analyzed\tThe bill was analyzed for billing errors by NYCHA's Utility Management system during the billing period\tYes (Y)  or No (N)\n",
    "\n",
    "-Consumption (KWH)\tTotal KWH consumption\tKWH consumption\n",
    "\n",
    "-KWH Charges\tTotal KWH charges\tDollar value\n",
    "\n",
    "-Consumption (KW)\tTotal KW consumption\tKW consumption\n",
    "\n",
    "-KW Charges\tTotal KW charges\tDollar value\n",
    "\n",
    "-Other charges\tTotal other charges\tDollar value"
   ]
  },
  {
   "cell_type": "code",
   "execution_count": 44,
   "metadata": {},
   "outputs": [
    {
     "data": {
      "text/plain": [
       "Index(['Development Name', 'Borough', 'Account Name', 'Location', 'Meter AMR',\n",
       "       'Meter Scope', 'TDS #', 'EDP', 'RC Code', 'Funding Source', 'AMP #',\n",
       "       'Vendor Name', 'UMIS BILL ID', 'Revenue Month', 'Service Start Date',\n",
       "       'Service End Date', '# days', 'Meter Number', 'Estimated',\n",
       "       'Current Charges', 'Rate Class', 'Bill Analyzed', 'Consumption (KWH)',\n",
       "       'KWH Charges', 'Consumption (KW)', 'KW Charges', 'Other charges'],\n",
       "      dtype='object')"
      ]
     },
     "execution_count": 44,
     "metadata": {},
     "output_type": "execute_result"
    }
   ],
   "source": [
    "electric.columns"
   ]
  },
  {
   "cell_type": "code",
   "execution_count": 48,
   "metadata": {},
   "outputs": [],
   "source": [
    "electric_bk = electric[electric['Borough']=='BROOKLYN']"
   ]
  },
  {
   "cell_type": "code",
   "execution_count": 56,
   "metadata": {},
   "outputs": [
    {
     "data": {
      "text/plain": [
       "Development Name       object\n",
       "Borough                object\n",
       "Account Name           object\n",
       "Location               object\n",
       "Meter AMR              object\n",
       "Meter Scope            object\n",
       "TDS #                 float64\n",
       "EDP                   float64\n",
       "RC Code                object\n",
       "Funding Source         object\n",
       "AMP #                  object\n",
       "Vendor Name            object\n",
       "UMIS BILL ID          float64\n",
       "Revenue Month          object\n",
       "Service Start Date     object\n",
       "Service End Date       object\n",
       "# days                float64\n",
       "Meter Number           object\n",
       "Estimated              object\n",
       "Current Charges        object\n",
       "Rate Class             object\n",
       "Bill Analyzed          object\n",
       "Consumption (KWH)     float64\n",
       "KWH Charges            object\n",
       "Consumption (KW)      float64\n",
       "KW Charges             object\n",
       "Other charges          object\n",
       "dtype: object"
      ]
     },
     "execution_count": 56,
     "metadata": {},
     "output_type": "execute_result"
    }
   ],
   "source": [
    "electric_bk.dtypes"
   ]
  },
  {
   "cell_type": "code",
   "execution_count": 57,
   "metadata": {},
   "outputs": [
    {
     "name": "stderr",
     "output_type": "stream",
     "text": [
      "/usr/local/Anaconda3-5.0.0-Linux-x86_64/envs/PUI2016_Python3/lib/python3.5/site-packages/ipykernel/__main__.py:1: SettingWithCopyWarning: \n",
      "A value is trying to be set on a copy of a slice from a DataFrame.\n",
      "Try using .loc[row_indexer,col_indexer] = value instead\n",
      "\n",
      "See the caveats in the documentation: http://pandas.pydata.org/pandas-docs/stable/indexing.html#indexing-view-versus-copy\n",
      "  if __name__ == '__main__':\n"
     ]
    }
   ],
   "source": [
    "electric_bk['Service Start Date'] = pd.to_datetime(electric_bk['Service Start Date'], format = \"%m/%d/%Y\", errors = 'coerce')"
   ]
  },
  {
   "cell_type": "code",
   "execution_count": 84,
   "metadata": {},
   "outputs": [
    {
     "data": {
      "text/plain": [
       "Text(0.5,1,'Electric consumption(kwh) per year in Brooklyn')"
      ]
     },
     "execution_count": 84,
     "metadata": {},
     "output_type": "execute_result"
    },
    {
     "data": {
      "image/png": "[encoded data removed]",
      "text/plain": [
       "<matplotlib.figure.Figure at 0x7ff0c879c7b8>"
      ]
     },
     "metadata": {},
     "output_type": "display_data"
    }
   ],
   "source": [
    "electric_bk.groupby(electric_bk['Service Start Date'].dt.year).mean()[['Consumption (KWH)']].plot(kind='bar',color='orange',edgecolor='grey',alpha=0.5)\n",
    "plt.title('Electric consumption(kwh) per year in Brooklyn')"
   ]
  },
  {
   "cell_type": "code",
   "execution_count": null,
   "metadata": {},
   "outputs": [],
   "source": []
  }
 ],
 "metadata": {
  "kernelspec": {
   "display_name": "PUI2016_Python3",
   "language": "python",
   "name": "pui2016_python3"
  },
  "language_info": {
   "codemirror_mode": {
    "name": "ipython",
    "version": 3
   },
   "file_extension": ".py",
   "mimetype": "text/x-python",
   "name": "python",
   "nbconvert_exporter": "python",
   "pygments_lexer": "ipython3",
   "version": "3.5.4"
  }
 },
 "nbformat": 4,
 "nbformat_minor": 2
}
