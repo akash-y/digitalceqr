{
 "cells": [
  {
   "cell_type": "markdown",
   "metadata": {},
   "source": [
    "## Housing Characteristics from the 2018 Census Planning Database: Tract Level\n",
    "#### The PDB is a database of U.S. housing, demographic, socioeconomic and operational statistics based on select 2010 Decennial Census and select 5-year American Community Survey (ACS) estimates.   \n",
    "#### Data are provided at the census tract level of geography.   \n",
    "#### There are three tracts in Red Hook, Brooklyn. Tract 5300, 5900, 8500. \n",
    "#### These data can be used for many purposes, including survey field operations planning.  "
   ]
  },
  {
   "cell_type": "code",
   "execution_count": 1,
   "metadata": {},
   "outputs": [
    {
     "name": "stdout",
     "output_type": "stream",
     "text": [
      "Populating the interactive namespace from numpy and matplotlib\n"
     ]
    },
    {
     "name": "stderr",
     "output_type": "stream",
     "text": [
      "/usr/local/Anaconda3-5.0.0-Linux-x86_64/envs/PUI2016_Python3/lib/python3.5/site-packages/IPython/html.py:14: ShimWarning: The `IPython.html` package has been deprecated. You should import from `notebook` instead. `IPython.html.widgets` has moved to `ipywidgets`.\n",
      "  \"`IPython.html.widgets` has moved to `ipywidgets`.\", ShimWarning)\n"
     ]
    }
   ],
   "source": [
    "__author__ = 'Linda Jaber, DRAWBrooklyn//CUSP, Spring_2018'\n",
    "\n",
    "# imports for reading in, munging and calculating data\n",
    "import pandas as pd\n",
    "import json\n",
    "import requests \n",
    "import urllib\n",
    "import numpy as np\n",
    "import io \n",
    "\n",
    "# reading in my api key saved in censusAPI.py as\n",
    "# myAPI = 'XXXXXXXXXXXXXXX'\n",
    "# request an api key in: https://api.census.gov/data/key_signup.html\n",
    "from censusAPI import myAPI\n",
    "\n",
    "# Python 3 compatibility\n",
    "from __future__ import print_function, division\n",
    "\n",
    "# Spatial\n",
    "import geopandas as gpd\n",
    "import fiona\n",
    "import shapely\n",
    "\n",
    "# Plotting\n",
    "import matplotlib.pylab as pl\n",
    "import seaborn as sns\n",
    "sns.set_style('whitegrid')\n",
    "\n",
    "%pylab inline"
   ]
  },
  {
   "cell_type": "code",
   "execution_count": 2,
   "metadata": {},
   "outputs": [],
   "source": [
    "# read in  the variables from 2018 Census Planning Database: Tract Level\n",
    "url = \"https://api.census.gov/data/2018/pdb/tract/variables.json\"\n",
    "resp = requests.request('GET', url)\n",
    "PDB_18_tract = json.loads(resp.text)"
   ]
  },
  {
   "cell_type": "code",
   "execution_count": 3,
   "metadata": {},
   "outputs": [
    {
     "data": {
      "text/plain": [
       "array(['pct_Single_Unit_ACS_12_16', 'pct_Diff_HU_1yr_Ago_ACS_12_16',\n",
       "       'pct_ENG_VW_SPAN_ACSMOE_12_16', 'pct_Mailback_Count_CEN_2010',\n",
       "       'Sngl_Prns_HHD_ACSMOE_12_16', 'Tot_Occp_Units_ACSMOE_12_16',\n",
       "       'NH_White_alone_ACS_12_16', 'Renter_Occp_HU_ACS_12_16',\n",
       "       'pct_Not_HS_Grad_ACSMOE_12_16', 'Civ_emp_16_24_ACSMOE_12_16',\n",
       "       'Recent_Built_HU_ACS_12_16', 'pct_Prs_Blw_Pov_Lev_ACS_12_16',\n",
       "       'pct_Mobile_Homes_ACS_12_16', 'MrdCple_Fmly_HHD_CEN_2010',\n",
       "       'Civ_emp_16plus_ACS_12_16', 'pct_US_Cit_Nat_ACS_12_16',\n",
       "       'TEA_Mail_Out_Mail_Back_CEN_2010', 'Age5p_German_ACSMOE_12_16',\n",
       "       'MrdCple_Fmly_HHD_ACS_12_16', 'pct_Age5p_Russian_ACSMOE_12_16',\n",
       "       'Civ_labor_45_64_ACS_12_16', 'Hispanic_CEN_2010',\n",
       "       'pct_MrdCple_HHD_ACS_12_16', 'Tot_Prns_in_HHD_CEN_2010',\n",
       "       'pct_One_Health_Ins_ACSMOE_12_16', 'State',\n",
       "       'NH_Blk_alone_ACS_12_16', 'pct_Pop_5_17_CEN_2010',\n",
       "       'Civ_unemp_16plus_ACSMOE_12_16', 'Mobile_Homes_ACSMOE_12_16',\n",
       "       'pct_Not_MrdCple_HHD_ACS_12_16', 'Pop_65plus_CEN_2010',\n",
       "       'Civ_emp_45_64_ACSMOE_12_16', 'Mobile_Homes_ACS_12_16',\n",
       "       'pct_Sngl_Prns_HHD_ACSMOE_12_16', 'Pop_65plus_ACSMOE_12_16',\n",
       "       'Pop_25_44_ACS_12_16', 'pct_Rel_Under_6_CEN_2010',\n",
       "       'pct_ENG_VW_ACS_12_16', 'pct_Renter_Occp_HU_ACSMOE_12_16',\n",
       "       'MLT_U2_9_STRC_ACS_12_16', 'Civ_emp_45_64_ACS_12_16',\n",
       "       'pct_Males_ACSMOE_12_16', 'pct_Deletes_CEN_2010',\n",
       "       'Mail_Return_Rate_CEN_2010', 'NonFamily_HHD_CEN_2010',\n",
       "       'ENG_VW_API_ACS_12_16', 'pct_Pop_under_5_CEN_2010',\n",
       "       'pct_Vacant_Units_ACSMOE_12_16', 'pct_MLT_U2_9_STRC_ACSMOE_12_16',\n",
       "       'pct_NonFamily_HHD_ACSMOE_12_16', 'Not_MrdCple_HHD_ACSMOE_12_16',\n",
       "       'Age5p_Russian_ACSMOE_12_16', 'pct_Age5p_Only_Eng_ACSMOE_12_16',\n",
       "       'pct_NH_Blk_alone_CEN_2010', 'pct_Civ_unemp_16p_ACS_12_16',\n",
       "       'Age5p_Only_English_ACSMOE_12_16', 'pct_Pop_under_5_ACS_12_16',\n",
       "       'Othr_Lang_ACS_12_16', 'Tot_Housing_Units_ACS_12_16',\n",
       "       'pct_Renter_Occp_HU_ACS_12_16', 'pct_Age5p_OthEuro_ACS_12_16',\n",
       "       'MLT_U10p_ACS_12_16', 'pct_ENG_VW_SPAN_ACS_12_16',\n",
       "       'pct_Rel_Family_HHD_CEN_2010', 'pct_Civ_emp_45_64_ACS_12_16',\n",
       "       'Avg_Agg_HH_INC_ACS_12_16', 'pct_Females_CEN_2010',\n",
       "       'pct_Age5p_Korean_ACS_10_14', 'ENG_VW_ACS_12_16',\n",
       "       'No_Health_Ins_ACS_12_16', 'pct_One_Health_Ins_ACS_12_16',\n",
       "       'pct_Age5p_German_ACSMOE_12_16', 'Born_US_ACS_12_16',\n",
       "       'pct_Civ_unemp_45_64_ACS_12_16', 'Age5p_OthAsian_ACS_12_16',\n",
       "       'Deletes_CEN_2010', 'pct_Age5p_Chinese_ACS_12_16',\n",
       "       'pct_No_Health_Ins_ACS_12_16', 'ENG_VW_INDO_EURO_ACS_12_16',\n",
       "       'pct_Civ_emp_45_64_ACSMOE_12_16', 'pct_NO_PH_SRVC_ACS_12_16',\n",
       "       'Males_ACSMOE_12_16', 'pct_Pop_25_44_ACS_12_16',\n",
       "       'pct_College_ACS_12_16', 'Pop_under_5_ACSMOE_12_16',\n",
       "       'Age5p_German_ACS_12_16', 'Occp_U_NO_PH_SRVC_ACS_12_16',\n",
       "       'NH_Blk_alone_ACSMOE_12_16', 'pct_Pop_25_44_ACSMOE_12_16',\n",
       "       'avg_Tot_Prns_in_HHD_ACS_12_16', 'Crowd_Occp_U_ACSMOE_12_16',\n",
       "       'Renter_Occp_HU_CEN_2010', 'Avg_Agg_HH_INC_ACSMOE_12_16',\n",
       "       'pct_Pop_18_24_ACS_12_16', 'Civ_unemp_25_44_ACS_12_16',\n",
       "       'Pop_18_24_ACSMOE_12_16', 'Aggr_House_Value_ACS_12_16',\n",
       "       'pct_Inst_GQ_CEN_2010', 'Crowd_Occp_U_ACS_12_16',\n",
       "       'NON_US_Cit_ACS_12_16', 'NH_SOR_alone_ACSMOE_12_16',\n",
       "       'pct_Female_No_HB_ACSMOE_12_16', 'Pop_65plus_ACS_12_16',\n",
       "       'No_Health_Ins_ACSMOE_12_16', 'Aggregate_HH_INC_ACSMOE_12_16',\n",
       "       'pct_MrdCple_HHD_ACSMOE_12_16', 'NH_NHOPI_alone_ACSMOE_12_16',\n",
       "       'Civ_unemp_45_64_ACS_12_16', 'Pop_under_5_CEN_2010',\n",
       "       'Age5p_OthEuro_ACSMOE_12_16', 'pct_MLT_U10p_ACSMOE_12_16',\n",
       "       'pct_MLT_U2_9_STRC_ACS_12_16', 'pct_Pop_1yr_Over_ACS_12_16',\n",
       "       'MLT_U2_9_STRC_ACSMOE_12_16', 'pct_Pov_Univ_ACS_12_16',\n",
       "       'pct_Tot_Occp_Units_ACS_12_16', 'pct_Pop_65plus_ACSMOE_12_16',\n",
       "       'pct_FRST_FRMS_CEN_2010', 'ENG_VW_ACSMOE_12_16',\n",
       "       'Not_HS_Grad_ACS_12_16', 'pct_PUB_ASST_INC_ACSMOE_12_16',\n",
       "       'pct_Males_CEN_2010', 'pct_NH_AIAN_alone_CEN_2010',\n",
       "       'Civ_emp_16plus_ACSMOE_12_16', 'pct_Rel_Family_HHD_ACS_12_16',\n",
       "       'Sngl_Prns_HHD_ACS_12_16', 'Valid_Mailback_Count_CEN_2010',\n",
       "       'pct_Pop_5yrs_Over_ACS_12_16', 'Pop_1yr_Over_ACSMOE_12_16',\n",
       "       'pct_NH_Blk_alone_ACS_12_16', 'Pop_45_64_ACS_12_16',\n",
       "       'Tot_Occp_Units_CEN_2010', 'pct_Diff_HU_1yr_Ago_ACSMOE_12_16',\n",
       "       'pct_Civ_unemp_45_64_ACSMOE_12_16', 'pct_Othr_Lang_ACS_12_16',\n",
       "       'NonFamily_HHD_ACSMOE_12_16', 'pct_Pop_25yrs_Over_ACS_12_16',\n",
       "       'ENG_VW_SPAN_ACSMOE_12_16', 'pct_Pop_under_5_ACSMOE_12_16',\n",
       "       'pct_US_Cit_Nat_ACSMOE_12_16', 'pct_NonFamily_HHD_CEN_2010',\n",
       "       'Civ_emp_16_24_ACS_12_16', 'NonFamily_HHD_ACS_12_16',\n",
       "       'pct_Hispanic_ACS_12_16', 'Females_ACS_12_16',\n",
       "       'pct_NH_AIAN_alone_ACSMOE_12_16', 'pct_Rel_Family_HHD_ACSMOE_12_16',\n",
       "       'pct_TwoPHealthIns_ACSMOE_12_16', 'pct_PUB_ASST_INC_ACS_12_16',\n",
       "       'pct_Vacant_Units_CEN_2010', 'NH_AIAN_alone_ACS_12_16',\n",
       "       'pct_NON_US_Cit_ACS_12_16', 'pct_Age5p_Arabic_ACSMOE_12_16',\n",
       "       'pct_Rel_Under_6_ACSMOE_12_16', 'Age5p_Chinese_ACSMOE_12_16',\n",
       "       'pct_NonFamily_HHD_ACS_12_16', 'NH_AIAN_alone_ACSMOE_12_16',\n",
       "       'Num_BGs_in_Tract', 'Civ_labor_45_64_ACSMOE_12_16',\n",
       "       'pct_Mobile_Homes_ACSMOE_12_16', 'pct_NH_SOR_alone_CEN_2010',\n",
       "       'pct_ENG_VW_OTHER_ACS_12_16', 'Owner_Occp_HU_CEN_2010',\n",
       "       'OCCP_U_NO_PH_SRVC_ACSMOE_12_16', 'Age5p_Chinese_ACS_12_16',\n",
       "       'pct_Civ_unemp_25_44_ACS_12_16', 'Med_HHD_INC_ACS_12_16',\n",
       "       'Pov_Univ_ACSMOE_12_16', 'pct_Hispanic_ACSMOE_12_16',\n",
       "       'Pop_45_64_ACSMOE_12_16', 'Sngl_Prns_HHD_CEN_2010',\n",
       "       'Vacants_CEN_2010', 'Renter_Occp_HU_ACSMOE_12_16',\n",
       "       'Avg_Agg_House_Value_ACS_12_16', 'pct_Pop_5_17_ACS_12_16',\n",
       "       'Pop_25yrs_Over_ACSMOE_12_16', 'NH_ASIAN_alone_ACSMOE_12_16',\n",
       "       'Rel_Family_HHD_ACS_12_16', 'pct_Female_No_HB_ACS_12_16',\n",
       "       'MLT_U10p_ACSMOE_12_16', 'pct_Prs_Blw_Pov_Lev_ACSMOE_12_16',\n",
       "       'Age5p_Korean_ACSMOE_12_16', 'MailBack_Area_Count_CEN_2010',\n",
       "       'pct_Age5p_OthUnSp_ACS_12_16', 'HHD_Moved_in_ACS_12_16',\n",
       "       'pct_NH_White_alone_CEN_2010', 'pct_Pop_25yrs_Over_ACSMOE_12_16',\n",
       "       'pct_Othr_Lang_ACSMOE_12_16', 'Males_CEN_2010',\n",
       "       'pct_Recent_Built_HU_ACS_12_16', 'ENG_VW_OTHER_ACS_12_16',\n",
       "       'pct_Pop_18_24_ACSMOE_12_16', 'pct_ENG_VW_INDOEURO_ACS_12_16',\n",
       "       'pct_Age5p_Chinese_ACSMOE_12_16', 'PUB_ASST_INC_ACS_12_16',\n",
       "       'pct_Pop_1yr_Over_ACSMOE_12_16', 'Pop_Disabled_ACS_12_16',\n",
       "       'Civ_Noninst_Pop_ACS_12_16', 'Age5p_Vietnamese_ACSMOE_12_16',\n",
       "       'pct_Age5p_Tagalog_ACS_12_16', 'pct_ENG_VW_ACSMOE_12_16',\n",
       "       'ENG_VW_SPAN_ACS_12_16', 'Rel_Family_HHD_CEN_2010',\n",
       "       'pct_Owner_Occp_HU_ACS_12_16', 'Tot_Population_ACS_12_16',\n",
       "       'Rel_Child_Under_6_ACS_12_16', 'Aggregate_HH_INC_ACS_12_16',\n",
       "       'Age5p_Russian_ACS_12_16', 'Pop_18_24_ACS_12_16',\n",
       "       'Pop_5_17_ACSMOE_12_16', 'pct_Tot_Occp_Units_CEN_2010',\n",
       "       'State_name', 'Pop_5_17_CEN_2010', 'pct_HHD_Moved_in_ACS_12_16',\n",
       "       'pct_NH_White_alone_ACS_12_16', 'pct_Pop_65plus_CEN_2010',\n",
       "       'Age5p_OthUnSp_ACSMOE_12_16', 'Civ_emp_25_44_ACS_12_16',\n",
       "       'pct_Age5p_French_ACSMOE_12_16', 'Civ_labor_16_24_ACS_12_16',\n",
       "       'pct_NH_SOR_alone_ACS_12_16', 'pct_Census_Mail_Returns_CEN_2010',\n",
       "       'Civ_labor_16_24_ACSMOE_12_16', 'Civ_labor_25_44_ACS_12_16',\n",
       "       'pct_TEA_MailOutMailBack_CEN_2010', 'Tot_Prns_in_HHD_ACS_12_16',\n",
       "       'Census_Mail_Returns_CEN_2010', 'pct_Age5p_OthEuro_ACSMOE_12_16',\n",
       "       'Single_Unit_ACSMOE_12_16', 'pct_Age5p_OthAsian_ACSMOE_12_16',\n",
       "       'One_Health_Ins_ACSMOE_12_16', 'pct_Tot_GQ_CEN_2010',\n",
       "       'Inst_GQ_CEN_2010', 'Civ_labor_16plus_ACSMOE_12_16',\n",
       "       'pct_Crowd_Occp_U_ACS_12_16', 'Hispanic_ACS_12_16',\n",
       "       'pct_Owner_Occp_HU_CEN_2010', 'pct_Owner_Occp_HU_ACSMOE_12_16',\n",
       "       'pct_Single_Unit_ACSMOE_12_16', 'pct_Males_ACS_12_16',\n",
       "       'pct_NH_NHOPI_alone_CEN_2010', 'ENG_VW_API_ACSMOE_12_16',\n",
       "       'Pov_Univ_ACS_12_16', 'pct_MrdCple_HHD_CEN_2010',\n",
       "       'pct_URBANIZED_AREA_POP_CEN_2010', 'College_ACSMOE_12_16',\n",
       "       'pct_College_ACSMOE_12_16', 'Rel_Child_Under_6_ACSMOE_12_16',\n",
       "       'NH_ASIAN_alone_ACS_12_16', 'pct_URBAN_CLUSTER_POP_CEN_2010',\n",
       "       'BILQ_Mailout_count_CEN_2010', 'Rel_Family_HHD_ACSMOE_12_16',\n",
       "       'RPLCMNT_FRMS_CEN_2010', 'pct_ENG_VW_INDOEURO_ACSMOE_12_16',\n",
       "       'pct_Civ_emp_25_44_ACSMOE_12_16', 'pct_Age5p_OthAsian_ACS_12_16',\n",
       "       'pct_Age5p_Korean_ACSMOE_10_14', 'Civ_labor_16plus_ACS_12_16',\n",
       "       'pct_Age5p_Only_Eng_ACS_12_16', 'pct_NH_Blk_alone_ACSMOE_12_16',\n",
       "       'Age5p_Vietnamese_ACS_12_16', 'Med_HHD_INC_ACSMOE_12_16',\n",
       "       'Age5p_OthUnSp_ACS_12_16', 'pct_Pop_25_44_CEN_2010',\n",
       "       'NH_AIAN_alone_CEN_2010', 'Tot_Vacant_Units_ACS_12_16',\n",
       "       'Civ_labor_25_44_ACSMOE_12_16', 'Tot_Vacant_Units_CEN_2010', 'Flag',\n",
       "       'Two_Plus_Health_Ins_ACS_12_16', 'pct_Pop_Disabled_ACSMOE_12_16',\n",
       "       'Age5p_Only_English_ACS_12_16', 'Census_UAA_CEN_2010',\n",
       "       'Pop_Disabled_ACSMOE_12_16', 'pct_Pop_45_64_CEN_2010',\n",
       "       'pct_Non_Inst_GQ_CEN_2010', 'pct_NH_ASIAN_alone_CEN_2010', 'for',\n",
       "       'Age5p_Arabic_ACSMOE_12_16', 'Tot_GQ_CEN_2010',\n",
       "       'Born_foreign_ACS_12_16', 'Civ_emp_25_44_ACSMOE_12_16',\n",
       "       'Not_MrdCple_HHD_ACS_12_16', 'pct_HHD_PPL_Und_18_ACS_12_16',\n",
       "       'Pop_45_64_CEN_2010', 'Age5p_OthAsian_ACSMOE_12_16',\n",
       "       'pct_Rel_Under_6_ACS_12_16', 'US_Cit_Nat_ACSMOE_12_16',\n",
       "       'Pop_1yr_Over_ACS_12_16', 'Avg_Agg_House_Value_ACSMOE_12_16',\n",
       "       'Med_House_Value_ACS_12_16', 'pct_Renter_Occp_HU_CEN_2010',\n",
       "       'Pop_under_5_ACS_12_16', 'Diff_HU_1yr_Ago_ACS_12_16',\n",
       "       'Civ_unemp_16plus_ACS_12_16', 'pct_Not_MrdCple_HHD_ACSMOE_12_16',\n",
       "       'pct_Age5p_Russian_ACS_12_16', 'One_Health_Ins_ACS_12_16',\n",
       "       'pct_Born_US_ACS_12_16', 'pct_Pop_Disabled_ACS_12_16', 'AIAN_LAND',\n",
       "       'pct_Not_MrdCple_HHD_CEN_2010', 'Civ_unemp_16_24_ACS_12_16',\n",
       "       'NH_NHOPI_alone_CEN_2010', 'Civ_Noninst_Pop_ACSMOE_12_16',\n",
       "       'pct_RPLCMNT_FRMS_CEN_2010', 'pct_Pop_45_64_ACSMOE_12_16',\n",
       "       'pct_ENG_VW_API_ACSMOE_12_16', 'pct_HHD_PPL_Und_18_ACSMOE_12_16',\n",
       "       'RURAL_POP_CEN_2010', 'Tot_Occp_Units_ACS_12_16',\n",
       "       'Pop_5_17_ACS_12_16', 'pct_Age5p_Arabic_ACS_12_16',\n",
       "       'pct_Born_foreign_ACS_12_16', 'Age5p_OthEuro_ACS_12_16',\n",
       "       'Prs_Blw_Pov_Lev_ACSMOE_12_16', 'NON_US_Cit_ACSMOE_12_16',\n",
       "       'pct_Civ_emp_16p_ACSMOE_12_16', 'pct_Hispanic_CEN_2010',\n",
       "       'pct_Civ_emp_25_44_ACS_12_16', 'No_Plumb_ACS_12_16',\n",
       "       'Age5p_Spanish_ACS_12_16', 'URBANIZED_AREA_POP_CEN_2010',\n",
       "       'pct_Females_ACSMOE_12_16', 'pct_Age5p_Vietnames_ACSMOE_12_16',\n",
       "       'MrdCple_Fmly_HHD_ACSMOE_12_16', 'pct_TwoPHealthIns_ACS_12_16',\n",
       "       'pct_MLT_U10p_ACS_12_16', 'Age5p_French_ACS_12_16', 'in',\n",
       "       'HHD_PPL_Und_18_CEN_2010', 'Age5p_Tagalog_ACSMOE_12_16',\n",
       "       'Not_MrdCple_HHD_CEN_2010', 'pct_No_Health_Ins_ACSMOE_12_16',\n",
       "       'pct_Age5p_OthUnSp_ACSMOE_12_16', 'NH_NHOPI_alone_ACS_12_16',\n",
       "       'pct_Age5p_French_ACS_12_16', 'Age5p_French_ACSMOE_12_16',\n",
       "       'Pop_25_44_CEN_2010', 'pct_Age5p_Vietnames_ACS_12_16',\n",
       "       'Female_No_HB_ACSMOE_12_16', 'FRST_FRMS_CEN_2010',\n",
       "       'NH_ASIAN_alone_CEN_2010', 'Females_CEN_2010',\n",
       "       'Tot_Vacant_Units_ACSMOE_12_16', 'Not_HS_Grad_ACSMOE_12_16',\n",
       "       'pct_NH_White_alone_ACSMOE_12_16', 'pct_Born_US_ACSMOE_12_16',\n",
       "       'Med_House_Value_ACSMOE_12_16', 'Two_Plus_Health_Ins_ACSMOE_12_16',\n",
       "       'pct_HHD_PPL_Und_18_CEN_2010', 'pct_Civ_unemp_16_24_ACS_12_16',\n",
       "       'pct_Census_UAA_CEN_2010', 'pct_Civ_emp_16_24_ACSMOE_12_16',\n",
       "       'BILQ_FRMS_CEN_2010', 'pct_Civ_unemp_16_24_ACSMOE_12_16',\n",
       "       'HHD_PPL_Und_18_ACSMOE_12_16', 'Age5p_Spanish_ACSMOE_12_16',\n",
       "       'Males_ACS_12_16', 'US_Cit_Nat_ACS_12_16',\n",
       "       'pct_NON_US_Cit_ACSMOE_12_16', 'pct_Pop_18_24_CEN_2010',\n",
       "       'pct_Age5p_German_ACS_12_16', 'pct_NO_PH_SRVC_ACSMOE_12_16',\n",
       "       'URBAN_CLUSTER_POP_CEN_2010', 'Pop_5yrs_Over_ACS_12_16',\n",
       "       'Age5p_Arabic_ACS_12_16', 'pct_ENG_VW_API_ACS_12_16',\n",
       "       'Pop_25yrs_Over_ACS_12_16', 'pct_NH_AIAN_alone_ACS_12_16',\n",
       "       'Female_No_HB_CEN_2010', 'LAND_AREA', 'Hispanic_ACSMOE_12_16',\n",
       "       'pct_Civ_unemp_16p_ACSMOE_12_16', 'pct_Vacants_CEN_2010',\n",
       "       'pct_Sngl_Prns_HHD_CEN_2010', 'Othr_Lang_ACSMOE_12_16', 'Tract',\n",
       "       'Age5p_Korean_ACS_12_16', 'Recent_Built_HU_ACSMOE_12_16',\n",
       "       'pct_Not_HS_Grad_ACS_12_16', 'Born_US_ACSMOE_12_16',\n",
       "       'Aggr_House_Value_ACSMOE_12_16', 'College_ACS_12_16',\n",
       "       'NH_Blk_alone_CEN_2010', 'ENG_VW_OTHER_ACSMOE_12_16',\n",
       "       'NH_White_alone_ACSMOE_12_16', 'TEA_Update_Leave_CEN_2010', 'GIDTR',\n",
       "       'pct_NH_SOR_alone_ACSMOE_12_16', 'pct_Sngl_Prns_HHD_ACS_12_16',\n",
       "       'pct_Pop_45_64_ACS_12_16', 'Female_No_HB_ACS_12_16', 'County',\n",
       "       'Pop_25_44_ACSMOE_12_16', 'Born_foreign_ACSMOE_12_16',\n",
       "       'HHD_Moved_in_ACSMOE_12_16', 'pct_HHD_Moved_in_ACSMOE_12_16',\n",
       "       'pct_Civ_emp_16p_ACS_12_16', 'NH_SOR_alone_CEN_2010',\n",
       "       'Low_Response_Score', 'pct_Females_ACS_12_16',\n",
       "       'pct_Pop_65plus_ACS_12_16', 'pct_No_Plumb_ACSMOE_12_16',\n",
       "       'Females_ACSMOE_12_16', 'pct_Pop_5_17_ACSMOE_12_16',\n",
       "       'pct_Pop_5yrs_Over_ACSMOE_12_16', 'Tot_Housing_Units_ACSMOE_12_16',\n",
       "       'Civ_unemp_16_24_ACSMOE_12_16', 'pct_Pov_Univ_ACSMOE_12_16',\n",
       "       'Tot_Prns_in_HHD_ACSMOE_12_16', 'pct_Civ_emp_16_24_ACS_12_16',\n",
       "       'Civ_unemp_25_44_ACSMOE_12_16', 'pct_NH_ASIAN_alone_ACSMOE_12_16',\n",
       "       'County_name', 'pct_Crowd_Occp_U_ACSMOE_12_16',\n",
       "       'pct_ENG_VW_OTHER_ACSMOE_12_16', 'pct_NH_NHOPI_alone_ACSMOE_12_16',\n",
       "       'Diff_HU_1yr_Ago_ACSMOE_12_16', 'Non_Inst_GQ_CEN_2010',\n",
       "       'Prs_Blw_Pov_Lev_ACS_12_16', 'pct_Age5p_Tagalog_ACSMOE_12_16',\n",
       "       'pct_No_Plumb_ACS_12_16', 'Tot_Housing_Units_CEN_2010',\n",
       "       'pct_Civ_unemp_25_44_ACSMOE_12_16', 'Tot_Population_ACSMOE_12_16',\n",
       "       'pct_Tot_Occp_Units_ACSMOE_12_16', 'pct_RURAL_POP_CEN_2010',\n",
       "       'Owner_Occp_HU_ACSMOE_12_16', 'HHD_PPL_Und_18_ACS_12_16',\n",
       "       'Rel_Child_Under_6_CEN_2010', 'NH_White_alone_CEN_2010',\n",
       "       'Owner_Occp_HU_ACS_12_16', 'pct_Age5p_Spanish_ACSMOE_12_16',\n",
       "       'pct_Vacant_Units_ACS_12_16', 'ENG_VW_INDO_EURO_ACSMOE_12_16',\n",
       "       'pct_NH_NHOPI_alone_ACS_12_16', 'Tot_Population_CEN_2010',\n",
       "       'pct_BILQ_Mailout_count_CEN_2010', 'pct_Born_foreign_ACSMOE_12_16',\n",
       "       'avg_Tot_prns_in_HHD_ACSMOE_12_16', 'avg_Tot_Prns_in_HHD_CEN_2010',\n",
       "       'Pop_5yrs_Over_ACSMOE_12_16', 'Age5p_Tagalog_ACS_12_16',\n",
       "       'PUB_ASST_INC_ACSMOE_12_16', 'pct_Age5p_Spanish_ACS_12_16',\n",
       "       'NH_SOR_alone_ACS_12_16', 'pct_TEA_Update_Leave_CEN_2010',\n",
       "       'pct_Female_No_HB_CEN_2010', 'Pop_18_24_CEN_2010',\n",
       "       'pct_Recent_Built_HU_ACSMOE_12_16', 'pct_NH_ASIAN_alone_ACS_12_16',\n",
       "       'Single_Unit_ACS_12_16', 'No_Plumb_ACSMOE_12_16'], \n",
       "      dtype='<U32')"
      ]
     },
     "execution_count": 3,
     "metadata": {},
     "output_type": "execute_result"
    }
   ],
   "source": [
    "# turning things into arrays to enable broadcasting\n",
    "PDB_18_tract_keys = np.array(list(PDB_18_tract['variables'].keys()))\n",
    "\n",
    "PDB_18_tract_keys"
   ]
  },
  {
   "cell_type": "code",
   "execution_count": 4,
   "metadata": {},
   "outputs": [
    {
     "data": {
      "text/plain": [
       "{'concept': 'Housing Unit Variables',\n",
       " 'group': 'N/A',\n",
       " 'label': 'Total Housing Units in the ACS',\n",
       " 'limit': 0,\n",
       " 'predicateType': 'int'}"
      ]
     },
     "execution_count": 4,
     "metadata": {},
     "output_type": "execute_result"
    }
   ],
   "source": [
    "PDB_18_tract['variables']['Tot_Housing_Units_ACS_12_16']"
   ]
  },
  {
   "cell_type": "markdown",
   "metadata": {},
   "source": [
    "### Total Housing Units"
   ]
  },
  {
   "cell_type": "code",
   "execution_count": 5,
   "metadata": {},
   "outputs": [
    {
     "data": {
      "text/html": [
       "<div>\n",
       "<table border=\"1\" class=\"dataframe\">\n",
       "  <thead>\n",
       "    <tr style=\"text-align: right;\">\n",
       "      <th></th>\n",
       "      <th>Tot_Housing_Units_ACS_12_16</th>\n",
       "      <th>state</th>\n",
       "      <th>county</th>\n",
       "      <th>tract</th>\n",
       "      <th>Unnamed: 4</th>\n",
       "    </tr>\n",
       "  </thead>\n",
       "  <tbody>\n",
       "    <tr>\n",
       "      <th>0</th>\n",
       "      <td>1084</td>\n",
       "      <td>36</td>\n",
       "      <td>47</td>\n",
       "      <td>5300</td>\n",
       "      <td>NaN</td>\n",
       "    </tr>\n",
       "    <tr>\n",
       "      <th>1</th>\n",
       "      <td>676</td>\n",
       "      <td>36</td>\n",
       "      <td>47</td>\n",
       "      <td>5900</td>\n",
       "      <td>NaN</td>\n",
       "    </tr>\n",
       "    <tr>\n",
       "      <th>2</th>\n",
       "      <td>3089</td>\n",
       "      <td>36</td>\n",
       "      <td>47</td>\n",
       "      <td>8500</td>\n",
       "      <td>NaN</td>\n",
       "    </tr>\n",
       "  </tbody>\n",
       "</table>\n",
       "</div>"
      ],
      "text/plain": [
       "   Tot_Housing_Units_ACS_12_16  state  county  tract  Unnamed: 4\n",
       "0                         1084     36      47   5300         NaN\n",
       "1                          676     36      47   5900         NaN\n",
       "2                         3089     36      47   8500         NaN"
      ]
     },
     "execution_count": 5,
     "metadata": {},
     "output_type": "execute_result"
    }
   ],
   "source": [
    "url = 'https://api.census.gov/data/2018/pdb/tract?get=Tot_Housing_Units_ACS_12_16&for=tract:5300,5900,8500&in=state:36%20county:047&key=' + myAPI\n",
    "response = requests.request('GET', url).content\n",
    "totalHU16 = pd.read_csv(io.StringIO(response.decode('utf-8').replace('[','').replace(']','')))\n",
    "\n",
    "totalHU16"
   ]
  },
  {
   "cell_type": "markdown",
   "metadata": {},
   "source": [
    "### Total Occupied Units "
   ]
  },
  {
   "cell_type": "code",
   "execution_count": 6,
   "metadata": {},
   "outputs": [
    {
     "data": {
      "text/html": [
       "<div>\n",
       "<table border=\"1\" class=\"dataframe\">\n",
       "  <thead>\n",
       "    <tr style=\"text-align: right;\">\n",
       "      <th></th>\n",
       "      <th>Tot_Occp_Units_ACS_12_16</th>\n",
       "      <th>Tot_Occp_Units_CEN_2010</th>\n",
       "      <th>Tot_Occp_Units_ACSMOE_12_16</th>\n",
       "      <th>state</th>\n",
       "      <th>county</th>\n",
       "      <th>tract</th>\n",
       "      <th>Unnamed: 6</th>\n",
       "    </tr>\n",
       "  </thead>\n",
       "  <tbody>\n",
       "    <tr>\n",
       "      <th>0</th>\n",
       "      <td>982</td>\n",
       "      <td>844</td>\n",
       "      <td>52</td>\n",
       "      <td>36</td>\n",
       "      <td>47</td>\n",
       "      <td>5300</td>\n",
       "      <td>NaN</td>\n",
       "    </tr>\n",
       "    <tr>\n",
       "      <th>1</th>\n",
       "      <td>611</td>\n",
       "      <td>633</td>\n",
       "      <td>49</td>\n",
       "      <td>36</td>\n",
       "      <td>47</td>\n",
       "      <td>5900</td>\n",
       "      <td>NaN</td>\n",
       "    </tr>\n",
       "    <tr>\n",
       "      <th>2</th>\n",
       "      <td>3064</td>\n",
       "      <td>2833</td>\n",
       "      <td>57</td>\n",
       "      <td>36</td>\n",
       "      <td>47</td>\n",
       "      <td>8500</td>\n",
       "      <td>NaN</td>\n",
       "    </tr>\n",
       "  </tbody>\n",
       "</table>\n",
       "</div>"
      ],
      "text/plain": [
       "   Tot_Occp_Units_ACS_12_16  Tot_Occp_Units_CEN_2010  \\\n",
       "0                       982                      844   \n",
       "1                       611                      633   \n",
       "2                      3064                     2833   \n",
       "\n",
       "   Tot_Occp_Units_ACSMOE_12_16  state  county  tract  Unnamed: 6  \n",
       "0                           52     36      47   5300         NaN  \n",
       "1                           49     36      47   5900         NaN  \n",
       "2                           57     36      47   8500         NaN  "
      ]
     },
     "execution_count": 6,
     "metadata": {},
     "output_type": "execute_result"
    }
   ],
   "source": [
    "url = 'https://api.census.gov/data/2018/pdb/tract?get=Tot_Occp_Units_ACS_12_16,Tot_Occp_Units_CEN_2010,Tot_Occp_Units_ACSMOE_12_16&for=tract:5300,5900,8500&in=state:36%20county:047&key=' + myAPI\n",
    "response = requests.request('GET', url).content\n",
    "Tot_Occp_Units = pd.read_csv(io.StringIO(response.decode('utf-8').replace('[','').replace(']','')))\n",
    "\n",
    "Tot_Occp_Units"
   ]
  },
  {
   "cell_type": "markdown",
   "metadata": {},
   "source": [
    "### Total Vacant Units "
   ]
  },
  {
   "cell_type": "code",
   "execution_count": 7,
   "metadata": {},
   "outputs": [
    {
     "data": {
      "text/html": [
       "<div>\n",
       "<table border=\"1\" class=\"dataframe\">\n",
       "  <thead>\n",
       "    <tr style=\"text-align: right;\">\n",
       "      <th></th>\n",
       "      <th>Tot_Vacant_Units_CEN_2010</th>\n",
       "      <th>Tot_Vacant_Units_ACS_12_16</th>\n",
       "      <th>Tot_Vacant_Units_ACSMOE_12_16</th>\n",
       "      <th>state</th>\n",
       "      <th>county</th>\n",
       "      <th>tract</th>\n",
       "      <th>Unnamed: 6</th>\n",
       "    </tr>\n",
       "  </thead>\n",
       "  <tbody>\n",
       "    <tr>\n",
       "      <th>0</th>\n",
       "      <td>144</td>\n",
       "      <td>102</td>\n",
       "      <td>41</td>\n",
       "      <td>36</td>\n",
       "      <td>47</td>\n",
       "      <td>5300</td>\n",
       "      <td>NaN</td>\n",
       "    </tr>\n",
       "    <tr>\n",
       "      <th>1</th>\n",
       "      <td>54</td>\n",
       "      <td>65</td>\n",
       "      <td>35</td>\n",
       "      <td>36</td>\n",
       "      <td>47</td>\n",
       "      <td>5900</td>\n",
       "      <td>NaN</td>\n",
       "    </tr>\n",
       "    <tr>\n",
       "      <th>2</th>\n",
       "      <td>17</td>\n",
       "      <td>25</td>\n",
       "      <td>40</td>\n",
       "      <td>36</td>\n",
       "      <td>47</td>\n",
       "      <td>8500</td>\n",
       "      <td>NaN</td>\n",
       "    </tr>\n",
       "  </tbody>\n",
       "</table>\n",
       "</div>"
      ],
      "text/plain": [
       "   Tot_Vacant_Units_CEN_2010  Tot_Vacant_Units_ACS_12_16  \\\n",
       "0                        144                         102   \n",
       "1                         54                          65   \n",
       "2                         17                          25   \n",
       "\n",
       "   Tot_Vacant_Units_ACSMOE_12_16  state  county  tract  Unnamed: 6  \n",
       "0                             41     36      47   5300         NaN  \n",
       "1                             35     36      47   5900         NaN  \n",
       "2                             40     36      47   8500         NaN  "
      ]
     },
     "execution_count": 7,
     "metadata": {},
     "output_type": "execute_result"
    }
   ],
   "source": [
    "url = 'https://api.census.gov/data/2018/pdb/tract?get=Tot_Vacant_Units_CEN_2010,Tot_Vacant_Units_ACS_12_16,Tot_Vacant_Units_ACSMOE_12_16&for=tract:5300,5900,8500&in=state:36%20county:047&key=' + myAPI\n",
    "response = requests.request('GET', url).content\n",
    "Tot_Vacant_Units = pd.read_csv(io.StringIO(response.decode('utf-8').replace('[','').replace(']','')))\n",
    "\n",
    "Tot_Vacant_Units"
   ]
  },
  {
   "cell_type": "markdown",
   "metadata": {},
   "source": [
    "### Renter Occupied Units "
   ]
  },
  {
   "cell_type": "code",
   "execution_count": 8,
   "metadata": {},
   "outputs": [
    {
     "data": {
      "text/html": [
       "<div>\n",
       "<table border=\"1\" class=\"dataframe\">\n",
       "  <thead>\n",
       "    <tr style=\"text-align: right;\">\n",
       "      <th></th>\n",
       "      <th>Renter_Occp_HU_CEN_2010</th>\n",
       "      <th>Renter_Occp_HU_ACS_12_16</th>\n",
       "      <th>Renter_Occp_HU_ACSMOE_12_16</th>\n",
       "      <th>state</th>\n",
       "      <th>county</th>\n",
       "      <th>tract</th>\n",
       "      <th>Unnamed: 6</th>\n",
       "    </tr>\n",
       "  </thead>\n",
       "  <tbody>\n",
       "    <tr>\n",
       "      <th>0</th>\n",
       "      <td>632</td>\n",
       "      <td>694</td>\n",
       "      <td>72</td>\n",
       "      <td>36</td>\n",
       "      <td>47</td>\n",
       "      <td>5300</td>\n",
       "      <td>NaN</td>\n",
       "    </tr>\n",
       "    <tr>\n",
       "      <th>1</th>\n",
       "      <td>565</td>\n",
       "      <td>549</td>\n",
       "      <td>53</td>\n",
       "      <td>36</td>\n",
       "      <td>47</td>\n",
       "      <td>5900</td>\n",
       "      <td>NaN</td>\n",
       "    </tr>\n",
       "    <tr>\n",
       "      <th>2</th>\n",
       "      <td>2819</td>\n",
       "      <td>3048</td>\n",
       "      <td>65</td>\n",
       "      <td>36</td>\n",
       "      <td>47</td>\n",
       "      <td>8500</td>\n",
       "      <td>NaN</td>\n",
       "    </tr>\n",
       "  </tbody>\n",
       "</table>\n",
       "</div>"
      ],
      "text/plain": [
       "   Renter_Occp_HU_CEN_2010  Renter_Occp_HU_ACS_12_16  \\\n",
       "0                      632                       694   \n",
       "1                      565                       549   \n",
       "2                     2819                      3048   \n",
       "\n",
       "   Renter_Occp_HU_ACSMOE_12_16  state  county  tract  Unnamed: 6  \n",
       "0                           72     36      47   5300         NaN  \n",
       "1                           53     36      47   5900         NaN  \n",
       "2                           65     36      47   8500         NaN  "
      ]
     },
     "execution_count": 8,
     "metadata": {},
     "output_type": "execute_result"
    }
   ],
   "source": [
    "url = 'https://api.census.gov/data/2018/pdb/tract?get=Renter_Occp_HU_CEN_2010,Renter_Occp_HU_ACS_12_16,Renter_Occp_HU_ACSMOE_12_16&for=tract:5300,5900,8500&in=state:36%20county:047&key=' + myAPI\n",
    "response = requests.request('GET', url).content\n",
    "Renter_Occp_Units = pd.read_csv(io.StringIO(response.decode('utf-8').replace('[','').replace(']','')))\n",
    "\n",
    "Renter_Occp_Units"
   ]
  },
  {
   "cell_type": "markdown",
   "metadata": {},
   "source": [
    "### Owner Occupied Units "
   ]
  },
  {
   "cell_type": "code",
   "execution_count": 9,
   "metadata": {},
   "outputs": [
    {
     "data": {
      "text/html": [
       "<div>\n",
       "<table border=\"1\" class=\"dataframe\">\n",
       "  <thead>\n",
       "    <tr style=\"text-align: right;\">\n",
       "      <th></th>\n",
       "      <th>Owner_Occp_HU_CEN_2010</th>\n",
       "      <th>Owner_Occp_HU_ACS_12_16</th>\n",
       "      <th>Owner_Occp_HU_ACSMOE_12_16</th>\n",
       "      <th>state</th>\n",
       "      <th>county</th>\n",
       "      <th>tract</th>\n",
       "      <th>Unnamed: 6</th>\n",
       "    </tr>\n",
       "  </thead>\n",
       "  <tbody>\n",
       "    <tr>\n",
       "      <th>0</th>\n",
       "      <td>212</td>\n",
       "      <td>288</td>\n",
       "      <td>60</td>\n",
       "      <td>36</td>\n",
       "      <td>47</td>\n",
       "      <td>5300</td>\n",
       "      <td>NaN</td>\n",
       "    </tr>\n",
       "    <tr>\n",
       "      <th>1</th>\n",
       "      <td>68</td>\n",
       "      <td>62</td>\n",
       "      <td>32</td>\n",
       "      <td>36</td>\n",
       "      <td>47</td>\n",
       "      <td>5900</td>\n",
       "      <td>NaN</td>\n",
       "    </tr>\n",
       "    <tr>\n",
       "      <th>2</th>\n",
       "      <td>14</td>\n",
       "      <td>16</td>\n",
       "      <td>26</td>\n",
       "      <td>36</td>\n",
       "      <td>47</td>\n",
       "      <td>8500</td>\n",
       "      <td>NaN</td>\n",
       "    </tr>\n",
       "  </tbody>\n",
       "</table>\n",
       "</div>"
      ],
      "text/plain": [
       "   Owner_Occp_HU_CEN_2010  Owner_Occp_HU_ACS_12_16  \\\n",
       "0                     212                      288   \n",
       "1                      68                       62   \n",
       "2                      14                       16   \n",
       "\n",
       "   Owner_Occp_HU_ACSMOE_12_16  state  county  tract  Unnamed: 6  \n",
       "0                          60     36      47   5300         NaN  \n",
       "1                          32     36      47   5900         NaN  \n",
       "2                          26     36      47   8500         NaN  "
      ]
     },
     "execution_count": 9,
     "metadata": {},
     "output_type": "execute_result"
    }
   ],
   "source": [
    "url = 'https://api.census.gov/data/2018/pdb/tract?get=Owner_Occp_HU_CEN_2010,Owner_Occp_HU_ACS_12_16,Owner_Occp_HU_ACSMOE_12_16&for=tract:5300,5900,8500&in=state:36%20county:047&key=' + myAPI\n",
    "response = requests.request('GET', url).content\n",
    "Owner_Occp_Units = pd.read_csv(io.StringIO(response.decode('utf-8').replace('[','').replace(']','')))\n",
    "\n",
    "Owner_Occp_Units"
   ]
  },
  {
   "cell_type": "markdown",
   "metadata": {},
   "source": [
    "### Single Units "
   ]
  },
  {
   "cell_type": "code",
   "execution_count": 10,
   "metadata": {},
   "outputs": [
    {
     "data": {
      "text/html": [
       "<div>\n",
       "<table border=\"1\" class=\"dataframe\">\n",
       "  <thead>\n",
       "    <tr style=\"text-align: right;\">\n",
       "      <th></th>\n",
       "      <th>Single_Unit_ACS_12_16</th>\n",
       "      <th>Single_Unit_ACSMOE_12_16</th>\n",
       "      <th>state</th>\n",
       "      <th>county</th>\n",
       "      <th>tract</th>\n",
       "      <th>Unnamed: 5</th>\n",
       "    </tr>\n",
       "  </thead>\n",
       "  <tbody>\n",
       "    <tr>\n",
       "      <th>0</th>\n",
       "      <td>225</td>\n",
       "      <td>63</td>\n",
       "      <td>36</td>\n",
       "      <td>47</td>\n",
       "      <td>5300</td>\n",
       "      <td>NaN</td>\n",
       "    </tr>\n",
       "    <tr>\n",
       "      <th>1</th>\n",
       "      <td>88</td>\n",
       "      <td>42</td>\n",
       "      <td>36</td>\n",
       "      <td>47</td>\n",
       "      <td>5900</td>\n",
       "      <td>NaN</td>\n",
       "    </tr>\n",
       "    <tr>\n",
       "      <th>2</th>\n",
       "      <td>0</td>\n",
       "      <td>16</td>\n",
       "      <td>36</td>\n",
       "      <td>47</td>\n",
       "      <td>8500</td>\n",
       "      <td>NaN</td>\n",
       "    </tr>\n",
       "  </tbody>\n",
       "</table>\n",
       "</div>"
      ],
      "text/plain": [
       "   Single_Unit_ACS_12_16  Single_Unit_ACSMOE_12_16  state  county  tract  \\\n",
       "0                    225                        63     36      47   5300   \n",
       "1                     88                        42     36      47   5900   \n",
       "2                      0                        16     36      47   8500   \n",
       "\n",
       "   Unnamed: 5  \n",
       "0         NaN  \n",
       "1         NaN  \n",
       "2         NaN  "
      ]
     },
     "execution_count": 10,
     "metadata": {},
     "output_type": "execute_result"
    }
   ],
   "source": [
    "url = 'https://api.census.gov/data/2018/pdb/tract?get=Single_Unit_ACS_12_16,Single_Unit_ACSMOE_12_16&for=tract:5300,5900,8500&in=state:36%20county:047&key=' + myAPI\n",
    "response = requests.request('GET', url).content\n",
    "Single_Units = pd.read_csv(io.StringIO(response.decode('utf-8').replace('[','').replace(']','')))\n",
    "\n",
    "Single_Units"
   ]
  },
  {
   "cell_type": "markdown",
   "metadata": {},
   "source": [
    "### Multi-Family Units // 2-9 Units"
   ]
  },
  {
   "cell_type": "code",
   "execution_count": 11,
   "metadata": {},
   "outputs": [
    {
     "data": {
      "text/html": [
       "<div>\n",
       "<table border=\"1\" class=\"dataframe\">\n",
       "  <thead>\n",
       "    <tr style=\"text-align: right;\">\n",
       "      <th></th>\n",
       "      <th>MLT_U2_9_STRC_ACS_12_16</th>\n",
       "      <th>MLT_U2_9_STRC_ACSMOE_12_16</th>\n",
       "      <th>state</th>\n",
       "      <th>county</th>\n",
       "      <th>tract</th>\n",
       "      <th>Unnamed: 5</th>\n",
       "    </tr>\n",
       "  </thead>\n",
       "  <tbody>\n",
       "    <tr>\n",
       "      <th>0</th>\n",
       "      <td>683</td>\n",
       "      <td>98</td>\n",
       "      <td>36</td>\n",
       "      <td>47</td>\n",
       "      <td>5300</td>\n",
       "      <td>NaN</td>\n",
       "    </tr>\n",
       "    <tr>\n",
       "      <th>1</th>\n",
       "      <td>404</td>\n",
       "      <td>79</td>\n",
       "      <td>36</td>\n",
       "      <td>47</td>\n",
       "      <td>5900</td>\n",
       "      <td>NaN</td>\n",
       "    </tr>\n",
       "    <tr>\n",
       "      <th>2</th>\n",
       "      <td>189</td>\n",
       "      <td>110</td>\n",
       "      <td>36</td>\n",
       "      <td>47</td>\n",
       "      <td>8500</td>\n",
       "      <td>NaN</td>\n",
       "    </tr>\n",
       "  </tbody>\n",
       "</table>\n",
       "</div>"
      ],
      "text/plain": [
       "   MLT_U2_9_STRC_ACS_12_16  MLT_U2_9_STRC_ACSMOE_12_16  state  county  tract  \\\n",
       "0                      683                          98     36      47   5300   \n",
       "1                      404                          79     36      47   5900   \n",
       "2                      189                         110     36      47   8500   \n",
       "\n",
       "   Unnamed: 5  \n",
       "0         NaN  \n",
       "1         NaN  \n",
       "2         NaN  "
      ]
     },
     "execution_count": 11,
     "metadata": {},
     "output_type": "execute_result"
    }
   ],
   "source": [
    "url = 'https://api.census.gov/data/2018/pdb/tract?get=MLT_U2_9_STRC_ACS_12_16,MLT_U2_9_STRC_ACSMOE_12_16&for=tract:5300,5900,8500&in=state:36%20county:047&key=' + myAPI\n",
    "response = requests.request('GET', url).content\n",
    "MLT_2_9 = pd.read_csv(io.StringIO(response.decode('utf-8').replace('[','').replace(']','')))\n",
    "\n",
    "MLT_2_9"
   ]
  },
  {
   "cell_type": "markdown",
   "metadata": {},
   "source": [
    "### Multi-Family Units // 10 or more Units"
   ]
  },
  {
   "cell_type": "code",
   "execution_count": 12,
   "metadata": {},
   "outputs": [
    {
     "data": {
      "text/html": [
       "<div>\n",
       "<table border=\"1\" class=\"dataframe\">\n",
       "  <thead>\n",
       "    <tr style=\"text-align: right;\">\n",
       "      <th></th>\n",
       "      <th>MLT_U10p_ACS_12_16</th>\n",
       "      <th>MLT_U10p_ACSMOE_12_16</th>\n",
       "      <th>state</th>\n",
       "      <th>county</th>\n",
       "      <th>tract</th>\n",
       "      <th>Unnamed: 5</th>\n",
       "    </tr>\n",
       "  </thead>\n",
       "  <tbody>\n",
       "    <tr>\n",
       "      <th>0</th>\n",
       "      <td>176</td>\n",
       "      <td>49</td>\n",
       "      <td>36</td>\n",
       "      <td>47</td>\n",
       "      <td>5300</td>\n",
       "      <td>NaN</td>\n",
       "    </tr>\n",
       "    <tr>\n",
       "      <th>1</th>\n",
       "      <td>184</td>\n",
       "      <td>50</td>\n",
       "      <td>36</td>\n",
       "      <td>47</td>\n",
       "      <td>5900</td>\n",
       "      <td>NaN</td>\n",
       "    </tr>\n",
       "    <tr>\n",
       "      <th>2</th>\n",
       "      <td>2900</td>\n",
       "      <td>215</td>\n",
       "      <td>36</td>\n",
       "      <td>47</td>\n",
       "      <td>8500</td>\n",
       "      <td>NaN</td>\n",
       "    </tr>\n",
       "  </tbody>\n",
       "</table>\n",
       "</div>"
      ],
      "text/plain": [
       "   MLT_U10p_ACS_12_16  MLT_U10p_ACSMOE_12_16  state  county  tract  Unnamed: 5\n",
       "0                 176                     49     36      47   5300         NaN\n",
       "1                 184                     50     36      47   5900         NaN\n",
       "2                2900                    215     36      47   8500         NaN"
      ]
     },
     "execution_count": 12,
     "metadata": {},
     "output_type": "execute_result"
    }
   ],
   "source": [
    "url = 'https://api.census.gov/data/2018/pdb/tract?get=MLT_U10p_ACS_12_16,MLT_U10p_ACSMOE_12_16&for=tract:5300,5900,8500&in=state:36%20county:047&key=' + myAPI\n",
    "response = requests.request('GET', url).content\n",
    "MLT_10p = pd.read_csv(io.StringIO(response.decode('utf-8').replace('[','').replace(']','')))\n",
    "\n",
    "MLT_10p"
   ]
  },
  {
   "cell_type": "markdown",
   "metadata": {},
   "source": [
    "### Mobile Homes "
   ]
  },
  {
   "cell_type": "code",
   "execution_count": 13,
   "metadata": {},
   "outputs": [
    {
     "data": {
      "text/html": [
       "<div>\n",
       "<table border=\"1\" class=\"dataframe\">\n",
       "  <thead>\n",
       "    <tr style=\"text-align: right;\">\n",
       "      <th></th>\n",
       "      <th>Mobile_Homes_ACS_12_16</th>\n",
       "      <th>Mobile_Homes_ACSMOE_12_16</th>\n",
       "      <th>state</th>\n",
       "      <th>county</th>\n",
       "      <th>tract</th>\n",
       "      <th>Unnamed: 5</th>\n",
       "    </tr>\n",
       "  </thead>\n",
       "  <tbody>\n",
       "    <tr>\n",
       "      <th>0</th>\n",
       "      <td>0</td>\n",
       "      <td>11</td>\n",
       "      <td>36</td>\n",
       "      <td>47</td>\n",
       "      <td>5300</td>\n",
       "      <td>NaN</td>\n",
       "    </tr>\n",
       "    <tr>\n",
       "      <th>1</th>\n",
       "      <td>0</td>\n",
       "      <td>11</td>\n",
       "      <td>36</td>\n",
       "      <td>47</td>\n",
       "      <td>5900</td>\n",
       "      <td>NaN</td>\n",
       "    </tr>\n",
       "    <tr>\n",
       "      <th>2</th>\n",
       "      <td>0</td>\n",
       "      <td>16</td>\n",
       "      <td>36</td>\n",
       "      <td>47</td>\n",
       "      <td>8500</td>\n",
       "      <td>NaN</td>\n",
       "    </tr>\n",
       "  </tbody>\n",
       "</table>\n",
       "</div>"
      ],
      "text/plain": [
       "   Mobile_Homes_ACS_12_16  Mobile_Homes_ACSMOE_12_16  state  county  tract  \\\n",
       "0                       0                         11     36      47   5300   \n",
       "1                       0                         11     36      47   5900   \n",
       "2                       0                         16     36      47   8500   \n",
       "\n",
       "   Unnamed: 5  \n",
       "0         NaN  \n",
       "1         NaN  \n",
       "2         NaN  "
      ]
     },
     "execution_count": 13,
     "metadata": {},
     "output_type": "execute_result"
    }
   ],
   "source": [
    "url = 'https://api.census.gov/data/2018/pdb/tract?get=Mobile_Homes_ACS_12_16,Mobile_Homes_ACSMOE_12_16&for=tract:5300,5900,8500&in=state:36%20county:047&key=' + myAPI\n",
    "response = requests.request('GET', url).content\n",
    "Mob = pd.read_csv(io.StringIO(response.decode('utf-8').replace('[','').replace(']','')))\n",
    "\n",
    "Mob"
   ]
  },
  {
   "cell_type": "markdown",
   "metadata": {},
   "source": [
    "### Crowded Units \n",
    "#### (Occupied Units with more than 1.01 persons per room in the ACS)"
   ]
  },
  {
   "cell_type": "code",
   "execution_count": 14,
   "metadata": {},
   "outputs": [
    {
     "data": {
      "text/html": [
       "<div>\n",
       "<table border=\"1\" class=\"dataframe\">\n",
       "  <thead>\n",
       "    <tr style=\"text-align: right;\">\n",
       "      <th></th>\n",
       "      <th>Crowd_Occp_U_ACS_12_16</th>\n",
       "      <th>Crowd_Occp_U_ACSMOE_12_16</th>\n",
       "      <th>state</th>\n",
       "      <th>county</th>\n",
       "      <th>tract</th>\n",
       "      <th>Unnamed: 5</th>\n",
       "    </tr>\n",
       "  </thead>\n",
       "  <tbody>\n",
       "    <tr>\n",
       "      <th>0</th>\n",
       "      <td>102</td>\n",
       "      <td>51</td>\n",
       "      <td>36</td>\n",
       "      <td>47</td>\n",
       "      <td>5300</td>\n",
       "      <td>NaN</td>\n",
       "    </tr>\n",
       "    <tr>\n",
       "      <th>1</th>\n",
       "      <td>49</td>\n",
       "      <td>30</td>\n",
       "      <td>36</td>\n",
       "      <td>47</td>\n",
       "      <td>5900</td>\n",
       "      <td>NaN</td>\n",
       "    </tr>\n",
       "    <tr>\n",
       "      <th>2</th>\n",
       "      <td>381</td>\n",
       "      <td>103</td>\n",
       "      <td>36</td>\n",
       "      <td>47</td>\n",
       "      <td>8500</td>\n",
       "      <td>NaN</td>\n",
       "    </tr>\n",
       "  </tbody>\n",
       "</table>\n",
       "</div>"
      ],
      "text/plain": [
       "   Crowd_Occp_U_ACS_12_16  Crowd_Occp_U_ACSMOE_12_16  state  county  tract  \\\n",
       "0                     102                         51     36      47   5300   \n",
       "1                      49                         30     36      47   5900   \n",
       "2                     381                        103     36      47   8500   \n",
       "\n",
       "   Unnamed: 5  \n",
       "0         NaN  \n",
       "1         NaN  \n",
       "2         NaN  "
      ]
     },
     "execution_count": 14,
     "metadata": {},
     "output_type": "execute_result"
    }
   ],
   "source": [
    "url = 'https://api.census.gov/data/2018/pdb/tract?get=Crowd_Occp_U_ACS_12_16,Crowd_Occp_U_ACSMOE_12_16&for=tract:5300,5900,8500&in=state:36%20county:047&key=' + myAPI\n",
    "response = requests.request('GET', url).content\n",
    "Crowd = pd.read_csv(io.StringIO(response.decode('utf-8').replace('[','').replace(']','')))\n",
    "\n",
    "Crowd"
   ]
  },
  {
   "cell_type": "markdown",
   "metadata": {},
   "source": [
    "### Recent Housing (built in 2010 or later)"
   ]
  },
  {
   "cell_type": "code",
   "execution_count": 15,
   "metadata": {},
   "outputs": [
    {
     "data": {
      "text/html": [
       "<div>\n",
       "<table border=\"1\" class=\"dataframe\">\n",
       "  <thead>\n",
       "    <tr style=\"text-align: right;\">\n",
       "      <th></th>\n",
       "      <th>Recent_Built_HU_ACS_12_16</th>\n",
       "      <th>Recent_Built_HU_ACSMOE_12_16</th>\n",
       "      <th>state</th>\n",
       "      <th>county</th>\n",
       "      <th>tract</th>\n",
       "      <th>Unnamed: 5</th>\n",
       "    </tr>\n",
       "  </thead>\n",
       "  <tbody>\n",
       "    <tr>\n",
       "      <th>0</th>\n",
       "      <td>5</td>\n",
       "      <td>7</td>\n",
       "      <td>36</td>\n",
       "      <td>47</td>\n",
       "      <td>5300</td>\n",
       "      <td>NaN</td>\n",
       "    </tr>\n",
       "    <tr>\n",
       "      <th>1</th>\n",
       "      <td>0</td>\n",
       "      <td>11</td>\n",
       "      <td>36</td>\n",
       "      <td>47</td>\n",
       "      <td>5900</td>\n",
       "      <td>NaN</td>\n",
       "    </tr>\n",
       "    <tr>\n",
       "      <th>2</th>\n",
       "      <td>0</td>\n",
       "      <td>16</td>\n",
       "      <td>36</td>\n",
       "      <td>47</td>\n",
       "      <td>8500</td>\n",
       "      <td>NaN</td>\n",
       "    </tr>\n",
       "  </tbody>\n",
       "</table>\n",
       "</div>"
      ],
      "text/plain": [
       "   Recent_Built_HU_ACS_12_16  Recent_Built_HU_ACSMOE_12_16  state  county  \\\n",
       "0                          5                             7     36      47   \n",
       "1                          0                            11     36      47   \n",
       "2                          0                            16     36      47   \n",
       "\n",
       "   tract  Unnamed: 5  \n",
       "0   5300         NaN  \n",
       "1   5900         NaN  \n",
       "2   8500         NaN  "
      ]
     },
     "execution_count": 15,
     "metadata": {},
     "output_type": "execute_result"
    }
   ],
   "source": [
    "url = 'https://api.census.gov/data/2018/pdb/tract?get=Recent_Built_HU_ACS_12_16,Recent_Built_HU_ACSMOE_12_16&for=tract:5300,5900,8500&in=state:36%20county:047&key=' + myAPI\n",
    "response = requests.request('GET', url).content\n",
    "Rcnt = pd.read_csv(io.StringIO(response.decode('utf-8').replace('[','').replace(']','')))\n",
    "\n",
    "Rcnt"
   ]
  },
  {
   "cell_type": "markdown",
   "metadata": {},
   "source": [
    "### Median Housing Value"
   ]
  },
  {
   "cell_type": "code",
   "execution_count": 16,
   "metadata": {},
   "outputs": [
    {
     "data": {
      "text/html": [
       "<div>\n",
       "<table border=\"1\" class=\"dataframe\">\n",
       "  <thead>\n",
       "    <tr style=\"text-align: right;\">\n",
       "      <th></th>\n",
       "      <th>Med_House_Value_ACS_12_16</th>\n",
       "      <th>Med_House_Value_ACSMOE_12_16</th>\n",
       "      <th>state</th>\n",
       "      <th>county</th>\n",
       "      <th>tract</th>\n",
       "      <th>Unnamed: 5</th>\n",
       "    </tr>\n",
       "  </thead>\n",
       "  <tbody>\n",
       "    <tr>\n",
       "      <th>0</th>\n",
       "      <td>$897,200</td>\n",
       "      <td>$61,817</td>\n",
       "      <td>36</td>\n",
       "      <td>47</td>\n",
       "      <td>5300</td>\n",
       "      <td>NaN</td>\n",
       "    </tr>\n",
       "    <tr>\n",
       "      <th>1</th>\n",
       "      <td>$856,500</td>\n",
       "      <td>$28,704</td>\n",
       "      <td>36</td>\n",
       "      <td>47</td>\n",
       "      <td>5900</td>\n",
       "      <td>NaN</td>\n",
       "    </tr>\n",
       "    <tr>\n",
       "      <th>2</th>\n",
       "      <td>null</td>\n",
       "      <td>null</td>\n",
       "      <td>36</td>\n",
       "      <td>47</td>\n",
       "      <td>8500</td>\n",
       "      <td>NaN</td>\n",
       "    </tr>\n",
       "  </tbody>\n",
       "</table>\n",
       "</div>"
      ],
      "text/plain": [
       "  Med_House_Value_ACS_12_16 Med_House_Value_ACSMOE_12_16  state  county  \\\n",
       "0                  $897,200                      $61,817     36      47   \n",
       "1                  $856,500                      $28,704     36      47   \n",
       "2                      null                         null     36      47   \n",
       "\n",
       "   tract  Unnamed: 5  \n",
       "0   5300         NaN  \n",
       "1   5900         NaN  \n",
       "2   8500         NaN  "
      ]
     },
     "execution_count": 16,
     "metadata": {},
     "output_type": "execute_result"
    }
   ],
   "source": [
    "url = 'https://api.census.gov/data/2018/pdb/tract?get=Med_House_Value_ACS_12_16,Med_House_Value_ACSMOE_12_16&for=tract:5300,5900,8500&in=state:36%20county:047&key=' + myAPI\n",
    "response = requests.request('GET', url).content\n",
    "Med_Value = pd.read_csv(io.StringIO(response.decode('utf-8').replace('[','').replace(']','')))\n",
    "\n",
    "Med_Value"
   ]
  },
  {
   "cell_type": "markdown",
   "metadata": {},
   "source": [
    "### Aggregate Housing Unit Value (dollars) \n",
    "#### (Sum of all value estimates for owner-occupied ACS housing units in an area)"
   ]
  },
  {
   "cell_type": "code",
   "execution_count": 17,
   "metadata": {},
   "outputs": [
    {
     "data": {
      "text/html": [
       "<div>\n",
       "<table border=\"1\" class=\"dataframe\">\n",
       "  <thead>\n",
       "    <tr style=\"text-align: right;\">\n",
       "      <th></th>\n",
       "      <th>Aggr_House_Value_ACS_12_16</th>\n",
       "      <th>Aggr_House_Value_ACSMOE_12_16</th>\n",
       "      <th>state</th>\n",
       "      <th>county</th>\n",
       "      <th>tract</th>\n",
       "      <th>Unnamed: 5</th>\n",
       "    </tr>\n",
       "  </thead>\n",
       "  <tbody>\n",
       "    <tr>\n",
       "      <th>0</th>\n",
       "      <td>$262,627,000</td>\n",
       "      <td>$55,934,933</td>\n",
       "      <td>36</td>\n",
       "      <td>47</td>\n",
       "      <td>5300</td>\n",
       "      <td>NaN</td>\n",
       "    </tr>\n",
       "    <tr>\n",
       "      <th>1</th>\n",
       "      <td>$47,140,000</td>\n",
       "      <td>$25,352,357</td>\n",
       "      <td>36</td>\n",
       "      <td>47</td>\n",
       "      <td>5900</td>\n",
       "      <td>NaN</td>\n",
       "    </tr>\n",
       "    <tr>\n",
       "      <th>2</th>\n",
       "      <td>null</td>\n",
       "      <td>null</td>\n",
       "      <td>36</td>\n",
       "      <td>47</td>\n",
       "      <td>8500</td>\n",
       "      <td>NaN</td>\n",
       "    </tr>\n",
       "  </tbody>\n",
       "</table>\n",
       "</div>"
      ],
      "text/plain": [
       "  Aggr_House_Value_ACS_12_16 Aggr_House_Value_ACSMOE_12_16  state  county  \\\n",
       "0               $262,627,000                   $55,934,933     36      47   \n",
       "1                $47,140,000                   $25,352,357     36      47   \n",
       "2                       null                          null     36      47   \n",
       "\n",
       "   tract  Unnamed: 5  \n",
       "0   5300         NaN  \n",
       "1   5900         NaN  \n",
       "2   8500         NaN  "
      ]
     },
     "execution_count": 17,
     "metadata": {},
     "output_type": "execute_result"
    }
   ],
   "source": [
    "url = 'https://api.census.gov/data/2018/pdb/tract?get=Aggr_House_Value_ACS_12_16,Aggr_House_Value_ACSMOE_12_16&for=tract:5300,5900,8500&in=state:36%20county:047&key=' + myAPI\n",
    "response = requests.request('GET', url).content\n",
    "Agg_Value = pd.read_csv(io.StringIO(response.decode('utf-8').replace('[','').replace(']','')))\n",
    "\n",
    "Agg_Value"
   ]
  },
  {
   "cell_type": "markdown",
   "metadata": {},
   "source": [
    "### Number of Households with Public Assistance Income"
   ]
  },
  {
   "cell_type": "code",
   "execution_count": 18,
   "metadata": {},
   "outputs": [
    {
     "data": {
      "text/html": [
       "<div>\n",
       "<table border=\"1\" class=\"dataframe\">\n",
       "  <thead>\n",
       "    <tr style=\"text-align: right;\">\n",
       "      <th></th>\n",
       "      <th>PUB_ASST_INC_ACS_12_16</th>\n",
       "      <th>PUB_ASST_INC_ACSMOE_12_16</th>\n",
       "      <th>state</th>\n",
       "      <th>county</th>\n",
       "      <th>tract</th>\n",
       "      <th>Unnamed: 5</th>\n",
       "    </tr>\n",
       "  </thead>\n",
       "  <tbody>\n",
       "    <tr>\n",
       "      <th>0</th>\n",
       "      <td>11</td>\n",
       "      <td>11</td>\n",
       "      <td>36</td>\n",
       "      <td>47</td>\n",
       "      <td>5300</td>\n",
       "      <td>NaN</td>\n",
       "    </tr>\n",
       "    <tr>\n",
       "      <th>1</th>\n",
       "      <td>17</td>\n",
       "      <td>16</td>\n",
       "      <td>36</td>\n",
       "      <td>47</td>\n",
       "      <td>5900</td>\n",
       "      <td>NaN</td>\n",
       "    </tr>\n",
       "    <tr>\n",
       "      <th>2</th>\n",
       "      <td>479</td>\n",
       "      <td>156</td>\n",
       "      <td>36</td>\n",
       "      <td>47</td>\n",
       "      <td>8500</td>\n",
       "      <td>NaN</td>\n",
       "    </tr>\n",
       "  </tbody>\n",
       "</table>\n",
       "</div>"
      ],
      "text/plain": [
       "   PUB_ASST_INC_ACS_12_16  PUB_ASST_INC_ACSMOE_12_16  state  county  tract  \\\n",
       "0                      11                         11     36      47   5300   \n",
       "1                      17                         16     36      47   5900   \n",
       "2                     479                        156     36      47   8500   \n",
       "\n",
       "   Unnamed: 5  \n",
       "0         NaN  \n",
       "1         NaN  \n",
       "2         NaN  "
      ]
     },
     "execution_count": 18,
     "metadata": {},
     "output_type": "execute_result"
    }
   ],
   "source": [
    "url = 'https://api.census.gov/data/2018/pdb/tract?get=PUB_ASST_INC_ACS_12_16,PUB_ASST_INC_ACSMOE_12_16&for=tract:5300,5900,8500&in=state:36%20county:047&key=' + myAPI\n",
    "response = requests.request('GET', url).content\n",
    "Pub_Asst = pd.read_csv(io.StringIO(response.decode('utf-8').replace('[','').replace(']','')))\n",
    "\n",
    "Pub_Asst"
   ]
  },
  {
   "cell_type": "markdown",
   "metadata": {},
   "source": [
    "### Percentage of Households with Public Assistance Income"
   ]
  },
  {
   "cell_type": "code",
   "execution_count": 19,
   "metadata": {},
   "outputs": [
    {
     "data": {
      "text/html": [
       "<div>\n",
       "<table border=\"1\" class=\"dataframe\">\n",
       "  <thead>\n",
       "    <tr style=\"text-align: right;\">\n",
       "      <th></th>\n",
       "      <th>pct_PUB_ASST_INC_ACS_12_16</th>\n",
       "      <th>pct_PUB_ASST_INC_ACSMOE_12_16</th>\n",
       "      <th>state</th>\n",
       "      <th>county</th>\n",
       "      <th>tract</th>\n",
       "      <th>Unnamed: 5</th>\n",
       "    </tr>\n",
       "  </thead>\n",
       "  <tbody>\n",
       "    <tr>\n",
       "      <th>0</th>\n",
       "      <td>1.12</td>\n",
       "      <td>1.12</td>\n",
       "      <td>36</td>\n",
       "      <td>47</td>\n",
       "      <td>5300</td>\n",
       "      <td>NaN</td>\n",
       "    </tr>\n",
       "    <tr>\n",
       "      <th>1</th>\n",
       "      <td>2.78</td>\n",
       "      <td>2.61</td>\n",
       "      <td>36</td>\n",
       "      <td>47</td>\n",
       "      <td>5900</td>\n",
       "      <td>NaN</td>\n",
       "    </tr>\n",
       "    <tr>\n",
       "      <th>2</th>\n",
       "      <td>15.63</td>\n",
       "      <td>5.08</td>\n",
       "      <td>36</td>\n",
       "      <td>47</td>\n",
       "      <td>8500</td>\n",
       "      <td>NaN</td>\n",
       "    </tr>\n",
       "  </tbody>\n",
       "</table>\n",
       "</div>"
      ],
      "text/plain": [
       "   pct_PUB_ASST_INC_ACS_12_16  pct_PUB_ASST_INC_ACSMOE_12_16  state  county  \\\n",
       "0                        1.12                           1.12     36      47   \n",
       "1                        2.78                           2.61     36      47   \n",
       "2                       15.63                           5.08     36      47   \n",
       "\n",
       "   tract  Unnamed: 5  \n",
       "0   5300         NaN  \n",
       "1   5900         NaN  \n",
       "2   8500         NaN  "
      ]
     },
     "execution_count": 19,
     "metadata": {},
     "output_type": "execute_result"
    }
   ],
   "source": [
    "url = 'https://api.census.gov/data/2018/pdb/tract?get=pct_PUB_ASST_INC_ACS_12_16,pct_PUB_ASST_INC_ACSMOE_12_16&for=tract:5300,5900,8500&in=state:36%20county:047&key=' + myAPI\n",
    "response = requests.request('GET', url).content\n",
    "Pct_Pub_Asst = pd.read_csv(io.StringIO(response.decode('utf-8').replace('[','').replace(']','')))\n",
    "\n",
    "Pct_Pub_Asst"
   ]
  },
  {
   "cell_type": "markdown",
   "metadata": {},
   "source": [
    "### Aggregate Households Income\n",
    "#### Sum of all incomes in the household"
   ]
  },
  {
   "cell_type": "code",
   "execution_count": 20,
   "metadata": {},
   "outputs": [
    {
     "data": {
      "text/html": [
       "<div>\n",
       "<table border=\"1\" class=\"dataframe\">\n",
       "  <thead>\n",
       "    <tr style=\"text-align: right;\">\n",
       "      <th></th>\n",
       "      <th>Aggregate_HH_INC_ACS_12_16</th>\n",
       "      <th>Aggregate_HH_INC_ACSMOE_12_16</th>\n",
       "      <th>state</th>\n",
       "      <th>county</th>\n",
       "      <th>tract</th>\n",
       "      <th>Unnamed: 5</th>\n",
       "    </tr>\n",
       "  </thead>\n",
       "  <tbody>\n",
       "    <tr>\n",
       "      <th>0</th>\n",
       "      <td>$99,732,100</td>\n",
       "      <td>$10,354,819</td>\n",
       "      <td>36</td>\n",
       "      <td>47</td>\n",
       "      <td>5300</td>\n",
       "      <td>NaN</td>\n",
       "    </tr>\n",
       "    <tr>\n",
       "      <th>1</th>\n",
       "      <td>$45,716,900</td>\n",
       "      <td>$5,895,533</td>\n",
       "      <td>36</td>\n",
       "      <td>47</td>\n",
       "      <td>5900</td>\n",
       "      <td>NaN</td>\n",
       "    </tr>\n",
       "    <tr>\n",
       "      <th>2</th>\n",
       "      <td>$85,862,400</td>\n",
       "      <td>$27,834,948</td>\n",
       "      <td>36</td>\n",
       "      <td>47</td>\n",
       "      <td>8500</td>\n",
       "      <td>NaN</td>\n",
       "    </tr>\n",
       "  </tbody>\n",
       "</table>\n",
       "</div>"
      ],
      "text/plain": [
       "  Aggregate_HH_INC_ACS_12_16 Aggregate_HH_INC_ACSMOE_12_16  state  county  \\\n",
       "0                $99,732,100                   $10,354,819     36      47   \n",
       "1                $45,716,900                    $5,895,533     36      47   \n",
       "2                $85,862,400                   $27,834,948     36      47   \n",
       "\n",
       "   tract  Unnamed: 5  \n",
       "0   5300         NaN  \n",
       "1   5900         NaN  \n",
       "2   8500         NaN  "
      ]
     },
     "execution_count": 20,
     "metadata": {},
     "output_type": "execute_result"
    }
   ],
   "source": [
    "url = 'https://api.census.gov/data/2018/pdb/tract?get=Aggregate_HH_INC_ACS_12_16,Aggregate_HH_INC_ACSMOE_12_16&for=tract:5300,5900,8500&in=state:36%20county:047&key=' + myAPI\n",
    "response = requests.request('GET', url).content\n",
    "Agg_HHD_Inc = pd.read_csv(io.StringIO(response.decode('utf-8').replace('[','').replace(']','')))\n",
    "\n",
    "Agg_HHD_Inc"
   ]
  },
  {
   "cell_type": "code",
   "execution_count": null,
   "metadata": {},
   "outputs": [],
   "source": []
  }
 ],
 "metadata": {
  "kernelspec": {
   "display_name": "PUI2016_Python3",
   "language": "python",
   "name": "pui2016_python3"
  },
  "language_info": {
   "codemirror_mode": {
    "name": "ipython",
    "version": 3
   },
   "file_extension": ".py",
   "mimetype": "text/x-python",
   "name": "python",
   "nbconvert_exporter": "python",
   "pygments_lexer": "ipython3",
   "version": "3.5.4"
  }
 },
 "nbformat": 4,
 "nbformat_minor": 2
}
