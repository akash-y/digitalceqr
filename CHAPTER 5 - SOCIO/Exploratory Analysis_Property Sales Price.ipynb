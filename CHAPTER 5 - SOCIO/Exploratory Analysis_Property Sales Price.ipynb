{
 "cells": [
  {
   "cell_type": "code",
   "execution_count": 262,
   "metadata": {},
   "outputs": [],
   "source": [
    "import pandas as pd \n",
    "import geopandas as gpd\n",
    "from geopandas import GeoDataFrame\n",
    "import os\n",
    "import numpy as np\n",
    "import statsmodels.formula.api as smf\n",
    "import matplotlib.pylab as plt\n",
    "import math\n",
    "\n",
    "pd.options.mode.chained_assignment = None\n",
    "%matplotlib inline"
   ]
  },
  {
   "cell_type": "code",
   "execution_count": 199,
   "metadata": {},
   "outputs": [],
   "source": [
    "path = \"~/DRAW/Prediction/\""
   ]
  },
  {
   "cell_type": "code",
   "execution_count": 200,
   "metadata": {},
   "outputs": [
    {
     "data": {
      "text/plain": [
       "(119783, 21)"
      ]
     },
     "execution_count": 200,
     "metadata": {},
     "output_type": "execute_result"
    }
   ],
   "source": [
    "#Combine hoiusing sale data from 2011 to 2016 in one file \n",
    "dfs_list = []\n",
    "for i in range(2011, 2016):\n",
    "    temp_df = pd.read_excel('{}/{}_brooklyn.xls'.format(path, i), skiprows=4)\n",
    "    temp_df.rename(columns=lambda x: x.strip(), inplace=True)\n",
    "\n",
    "    dfs_list.append(temp_df)\n",
    "pv_df = pd.concat(dfs_list)\n",
    "pv_df.shape"
   ]
  },
  {
   "cell_type": "code",
   "execution_count": 201,
   "metadata": {},
   "outputs": [],
   "source": [
    "pv_df.to_csv(\"brooklyn_prices_2011-16.csv\")"
   ]
  },
  {
   "cell_type": "code",
   "execution_count": 202,
   "metadata": {},
   "outputs": [
    {
     "data": {
      "text/html": [
       "<div>\n",
       "<table border=\"1\" class=\"dataframe\">\n",
       "  <thead>\n",
       "    <tr style=\"text-align: right;\">\n",
       "      <th></th>\n",
       "      <th>BOROUGH</th>\n",
       "      <th>NEIGHBORHOOD</th>\n",
       "      <th>BUILDING CLASS CATEGORY</th>\n",
       "      <th>TAX CLASS AT PRESENT</th>\n",
       "      <th>BLOCK</th>\n",
       "      <th>LOT</th>\n",
       "      <th>EASE-MENT</th>\n",
       "      <th>BUILDING CLASS AT PRESENT</th>\n",
       "      <th>ADDRESS</th>\n",
       "      <th>APARTMENT NUMBER</th>\n",
       "      <th>...</th>\n",
       "      <th>RESIDENTIAL UNITS</th>\n",
       "      <th>COMMERCIAL UNITS</th>\n",
       "      <th>TOTAL UNITS</th>\n",
       "      <th>LAND SQUARE FEET</th>\n",
       "      <th>GROSS SQUARE FEET</th>\n",
       "      <th>YEAR BUILT</th>\n",
       "      <th>TAX CLASS AT TIME OF SALE</th>\n",
       "      <th>BUILDING CLASS AT TIME OF SALE</th>\n",
       "      <th>SALE PRICE</th>\n",
       "      <th>SALE DATE</th>\n",
       "    </tr>\n",
       "  </thead>\n",
       "  <tbody>\n",
       "    <tr>\n",
       "      <th>0</th>\n",
       "      <td>3</td>\n",
       "      <td>BATH BEACH</td>\n",
       "      <td>01  ONE FAMILY HOMES</td>\n",
       "      <td>1</td>\n",
       "      <td>6373</td>\n",
       "      <td>88</td>\n",
       "      <td></td>\n",
       "      <td>A1</td>\n",
       "      <td>92 BAY 23RD STREET</td>\n",
       "      <td></td>\n",
       "      <td>...</td>\n",
       "      <td>1</td>\n",
       "      <td>0</td>\n",
       "      <td>1</td>\n",
       "      <td>2790</td>\n",
       "      <td>1376</td>\n",
       "      <td>1940</td>\n",
       "      <td>1</td>\n",
       "      <td>A1</td>\n",
       "      <td>0</td>\n",
       "      <td>2011-02-08</td>\n",
       "    </tr>\n",
       "    <tr>\n",
       "      <th>1</th>\n",
       "      <td>3</td>\n",
       "      <td>BATH BEACH</td>\n",
       "      <td>01  ONE FAMILY HOMES</td>\n",
       "      <td>1</td>\n",
       "      <td>6380</td>\n",
       "      <td>71</td>\n",
       "      <td></td>\n",
       "      <td>A5</td>\n",
       "      <td>8668 BAY PARKWAY</td>\n",
       "      <td></td>\n",
       "      <td>...</td>\n",
       "      <td>1</td>\n",
       "      <td>0</td>\n",
       "      <td>1</td>\n",
       "      <td>1740</td>\n",
       "      <td>1782</td>\n",
       "      <td>1960</td>\n",
       "      <td>1</td>\n",
       "      <td>A5</td>\n",
       "      <td>610000</td>\n",
       "      <td>2011-10-24</td>\n",
       "    </tr>\n",
       "    <tr>\n",
       "      <th>2</th>\n",
       "      <td>3</td>\n",
       "      <td>BATH BEACH</td>\n",
       "      <td>01  ONE FAMILY HOMES</td>\n",
       "      <td>1</td>\n",
       "      <td>6399</td>\n",
       "      <td>4</td>\n",
       "      <td></td>\n",
       "      <td>S1</td>\n",
       "      <td>1665 BATH AVENUE</td>\n",
       "      <td></td>\n",
       "      <td>...</td>\n",
       "      <td>1</td>\n",
       "      <td>1</td>\n",
       "      <td>2</td>\n",
       "      <td>1260</td>\n",
       "      <td>1440</td>\n",
       "      <td>1940</td>\n",
       "      <td>1</td>\n",
       "      <td>S1</td>\n",
       "      <td>0</td>\n",
       "      <td>2011-07-11</td>\n",
       "    </tr>\n",
       "    <tr>\n",
       "      <th>3</th>\n",
       "      <td>3</td>\n",
       "      <td>BATH BEACH</td>\n",
       "      <td>01  ONE FAMILY HOMES</td>\n",
       "      <td>1</td>\n",
       "      <td>6399</td>\n",
       "      <td>7</td>\n",
       "      <td></td>\n",
       "      <td>S1</td>\n",
       "      <td>1657 BATH AVENUE</td>\n",
       "      <td></td>\n",
       "      <td>...</td>\n",
       "      <td>1</td>\n",
       "      <td>1</td>\n",
       "      <td>2</td>\n",
       "      <td>1260</td>\n",
       "      <td>1440</td>\n",
       "      <td>1930</td>\n",
       "      <td>1</td>\n",
       "      <td>S1</td>\n",
       "      <td>468000</td>\n",
       "      <td>2011-06-13</td>\n",
       "    </tr>\n",
       "    <tr>\n",
       "      <th>4</th>\n",
       "      <td>3</td>\n",
       "      <td>BATH BEACH</td>\n",
       "      <td>01  ONE FAMILY HOMES</td>\n",
       "      <td>1</td>\n",
       "      <td>6408</td>\n",
       "      <td>48</td>\n",
       "      <td></td>\n",
       "      <td>S1</td>\n",
       "      <td>1967 BATH AVENUE</td>\n",
       "      <td></td>\n",
       "      <td>...</td>\n",
       "      <td>1</td>\n",
       "      <td>1</td>\n",
       "      <td>2</td>\n",
       "      <td>1583</td>\n",
       "      <td>2052</td>\n",
       "      <td>1920</td>\n",
       "      <td>1</td>\n",
       "      <td>S1</td>\n",
       "      <td>0</td>\n",
       "      <td>2011-11-11</td>\n",
       "    </tr>\n",
       "  </tbody>\n",
       "</table>\n",
       "<p>5 rows × 21 columns</p>\n",
       "</div>"
      ],
      "text/plain": [
       "   BOROUGH               NEIGHBORHOOD  \\\n",
       "0        3  BATH BEACH                  \n",
       "1        3  BATH BEACH                  \n",
       "2        3  BATH BEACH                  \n",
       "3        3  BATH BEACH                  \n",
       "4        3  BATH BEACH                  \n",
       "\n",
       "                        BUILDING CLASS CATEGORY TAX CLASS AT PRESENT  BLOCK  \\\n",
       "0  01  ONE FAMILY HOMES                                            1   6373   \n",
       "1  01  ONE FAMILY HOMES                                            1   6380   \n",
       "2  01  ONE FAMILY HOMES                                            1   6399   \n",
       "3  01  ONE FAMILY HOMES                                            1   6399   \n",
       "4  01  ONE FAMILY HOMES                                            1   6408   \n",
       "\n",
       "   LOT EASE-MENT BUILDING CLASS AT PRESENT  \\\n",
       "0   88                                  A1   \n",
       "1   71                                  A5   \n",
       "2    4                                  S1   \n",
       "3    7                                  S1   \n",
       "4   48                                  S1   \n",
       "\n",
       "                                     ADDRESS APARTMENT NUMBER     ...      \\\n",
       "0  92 BAY 23RD STREET                                             ...       \n",
       "1  8668 BAY PARKWAY                                               ...       \n",
       "2  1665 BATH AVENUE                                               ...       \n",
       "3  1657 BATH AVENUE                                               ...       \n",
       "4  1967 BATH AVENUE                                               ...       \n",
       "\n",
       "   RESIDENTIAL UNITS  COMMERCIAL UNITS  TOTAL UNITS  LAND SQUARE FEET  \\\n",
       "0                  1                 0            1              2790   \n",
       "1                  1                 0            1              1740   \n",
       "2                  1                 1            2              1260   \n",
       "3                  1                 1            2              1260   \n",
       "4                  1                 1            2              1583   \n",
       "\n",
       "   GROSS SQUARE FEET  YEAR BUILT  TAX CLASS AT TIME OF SALE  \\\n",
       "0               1376        1940                          1   \n",
       "1               1782        1960                          1   \n",
       "2               1440        1940                          1   \n",
       "3               1440        1930                          1   \n",
       "4               2052        1920                          1   \n",
       "\n",
       "   BUILDING CLASS AT TIME OF SALE SALE PRICE   SALE DATE  \n",
       "0                              A1          0  2011-02-08  \n",
       "1                              A5     610000  2011-10-24  \n",
       "2                              S1          0  2011-07-11  \n",
       "3                              S1     468000  2011-06-13  \n",
       "4                              S1          0  2011-11-11  \n",
       "\n",
       "[5 rows x 21 columns]"
      ]
     },
     "execution_count": 202,
     "metadata": {},
     "output_type": "execute_result"
    }
   ],
   "source": [
    "# Convert five years data into csv file\n",
    "price = pd.read_csv(\"brooklyn_prices_2011-16.csv\")\n",
    "bk_price=price.drop(['Unnamed: 0'], axis=1)\n",
    "bk_price.head()"
   ]
  },
  {
   "cell_type": "code",
   "execution_count": 203,
   "metadata": {},
   "outputs": [
    {
     "data": {
      "text/plain": [
       "Index(['BOROUGH', 'NEIGHBORHOOD', 'BUILDING CLASS CATEGORY',\n",
       "       'TAX CLASS AT PRESENT', 'BLOCK', 'LOT', 'EASE-MENT',\n",
       "       'BUILDING CLASS AT PRESENT', 'ADDRESS', 'APARTMENT NUMBER', 'ZIP CODE',\n",
       "       'RESIDENTIAL UNITS', 'COMMERCIAL UNITS', 'TOTAL UNITS',\n",
       "       'LAND SQUARE FEET', 'GROSS SQUARE FEET', 'YEAR BUILT',\n",
       "       'TAX CLASS AT TIME OF SALE', 'BUILDING CLASS AT TIME OF SALE',\n",
       "       'SALE PRICE', 'SALE DATE'],\n",
       "      dtype='object')"
      ]
     },
     "execution_count": 203,
     "metadata": {},
     "output_type": "execute_result"
    }
   ],
   "source": [
    "bk_price.columns"
   ]
  },
  {
   "cell_type": "code",
   "execution_count": 205,
   "metadata": {},
   "outputs": [
    {
     "data": {
      "text/html": [
       "<div>\n",
       "<table border=\"1\" class=\"dataframe\">\n",
       "  <thead>\n",
       "    <tr style=\"text-align: right;\">\n",
       "      <th></th>\n",
       "      <th>address</th>\n",
       "      <th>bbl</th>\n",
       "      <th>geometry</th>\n",
       "    </tr>\n",
       "  </thead>\n",
       "  <tbody>\n",
       "    <tr>\n",
       "      <th>0</th>\n",
       "      <td>3 2 PLACE</td>\n",
       "      <td>3003600055</td>\n",
       "      <td>(POLYGON ((-74.00071 40.680854, -74.000809 40....</td>\n",
       "    </tr>\n",
       "    <tr>\n",
       "      <th>1</th>\n",
       "      <td>3 1 PLACE</td>\n",
       "      <td>3003550049</td>\n",
       "      <td>(POLYGON ((-74.00028 40.681732, -74.000411 40....</td>\n",
       "    </tr>\n",
       "    <tr>\n",
       "      <th>2</th>\n",
       "      <td>WARREN STREET</td>\n",
       "      <td>3003050121</td>\n",
       "      <td>(POLYGON ((-73.998088 40.688107, -73.998119 40...</td>\n",
       "    </tr>\n",
       "    <tr>\n",
       "      <th>3</th>\n",
       "      <td>94 DEGRAW STREET</td>\n",
       "      <td>3003290021</td>\n",
       "      <td>(POLYGON ((-74.003272 40.6859, -74.003399 40.6...</td>\n",
       "    </tr>\n",
       "    <tr>\n",
       "      <th>4</th>\n",
       "      <td>146 DEGRAW STREET</td>\n",
       "      <td>3003300020</td>\n",
       "      <td>(POLYGON ((-74.001373 40.685371, -74.001498 40...</td>\n",
       "    </tr>\n",
       "  </tbody>\n",
       "</table>\n",
       "</div>"
      ],
      "text/plain": [
       "             address         bbl  \\\n",
       "0          3 2 PLACE  3003600055   \n",
       "1          3 1 PLACE  3003550049   \n",
       "2      WARREN STREET  3003050121   \n",
       "3   94 DEGRAW STREET  3003290021   \n",
       "4  146 DEGRAW STREET  3003300020   \n",
       "\n",
       "                                            geometry  \n",
       "0  (POLYGON ((-74.00071 40.680854, -74.000809 40....  \n",
       "1  (POLYGON ((-74.00028 40.681732, -74.000411 40....  \n",
       "2  (POLYGON ((-73.998088 40.688107, -73.998119 40...  \n",
       "3  (POLYGON ((-74.003272 40.6859, -74.003399 40.6...  \n",
       "4  (POLYGON ((-74.001373 40.685371, -74.001498 40...  "
      ]
     },
     "execution_count": 205,
     "metadata": {},
     "output_type": "execute_result"
    }
   ],
   "source": [
    "# Find data in study area (Use the area file that Ben upload on Github)\n",
    "pluto =  GeoDataFrame.from_file('pluto.geojson')\n",
    "pluto.head()"
   ]
  },
  {
   "cell_type": "code",
   "execution_count": 206,
   "metadata": {},
   "outputs": [],
   "source": [
    "# Join Pluto with housing data by using code that creat by Ben \n",
    "def format_bbl(parcel):\n",
    "    borough = str(parcel['BOROUGH'])\n",
    "    block = str(parcel['BLOCK'])\n",
    "    lot = str(parcel['LOT'])\n",
    "    return int(borough + block.zfill(5) + lot.zfill(4))"
   ]
  },
  {
   "cell_type": "code",
   "execution_count": 207,
   "metadata": {},
   "outputs": [],
   "source": [
    "# Create bbls\n",
    "bk_price['BBL'] = bk_price.apply(format_bbl, axis=1)"
   ]
  },
  {
   "cell_type": "code",
   "execution_count": 208,
   "metadata": {},
   "outputs": [
    {
     "data": {
      "text/html": [
       "<div>\n",
       "<table border=\"1\" class=\"dataframe\">\n",
       "  <thead>\n",
       "    <tr style=\"text-align: right;\">\n",
       "      <th></th>\n",
       "      <th>BOROUGH</th>\n",
       "      <th>NEIGHBORHOOD</th>\n",
       "      <th>BUILDING CLASS CATEGORY</th>\n",
       "      <th>TAX CLASS AT PRESENT</th>\n",
       "      <th>BLOCK</th>\n",
       "      <th>LOT</th>\n",
       "      <th>EASE-MENT</th>\n",
       "      <th>BUILDING CLASS AT PRESENT</th>\n",
       "      <th>ADDRESS</th>\n",
       "      <th>APARTMENT NUMBER</th>\n",
       "      <th>...</th>\n",
       "      <th>COMMERCIAL UNITS</th>\n",
       "      <th>TOTAL UNITS</th>\n",
       "      <th>LAND SQUARE FEET</th>\n",
       "      <th>GROSS SQUARE FEET</th>\n",
       "      <th>YEAR BUILT</th>\n",
       "      <th>TAX CLASS AT TIME OF SALE</th>\n",
       "      <th>BUILDING CLASS AT TIME OF SALE</th>\n",
       "      <th>SALE PRICE</th>\n",
       "      <th>SALE DATE</th>\n",
       "      <th>BBL</th>\n",
       "    </tr>\n",
       "  </thead>\n",
       "  <tbody>\n",
       "    <tr>\n",
       "      <th>6140</th>\n",
       "      <td>3</td>\n",
       "      <td>CARROLL GARDENS</td>\n",
       "      <td>01  ONE FAMILY HOMES</td>\n",
       "      <td>1</td>\n",
       "      <td>350</td>\n",
       "      <td>29</td>\n",
       "      <td></td>\n",
       "      <td>A4</td>\n",
       "      <td>428 CLINTON STREET</td>\n",
       "      <td></td>\n",
       "      <td>...</td>\n",
       "      <td>0</td>\n",
       "      <td>1</td>\n",
       "      <td>1250</td>\n",
       "      <td>2400</td>\n",
       "      <td>1899</td>\n",
       "      <td>1</td>\n",
       "      <td>A4</td>\n",
       "      <td>0</td>\n",
       "      <td>2011-12-08</td>\n",
       "      <td>3003500029</td>\n",
       "    </tr>\n",
       "    <tr>\n",
       "      <th>6141</th>\n",
       "      <td>3</td>\n",
       "      <td>CARROLL GARDENS</td>\n",
       "      <td>01  ONE FAMILY HOMES</td>\n",
       "      <td>1</td>\n",
       "      <td>350</td>\n",
       "      <td>30</td>\n",
       "      <td></td>\n",
       "      <td>A4</td>\n",
       "      <td>428A CLINTON STREET</td>\n",
       "      <td></td>\n",
       "      <td>...</td>\n",
       "      <td>0</td>\n",
       "      <td>1</td>\n",
       "      <td>1250</td>\n",
       "      <td>2400</td>\n",
       "      <td>1899</td>\n",
       "      <td>1</td>\n",
       "      <td>A4</td>\n",
       "      <td>0</td>\n",
       "      <td>2011-12-06</td>\n",
       "      <td>3003500030</td>\n",
       "    </tr>\n",
       "    <tr>\n",
       "      <th>6143</th>\n",
       "      <td>3</td>\n",
       "      <td>CARROLL GARDENS</td>\n",
       "      <td>01  ONE FAMILY HOMES</td>\n",
       "      <td>1</td>\n",
       "      <td>429</td>\n",
       "      <td>66</td>\n",
       "      <td></td>\n",
       "      <td>A5</td>\n",
       "      <td>375 UNION STREET</td>\n",
       "      <td></td>\n",
       "      <td>...</td>\n",
       "      <td>0</td>\n",
       "      <td>1</td>\n",
       "      <td>1980</td>\n",
       "      <td>4164</td>\n",
       "      <td>1920</td>\n",
       "      <td>1</td>\n",
       "      <td>A5</td>\n",
       "      <td>0</td>\n",
       "      <td>2011-10-21</td>\n",
       "      <td>3004290066</td>\n",
       "    </tr>\n",
       "    <tr>\n",
       "      <th>6144</th>\n",
       "      <td>3</td>\n",
       "      <td>CARROLL GARDENS</td>\n",
       "      <td>01  ONE FAMILY HOMES</td>\n",
       "      <td>1</td>\n",
       "      <td>478</td>\n",
       "      <td>27</td>\n",
       "      <td></td>\n",
       "      <td>S1</td>\n",
       "      <td>484 SMITH STREET</td>\n",
       "      <td></td>\n",
       "      <td>...</td>\n",
       "      <td>1</td>\n",
       "      <td>2</td>\n",
       "      <td>1500</td>\n",
       "      <td>1160</td>\n",
       "      <td>1931</td>\n",
       "      <td>1</td>\n",
       "      <td>S1</td>\n",
       "      <td>0</td>\n",
       "      <td>2011-10-05</td>\n",
       "      <td>3004780027</td>\n",
       "    </tr>\n",
       "    <tr>\n",
       "      <th>6145</th>\n",
       "      <td>3</td>\n",
       "      <td>CARROLL GARDENS</td>\n",
       "      <td>02  TWO FAMILY HOMES</td>\n",
       "      <td>1</td>\n",
       "      <td>344</td>\n",
       "      <td>32</td>\n",
       "      <td></td>\n",
       "      <td>B9</td>\n",
       "      <td>408A CLINTON STREET</td>\n",
       "      <td></td>\n",
       "      <td>...</td>\n",
       "      <td>0</td>\n",
       "      <td>2</td>\n",
       "      <td>1361</td>\n",
       "      <td>3360</td>\n",
       "      <td>1899</td>\n",
       "      <td>1</td>\n",
       "      <td>B9</td>\n",
       "      <td>1600600</td>\n",
       "      <td>2011-06-30</td>\n",
       "      <td>3003440032</td>\n",
       "    </tr>\n",
       "    <tr>\n",
       "      <th>6146</th>\n",
       "      <td>3</td>\n",
       "      <td>CARROLL GARDENS</td>\n",
       "      <td>02  TWO FAMILY HOMES</td>\n",
       "      <td>1</td>\n",
       "      <td>373</td>\n",
       "      <td>28</td>\n",
       "      <td></td>\n",
       "      <td>B1</td>\n",
       "      <td>42 4TH PLACE</td>\n",
       "      <td>3</td>\n",
       "      <td>...</td>\n",
       "      <td>0</td>\n",
       "      <td>2</td>\n",
       "      <td>2100</td>\n",
       "      <td>3528</td>\n",
       "      <td>1899</td>\n",
       "      <td>1</td>\n",
       "      <td>B1</td>\n",
       "      <td>1699999</td>\n",
       "      <td>2011-07-27</td>\n",
       "      <td>3003730028</td>\n",
       "    </tr>\n",
       "    <tr>\n",
       "      <th>6147</th>\n",
       "      <td>3</td>\n",
       "      <td>CARROLL GARDENS</td>\n",
       "      <td>02  TWO FAMILY HOMES</td>\n",
       "      <td>1</td>\n",
       "      <td>377</td>\n",
       "      <td>50</td>\n",
       "      <td></td>\n",
       "      <td>B9</td>\n",
       "      <td>149 NELSON STREET</td>\n",
       "      <td></td>\n",
       "      <td>...</td>\n",
       "      <td>0</td>\n",
       "      <td>2</td>\n",
       "      <td>1650</td>\n",
       "      <td>2112</td>\n",
       "      <td>1901</td>\n",
       "      <td>1</td>\n",
       "      <td>B9</td>\n",
       "      <td>525000</td>\n",
       "      <td>2011-09-09</td>\n",
       "      <td>3003770050</td>\n",
       "    </tr>\n",
       "    <tr>\n",
       "      <th>6148</th>\n",
       "      <td>3</td>\n",
       "      <td>CARROLL GARDENS</td>\n",
       "      <td>02  TWO FAMILY HOMES</td>\n",
       "      <td>1</td>\n",
       "      <td>379</td>\n",
       "      <td>35</td>\n",
       "      <td></td>\n",
       "      <td>S2</td>\n",
       "      <td>520 COURT STREET</td>\n",
       "      <td></td>\n",
       "      <td>...</td>\n",
       "      <td>1</td>\n",
       "      <td>3</td>\n",
       "      <td>1600</td>\n",
       "      <td>3000</td>\n",
       "      <td>1931</td>\n",
       "      <td>1</td>\n",
       "      <td>S2</td>\n",
       "      <td>0</td>\n",
       "      <td>2011-06-04</td>\n",
       "      <td>3003790035</td>\n",
       "    </tr>\n",
       "    <tr>\n",
       "      <th>6149</th>\n",
       "      <td>3</td>\n",
       "      <td>CARROLL GARDENS</td>\n",
       "      <td>02  TWO FAMILY HOMES</td>\n",
       "      <td>1</td>\n",
       "      <td>379</td>\n",
       "      <td>35</td>\n",
       "      <td></td>\n",
       "      <td>S2</td>\n",
       "      <td>520 COURT STREET</td>\n",
       "      <td></td>\n",
       "      <td>...</td>\n",
       "      <td>1</td>\n",
       "      <td>3</td>\n",
       "      <td>1600</td>\n",
       "      <td>3000</td>\n",
       "      <td>1931</td>\n",
       "      <td>1</td>\n",
       "      <td>S2</td>\n",
       "      <td>0</td>\n",
       "      <td>2011-04-02</td>\n",
       "      <td>3003790035</td>\n",
       "    </tr>\n",
       "    <tr>\n",
       "      <th>6150</th>\n",
       "      <td>3</td>\n",
       "      <td>CARROLL GARDENS</td>\n",
       "      <td>02  TWO FAMILY HOMES</td>\n",
       "      <td>1</td>\n",
       "      <td>381</td>\n",
       "      <td>21</td>\n",
       "      <td></td>\n",
       "      <td>B9</td>\n",
       "      <td>158 HUNTINGTON STREET</td>\n",
       "      <td></td>\n",
       "      <td>...</td>\n",
       "      <td>0</td>\n",
       "      <td>2</td>\n",
       "      <td>1667</td>\n",
       "      <td>1776</td>\n",
       "      <td>1901</td>\n",
       "      <td>1</td>\n",
       "      <td>B9</td>\n",
       "      <td>0</td>\n",
       "      <td>2011-12-08</td>\n",
       "      <td>3003810021</td>\n",
       "    </tr>\n",
       "  </tbody>\n",
       "</table>\n",
       "<p>10 rows × 22 columns</p>\n",
       "</div>"
      ],
      "text/plain": [
       "      BOROUGH               NEIGHBORHOOD  \\\n",
       "6140        3  CARROLL GARDENS             \n",
       "6141        3  CARROLL GARDENS             \n",
       "6143        3  CARROLL GARDENS             \n",
       "6144        3  CARROLL GARDENS             \n",
       "6145        3  CARROLL GARDENS             \n",
       "6146        3  CARROLL GARDENS             \n",
       "6147        3  CARROLL GARDENS             \n",
       "6148        3  CARROLL GARDENS             \n",
       "6149        3  CARROLL GARDENS             \n",
       "6150        3  CARROLL GARDENS             \n",
       "\n",
       "                           BUILDING CLASS CATEGORY TAX CLASS AT PRESENT  \\\n",
       "6140  01  ONE FAMILY HOMES                                            1   \n",
       "6141  01  ONE FAMILY HOMES                                            1   \n",
       "6143  01  ONE FAMILY HOMES                                            1   \n",
       "6144  01  ONE FAMILY HOMES                                            1   \n",
       "6145  02  TWO FAMILY HOMES                                            1   \n",
       "6146  02  TWO FAMILY HOMES                                            1   \n",
       "6147  02  TWO FAMILY HOMES                                            1   \n",
       "6148  02  TWO FAMILY HOMES                                            1   \n",
       "6149  02  TWO FAMILY HOMES                                            1   \n",
       "6150  02  TWO FAMILY HOMES                                            1   \n",
       "\n",
       "      BLOCK  LOT EASE-MENT BUILDING CLASS AT PRESENT  \\\n",
       "6140    350   29                                  A4   \n",
       "6141    350   30                                  A4   \n",
       "6143    429   66                                  A5   \n",
       "6144    478   27                                  S1   \n",
       "6145    344   32                                  B9   \n",
       "6146    373   28                                  B1   \n",
       "6147    377   50                                  B9   \n",
       "6148    379   35                                  S2   \n",
       "6149    379   35                                  S2   \n",
       "6150    381   21                                  B9   \n",
       "\n",
       "                                        ADDRESS APARTMENT NUMBER     ...      \\\n",
       "6140  428 CLINTON STREET                                             ...       \n",
       "6141  428A CLINTON STREET                                            ...       \n",
       "6143  375 UNION STREET                                               ...       \n",
       "6144  484 SMITH STREET                                               ...       \n",
       "6145  408A CLINTON STREET                                            ...       \n",
       "6146  42 4TH PLACE                                             3     ...       \n",
       "6147  149 NELSON STREET                                              ...       \n",
       "6148  520 COURT STREET                                               ...       \n",
       "6149  520 COURT STREET                                               ...       \n",
       "6150  158 HUNTINGTON STREET                                          ...       \n",
       "\n",
       "      COMMERCIAL UNITS  TOTAL UNITS  LAND SQUARE FEET  GROSS SQUARE FEET  \\\n",
       "6140                 0            1              1250               2400   \n",
       "6141                 0            1              1250               2400   \n",
       "6143                 0            1              1980               4164   \n",
       "6144                 1            2              1500               1160   \n",
       "6145                 0            2              1361               3360   \n",
       "6146                 0            2              2100               3528   \n",
       "6147                 0            2              1650               2112   \n",
       "6148                 1            3              1600               3000   \n",
       "6149                 1            3              1600               3000   \n",
       "6150                 0            2              1667               1776   \n",
       "\n",
       "      YEAR BUILT  TAX CLASS AT TIME OF SALE  BUILDING CLASS AT TIME OF SALE  \\\n",
       "6140        1899                          1                              A4   \n",
       "6141        1899                          1                              A4   \n",
       "6143        1920                          1                              A5   \n",
       "6144        1931                          1                              S1   \n",
       "6145        1899                          1                              B9   \n",
       "6146        1899                          1                              B1   \n",
       "6147        1901                          1                              B9   \n",
       "6148        1931                          1                              S2   \n",
       "6149        1931                          1                              S2   \n",
       "6150        1901                          1                              B9   \n",
       "\n",
       "      SALE PRICE   SALE DATE         BBL  \n",
       "6140           0  2011-12-08  3003500029  \n",
       "6141           0  2011-12-06  3003500030  \n",
       "6143           0  2011-10-21  3004290066  \n",
       "6144           0  2011-10-05  3004780027  \n",
       "6145     1600600  2011-06-30  3003440032  \n",
       "6146     1699999  2011-07-27  3003730028  \n",
       "6147      525000  2011-09-09  3003770050  \n",
       "6148           0  2011-06-04  3003790035  \n",
       "6149           0  2011-04-02  3003790035  \n",
       "6150           0  2011-12-08  3003810021  \n",
       "\n",
       "[10 rows x 22 columns]"
      ]
     },
     "execution_count": 208,
     "metadata": {},
     "output_type": "execute_result"
    }
   ],
   "source": [
    "study_area_prices = bk_price[bk_price.apply(lambda parcel: parcel['BBL'] in pluto['bbl'].values, axis=1)]\n",
    "study_area_prices.head(10)"
   ]
  },
  {
   "cell_type": "markdown",
   "metadata": {},
   "source": [
    "## Explantory Analysis on property sale price in study area "
   ]
  },
  {
   "cell_type": "code",
   "execution_count": 209,
   "metadata": {},
   "outputs": [
    {
     "data": {
      "text/plain": [
       "Index(['BOROUGH', 'NEIGHBORHOOD', 'BUILDING CLASS CATEGORY',\n",
       "       'TAX CLASS AT PRESENT', 'BLOCK', 'LOT', 'EASE-MENT',\n",
       "       'BUILDING CLASS AT PRESENT', 'ADDRESS', 'APARTMENT NUMBER', 'ZIP CODE',\n",
       "       'RESIDENTIAL UNITS', 'COMMERCIAL UNITS', 'TOTAL UNITS',\n",
       "       'LAND SQUARE FEET', 'GROSS SQUARE FEET', 'YEAR BUILT',\n",
       "       'TAX CLASS AT TIME OF SALE', 'BUILDING CLASS AT TIME OF SALE',\n",
       "       'SALE PRICE', 'SALE DATE', 'BBL'],\n",
       "      dtype='object')"
      ]
     },
     "execution_count": 209,
     "metadata": {},
     "output_type": "execute_result"
    }
   ],
   "source": [
    "study_area_prices.columns"
   ]
  },
  {
   "cell_type": "code",
   "execution_count": 210,
   "metadata": {},
   "outputs": [
    {
     "data": {
      "text/html": [
       "<div>\n",
       "<table border=\"1\" class=\"dataframe\">\n",
       "  <thead>\n",
       "    <tr style=\"text-align: right;\">\n",
       "      <th></th>\n",
       "      <th>BOROUGH</th>\n",
       "      <th>BLOCK</th>\n",
       "      <th>LOT</th>\n",
       "      <th>ZIP CODE</th>\n",
       "      <th>RESIDENTIAL UNITS</th>\n",
       "      <th>COMMERCIAL UNITS</th>\n",
       "      <th>TOTAL UNITS</th>\n",
       "      <th>LAND SQUARE FEET</th>\n",
       "      <th>GROSS SQUARE FEET</th>\n",
       "      <th>YEAR BUILT</th>\n",
       "      <th>TAX CLASS AT TIME OF SALE</th>\n",
       "      <th>SALE PRICE</th>\n",
       "      <th>BBL</th>\n",
       "    </tr>\n",
       "  </thead>\n",
       "  <tbody>\n",
       "    <tr>\n",
       "      <th>count</th>\n",
       "      <td>1854.0</td>\n",
       "      <td>1854.000000</td>\n",
       "      <td>1854.000000</td>\n",
       "      <td>1854.000000</td>\n",
       "      <td>1854.000000</td>\n",
       "      <td>1854.000000</td>\n",
       "      <td>1854.000000</td>\n",
       "      <td>1854.000000</td>\n",
       "      <td>1854.000000</td>\n",
       "      <td>1854.000000</td>\n",
       "      <td>1854.000000</td>\n",
       "      <td>1.854000e+03</td>\n",
       "      <td>1.854000e+03</td>\n",
       "    </tr>\n",
       "    <tr>\n",
       "      <th>mean</th>\n",
       "      <td>3.0</td>\n",
       "      <td>405.282632</td>\n",
       "      <td>30.168824</td>\n",
       "      <td>11225.756742</td>\n",
       "      <td>2.286947</td>\n",
       "      <td>0.288026</td>\n",
       "      <td>2.572276</td>\n",
       "      <td>4287.525890</td>\n",
       "      <td>4494.666127</td>\n",
       "      <td>1773.008630</td>\n",
       "      <td>1.889428</td>\n",
       "      <td>1.219644e+06</td>\n",
       "      <td>3.004053e+09</td>\n",
       "    </tr>\n",
       "    <tr>\n",
       "      <th>std</th>\n",
       "      <td>0.0</td>\n",
       "      <td>92.198459</td>\n",
       "      <td>23.697001</td>\n",
       "      <td>11.225388</td>\n",
       "      <td>6.754397</td>\n",
       "      <td>0.988382</td>\n",
       "      <td>6.825313</td>\n",
       "      <td>17972.821027</td>\n",
       "      <td>17477.252174</td>\n",
       "      <td>507.582147</td>\n",
       "      <td>1.068191</td>\n",
       "      <td>3.634179e+06</td>\n",
       "      <td>9.219850e+05</td>\n",
       "    </tr>\n",
       "    <tr>\n",
       "      <th>min</th>\n",
       "      <td>3.0</td>\n",
       "      <td>282.000000</td>\n",
       "      <td>1.000000</td>\n",
       "      <td>11201.000000</td>\n",
       "      <td>0.000000</td>\n",
       "      <td>0.000000</td>\n",
       "      <td>0.000000</td>\n",
       "      <td>0.000000</td>\n",
       "      <td>0.000000</td>\n",
       "      <td>0.000000</td>\n",
       "      <td>1.000000</td>\n",
       "      <td>0.000000e+00</td>\n",
       "      <td>3.002820e+09</td>\n",
       "    </tr>\n",
       "    <tr>\n",
       "      <th>25%</th>\n",
       "      <td>3.0</td>\n",
       "      <td>329.000000</td>\n",
       "      <td>13.000000</td>\n",
       "      <td>11231.000000</td>\n",
       "      <td>0.000000</td>\n",
       "      <td>0.000000</td>\n",
       "      <td>1.000000</td>\n",
       "      <td>1320.000000</td>\n",
       "      <td>1056.000000</td>\n",
       "      <td>1899.000000</td>\n",
       "      <td>1.000000</td>\n",
       "      <td>0.000000e+00</td>\n",
       "      <td>3.003290e+09</td>\n",
       "    </tr>\n",
       "    <tr>\n",
       "      <th>50%</th>\n",
       "      <td>3.0</td>\n",
       "      <td>373.000000</td>\n",
       "      <td>27.000000</td>\n",
       "      <td>11231.000000</td>\n",
       "      <td>2.000000</td>\n",
       "      <td>0.000000</td>\n",
       "      <td>2.000000</td>\n",
       "      <td>1800.000000</td>\n",
       "      <td>2525.500000</td>\n",
       "      <td>1901.000000</td>\n",
       "      <td>2.000000</td>\n",
       "      <td>4.100000e+05</td>\n",
       "      <td>3.003730e+09</td>\n",
       "    </tr>\n",
       "    <tr>\n",
       "      <th>75%</th>\n",
       "      <td>3.0</td>\n",
       "      <td>463.000000</td>\n",
       "      <td>43.000000</td>\n",
       "      <td>11231.000000</td>\n",
       "      <td>3.000000</td>\n",
       "      <td>0.000000</td>\n",
       "      <td>3.000000</td>\n",
       "      <td>2250.000000</td>\n",
       "      <td>3600.000000</td>\n",
       "      <td>1930.000000</td>\n",
       "      <td>2.000000</td>\n",
       "      <td>1.500000e+06</td>\n",
       "      <td>3.004630e+09</td>\n",
       "    </tr>\n",
       "    <tr>\n",
       "      <th>max</th>\n",
       "      <td>3.0</td>\n",
       "      <td>624.000000</td>\n",
       "      <td>250.000000</td>\n",
       "      <td>11231.000000</td>\n",
       "      <td>268.000000</td>\n",
       "      <td>20.000000</td>\n",
       "      <td>270.000000</td>\n",
       "      <td>270600.000000</td>\n",
       "      <td>354047.000000</td>\n",
       "      <td>2015.000000</td>\n",
       "      <td>4.000000</td>\n",
       "      <td>7.500000e+07</td>\n",
       "      <td>3.006240e+09</td>\n",
       "    </tr>\n",
       "  </tbody>\n",
       "</table>\n",
       "</div>"
      ],
      "text/plain": [
       "       BOROUGH        BLOCK          LOT      ZIP CODE  RESIDENTIAL UNITS  \\\n",
       "count   1854.0  1854.000000  1854.000000   1854.000000        1854.000000   \n",
       "mean       3.0   405.282632    30.168824  11225.756742           2.286947   \n",
       "std        0.0    92.198459    23.697001     11.225388           6.754397   \n",
       "min        3.0   282.000000     1.000000  11201.000000           0.000000   \n",
       "25%        3.0   329.000000    13.000000  11231.000000           0.000000   \n",
       "50%        3.0   373.000000    27.000000  11231.000000           2.000000   \n",
       "75%        3.0   463.000000    43.000000  11231.000000           3.000000   \n",
       "max        3.0   624.000000   250.000000  11231.000000         268.000000   \n",
       "\n",
       "       COMMERCIAL UNITS  TOTAL UNITS  LAND SQUARE FEET  GROSS SQUARE FEET  \\\n",
       "count       1854.000000  1854.000000       1854.000000        1854.000000   \n",
       "mean           0.288026     2.572276       4287.525890        4494.666127   \n",
       "std            0.988382     6.825313      17972.821027       17477.252174   \n",
       "min            0.000000     0.000000          0.000000           0.000000   \n",
       "25%            0.000000     1.000000       1320.000000        1056.000000   \n",
       "50%            0.000000     2.000000       1800.000000        2525.500000   \n",
       "75%            0.000000     3.000000       2250.000000        3600.000000   \n",
       "max           20.000000   270.000000     270600.000000      354047.000000   \n",
       "\n",
       "        YEAR BUILT  TAX CLASS AT TIME OF SALE    SALE PRICE           BBL  \n",
       "count  1854.000000                1854.000000  1.854000e+03  1.854000e+03  \n",
       "mean   1773.008630                   1.889428  1.219644e+06  3.004053e+09  \n",
       "std     507.582147                   1.068191  3.634179e+06  9.219850e+05  \n",
       "min       0.000000                   1.000000  0.000000e+00  3.002820e+09  \n",
       "25%    1899.000000                   1.000000  0.000000e+00  3.003290e+09  \n",
       "50%    1901.000000                   2.000000  4.100000e+05  3.003730e+09  \n",
       "75%    1930.000000                   2.000000  1.500000e+06  3.004630e+09  \n",
       "max    2015.000000                   4.000000  7.500000e+07  3.006240e+09  "
      ]
     },
     "execution_count": 210,
     "metadata": {},
     "output_type": "execute_result"
    }
   ],
   "source": [
    "study_area_prices.describe()"
   ]
  },
  {
   "cell_type": "code",
   "execution_count": 211,
   "metadata": {},
   "outputs": [],
   "source": [
    "study_area_prices.columns = study_area_prices.columns.str.strip().str.lower().str.replace(' ', '_').str.replace('(', '').str.replace(')', '')"
   ]
  },
  {
   "cell_type": "code",
   "execution_count": 212,
   "metadata": {},
   "outputs": [
    {
     "data": {
      "text/plain": [
       "Index(['borough', 'neighborhood', 'building_class_category',\n",
       "       'tax_class_at_present', 'block', 'lot', 'ease-ment',\n",
       "       'building_class_at_present', 'address', 'apartment_number', 'zip_code',\n",
       "       'residential_units', 'commercial_units', 'total_units',\n",
       "       'land_square_feet', 'gross_square_feet', 'year_built',\n",
       "       'tax_class_at_time_of_sale', 'building_class_at_time_of_sale',\n",
       "       'sale_price', 'sale_date', 'bbl'],\n",
       "      dtype='object')"
      ]
     },
     "execution_count": 212,
     "metadata": {},
     "output_type": "execute_result"
    }
   ],
   "source": [
    "study_area_prices.columns"
   ]
  },
  {
   "cell_type": "markdown",
   "metadata": {},
   "source": [
    "## Start With Some Exploratory Data Analysis¶"
   ]
  },
  {
   "cell_type": "code",
   "execution_count": 213,
   "metadata": {},
   "outputs": [
    {
     "data": {
      "text/plain": [
       "6140    False\n",
       "6141    False\n",
       "6143    False\n",
       "6144    False\n",
       "6145     True\n",
       "dtype: bool"
      ]
     },
     "execution_count": 213,
     "metadata": {},
     "output_type": "execute_result"
    }
   ],
   "source": [
    "#as we see sale price and house size could be as low as zero. Exclude missing/unrealistic values by defining a reliable data index\n",
    "ind=(study_area_prices.sale_price>50000)&(study_area_prices.gross_square_feet>300)&(study_area_prices.land_square_feet>300)&(study_area_prices.residential_units>0)\n",
    "ind.head()"
   ]
  },
  {
   "cell_type": "code",
   "execution_count": 255,
   "metadata": {},
   "outputs": [],
   "source": [
    "#filter the data\n",
    "study_area_prices_new=study_area_prices.loc[ind]\n"
   ]
  },
  {
   "cell_type": "code",
   "execution_count": 225,
   "metadata": {},
   "outputs": [
    {
     "data": {
      "image/png": "[encoded data removed]",
      "text/plain": [
       "<matplotlib.figure.Figure at 0x7f47010f9be0>"
      ]
     },
     "metadata": {},
     "output_type": "display_data"
    }
   ],
   "source": [
    "# Exploration on each features \n",
    "study_area_prices_new.hist(bins=50, figsize=(20,15))\n",
    "plt.savefig(\"attribute_histogram_plots\")\n",
    "plt.show()"
   ]
  },
  {
   "cell_type": "code",
   "execution_count": 226,
   "metadata": {},
   "outputs": [
    {
     "data": {
      "text/plain": [
       "sale_price                   1.000000\n",
       "gross_square_feet            0.919044\n",
       "land_square_feet             0.896975\n",
       "residential_units            0.887468\n",
       "total_units                  0.885995\n",
       "year_built                   0.225593\n",
       "commercial_units             0.129561\n",
       "tax_class_at_time_of_sale    0.094136\n",
       "lot                         -0.035252\n",
       "zip_code                    -0.106827\n",
       "block                       -0.148107\n",
       "bbl                         -0.148108\n",
       "borough                           NaN\n",
       "Name: sale_price, dtype: float64"
      ]
     },
     "execution_count": 226,
     "metadata": {},
     "output_type": "execute_result"
    }
   ],
   "source": [
    "corr_matrix = study_area_prices_new.corr()\n",
    "corr_matrix[\"sale_price\"].sort_values(ascending=False)"
   ]
  },
  {
   "cell_type": "markdown",
   "metadata": {},
   "source": [
    "## gross_square_feet has highest correlation to sale_price"
   ]
  },
  {
   "cell_type": "code",
   "execution_count": 229,
   "metadata": {},
   "outputs": [
    {
     "data": {
      "text/plain": [
       "<matplotlib.axes._subplots.AxesSubplot at 0x7f4701268400>"
      ]
     },
     "execution_count": 229,
     "metadata": {},
     "output_type": "execute_result"
    },
    {
     "data": {
      "image/png": "[encoded data removed]",
      "text/plain": [
       "<matplotlib.figure.Figure at 0x7f4701506898>"
      ]
     },
     "metadata": {},
     "output_type": "display_data"
    }
   ],
   "source": [
    "study_area_prices_new.plot(x='gross_square_feet',y='sale_price',kind='scatter',logx=True,logy=True)"
   ]
  },
  {
   "cell_type": "code",
   "execution_count": 230,
   "metadata": {},
   "outputs": [
    {
     "name": "stdout",
     "output_type": "stream",
     "text": [
      "                            OLS Regression Results                            \n",
      "==============================================================================\n",
      "Dep. Variable:             sale_price   R-squared:                       0.824\n",
      "Model:                            OLS   Adj. R-squared:                  0.823\n",
      "Method:                 Least Squares   F-statistic:                     2884.\n",
      "Date:                Tue, 23 Apr 2019   Prob (F-statistic):          9.02e-235\n",
      "Time:                        19:57:43   Log-Likelihood:                -9756.9\n",
      "No. Observations:                 618   AIC:                         1.952e+04\n",
      "Df Residuals:                     617   BIC:                         1.952e+04\n",
      "Df Model:                           1                                         \n",
      "Covariance Type:            nonrobust                                         \n",
      "=====================================================================================\n",
      "                        coef    std err          t      P>|t|      [95.0% Conf. Int.]\n",
      "-------------------------------------------------------------------------------------\n",
      "gross_square_feet   335.0973      6.239     53.706      0.000       322.844   347.350\n",
      "==============================================================================\n",
      "Omnibus:                      206.061   Durbin-Watson:                   0.833\n",
      "Prob(Omnibus):                  0.000   Jarque-Bera (JB):             7077.650\n",
      "Skew:                           0.782   Prob(JB):                         0.00\n",
      "Kurtosis:                      19.505   Cond. No.                         1.00\n",
      "==============================================================================\n",
      "\n",
      "Warnings:\n",
      "[1] Standard Errors assume that the covariance matrix of the errors is correctly specified.\n"
     ]
    }
   ],
   "source": [
    "lm = smf.ols(formula='sale_price~gross_square_feet-1', data = study_area_prices_new).fit()\n",
    "## \"-1\" means no intercept \n",
    "print(lm.summary())"
   ]
  },
  {
   "cell_type": "code",
   "execution_count": 234,
   "metadata": {},
   "outputs": [],
   "source": [
    "predicted_price = lm.predict()\n",
    "study_area_prices_new.loc[:, 'predicted_price'] = lm.predict()"
   ]
  },
  {
   "cell_type": "code",
   "execution_count": 235,
   "metadata": {},
   "outputs": [
    {
     "data": {
      "text/html": [
       "<div>\n",
       "<table border=\"1\" class=\"dataframe\">\n",
       "  <thead>\n",
       "    <tr style=\"text-align: right;\">\n",
       "      <th></th>\n",
       "      <th>sale_price</th>\n",
       "      <th>predicted_price</th>\n",
       "    </tr>\n",
       "  </thead>\n",
       "  <tbody>\n",
       "    <tr>\n",
       "      <th>6145</th>\n",
       "      <td>1600600</td>\n",
       "      <td>1.125927e+06</td>\n",
       "    </tr>\n",
       "    <tr>\n",
       "      <th>6146</th>\n",
       "      <td>1699999</td>\n",
       "      <td>1.182223e+06</td>\n",
       "    </tr>\n",
       "    <tr>\n",
       "      <th>6147</th>\n",
       "      <td>525000</td>\n",
       "      <td>7.077255e+05</td>\n",
       "    </tr>\n",
       "    <tr>\n",
       "      <th>6151</th>\n",
       "      <td>312000</td>\n",
       "      <td>5.951328e+05</td>\n",
       "    </tr>\n",
       "    <tr>\n",
       "      <th>6152</th>\n",
       "      <td>1693500</td>\n",
       "      <td>8.233341e+05</td>\n",
       "    </tr>\n",
       "  </tbody>\n",
       "</table>\n",
       "</div>"
      ],
      "text/plain": [
       "      sale_price  predicted_price\n",
       "6145     1600600     1.125927e+06\n",
       "6146     1699999     1.182223e+06\n",
       "6147      525000     7.077255e+05\n",
       "6151      312000     5.951328e+05\n",
       "6152     1693500     8.233341e+05"
      ]
     },
     "execution_count": 235,
     "metadata": {},
     "output_type": "execute_result"
    }
   ],
   "source": [
    "study_area_prices_new[['sale_price','predicted_price']].head()"
   ]
  },
  {
   "cell_type": "code",
   "execution_count": 239,
   "metadata": {},
   "outputs": [
    {
     "data": {
      "image/png": "[encoded data removed]",
      "text/plain": [
       "<matplotlib.figure.Figure at 0x7f4701d64240>"
      ]
     },
     "metadata": {},
     "output_type": "display_data"
    }
   ],
   "source": [
    "study_area_prices_new.plot(x='gross_square_feet',y='sale_price',kind='scatter',logx=True,logy=True)\n",
    "plt.plot(study_area_prices_new.gross_square_feet,study_area_prices_new.predicted_price,'r-')\n",
    "plt.show()"
   ]
  },
  {
   "cell_type": "markdown",
   "metadata": {},
   "source": [
    "## Build and train a linear regression model "
   ]
  },
  {
   "cell_type": "code",
   "execution_count": 258,
   "metadata": {},
   "outputs": [
    {
     "data": {
      "text/html": [
       "<div>\n",
       "<table border=\"1\" class=\"dataframe\">\n",
       "  <thead>\n",
       "    <tr style=\"text-align: right;\">\n",
       "      <th></th>\n",
       "      <th>gross_square_feet</th>\n",
       "      <th>land_square_feet</th>\n",
       "      <th>residential_units</th>\n",
       "      <th>total_units</th>\n",
       "      <th>year_built</th>\n",
       "      <th>commercial_units</th>\n",
       "    </tr>\n",
       "  </thead>\n",
       "  <tbody>\n",
       "    <tr>\n",
       "      <th>6145</th>\n",
       "      <td>3360</td>\n",
       "      <td>1361</td>\n",
       "      <td>2</td>\n",
       "      <td>2</td>\n",
       "      <td>1899</td>\n",
       "      <td>0</td>\n",
       "    </tr>\n",
       "    <tr>\n",
       "      <th>6146</th>\n",
       "      <td>3528</td>\n",
       "      <td>2100</td>\n",
       "      <td>2</td>\n",
       "      <td>2</td>\n",
       "      <td>1899</td>\n",
       "      <td>0</td>\n",
       "    </tr>\n",
       "    <tr>\n",
       "      <th>6147</th>\n",
       "      <td>2112</td>\n",
       "      <td>1650</td>\n",
       "      <td>2</td>\n",
       "      <td>2</td>\n",
       "      <td>1901</td>\n",
       "      <td>0</td>\n",
       "    </tr>\n",
       "    <tr>\n",
       "      <th>6151</th>\n",
       "      <td>1776</td>\n",
       "      <td>1667</td>\n",
       "      <td>2</td>\n",
       "      <td>2</td>\n",
       "      <td>1901</td>\n",
       "      <td>0</td>\n",
       "    </tr>\n",
       "    <tr>\n",
       "      <th>6152</th>\n",
       "      <td>2457</td>\n",
       "      <td>1560</td>\n",
       "      <td>2</td>\n",
       "      <td>2</td>\n",
       "      <td>1931</td>\n",
       "      <td>0</td>\n",
       "    </tr>\n",
       "  </tbody>\n",
       "</table>\n",
       "</div>"
      ],
      "text/plain": [
       "      gross_square_feet  land_square_feet  residential_units  total_units  \\\n",
       "6145               3360              1361                  2            2   \n",
       "6146               3528              2100                  2            2   \n",
       "6147               2112              1650                  2            2   \n",
       "6151               1776              1667                  2            2   \n",
       "6152               2457              1560                  2            2   \n",
       "\n",
       "      year_built  commercial_units  \n",
       "6145        1899                 0  \n",
       "6146        1899                 0  \n",
       "6147        1901                 0  \n",
       "6151        1901                 0  \n",
       "6152        1931                 0  "
      ]
     },
     "execution_count": 258,
     "metadata": {},
     "output_type": "execute_result"
    }
   ],
   "source": [
    "X = study_area_prices_new[['gross_square_feet', 'land_square_feet', 'residential_units', 'total_units', 'year_built', 'commercial_units']]\n",
    "Y = study_area_prices_new['sale_price']\n",
    "\n",
    "X.head()\n"
   ]
  },
  {
   "cell_type": "code",
   "execution_count": 259,
   "metadata": {},
   "outputs": [
    {
     "data": {
      "text/plain": [
       "LinearRegression(copy_X=True, fit_intercept=True, n_jobs=1, normalize=False)"
      ]
     },
     "execution_count": 259,
     "metadata": {},
     "output_type": "execute_result"
    }
   ],
   "source": [
    "from sklearn.cross_validation import train_test_split\n",
    "X_train, X_test, y_train, y_test = train_test_split(X, Y, test_size=0.3, random_state=999)\n",
    "\n",
    "from sklearn.linear_model import LinearRegression\n",
    "regressor = LinearRegression()\n",
    "regressor.fit(X_train, y_train)"
   ]
  },
  {
   "cell_type": "code",
   "execution_count": 244,
   "metadata": {},
   "outputs": [
    {
     "name": "stdout",
     "output_type": "stream",
     "text": [
      "Linear Regression R squared\": 0.8673\n"
     ]
    }
   ],
   "source": [
    "# calculate R square \n",
    "\n",
    "y_pred = regressor.predict(X_test)\n",
    "print('Linear Regression R squared\": %.4f' % regressor.score(X_test, y_test))"
   ]
  },
  {
   "cell_type": "markdown",
   "metadata": {},
   "source": [
    "### So, in linear regression model, 86.73% of the variability in Y can be explained using X."
   ]
  },
  {
   "cell_type": "code",
   "execution_count": 245,
   "metadata": {},
   "outputs": [
    {
     "name": "stdout",
     "output_type": "stream",
     "text": [
      "Linear Regression RMSE: 1999947.2172\n"
     ]
    }
   ],
   "source": [
    "# Calculate root-mean-square error (RMSE)\n",
    "\n",
    "from sklearn.metrics import mean_squared_error\n",
    "lin_mse = mean_squared_error(y_pred, y_test)\n",
    "lin_rmse = np.sqrt(lin_mse)\n",
    "print('Linear Regression RMSE: %.4f' % lin_rmse)"
   ]
  },
  {
   "cell_type": "markdown",
   "metadata": {},
   "source": [
    "### Our model was able to predict the value of every house in the test set within 1999947.2172 usd of the real price."
   ]
  },
  {
   "cell_type": "code",
   "execution_count": 246,
   "metadata": {},
   "outputs": [
    {
     "name": "stdout",
     "output_type": "stream",
     "text": [
      "Linear Regression MAE: 1020073.9386\n"
     ]
    }
   ],
   "source": [
    "from sklearn.metrics import mean_absolute_error\n",
    "lin_mae = mean_absolute_error(y_pred, y_test)\n",
    "print('Linear Regression MAE: %.4f' % lin_mae)"
   ]
  },
  {
   "cell_type": "markdown",
   "metadata": {},
   "source": [
    "## Build and train Random Forest "
   ]
  },
  {
   "cell_type": "code",
   "execution_count": 247,
   "metadata": {},
   "outputs": [
    {
     "data": {
      "text/plain": [
       "RandomForestRegressor(bootstrap=True, criterion='mse', max_depth=None,\n",
       "           max_features='auto', max_leaf_nodes=None, min_samples_leaf=1,\n",
       "           min_samples_split=2, min_weight_fraction_leaf=0.0,\n",
       "           n_estimators=10, n_jobs=1, oob_score=False, random_state=42,\n",
       "           verbose=0, warm_start=False)"
      ]
     },
     "execution_count": 247,
     "metadata": {},
     "output_type": "execute_result"
    }
   ],
   "source": [
    "from sklearn.ensemble import RandomForestRegressor\n",
    "forest_reg = RandomForestRegressor(random_state=42)\n",
    "forest_reg.fit(X_train, y_train)"
   ]
  },
  {
   "cell_type": "code",
   "execution_count": 248,
   "metadata": {},
   "outputs": [
    {
     "name": "stdout",
     "output_type": "stream",
     "text": [
      "Random Forest R squared\": 0.3553\n"
     ]
    }
   ],
   "source": [
    "print('Random Forest R squared\": %.4f' % forest_reg.score(X_test, y_test))"
   ]
  },
  {
   "cell_type": "code",
   "execution_count": 249,
   "metadata": {},
   "outputs": [
    {
     "name": "stdout",
     "output_type": "stream",
     "text": [
      "Random Forest RMSE: 4407628.0354\n"
     ]
    }
   ],
   "source": [
    "y_pred = forest_reg.predict(X_test)\n",
    "forest_mse = mean_squared_error(y_pred, y_test)\n",
    "forest_rmse = np.sqrt(forest_mse)\n",
    "print('Random Forest RMSE: %.4f' % forest_rmse)"
   ]
  },
  {
   "cell_type": "markdown",
   "metadata": {},
   "source": [
    "### Linear Regression model performs better than Random forest model"
   ]
  },
  {
   "cell_type": "markdown",
   "metadata": {},
   "source": [
    "## Exploratory Data Analysis on two types of housing"
   ]
  },
  {
   "cell_type": "code",
   "execution_count": 215,
   "metadata": {},
   "outputs": [],
   "source": [
    "#divide residencial type to single family housing and multi-family housing \n",
    "sfam=study_area_prices_.residential_units==1\n",
    "mfam=study_area_prices_.residential_units>1"
   ]
  },
  {
   "cell_type": "code",
   "execution_count": 216,
   "metadata": {},
   "outputs": [],
   "source": [
    "#locate data\n",
    "price_sf=study_area_prices_.loc[sfam]\n",
    "price_mf=study_area_prices_.loc[mfam]"
   ]
  },
  {
   "cell_type": "code",
   "execution_count": 219,
   "metadata": {},
   "outputs": [
    {
     "data": {
      "text/plain": [
       "13596"
      ]
     },
     "execution_count": 219,
     "metadata": {},
     "output_type": "execute_result"
    }
   ],
   "source": [
    "study_area_prices_.size"
   ]
  },
  {
   "cell_type": "code",
   "execution_count": 220,
   "metadata": {},
   "outputs": [
    {
     "data": {
      "text/plain": [
       "11572"
      ]
     },
     "execution_count": 220,
     "metadata": {},
     "output_type": "execute_result"
    }
   ],
   "source": [
    "price_mf.size"
   ]
  },
  {
   "cell_type": "code",
   "execution_count": 218,
   "metadata": {},
   "outputs": [
    {
     "data": {
      "text/plain": [
       "2024"
      ]
     },
     "execution_count": 218,
     "metadata": {},
     "output_type": "execute_result"
    }
   ],
   "source": [
    "price_sf.size"
   ]
  },
  {
   "cell_type": "code",
   "execution_count": 178,
   "metadata": {},
   "outputs": [
    {
     "data": {
      "text/html": [
       "<div>\n",
       "<table border=\"1\" class=\"dataframe\">\n",
       "  <thead>\n",
       "    <tr style=\"text-align: right;\">\n",
       "      <th></th>\n",
       "      <th>year_built</th>\n",
       "      <th>gross_square_feet</th>\n",
       "      <th>land_square_feet</th>\n",
       "      <th>sale_price</th>\n",
       "    </tr>\n",
       "  </thead>\n",
       "  <tbody>\n",
       "    <tr>\n",
       "      <th>year_built</th>\n",
       "      <td>1.000000</td>\n",
       "      <td>0.496423</td>\n",
       "      <td>0.088125</td>\n",
       "      <td>0.290406</td>\n",
       "    </tr>\n",
       "    <tr>\n",
       "      <th>gross_square_feet</th>\n",
       "      <td>0.496423</td>\n",
       "      <td>1.000000</td>\n",
       "      <td>0.486133</td>\n",
       "      <td>0.648900</td>\n",
       "    </tr>\n",
       "    <tr>\n",
       "      <th>land_square_feet</th>\n",
       "      <td>0.088125</td>\n",
       "      <td>0.486133</td>\n",
       "      <td>1.000000</td>\n",
       "      <td>0.118667</td>\n",
       "    </tr>\n",
       "    <tr>\n",
       "      <th>sale_price</th>\n",
       "      <td>0.290406</td>\n",
       "      <td>0.648900</td>\n",
       "      <td>0.118667</td>\n",
       "      <td>1.000000</td>\n",
       "    </tr>\n",
       "  </tbody>\n",
       "</table>\n",
       "</div>"
      ],
      "text/plain": [
       "                   year_built  gross_square_feet  land_square_feet  sale_price\n",
       "year_built           1.000000           0.496423          0.088125    0.290406\n",
       "gross_square_feet    0.496423           1.000000          0.486133    0.648900\n",
       "land_square_feet     0.088125           0.486133          1.000000    0.118667\n",
       "sale_price           0.290406           0.648900          0.118667    1.000000"
      ]
     },
     "execution_count": 178,
     "metadata": {},
     "output_type": "execute_result"
    }
   ],
   "source": [
    "#Single unit correlation\n",
    "price_sf[['year_built','gross_square_feet','land_square_feet','sale_price']].corr()"
   ]
  },
  {
   "cell_type": "code",
   "execution_count": 179,
   "metadata": {
    "scrolled": true
   },
   "outputs": [
    {
     "data": {
      "text/html": [
       "<div>\n",
       "<table border=\"1\" class=\"dataframe\">\n",
       "  <thead>\n",
       "    <tr style=\"text-align: right;\">\n",
       "      <th></th>\n",
       "      <th>year_built</th>\n",
       "      <th>gross_square_feet</th>\n",
       "      <th>land_square_feet</th>\n",
       "      <th>sale_price</th>\n",
       "    </tr>\n",
       "  </thead>\n",
       "  <tbody>\n",
       "    <tr>\n",
       "      <th>year_built</th>\n",
       "      <td>1.000000</td>\n",
       "      <td>0.220275</td>\n",
       "      <td>0.204630</td>\n",
       "      <td>0.237357</td>\n",
       "    </tr>\n",
       "    <tr>\n",
       "      <th>gross_square_feet</th>\n",
       "      <td>0.220275</td>\n",
       "      <td>1.000000</td>\n",
       "      <td>0.986688</td>\n",
       "      <td>0.937829</td>\n",
       "    </tr>\n",
       "    <tr>\n",
       "      <th>land_square_feet</th>\n",
       "      <td>0.204630</td>\n",
       "      <td>0.986688</td>\n",
       "      <td>1.000000</td>\n",
       "      <td>0.928311</td>\n",
       "    </tr>\n",
       "    <tr>\n",
       "      <th>sale_price</th>\n",
       "      <td>0.237357</td>\n",
       "      <td>0.937829</td>\n",
       "      <td>0.928311</td>\n",
       "      <td>1.000000</td>\n",
       "    </tr>\n",
       "  </tbody>\n",
       "</table>\n",
       "</div>"
      ],
      "text/plain": [
       "                   year_built  gross_square_feet  land_square_feet  sale_price\n",
       "year_built           1.000000           0.220275          0.204630    0.237357\n",
       "gross_square_feet    0.220275           1.000000          0.986688    0.937829\n",
       "land_square_feet     0.204630           0.986688          1.000000    0.928311\n",
       "sale_price           0.237357           0.937829          0.928311    1.000000"
      ]
     },
     "execution_count": 179,
     "metadata": {},
     "output_type": "execute_result"
    }
   ],
   "source": [
    "#multi-unit housing correlation \n",
    "price_mf[['year_built','gross_square_feet','land_square_feet','sale_price']].corr()"
   ]
  },
  {
   "cell_type": "markdown",
   "metadata": {},
   "source": [
    "#### Single family housing has strong correlation with gross_square_feet, multi-family housing has string correlation both on gross_square_feet and land_square_feet"
   ]
  },
  {
   "cell_type": "code",
   "execution_count": null,
   "metadata": {},
   "outputs": [],
   "source": []
  },
  {
   "cell_type": "markdown",
   "metadata": {},
   "source": [
    "# Housing Price trend in Red Hook"
   ]
  },
  {
   "cell_type": "markdown",
   "metadata": {},
   "source": [
    "Next Step: \n",
    "    1. Housing price trend visulization\n",
    "    2. Apply time series analysis on property price in red hook\n",
    "    3. Try other model for prediction\n",
    "    4. Use on other rezoning area(housing price) for validation"
   ]
  },
  {
   "cell_type": "code",
   "execution_count": null,
   "metadata": {},
   "outputs": [],
   "source": []
  }
 ],
 "metadata": {
  "kernelspec": {
   "display_name": "PUI2016_Python3",
   "language": "python",
   "name": "pui2016_python3"
  },
  "language_info": {
   "codemirror_mode": {
    "name": "ipython",
    "version": 3
   },
   "file_extension": ".py",
   "mimetype": "text/x-python",
   "name": "python",
   "nbconvert_exporter": "python",
   "pygments_lexer": "ipython3",
   "version": "3.5.4"
  }
 },
 "nbformat": 4,
 "nbformat_minor": 2
}
