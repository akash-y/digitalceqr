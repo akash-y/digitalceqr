{
 "cells": [
  {
   "cell_type": "code",
   "execution_count": 1,
   "metadata": {
    "collapsed": true
   },
   "outputs": [],
   "source": [
    "import pandas as pd\n",
    "\n",
    "import os"
   ]
  },
  {
   "cell_type": "code",
   "execution_count": 2,
   "metadata": {
    "collapsed": false
   },
   "outputs": [],
   "source": [
    "def rename_rolling_sales_data(path):\n",
    "    \"\"\"Renames all of the xls files from the NYC Rolling Sales Dataset to {year}_{borough}\"\"\"\n",
    "    \n",
    "    files = os.listdir(path)\n",
    "\n",
    "    for f in files:\n",
    "        full_path = path + f\n",
    "        suffix = f[-6:-4]\n",
    "        prefix = f[:5]\n",
    "\n",
    "        if prefix == 'sales':\n",
    "            if \"0\" in suffix:\n",
    "                new_path = f\"{path}20{suffix}_{borough}.xls\"\n",
    "                print(new_path)\n",
    "            else:\n",
    "                new_path = f\"{path}{f[6:]}\"\n",
    "                print(new_path)\n",
    "            os.rename(full_path, new_path)"
   ]
  },
  {
   "cell_type": "code",
   "execution_count": 3,
   "metadata": {
    "collapsed": false
   },
   "outputs": [],
   "source": [
    "path = \"data/Annualized_20Rolling_20Sales_20Update/\"\n",
    "\n",
    "rename_rolling_sales_data(path)"
   ]
  },
  {
   "cell_type": "code",
   "execution_count": 4,
   "metadata": {
    "collapsed": false
   },
   "outputs": [
    {
     "name": "stdout",
     "output_type": "stream",
     "text": [
      "2003_brooklyn.xls      2007_statenisland.xls  2009_manhattan.xls     2011_bronx.xls         2012_queens.xls        2014_brooklyn.xls      2015_statenisland.xls\r\n",
      "2004_brooklyn.xls      2008_bronx.xls         2009_queens.xls        2011_brooklyn.xls      2012_statenisland.xls  2014_manhattan.xls     glossary_rsf071607.pdf\r\n",
      "2005_brooklyn.xls      2008_brooklyn.xls      2009_statenisland.xls  2011_manhattan.xls     2013_bronx.xls         2014_queens.xls\r\n",
      "2006_brooklyn.xls      2008_manhattan.xls     2010_bronx.xls         2011_queens.xls        2013_brooklyn.xls      2014_statenisland.xls\r\n",
      "2007_bronx.xls         2008_queens.xls        2010_brooklyn.xls      2011_statenisland.xls  2013_manhattan.xls     2015_bronx.xls\r\n",
      "2007_brooklyn.xls      2008_statenisland.xls  2010_manhattan.xls     2012_bronx.xls         2013_queens.xls        2015_brooklyn.xls\r\n",
      "2007_manhattan.xls     2009_bronx.xls         2010_queens.xls        2012_brooklyn.xls      2013_statenisland.xls  2015_manhattan.xls\r\n",
      "2007_queens.xls        2009_brooklyn.xls      2010_statenisland.xls  2012_manhattan.xls     2014_bronx.xls         2015_queens.xls\r\n"
     ]
    }
   ],
   "source": [
    "!ls data/Annualized_20Rolling_20Sales_20Update/"
   ]
  },
  {
   "cell_type": "code",
   "execution_count": 19,
   "metadata": {
    "collapsed": false,
    "scrolled": false
   },
   "outputs": [
    {
     "data": {
      "text/plain": [
       "(258242, 21)"
      ]
     },
     "execution_count": 19,
     "metadata": {},
     "output_type": "execute_result"
    }
   ],
   "source": [
    "dfs_list = []\n",
    "# Used separate skiprows values since Excel files were formatted slightly differently\n",
    "for i in range(2003, 2011):\n",
    "    temp_df = pd.read_excel('{}/{}_brooklyn.xls'.format(path, i), skiprows=3)\n",
    "    temp_df.rename(columns=lambda x: x.strip(), inplace=True)\n",
    "    \n",
    "    dfs_list.append(temp_df)\n",
    "for i in range(2011, 2016):\n",
    "    temp_df = pd.read_excel('{}/{}_brooklyn.xls'.format(path, i), skiprows=4)\n",
    "    temp_df.rename(columns=lambda x: x.strip(), inplace=True)\n",
    "\n",
    "    dfs_list.append(temp_df)\n",
    "pv_df = pd.concat(dfs_list)\n",
    "pv_df.shape"
   ]
  },
  {
   "cell_type": "code",
   "execution_count": null,
   "metadata": {
    "collapsed": true
   },
   "outputs": [],
   "source": [
    "pv_df.to_csv(\"brooklyn_prices.csv\")"
   ]
  },
  {
   "cell_type": "code",
   "execution_count": 10,
   "metadata": {
    "collapsed": false
   },
   "outputs": [
    {
     "data": {
      "text/plain": [
       "258242"
      ]
     },
     "execution_count": 10,
     "metadata": {},
     "output_type": "execute_result"
    }
   ],
   "source": [
    "len(pv_df)"
   ]
  }
 ],
 "metadata": {
  "kernelspec": {
   "display_name": "python36",
   "language": "python",
   "name": "python36"
  },
  "language_info": {
   "codemirror_mode": {
    "name": "ipython",
    "version": 3
   },
   "file_extension": ".py",
   "mimetype": "text/x-python",
   "name": "python",
   "nbconvert_exporter": "python",
   "pygments_lexer": "ipython3",
   "version": "3.6.4"
  }
 },
 "nbformat": 4,
 "nbformat_minor": 0
}
