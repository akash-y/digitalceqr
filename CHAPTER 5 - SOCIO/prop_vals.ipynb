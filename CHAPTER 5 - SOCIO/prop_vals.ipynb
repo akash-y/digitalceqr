{
 "cells": [
  {
   "cell_type": "markdown",
   "metadata": {},
   "source": [
    "# Property values\n",
    "\n",
    "Just the exploratory phase for now."
   ]
  },
  {
   "cell_type": "code",
   "execution_count": 33,
   "metadata": {
    "collapsed": true
   },
   "outputs": [],
   "source": [
    "import urllib.request\n",
    "import PyPDF2\n",
    "import pandas as pd"
   ]
  },
  {
   "cell_type": "code",
   "execution_count": 2,
   "metadata": {
    "collapsed": false
   },
   "outputs": [
    {
     "name": "stdout",
     "output_type": "stream",
     "text": [
      "Archive:  rolling_sales.zip\n",
      "  inflating: data/rolling_sales/2009_bronx.xls  \n",
      "  inflating: data/rolling_sales/2009_brooklyn.xls  \n",
      "  inflating: data/rolling_sales/2009_manhattan.xls  \n",
      "  inflating: data/rolling_sales/2009_queens.xls  \n",
      "  inflating: data/rolling_sales/2009_statenisland.xls  \n",
      "  inflating: data/rolling_sales/2010_bronx.xls  \n",
      "  inflating: data/rolling_sales/2010_brooklyn.xls  \n",
      "  inflating: data/rolling_sales/2010_manhattan.xls  \n",
      "  inflating: data/rolling_sales/2010_queens.xls  \n",
      "  inflating: data/rolling_sales/2010_statenisland.xls  \n",
      "  inflating: data/rolling_sales/2011_bronx.xls  \n",
      "  inflating: data/rolling_sales/2011_brooklyn.xls  \n",
      "  inflating: data/rolling_sales/2011_manhattan.xls  \n",
      "  inflating: data/rolling_sales/2011_queens.xls  \n",
      "  inflating: data/rolling_sales/2011_statenisland.xls  \n",
      "  inflating: data/rolling_sales/2012_bronx.xls  \n",
      "  inflating: data/rolling_sales/2012_brooklyn.xls  \n",
      "  inflating: data/rolling_sales/2012_manhattan.xls  \n",
      "  inflating: data/rolling_sales/2012_queens.xls  \n",
      "  inflating: data/rolling_sales/2012_statenisland.xls  \n",
      "  inflating: data/rolling_sales/2013_bronx.xls  \n",
      "  inflating: data/rolling_sales/2013_brooklyn.xls  \n",
      "  inflating: data/rolling_sales/2013_manhattan.xls  \n",
      "  inflating: data/rolling_sales/2013_queens.xls  \n",
      "  inflating: data/rolling_sales/2013_statenisland.xls  \n",
      "  inflating: data/rolling_sales/2014_bronx.xls  \n",
      "  inflating: data/rolling_sales/2014_brooklyn.xls  \n",
      "  inflating: data/rolling_sales/2014_manhattan.xls  \n",
      "  inflating: data/rolling_sales/2014_queens.xls  \n",
      "  inflating: data/rolling_sales/2014_statenisland.xls  \n",
      "  inflating: data/rolling_sales/2015_bronx.xls  \n",
      "  inflating: data/rolling_sales/2015_brooklyn.xls  \n",
      "  inflating: data/rolling_sales/2015_manhattan.xls  \n",
      "  inflating: data/rolling_sales/2015_queens.xls  \n",
      "  inflating: data/rolling_sales/2015_statenisland.xls  \n",
      "  inflating: data/rolling_sales/glossary_rsf071607.pdf  \n",
      "  inflating: data/rolling_sales/sales_2007_bronx.xls  \n",
      "  inflating: data/rolling_sales/sales_2007_brooklyn.xls  \n",
      "  inflating: data/rolling_sales/sales_2007_manhattan.xls  \n",
      "  inflating: data/rolling_sales/sales_2007_queens.xls  \n",
      "  inflating: data/rolling_sales/sales_2007_statenisland.xls  \n",
      "  inflating: data/rolling_sales/sales_2008_bronx.xls  \n",
      "  inflating: data/rolling_sales/sales_2008_brooklyn.xls  \n",
      "  inflating: data/rolling_sales/sales_2008_manhattan.xls  \n",
      "  inflating: data/rolling_sales/sales_2008_queens.xls  \n",
      "  inflating: data/rolling_sales/sales_2008_statenisland.xls  \n",
      "  inflating: data/rolling_sales/sales_bronx_03.xls  \n",
      "  inflating: data/rolling_sales/sales_bronx_04.xls  \n",
      "  inflating: data/rolling_sales/sales_bronx_05.xls  \n",
      "  inflating: data/rolling_sales/sales_bronx_06.xls  \n",
      "  inflating: data/rolling_sales/sales_brooklyn_03.xls  \n",
      "  inflating: data/rolling_sales/sales_brooklyn_04.xls  \n",
      "  inflating: data/rolling_sales/sales_brooklyn_05.xls  \n",
      "  inflating: data/rolling_sales/sales_brooklyn_06.xls  \n",
      "  inflating: data/rolling_sales/sales_manhattan_03.xls  \n",
      "  inflating: data/rolling_sales/sales_manhattan_04.xls  \n",
      "  inflating: data/rolling_sales/sales_manhattan_05.xls  \n",
      "  inflating: data/rolling_sales/sales_manhattan_06.xls  \n",
      "  inflating: data/rolling_sales/sales_queens_03.xls  \n",
      "  inflating: data/rolling_sales/sales_queens_04.xls  \n",
      "  inflating: data/rolling_sales/sales_queens_05.xls  \n",
      "  inflating: data/rolling_sales/sales_queens_06.xls  \n",
      "  inflating: data/rolling_sales/sales_si_03.xls  \n",
      "  inflating: data/rolling_sales/sales_si_04.xls  \n",
      "  inflating: data/rolling_sales/sales_si_05.xls  \n",
      "  inflating: data/rolling_sales/sales_si_06.xls  \n"
     ]
    }
   ],
   "source": [
    "url = 'https://data.cityofnewyork.us/api/views/uzf5-f8n2/files/8d9ba1d7-9b7a-43de-b741-bd9a35839e03?filename=Annualized%20Rolling%20Sales%20Update.zip'\n",
    "urllib.request.urlretrieve(url, 'rolling_sales.zip')\n",
    "!mkdir data/rolling_sales\n",
    "!unzip rolling_sales.zip -d data/rolling_sales\n",
    "!rm -r rolling_sales.zip"
   ]
  },
  {
   "cell_type": "code",
   "execution_count": 4,
   "metadata": {
    "collapsed": false,
    "scrolled": false
   },
   "outputs": [
    {
     "name": "stdout",
     "output_type": "stream",
     "text": [
      "2009_bronx.xls              2015_queens.xls\r\n",
      "2009_brooklyn.xls           2015_statenisland.xls\r\n",
      "2009_manhattan.xls          glossary_rsf071607.pdf\r\n",
      "2009_queens.xls             sales_2007_bronx.xls\r\n",
      "2009_statenisland.xls       sales_2007_brooklyn.xls\r\n",
      "2010_bronx.xls              sales_2007_manhattan.xls\r\n",
      "2010_brooklyn.xls           sales_2007_queens.xls\r\n",
      "2010_manhattan.xls          sales_2007_statenisland.xls\r\n",
      "2010_queens.xls             sales_2008_bronx.xls\r\n",
      "2010_statenisland.xls       sales_2008_brooklyn.xls\r\n",
      "2011_bronx.xls              sales_2008_manhattan.xls\r\n",
      "2011_brooklyn.xls           sales_2008_queens.xls\r\n",
      "2011_manhattan.xls          sales_2008_statenisland.xls\r\n",
      "2011_queens.xls             sales_bronx_03.xls\r\n",
      "2011_statenisland.xls       sales_bronx_04.xls\r\n",
      "2012_bronx.xls              sales_bronx_05.xls\r\n",
      "2012_brooklyn.xls           sales_bronx_06.xls\r\n",
      "2012_manhattan.xls          sales_brooklyn_03.xls\r\n",
      "2012_queens.xls             sales_brooklyn_04.xls\r\n",
      "2012_statenisland.xls       sales_brooklyn_05.xls\r\n",
      "2013_bronx.xls              sales_brooklyn_06.xls\r\n",
      "2013_brooklyn.xls           sales_manhattan_03.xls\r\n",
      "2013_manhattan.xls          sales_manhattan_04.xls\r\n",
      "2013_queens.xls             sales_manhattan_05.xls\r\n",
      "2013_statenisland.xls       sales_manhattan_06.xls\r\n",
      "2014_bronx.xls              sales_queens_03.xls\r\n",
      "2014_brooklyn.xls           sales_queens_04.xls\r\n",
      "2014_manhattan.xls          sales_queens_05.xls\r\n",
      "2014_queens.xls             sales_queens_06.xls\r\n",
      "2014_statenisland.xls       sales_si_03.xls\r\n",
      "2015_bronx.xls              sales_si_04.xls\r\n",
      "2015_brooklyn.xls           sales_si_05.xls\r\n",
      "2015_manhattan.xls          sales_si_06.xls\r\n"
     ]
    }
   ],
   "source": [
    "# Get a list of all the downloaded files\n",
    "!ls data/rolling_sales"
   ]
  },
  {
   "cell_type": "code",
   "execution_count": 32,
   "metadata": {
    "collapsed": false
   },
   "outputs": [
    {
     "name": "stdout",
     "output_type": "stream",
     "text": [
      "README.md       \u001b[34mdata\u001b[m\u001b[m            geo_scope.ipynb prop_vals.ipynb yelp_data.ipynb\r\n"
     ]
    }
   ],
   "source": [
    "!cd data/rolling_sales | ls"
   ]
  },
  {
   "cell_type": "markdown",
   "metadata": {},
   "source": [
    "## Reading the glossary PDF\n",
    "   \n",
    "I used the PyPDF2 library to read this PDF."
   ]
  },
  {
   "cell_type": "code",
   "execution_count": 7,
   "metadata": {
    "collapsed": true
   },
   "outputs": [],
   "source": [
    "gloss = PyPDF2.PdfFileReader('data/rolling_sales/glossary_rsf071607.pdf')"
   ]
  },
  {
   "cell_type": "code",
   "execution_count": 18,
   "metadata": {
    "collapsed": false
   },
   "outputs": [
    {
     "name": "stdout",
     "output_type": "stream",
     "text": [
      "Page 0:\n",
      "\n",
      "        I. GLOSSARY OF TERMS \n",
      " II.     HOW TO POWER SORT FROM EXCEL \n",
      "Glossary of Terms for Property Sales Files  I. GLOSSARY OF TERMS The following terms follow the column headings across the spreadsheet, from left to right.   Borough:  The name of the borough in which the property is located.  Neighborhood: Department of Finance assessors determine the neighborhood name in the course of valuing properties. The common name of the neighborhood is generally the same as the name Finance designates. However, there may be slight differences in neighborhood boundary lines and some sub-neighborhoods may not be included.  Building Class Category: \n",
      "This is a field that we are including so that users of the Rolling Sales Files can easily identify similar properties by broad usage (e.g. One Family Homes) without looking up individual Building Classes. Files are sorted by Borough, Neighborhood, Building Class Category, Block and Lot.  Tax Class at Present: Every property in the city is assigned to one of four tax classes (Classes 1, 2, 3, and 4), based on the use of the property.  Class 1: Includes most residential property of up to three units (such as one-, two-, and three-family homes and small stores or offices with one or two attached apartments), vacant land that is zoned for residential use, and most condominiums that are not more than three stories.  Class 2: Includes all other property that is primarily residential, such as cooperatives and condominiums.  Class 3: Includes property with equipment owned by a gas, telephone or electric \n",
      "company.  Class 4: Includes all other properties not included in class 1,2, and 3, such as offices, factories, warehouses, garage buildings, etc.   Glossary of Terms for Property Sales Files \n",
      "\n",
      "Page 1:\n",
      "\n",
      "  Block: A Tax Block is a sub-division of the borough on which real properties are located. The Department of Finance uses a Borough-Block-Lot classification to label all real property in the City. ﬁWhereasﬂ addresses describe the street location of a property, the block and lot distinguishes one unit of real property from another, such as the different condominiums in a single building. Also, block and lots are not subject to name changes based on which side of the parcel the building puts its entrance on.   Lot:   A Tax Lot is a subdivision of a Tax Block and represents the property unique location.   Easement:    An easement is a right, such as a right of way, which allows an entity to make limited use of another™s real property. For example:  MTA railroad tracks that run across a portion of another property.  Building Class at Present: The Building Classification is used to describe a property™s constructive use. The first position of the Building Class is a letter that is used to describe a general class of properties (for example ﬁAﬂ signifies one-family homes, ﬁOﬂ signifies office buildings. ﬁRﬂ signifies condominiums). The second position, a number, adds more specific information about the property™s use or construction style (using our previous examples ﬁA0ﬂ is a Cape Cod style one family home, ﬁO4ﬂ is a tower type office building and ﬁR5ﬂ is a commercial condominium unit). The term Building Class used by the Department of Finance is interchangeable with the term Building Code used by the Department of Buildings. See NYC Building Classifications.  Address:  The street address of the property as listed on the Sales File. Coop sales include the apartment number in the address field.  Zip Code:  The property™s postal code  Residential Units: The number of residential units at the listed property.  Commercial Units: The number of commercial units at the listed property.  Total Units: The total number of units at the listed property.  Land Square Feet: The land area of the property listed in square feet.  Gross Square Feet: The total area of all the floors of a building as measured from the exterior surfaces of the outside walls of the building, including the land area and space within any building or structure on the property.  \n",
      "\n",
      "Page 2:\n",
      "\n",
      "  Year Built: Year the structure on the property was built.  Building Class at Time of Sale: The Building Classification is used to describe a property™s constructive use. The first position of the Building Class is a letter that is used to describe a general class of properties (for example ﬁAﬂ signifies one-family homes, ﬁOﬂ signifies office buildings. ﬁRﬂ signifies condominiums). The second position, a number, adds more specific information about the property™s use or construction style (using our previous examples ﬁA0ﬂ is a Cape Cod style one family home, ﬁO4ﬂ is a tower type office building and ﬁR5ﬂ is a commercial condominium unit). The term Building Class as used by the Department of Finance is interchangeable with the term Building Code as used by the Department of Buildings.  Sales Price: Price paid for the property.   Sale Date: Date the property sold.   $0 Sales Price: A $0 sale indicates that there was a transfer of ownership without a cash consideration. There can be a number of reasons for a $0 sale including transfers of ownership from parents to children.  II. HOW TO POWER SORT FROM EXCEL  Step One: Copy the entire excel spreadsheet into a new excel document.  Step Two\n",
      ": Go the row containing the names of all the columns. This is called a Header Row.  Click on the title called Borough (Column A) in the Header Row and hold down the left mouse button and move to the last column called Sale Date (Column Q).  Continue holding down the left mouse button and scroll down to the last row in the spreadsheet. The document will be highlighted. Release the mouse.  Step Three: Copy selection into Select the Data menu from the toolbar, and then; Select the Sort option, and from there; Select Header Row. \n",
      "Use the drop down boxes to help you sort the categories.           07/16/07 \n",
      "\n"
     ]
    }
   ],
   "source": [
    "for i in range(gloss.getNumPages()):\n",
    "    print(\"Page {}:\".format(i))\n",
    "    print(\"\")\n",
    "    print(gloss.getPage(i).extractText())\n",
    "    print(\"\")"
   ]
  },
  {
   "cell_type": "markdown",
   "metadata": {},
   "source": [
    "## Brooklyn data\n",
    "\n",
    "I checked the columns for all the data between 2009 and 2015 and they all share the same column names (once you strip whitespace), allowing these dataframes to be merged without losing any data."
   ]
  },
  {
   "cell_type": "code",
   "execution_count": 83,
   "metadata": {
    "collapsed": true,
    "scrolled": false
   },
   "outputs": [],
   "source": [
    "dfs_list = []\n",
    "# Used separate skiprows values since Excel files were formatted slightly differently\n",
    "for i in range(2009, 2011):\n",
    "    temp_df = pd.read_excel('data/rolling_sales/{}_brooklyn.xls'.format(i), skiprows=3)\n",
    "    temp_df.rename(columns=lambda x: x.strip(), inplace=True)\n",
    "    dfs_list.append(temp_df)\n",
    "for i in range(2011, 2016):\n",
    "    temp_df = pd.read_excel('data/rolling_sales/{}_brooklyn.xls'.format(i), skiprows=4)\n",
    "    temp_df.rename(columns=lambda x: x.strip(), inplace=True)\n",
    "    dfs_list.append(temp_df)"
   ]
  },
  {
   "cell_type": "code",
   "execution_count": 84,
   "metadata": {
    "collapsed": true
   },
   "outputs": [],
   "source": [
    "pv_df = pd.concat(dfs_list)"
   ]
  },
  {
   "cell_type": "code",
   "execution_count": 85,
   "metadata": {
    "collapsed": false
   },
   "outputs": [
    {
     "data": {
      "text/html": [
       "<div>\n",
       "<style scoped>\n",
       "    .dataframe tbody tr th:only-of-type {\n",
       "        vertical-align: middle;\n",
       "    }\n",
       "\n",
       "    .dataframe tbody tr th {\n",
       "        vertical-align: top;\n",
       "    }\n",
       "\n",
       "    .dataframe thead th {\n",
       "        text-align: right;\n",
       "    }\n",
       "</style>\n",
       "<table border=\"1\" class=\"dataframe\">\n",
       "  <thead>\n",
       "    <tr style=\"text-align: right;\">\n",
       "      <th></th>\n",
       "      <th>BOROUGH</th>\n",
       "      <th>NEIGHBORHOOD</th>\n",
       "      <th>BUILDING CLASS CATEGORY</th>\n",
       "      <th>TAX CLASS AT PRESENT</th>\n",
       "      <th>BLOCK</th>\n",
       "      <th>LOT</th>\n",
       "      <th>EASE-MENT</th>\n",
       "      <th>BUILDING CLASS AT PRESENT</th>\n",
       "      <th>ADDRESS</th>\n",
       "      <th>APARTMENT NUMBER</th>\n",
       "      <th>...</th>\n",
       "      <th>RESIDENTIAL UNITS</th>\n",
       "      <th>COMMERCIAL UNITS</th>\n",
       "      <th>TOTAL UNITS</th>\n",
       "      <th>LAND SQUARE FEET</th>\n",
       "      <th>GROSS SQUARE FEET</th>\n",
       "      <th>YEAR BUILT</th>\n",
       "      <th>TAX CLASS AT TIME OF SALE</th>\n",
       "      <th>BUILDING CLASS AT TIME OF SALE</th>\n",
       "      <th>SALE PRICE</th>\n",
       "      <th>SALE DATE</th>\n",
       "    </tr>\n",
       "  </thead>\n",
       "  <tbody>\n",
       "    <tr>\n",
       "      <th>0</th>\n",
       "      <td>3</td>\n",
       "      <td>BATH BEACH</td>\n",
       "      <td>01  ONE FAMILY HOMES</td>\n",
       "      <td>1</td>\n",
       "      <td>6360</td>\n",
       "      <td>75</td>\n",
       "      <td></td>\n",
       "      <td>A5</td>\n",
       "      <td>72 BAY 10TH STREET</td>\n",
       "      <td></td>\n",
       "      <td>...</td>\n",
       "      <td>1</td>\n",
       "      <td>0</td>\n",
       "      <td>1</td>\n",
       "      <td>2513</td>\n",
       "      <td>1428</td>\n",
       "      <td>1930</td>\n",
       "      <td>1</td>\n",
       "      <td>A5</td>\n",
       "      <td>155356</td>\n",
       "      <td>2009-08-11</td>\n",
       "    </tr>\n",
       "    <tr>\n",
       "      <th>1</th>\n",
       "      <td>3</td>\n",
       "      <td>BATH BEACH</td>\n",
       "      <td>01  ONE FAMILY HOMES</td>\n",
       "      <td>1</td>\n",
       "      <td>6360</td>\n",
       "      <td>157</td>\n",
       "      <td></td>\n",
       "      <td>A5</td>\n",
       "      <td>36 BAY 10TH STREET</td>\n",
       "      <td></td>\n",
       "      <td>...</td>\n",
       "      <td>1</td>\n",
       "      <td>0</td>\n",
       "      <td>1</td>\n",
       "      <td>1547</td>\n",
       "      <td>1428</td>\n",
       "      <td>1930</td>\n",
       "      <td>1</td>\n",
       "      <td>A5</td>\n",
       "      <td>505000</td>\n",
       "      <td>2009-03-05</td>\n",
       "    </tr>\n",
       "    <tr>\n",
       "      <th>2</th>\n",
       "      <td>3</td>\n",
       "      <td>BATH BEACH</td>\n",
       "      <td>01  ONE FAMILY HOMES</td>\n",
       "      <td>1</td>\n",
       "      <td>6364</td>\n",
       "      <td>2</td>\n",
       "      <td></td>\n",
       "      <td>A5</td>\n",
       "      <td>1649 BENSON AVENUE</td>\n",
       "      <td></td>\n",
       "      <td>...</td>\n",
       "      <td>1</td>\n",
       "      <td>0</td>\n",
       "      <td>1</td>\n",
       "      <td>1638</td>\n",
       "      <td>972</td>\n",
       "      <td>1930</td>\n",
       "      <td>1</td>\n",
       "      <td>A5</td>\n",
       "      <td>0</td>\n",
       "      <td>2009-10-23</td>\n",
       "    </tr>\n",
       "    <tr>\n",
       "      <th>3</th>\n",
       "      <td>3</td>\n",
       "      <td>BATH BEACH</td>\n",
       "      <td>01  ONE FAMILY HOMES</td>\n",
       "      <td>1</td>\n",
       "      <td>6364</td>\n",
       "      <td>8</td>\n",
       "      <td></td>\n",
       "      <td>B3</td>\n",
       "      <td>1631 BENSON AVENUE</td>\n",
       "      <td></td>\n",
       "      <td>...</td>\n",
       "      <td>2</td>\n",
       "      <td>0</td>\n",
       "      <td>2</td>\n",
       "      <td>2688</td>\n",
       "      <td>1867</td>\n",
       "      <td>1930</td>\n",
       "      <td>1</td>\n",
       "      <td>A1</td>\n",
       "      <td>410000</td>\n",
       "      <td>2009-03-11</td>\n",
       "    </tr>\n",
       "    <tr>\n",
       "      <th>4</th>\n",
       "      <td>3</td>\n",
       "      <td>BATH BEACH</td>\n",
       "      <td>01  ONE FAMILY HOMES</td>\n",
       "      <td>1</td>\n",
       "      <td>6364</td>\n",
       "      <td>72</td>\n",
       "      <td></td>\n",
       "      <td>A5</td>\n",
       "      <td>68 BAY 14TH   STREET</td>\n",
       "      <td></td>\n",
       "      <td>...</td>\n",
       "      <td>1</td>\n",
       "      <td>0</td>\n",
       "      <td>1</td>\n",
       "      <td>1950</td>\n",
       "      <td>972</td>\n",
       "      <td>1950</td>\n",
       "      <td>1</td>\n",
       "      <td>A5</td>\n",
       "      <td>455000</td>\n",
       "      <td>2009-08-21</td>\n",
       "    </tr>\n",
       "  </tbody>\n",
       "</table>\n",
       "<p>5 rows × 21 columns</p>\n",
       "</div>"
      ],
      "text/plain": [
       "   BOROUGH               NEIGHBORHOOD  \\\n",
       "0        3  BATH BEACH                  \n",
       "1        3  BATH BEACH                  \n",
       "2        3  BATH BEACH                  \n",
       "3        3  BATH BEACH                  \n",
       "4        3  BATH BEACH                  \n",
       "\n",
       "                        BUILDING CLASS CATEGORY TAX CLASS AT PRESENT  BLOCK  \\\n",
       "0  01  ONE FAMILY HOMES                                            1   6360   \n",
       "1  01  ONE FAMILY HOMES                                            1   6360   \n",
       "2  01  ONE FAMILY HOMES                                            1   6364   \n",
       "3  01  ONE FAMILY HOMES                                            1   6364   \n",
       "4  01  ONE FAMILY HOMES                                            1   6364   \n",
       "\n",
       "   LOT EASE-MENT BUILDING CLASS AT PRESENT  \\\n",
       "0   75                                  A5   \n",
       "1  157                                  A5   \n",
       "2    2                                  A5   \n",
       "3    8                                  B3   \n",
       "4   72                                  A5   \n",
       "\n",
       "                                     ADDRESS APARTMENT NUMBER    ...      \\\n",
       "0  72 BAY 10TH STREET                                            ...       \n",
       "1  36 BAY 10TH STREET                                            ...       \n",
       "2  1649 BENSON AVENUE                                            ...       \n",
       "3  1631 BENSON AVENUE                                            ...       \n",
       "4  68 BAY 14TH   STREET                                          ...       \n",
       "\n",
       "   RESIDENTIAL UNITS  COMMERCIAL UNITS  TOTAL UNITS  LAND SQUARE FEET  \\\n",
       "0                  1                 0            1              2513   \n",
       "1                  1                 0            1              1547   \n",
       "2                  1                 0            1              1638   \n",
       "3                  2                 0            2              2688   \n",
       "4                  1                 0            1              1950   \n",
       "\n",
       "   GROSS SQUARE FEET  YEAR BUILT  TAX CLASS AT TIME OF SALE  \\\n",
       "0               1428        1930                          1   \n",
       "1               1428        1930                          1   \n",
       "2                972        1930                          1   \n",
       "3               1867        1930                          1   \n",
       "4                972        1950                          1   \n",
       "\n",
       "   BUILDING CLASS AT TIME OF SALE SALE PRICE  SALE DATE  \n",
       "0                              A5     155356 2009-08-11  \n",
       "1                              A5     505000 2009-03-05  \n",
       "2                              A5          0 2009-10-23  \n",
       "3                              A1     410000 2009-03-11  \n",
       "4                              A5     455000 2009-08-21  \n",
       "\n",
       "[5 rows x 21 columns]"
      ]
     },
     "execution_count": 85,
     "metadata": {},
     "output_type": "execute_result"
    }
   ],
   "source": [
    "pv_df.head()"
   ]
  },
  {
   "cell_type": "code",
   "execution_count": 86,
   "metadata": {
    "collapsed": false
   },
   "outputs": [
    {
     "data": {
      "text/plain": [
       "(159427, 21)"
      ]
     },
     "execution_count": 86,
     "metadata": {},
     "output_type": "execute_result"
    }
   ],
   "source": [
    "pv_df.shape"
   ]
  },
  {
   "cell_type": "markdown",
   "metadata": {},
   "source": [
    "## Note: This next part might not be right"
   ]
  },
  {
   "cell_type": "code",
   "execution_count": 92,
   "metadata": {
    "collapsed": true
   },
   "outputs": [],
   "source": [
    "grouped = pv_df.groupby(test)"
   ]
  },
  {
   "cell_type": "code",
   "execution_count": 97,
   "metadata": {
    "collapsed": false
   },
   "outputs": [
    {
     "data": {
      "text/html": [
       "<div>\n",
       "<style scoped>\n",
       "    .dataframe tbody tr th:only-of-type {\n",
       "        vertical-align: middle;\n",
       "    }\n",
       "\n",
       "    .dataframe tbody tr th {\n",
       "        vertical-align: top;\n",
       "    }\n",
       "\n",
       "    .dataframe thead th {\n",
       "        text-align: right;\n",
       "    }\n",
       "</style>\n",
       "<table border=\"1\" class=\"dataframe\">\n",
       "  <thead>\n",
       "    <tr style=\"text-align: right;\">\n",
       "      <th></th>\n",
       "      <th>BOROUGH</th>\n",
       "      <th>BLOCK</th>\n",
       "      <th>LOT</th>\n",
       "      <th>ZIP CODE</th>\n",
       "      <th>RESIDENTIAL UNITS</th>\n",
       "      <th>COMMERCIAL UNITS</th>\n",
       "      <th>TOTAL UNITS</th>\n",
       "      <th>LAND SQUARE FEET</th>\n",
       "      <th>GROSS SQUARE FEET</th>\n",
       "      <th>YEAR BUILT</th>\n",
       "      <th>TAX CLASS AT TIME OF SALE</th>\n",
       "      <th>SALE PRICE</th>\n",
       "    </tr>\n",
       "    <tr>\n",
       "      <th>SALE DATE</th>\n",
       "      <th></th>\n",
       "      <th></th>\n",
       "      <th></th>\n",
       "      <th></th>\n",
       "      <th></th>\n",
       "      <th></th>\n",
       "      <th></th>\n",
       "      <th></th>\n",
       "      <th></th>\n",
       "      <th></th>\n",
       "      <th></th>\n",
       "      <th></th>\n",
       "    </tr>\n",
       "  </thead>\n",
       "  <tbody>\n",
       "    <tr>\n",
       "      <th>2009-01</th>\n",
       "      <td>3.0</td>\n",
       "      <td>4382.726490</td>\n",
       "      <td>259.501077</td>\n",
       "      <td>11219.811917</td>\n",
       "      <td>2.089734</td>\n",
       "      <td>0.173726</td>\n",
       "      <td>2.263460</td>\n",
       "      <td>2396.298636</td>\n",
       "      <td>2473.103374</td>\n",
       "      <td>1647.704235</td>\n",
       "      <td>1.718593</td>\n",
       "      <td>364662.200287</td>\n",
       "    </tr>\n",
       "    <tr>\n",
       "      <th>2009-02</th>\n",
       "      <td>3.0</td>\n",
       "      <td>4528.231555</td>\n",
       "      <td>209.437571</td>\n",
       "      <td>11216.619183</td>\n",
       "      <td>1.983541</td>\n",
       "      <td>0.570942</td>\n",
       "      <td>2.553916</td>\n",
       "      <td>7195.575482</td>\n",
       "      <td>8127.562429</td>\n",
       "      <td>1771.143587</td>\n",
       "      <td>2.274120</td>\n",
       "      <td>225847.269580</td>\n",
       "    </tr>\n",
       "    <tr>\n",
       "      <th>2009-03</th>\n",
       "      <td>3.0</td>\n",
       "      <td>4547.961210</td>\n",
       "      <td>282.887574</td>\n",
       "      <td>11219.455621</td>\n",
       "      <td>2.034188</td>\n",
       "      <td>0.219592</td>\n",
       "      <td>2.253780</td>\n",
       "      <td>2068.414859</td>\n",
       "      <td>2632.337936</td>\n",
       "      <td>1695.503616</td>\n",
       "      <td>1.623274</td>\n",
       "      <td>300127.450362</td>\n",
       "    </tr>\n",
       "    <tr>\n",
       "      <th>2009-04</th>\n",
       "      <td>3.0</td>\n",
       "      <td>4662.506533</td>\n",
       "      <td>278.691776</td>\n",
       "      <td>11220.152191</td>\n",
       "      <td>2.495772</td>\n",
       "      <td>0.137586</td>\n",
       "      <td>2.633359</td>\n",
       "      <td>2062.051499</td>\n",
       "      <td>2823.959262</td>\n",
       "      <td>1652.852421</td>\n",
       "      <td>1.578786</td>\n",
       "      <td>283325.941583</td>\n",
       "    </tr>\n",
       "    <tr>\n",
       "      <th>2009-05</th>\n",
       "      <td>3.0</td>\n",
       "      <td>4511.538139</td>\n",
       "      <td>306.802659</td>\n",
       "      <td>11219.671798</td>\n",
       "      <td>2.233030</td>\n",
       "      <td>0.174948</td>\n",
       "      <td>2.407978</td>\n",
       "      <td>1880.658502</td>\n",
       "      <td>2821.974108</td>\n",
       "      <td>1663.328901</td>\n",
       "      <td>1.622813</td>\n",
       "      <td>288432.625612</td>\n",
       "    </tr>\n",
       "  </tbody>\n",
       "</table>\n",
       "</div>"
      ],
      "text/plain": [
       "           BOROUGH        BLOCK         LOT      ZIP CODE  RESIDENTIAL UNITS  \\\n",
       "SALE DATE                                                                      \n",
       "2009-01        3.0  4382.726490  259.501077  11219.811917           2.089734   \n",
       "2009-02        3.0  4528.231555  209.437571  11216.619183           1.983541   \n",
       "2009-03        3.0  4547.961210  282.887574  11219.455621           2.034188   \n",
       "2009-04        3.0  4662.506533  278.691776  11220.152191           2.495772   \n",
       "2009-05        3.0  4511.538139  306.802659  11219.671798           2.233030   \n",
       "\n",
       "           COMMERCIAL UNITS  TOTAL UNITS  LAND SQUARE FEET  GROSS SQUARE FEET  \\\n",
       "SALE DATE                                                                       \n",
       "2009-01            0.173726     2.263460       2396.298636        2473.103374   \n",
       "2009-02            0.570942     2.553916       7195.575482        8127.562429   \n",
       "2009-03            0.219592     2.253780       2068.414859        2632.337936   \n",
       "2009-04            0.137586     2.633359       2062.051499        2823.959262   \n",
       "2009-05            0.174948     2.407978       1880.658502        2821.974108   \n",
       "\n",
       "            YEAR BUILT  TAX CLASS AT TIME OF SALE     SALE PRICE  \n",
       "SALE DATE                                                         \n",
       "2009-01    1647.704235                   1.718593  364662.200287  \n",
       "2009-02    1771.143587                   2.274120  225847.269580  \n",
       "2009-03    1695.503616                   1.623274  300127.450362  \n",
       "2009-04    1652.852421                   1.578786  283325.941583  \n",
       "2009-05    1663.328901                   1.622813  288432.625612  "
      ]
     },
     "execution_count": 97,
     "metadata": {},
     "output_type": "execute_result"
    }
   ],
   "source": [
    "grouped.mean().head()"
   ]
  },
  {
   "cell_type": "code",
   "execution_count": null,
   "metadata": {
    "collapsed": true
   },
   "outputs": [],
   "source": []
  }
 ],
 "metadata": {
  "kernelspec": {
   "display_name": "Python 2",
   "language": "python",
   "name": "python2"
  },
  "language_info": {
   "codemirror_mode": {
    "name": "ipython",
    "version": 2
   },
   "file_extension": ".py",
   "mimetype": "text/x-python",
   "name": "python",
   "nbconvert_exporter": "python",
   "pygments_lexer": "ipython2",
   "version": "2.7.9"
  }
 },
 "nbformat": 4,
 "nbformat_minor": 2
}
