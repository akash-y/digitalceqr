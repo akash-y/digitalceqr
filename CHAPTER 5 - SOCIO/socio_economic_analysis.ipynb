{
 "cells": [
  {
   "cell_type": "code",
   "execution_count": 66,
   "metadata": {
    "collapsed": false
   },
   "outputs": [],
   "source": [
    "from socio import Socio\n",
    "import pandas as pd\n",
    "\n",
    "import matplotlib.pyplot as plt\n",
    "\n",
    "%matplotlib inline"
   ]
  },
  {
   "cell_type": "markdown",
   "metadata": {},
   "source": [
    "# Define Study Area and Summary of most recent ACS"
   ]
  },
  {
   "cell_type": "code",
   "execution_count": 100,
   "metadata": {
    "collapsed": true
   },
   "outputs": [],
   "source": [
    "addr = \"373 VAN BRUNT STREET Brooklyn, NY\"\n",
    "radius = 0.5\n",
    "year = 2017\n",
    "survey = 'acs5'\n",
    "borough = \"Brooklyn\"\n",
    "api_key = '13c056d339e329f0a4fbef4384e3667e505a55da'"
   ]
  },
  {
   "cell_type": "code",
   "execution_count": 101,
   "metadata": {
    "collapsed": false
   },
   "outputs": [],
   "source": [
    "s = Socio(addr, radius, year, survey, borough, api_key)"
   ]
  },
  {
   "cell_type": "code",
   "execution_count": 102,
   "metadata": {
    "collapsed": false,
    "scrolled": true
   },
   "outputs": [],
   "source": [
    "summary_stats = s.get_summary_stats()"
   ]
  },
  {
   "cell_type": "code",
   "execution_count": 103,
   "metadata": {
    "collapsed": false
   },
   "outputs": [
    {
     "data": {
      "text/html": [
       "<div>\n",
       "<style scoped>\n",
       "    .dataframe tbody tr th:only-of-type {\n",
       "        vertical-align: middle;\n",
       "    }\n",
       "\n",
       "    .dataframe tbody tr th {\n",
       "        vertical-align: top;\n",
       "    }\n",
       "\n",
       "    .dataframe thead th {\n",
       "        text-align: right;\n",
       "    }\n",
       "</style>\n",
       "<table border=\"1\" class=\"dataframe\">\n",
       "  <thead>\n",
       "    <tr style=\"text-align: right;\">\n",
       "      <th></th>\n",
       "      <th>median_income</th>\n",
       "      <th>percent_owners</th>\n",
       "      <th>percent_renters</th>\n",
       "      <th>population</th>\n",
       "      <th>unemployment_rate</th>\n",
       "      <th>vacancy_rate</th>\n",
       "    </tr>\n",
       "  </thead>\n",
       "  <tbody>\n",
       "    <tr>\n",
       "      <th>Brooklyn</th>\n",
       "      <td>5.278200e+04</td>\n",
       "      <td>27.592055</td>\n",
       "      <td>64.265745</td>\n",
       "      <td>2635121.0</td>\n",
       "      <td>5.121267</td>\n",
       "      <td>8.142200</td>\n",
       "    </tr>\n",
       "    <tr>\n",
       "      <th>Study Area</th>\n",
       "      <td>-4.165795e+07</td>\n",
       "      <td>12.890776</td>\n",
       "      <td>80.393670</td>\n",
       "      <td>6235.0</td>\n",
       "      <td>8.460884</td>\n",
       "      <td>6.715554</td>\n",
       "    </tr>\n",
       "  </tbody>\n",
       "</table>\n",
       "</div>"
      ],
      "text/plain": [
       "            median_income  percent_owners  percent_renters  population  \\\n",
       "Brooklyn     5.278200e+04       27.592055        64.265745   2635121.0   \n",
       "Study Area  -4.165795e+07       12.890776        80.393670      6235.0   \n",
       "\n",
       "            unemployment_rate  vacancy_rate  \n",
       "Brooklyn             5.121267      8.142200  \n",
       "Study Area           8.460884      6.715554  "
      ]
     },
     "execution_count": 103,
     "metadata": {},
     "output_type": "execute_result"
    }
   ],
   "source": [
    "summary_stats"
   ]
  },
  {
   "cell_type": "markdown",
   "metadata": {},
   "source": [
    "# Plot Percentage Metrics for most recent year"
   ]
  },
  {
   "cell_type": "code",
   "execution_count": 104,
   "metadata": {
    "collapsed": false,
    "scrolled": true
   },
   "outputs": [
    {
     "data": {
      "text/plain": [
       "(0, 100)"
      ]
     },
     "execution_count": 104,
     "metadata": {},
     "output_type": "execute_result"
    },
    {
     "data": {
      "image/png": "[encoded data removed]",
      "text/plain": [
       "<Figure size 432x288 with 1 Axes>"
      ]
     },
     "metadata": {
      "needs_background": "light"
     },
     "output_type": "display_data"
    }
   ],
   "source": [
    "percentage_columns = ['percent_owners', 'percent_renters', 'unemployment_rate','vacancy_rate']\n",
    "percentage_summaries = summary_stats[percentage_columns]\n",
    "\n",
    "percentage_summaries.T.plot(y=list(summary_stats.index), kind='bar').set_ylim(0,100)"
   ]
  },
  {
   "cell_type": "markdown",
   "metadata": {},
   "source": [
    "# Time Series"
   ]
  },
  {
   "cell_type": "markdown",
   "metadata": {},
   "source": [
    "### Retrieve Summary Data for ACS5 years"
   ]
  },
  {
   "cell_type": "code",
   "execution_count": 79,
   "metadata": {
    "collapsed": true
   },
   "outputs": [],
   "source": [
    "years = range(2013, 2018)\n",
    "\n",
    "borough_time_series = []\n",
    "study_area_time_series = []"
   ]
  },
  {
   "cell_type": "code",
   "execution_count": 80,
   "metadata": {
    "collapsed": false
   },
   "outputs": [
    {
     "name": "stdout",
     "output_type": "stream",
     "text": [
      "2013\n",
      "2014\n",
      "2015\n",
      "2016\n",
      "2017\n"
     ]
    }
   ],
   "source": [
    "for year in years:\n",
    "    print(year)\n",
    "    s = Socio(addr, radius, year, survey, borough, api_key)\n",
    "    borough_time_series.append(s.get_borough_summary())\n",
    "    study_area_time_series.append(s.get_study_area_summary())"
   ]
  },
  {
   "cell_type": "code",
   "execution_count": 88,
   "metadata": {
    "collapsed": false,
    "scrolled": true
   },
   "outputs": [
    {
     "data": {
      "text/html": [
       "<div>\n",
       "<style scoped>\n",
       "    .dataframe tbody tr th:only-of-type {\n",
       "        vertical-align: middle;\n",
       "    }\n",
       "\n",
       "    .dataframe tbody tr th {\n",
       "        vertical-align: top;\n",
       "    }\n",
       "\n",
       "    .dataframe thead th {\n",
       "        text-align: right;\n",
       "    }\n",
       "</style>\n",
       "<table border=\"1\" class=\"dataframe\">\n",
       "  <thead>\n",
       "    <tr style=\"text-align: right;\">\n",
       "      <th></th>\n",
       "      <th>median_income</th>\n",
       "      <th>percent_owners</th>\n",
       "      <th>percent_renters</th>\n",
       "      <th>population</th>\n",
       "      <th>unemployment_rate</th>\n",
       "      <th>vacancy_rate</th>\n",
       "      <th>year</th>\n",
       "    </tr>\n",
       "  </thead>\n",
       "  <tbody>\n",
       "    <tr>\n",
       "      <th>2013</th>\n",
       "      <td>46085.0</td>\n",
       "      <td>27.207402</td>\n",
       "      <td>64.176782</td>\n",
       "      <td>2539789.0</td>\n",
       "      <td>6.782707</td>\n",
       "      <td>8.615817</td>\n",
       "      <td>2009 - 2013</td>\n",
       "    </tr>\n",
       "    <tr>\n",
       "      <th>2014</th>\n",
       "      <td>46958.0</td>\n",
       "      <td>26.986300</td>\n",
       "      <td>64.405117</td>\n",
       "      <td>2570801.0</td>\n",
       "      <td>6.657868</td>\n",
       "      <td>8.608583</td>\n",
       "      <td>2010 - 2014</td>\n",
       "    </tr>\n",
       "    <tr>\n",
       "      <th>2015</th>\n",
       "      <td>48201.0</td>\n",
       "      <td>26.808397</td>\n",
       "      <td>64.787247</td>\n",
       "      <td>2595259.0</td>\n",
       "      <td>6.320277</td>\n",
       "      <td>8.404356</td>\n",
       "      <td>2011 - 2015</td>\n",
       "    </tr>\n",
       "    <tr>\n",
       "      <th>2016</th>\n",
       "      <td>50640.0</td>\n",
       "      <td>27.056307</td>\n",
       "      <td>64.825833</td>\n",
       "      <td>2606852.0</td>\n",
       "      <td>5.717949</td>\n",
       "      <td>8.117861</td>\n",
       "      <td>2012 - 2016</td>\n",
       "    </tr>\n",
       "    <tr>\n",
       "      <th>2017</th>\n",
       "      <td>52782.0</td>\n",
       "      <td>27.592055</td>\n",
       "      <td>64.265745</td>\n",
       "      <td>2635121.0</td>\n",
       "      <td>5.121267</td>\n",
       "      <td>8.142200</td>\n",
       "      <td>2013 - 2017</td>\n",
       "    </tr>\n",
       "  </tbody>\n",
       "</table>\n",
       "</div>"
      ],
      "text/plain": [
       "      median_income  percent_owners  percent_renters  population  \\\n",
       "2013        46085.0       27.207402        64.176782   2539789.0   \n",
       "2014        46958.0       26.986300        64.405117   2570801.0   \n",
       "2015        48201.0       26.808397        64.787247   2595259.0   \n",
       "2016        50640.0       27.056307        64.825833   2606852.0   \n",
       "2017        52782.0       27.592055        64.265745   2635121.0   \n",
       "\n",
       "      unemployment_rate  vacancy_rate         year  \n",
       "2013           6.782707      8.615817  2009 - 2013  \n",
       "2014           6.657868      8.608583  2010 - 2014  \n",
       "2015           6.320277      8.404356  2011 - 2015  \n",
       "2016           5.717949      8.117861  2012 - 2016  \n",
       "2017           5.121267      8.142200  2013 - 2017  "
      ]
     },
     "execution_count": 88,
     "metadata": {},
     "output_type": "execute_result"
    }
   ],
   "source": [
    "borough_time_series = pd.DataFrame(borough_time_series, index=years)\n",
    "borough_time_series['year'] = borough_time_series.index\n",
    "borough_time_series['year'] = borough_time_series.apply(lambda row: \"{} - {}\".format(int(row['year'] - 4), int(row['year'])), axis=1)\n",
    "borough_time_series"
   ]
  },
  {
   "cell_type": "code",
   "execution_count": 89,
   "metadata": {
    "collapsed": false
   },
   "outputs": [
    {
     "data": {
      "text/html": [
       "<div>\n",
       "<style scoped>\n",
       "    .dataframe tbody tr th:only-of-type {\n",
       "        vertical-align: middle;\n",
       "    }\n",
       "\n",
       "    .dataframe tbody tr th {\n",
       "        vertical-align: top;\n",
       "    }\n",
       "\n",
       "    .dataframe thead th {\n",
       "        text-align: right;\n",
       "    }\n",
       "</style>\n",
       "<table border=\"1\" class=\"dataframe\">\n",
       "  <thead>\n",
       "    <tr style=\"text-align: right;\">\n",
       "      <th></th>\n",
       "      <th>median_income</th>\n",
       "      <th>percent_owners</th>\n",
       "      <th>percent_renters</th>\n",
       "      <th>population</th>\n",
       "      <th>unemployment_rate</th>\n",
       "      <th>vacancy_rate</th>\n",
       "      <th>year</th>\n",
       "    </tr>\n",
       "  </thead>\n",
       "  <tbody>\n",
       "    <tr>\n",
       "      <th>2013</th>\n",
       "      <td>4.185123e+04</td>\n",
       "      <td>6.613150</td>\n",
       "      <td>86.544343</td>\n",
       "      <td>6250.0</td>\n",
       "      <td>9.630102</td>\n",
       "      <td>6.842508</td>\n",
       "      <td>2009 - 2013</td>\n",
       "    </tr>\n",
       "    <tr>\n",
       "      <th>2014</th>\n",
       "      <td>4.585669e+04</td>\n",
       "      <td>10.231660</td>\n",
       "      <td>85.945946</td>\n",
       "      <td>6170.0</td>\n",
       "      <td>9.053582</td>\n",
       "      <td>3.822394</td>\n",
       "      <td>2010 - 2014</td>\n",
       "    </tr>\n",
       "    <tr>\n",
       "      <th>2015</th>\n",
       "      <td>4.060484e+04</td>\n",
       "      <td>10.133104</td>\n",
       "      <td>84.113353</td>\n",
       "      <td>5920.0</td>\n",
       "      <td>11.489734</td>\n",
       "      <td>5.753542</td>\n",
       "      <td>2011 - 2015</td>\n",
       "    </tr>\n",
       "    <tr>\n",
       "      <th>2016</th>\n",
       "      <td>4.477379e+04</td>\n",
       "      <td>12.435233</td>\n",
       "      <td>81.267437</td>\n",
       "      <td>6099.0</td>\n",
       "      <td>9.217578</td>\n",
       "      <td>6.297330</td>\n",
       "      <td>2012 - 2016</td>\n",
       "    </tr>\n",
       "    <tr>\n",
       "      <th>2017</th>\n",
       "      <td>-4.165795e+07</td>\n",
       "      <td>12.890776</td>\n",
       "      <td>80.393670</td>\n",
       "      <td>6235.0</td>\n",
       "      <td>8.460884</td>\n",
       "      <td>6.715554</td>\n",
       "      <td>2013 - 2017</td>\n",
       "    </tr>\n",
       "  </tbody>\n",
       "</table>\n",
       "</div>"
      ],
      "text/plain": [
       "      median_income  percent_owners  percent_renters  population  \\\n",
       "2013   4.185123e+04        6.613150        86.544343      6250.0   \n",
       "2014   4.585669e+04       10.231660        85.945946      6170.0   \n",
       "2015   4.060484e+04       10.133104        84.113353      5920.0   \n",
       "2016   4.477379e+04       12.435233        81.267437      6099.0   \n",
       "2017  -4.165795e+07       12.890776        80.393670      6235.0   \n",
       "\n",
       "      unemployment_rate  vacancy_rate         year  \n",
       "2013           9.630102      6.842508  2009 - 2013  \n",
       "2014           9.053582      3.822394  2010 - 2014  \n",
       "2015          11.489734      5.753542  2011 - 2015  \n",
       "2016           9.217578      6.297330  2012 - 2016  \n",
       "2017           8.460884      6.715554  2013 - 2017  "
      ]
     },
     "execution_count": 89,
     "metadata": {},
     "output_type": "execute_result"
    }
   ],
   "source": [
    "study_area_time_series = pd.DataFrame(study_area_time_series, index=years)\n",
    "study_area_time_series['year'] = study_area_time_series.index\n",
    "study_area_time_series['year'] = study_area_time_series.apply(lambda row: \"{} - {}\".format(int(row['year'] - 4), int(row['year'])), axis=1)\n",
    "study_area_time_series"
   ]
  },
  {
   "cell_type": "markdown",
   "metadata": {},
   "source": [
    "### Plot the Pecentage Metrics\n",
    "I did not do a time series prediction because there are too few points to create a confident model. "
   ]
  },
  {
   "cell_type": "code",
   "execution_count": 99,
   "metadata": {
    "collapsed": false
   },
   "outputs": [
    {
     "data": {
      "image/png": "[encoded data removed]",
      "text/plain": [
       "<Figure size 432x288 with 1 Axes>"
      ]
     },
     "metadata": {
      "needs_background": "light"
     },
     "output_type": "display_data"
    },
    {
     "data": {
      "image/png": "[encoded data removed]",
      "text/plain": [
       "<Figure size 432x288 with 1 Axes>"
      ]
     },
     "metadata": {
      "needs_background": "light"
     },
     "output_type": "display_data"
    },
    {
     "data": {
      "image/png": "[encoded data removed]",
      "text/plain": [
       "<Figure size 432x288 with 1 Axes>"
      ]
     },
     "metadata": {
      "needs_background": "light"
     },
     "output_type": "display_data"
    },
    {
     "data": {
      "image/png": "[encoded data removed]",
      "text/plain": [
       "<Figure size 432x288 with 1 Axes>"
      ]
     },
     "metadata": {
      "needs_background": "light"
     },
     "output_type": "display_data"
    }
   ],
   "source": [
    "for metric in percentage_columns:\n",
    "    plt.plot(borough_time_series['year'], borough_time_series[metric])\n",
    "    plt.plot(study_area_time_series['year'], study_area_time_series[metric])\n",
    "    plt.legend(['Borough', 'Study Area'])\n",
    "    plt.title(\"{} Time Series ({})\".format(metric, survey))\n",
    "    plt.ylim(0, 100)\n",
    "    plt.show()"
   ]
  },
  {
   "cell_type": "markdown",
   "metadata": {},
   "source": [
    "# Incorperate RWCDS?\n",
    "How do we assume, (renters vs. ownership), vacancy, and income for DRAW's building project? We we assume these numbers, we could say something like \"# of renters in Red Hook increases at an average rate of 3% each year.  DRAW's building will increase the % of renters by 0.5% in the next year...\""
   ]
  },
  {
   "cell_type": "code",
   "execution_count": null,
   "metadata": {
    "collapsed": true
   },
   "outputs": [],
   "source": []
  }
 ],
 "metadata": {
  "kernelspec": {
   "display_name": "ceqr",
   "language": "python",
   "name": "ceqr"
  },
  "language_info": {
   "codemirror_mode": {
    "name": "ipython",
    "version": 3
   },
   "file_extension": ".py",
   "mimetype": "text/x-python",
   "name": "python",
   "nbconvert_exporter": "python",
   "pygments_lexer": "ipython3",
   "version": "3.6.4"
  }
 },
 "nbformat": 4,
 "nbformat_minor": 0
}
