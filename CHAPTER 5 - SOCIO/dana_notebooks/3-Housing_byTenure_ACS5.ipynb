{
 "cells": [
  {
   "cell_type": "markdown",
   "metadata": {},
   "source": [
    "Author: Dana Chermesh, Regional Planning intern; NYC DCP<br>\n",
    "Summer 2018\n",
    "\n",
    "### _US Metros comparison  Notebook no.3_\n",
    "# Housing 2010, 2016\n",
    "- **_ACS 5-yesr estimates 2012-2016 using Census API_**\n",
    "- **_ACS 5-yesr estimates 2006-2010 using Census API_**\n",
    "\n",
    "----\n",
    "\n",
    "A user guide for Census Data API:\n",
    "\n",
    "# [Census Data API User Guide](https://www.census.gov/content/dam/Census/data/developers/api-user-guide/api-guide.pdf)\n",
    "\n",
    "The Census Data API in an API that gives the public access to raw statistical data from various Census Bureau data\n",
    "programs. In terms of space, we aggregate the data and usually associate them with a\n",
    "certain Census geographic boundary/area defined by a FIPS code. \n",
    "\n",
    "## _get your API key from:_ \n",
    "https://api.census.gov/data/key_signup.html\n",
    "\n",
    "**Recommended:** In order to keep your API key confidential, please save your API key in a .py file named **censusAPI.py** as follows:\n",
    "\n",
    "```python\n",
    "myAPI = 'XXXXXXXXXXXXXXX'\n",
    "```\n",
    "Then read into this notebook as in the following cell:\n",
    "```python\n",
    "from censusAPI import myAPI\n",
    "```\n",
    "\n",
    "### The complete list of all available datasets for the API is located here:\n",
    "https://api.census.gov/data.html\n"
   ]
  },
  {
   "cell_type": "code",
   "execution_count": 1,
   "metadata": {
    "collapsed": false
   },
   "outputs": [
    {
     "name": "stdout",
     "output_type": "stream",
     "text": [
      "Populating the interactive namespace from numpy and matplotlib\n"
     ]
    }
   ],
   "source": [
    "# imports for reading in, munging and calculating data\n",
    "import pandas as pd\n",
    "import json\n",
    "import requests \n",
    "import urllib\n",
    "import numpy as np\n",
    "\n",
    "# reading in my api key saved in censusAPI.py as\n",
    "# myAPI = 'XXXXXXXXXXXXXXX'\n",
    "# request an api key in: https://api.census.gov/data/key_signup.html\n",
    "from censusAPI import myAPI\n",
    "\n",
    "# Python 3 compatibility\n",
    "from __future__ import print_function, division\n",
    "\n",
    "# Spatial\n",
    "import geopandas as gpd\n",
    "import fiona\n",
    "import shapely\n",
    "\n",
    "# Plotting\n",
    "import matplotlib.pylab as pl\n",
    "import seaborn as sns\n",
    "sns.set_style('whitegrid')\n",
    "\n",
    "%pylab inline"
   ]
  },
  {
   "cell_type": "markdown",
   "metadata": {},
   "source": [
    "----\n",
    "# Housing units 2016\n",
    "### _data were obtained from the  ACS 2012-2016 5-year estimate, all counties in the US_\n",
    "variables to be acquired:\n",
    "- **B25001_001E** |\tTotal Housing Units (occupied+vacant)\n",
    "- **B25003_002E** | Owner occupied\n",
    "- **B25003_003E** | Renter occupied"
   ]
  },
  {
   "cell_type": "code",
   "execution_count": 2,
   "metadata": {
    "collapsed": true
   },
   "outputs": [],
   "source": [
    "#read in in the variables available. the info you need is in the 1year ACS data\n",
    "url = \"https://api.census.gov/data/2016/acs/acs5/variables.json\"\n",
    "resp = requests.request('GET', url)\n",
    "aff1y = json.loads(resp.text)"
   ]
  },
  {
   "cell_type": "code",
   "execution_count": 3,
   "metadata": {
    "collapsed": false
   },
   "outputs": [
    {
     "data": {
      "text/plain": [
       "array(['B01001B_017E', 'B16005G_005E', 'B07004H_004E', ..., 'B12002_069E',\n",
       "       'B17010H_012E', 'B08119_053E'], dtype='<U14')"
      ]
     },
     "execution_count": 3,
     "metadata": {},
     "output_type": "execute_result"
    }
   ],
   "source": [
    "#turning things into arrays to enable broadcasting\n",
    "#Python3\n",
    "affkeys = np.array(list(aff1y['variables'].keys()))\n",
    "\n",
    "affkeys"
   ]
  },
  {
   "cell_type": "code",
   "execution_count": 4,
   "metadata": {
    "collapsed": false
   },
   "outputs": [
    {
     "data": {
      "text/plain": [
       "{'attributes': 'B25001_001M,B25001_001MA,B25001_001EA',\n",
       " 'concept': 'HOUSING UNITS',\n",
       " 'group': 'B25001',\n",
       " 'label': 'Estimate!!Total',\n",
       " 'limit': 0,\n",
       " 'predicateType': 'int'}"
      ]
     },
     "execution_count": 4,
     "metadata": {},
     "output_type": "execute_result"
    }
   ],
   "source": [
    "# keyword for POP estimates\n",
    "totalHU = 'B25001_001E'\n",
    "owner = 'B25003_002E'\n",
    "renter = 'B25003_003E'\n",
    "\n",
    "aff1y['variables'][totalHU]"
   ]
  },
  {
   "cell_type": "code",
   "execution_count": 5,
   "metadata": {
    "collapsed": false
   },
   "outputs": [
    {
     "name": "stdout",
     "output_type": "stream",
     "text": [
      "(3220, 5)\n"
     ]
    },
    {
     "data": {
      "text/html": [
       "<div>\n",
       "<style scoped>\n",
       "    .dataframe tbody tr th:only-of-type {\n",
       "        vertical-align: middle;\n",
       "    }\n",
       "\n",
       "    .dataframe tbody tr th {\n",
       "        vertical-align: top;\n",
       "    }\n",
       "\n",
       "    .dataframe thead th {\n",
       "        text-align: right;\n",
       "    }\n",
       "</style>\n",
       "<table border=\"1\" class=\"dataframe\">\n",
       "  <thead>\n",
       "    <tr style=\"text-align: right;\">\n",
       "      <th></th>\n",
       "      <th>TotalHousing16</th>\n",
       "      <th>Owners16</th>\n",
       "      <th>renters16</th>\n",
       "      <th>Name</th>\n",
       "      <th>STCO</th>\n",
       "    </tr>\n",
       "  </thead>\n",
       "  <tbody>\n",
       "    <tr>\n",
       "      <th>1</th>\n",
       "      <td>22714</td>\n",
       "      <td>15218</td>\n",
       "      <td>5582</td>\n",
       "      <td>Autauga County, Alabama</td>\n",
       "      <td>01001</td>\n",
       "    </tr>\n",
       "    <tr>\n",
       "      <th>2</th>\n",
       "      <td>107579</td>\n",
       "      <td>53905</td>\n",
       "      <td>21244</td>\n",
       "      <td>Baldwin County, Alabama</td>\n",
       "      <td>01003</td>\n",
       "    </tr>\n",
       "    <tr>\n",
       "      <th>3</th>\n",
       "      <td>11802</td>\n",
       "      <td>5829</td>\n",
       "      <td>3293</td>\n",
       "      <td>Barbour County, Alabama</td>\n",
       "      <td>01005</td>\n",
       "    </tr>\n",
       "    <tr>\n",
       "      <th>4</th>\n",
       "      <td>8972</td>\n",
       "      <td>5119</td>\n",
       "      <td>1929</td>\n",
       "      <td>Bibb County, Alabama</td>\n",
       "      <td>01007</td>\n",
       "    </tr>\n",
       "    <tr>\n",
       "      <th>5</th>\n",
       "      <td>23850</td>\n",
       "      <td>16254</td>\n",
       "      <td>4365</td>\n",
       "      <td>Blount County, Alabama</td>\n",
       "      <td>01009</td>\n",
       "    </tr>\n",
       "  </tbody>\n",
       "</table>\n",
       "</div>"
      ],
      "text/plain": [
       "  TotalHousing16 Owners16 renters16                     Name   STCO\n",
       "1          22714    15218      5582  Autauga County, Alabama  01001\n",
       "2         107579    53905     21244  Baldwin County, Alabama  01003\n",
       "3          11802     5829      3293  Barbour County, Alabama  01005\n",
       "4           8972     5119      1929     Bibb County, Alabama  01007\n",
       "5          23850    16254      4365   Blount County, Alabama  01009"
      ]
     },
     "execution_count": 5,
     "metadata": {},
     "output_type": "execute_result"
    }
   ],
   "source": [
    "# HU2016 data for all counties in the US\n",
    "totalHU16 = pd.read_json('https://api.census.gov/data/2016/acs/acs5?get='+\n",
    "                         totalHU + ',' +\n",
    "                         owner + ',' +\n",
    "                         renter +',NAME&for=county:*&in=state:*')\n",
    "totalHU16.columns = totalHU16.iloc[0]\n",
    "totalHU16 = totalHU16[1:]\n",
    "\n",
    "totalHU16['state'] = totalHU16['state'].apply(lambda x: '{0:0>2}'.format(x))\n",
    "totalHU16['county'] = totalHU16['county'].apply(lambda x: '{0:0>3}'.format(x))\n",
    "totalHU16['STCO'] = totalHU16[['state', 'county']].apply(lambda x: ''.join(x), axis=1)\n",
    "\n",
    "totalHU16 = totalHU16.drop(['state', 'county'], axis=1)\n",
    "totalHU16.columns = ['TotalHousing16', 'Owners16', 'renters16',\n",
    "                     'Name', 'STCO']\n",
    "\n",
    "print(totalHU16.shape)\n",
    "totalHU16.head()"
   ]
  },
  {
   "cell_type": "markdown",
   "metadata": {},
   "source": [
    "##  Reading in geo-coded dataset\n",
    "created on a different notebook, please refer to [notebook no.0: 0-US_Metro_Comparison_Geographies.ipynb](https://github.com/NYCPlanning/rp-USmetros_comparison/blob/master/0-US_Metro_Comparison_Geographies.ipynb)"
   ]
  },
  {
   "cell_type": "code",
   "execution_count": 6,
   "metadata": {
    "collapsed": false
   },
   "outputs": [
    {
     "name": "stdout",
     "output_type": "stream",
     "text": [
      "(274, 4)\n"
     ]
    },
    {
     "data": {
      "text/html": [
       "<div>\n",
       "<style scoped>\n",
       "    .dataframe tbody tr th:only-of-type {\n",
       "        vertical-align: middle;\n",
       "    }\n",
       "\n",
       "    .dataframe tbody tr th {\n",
       "        vertical-align: top;\n",
       "    }\n",
       "\n",
       "    .dataframe thead th {\n",
       "        text-align: right;\n",
       "    }\n",
       "</style>\n",
       "<table border=\"1\" class=\"dataframe\">\n",
       "  <thead>\n",
       "    <tr style=\"text-align: right;\">\n",
       "      <th></th>\n",
       "      <th>CSA</th>\n",
       "      <th>CSA_name</th>\n",
       "      <th>County_name</th>\n",
       "      <th>STCO</th>\n",
       "    </tr>\n",
       "  </thead>\n",
       "  <tbody>\n",
       "    <tr>\n",
       "      <th>0</th>\n",
       "      <td>348</td>\n",
       "      <td>Los Angeles-Long Beach, CA</td>\n",
       "      <td>Riverside</td>\n",
       "      <td>06065</td>\n",
       "    </tr>\n",
       "    <tr>\n",
       "      <th>1</th>\n",
       "      <td>348</td>\n",
       "      <td>Los Angeles-Long Beach, CA</td>\n",
       "      <td>San Bernardino</td>\n",
       "      <td>06071</td>\n",
       "    </tr>\n",
       "    <tr>\n",
       "      <th>2</th>\n",
       "      <td>348</td>\n",
       "      <td>Los Angeles-Long Beach, CA</td>\n",
       "      <td>Ventura</td>\n",
       "      <td>06111</td>\n",
       "    </tr>\n",
       "    <tr>\n",
       "      <th>3</th>\n",
       "      <td>176</td>\n",
       "      <td>Chicago-Naperville, IL-IN-WI</td>\n",
       "      <td>Cook</td>\n",
       "      <td>17031</td>\n",
       "    </tr>\n",
       "    <tr>\n",
       "      <th>4</th>\n",
       "      <td>488</td>\n",
       "      <td>San Jose-San Francisco-Oakland, CA</td>\n",
       "      <td>Alameda</td>\n",
       "      <td>06001</td>\n",
       "    </tr>\n",
       "  </tbody>\n",
       "</table>\n",
       "</div>"
      ],
      "text/plain": [
       "   CSA                            CSA_name     County_name   STCO\n",
       "0  348          Los Angeles-Long Beach, CA       Riverside  06065\n",
       "1  348          Los Angeles-Long Beach, CA  San Bernardino  06071\n",
       "2  348          Los Angeles-Long Beach, CA         Ventura  06111\n",
       "3  176        Chicago-Naperville, IL-IN-WI            Cook  17031\n",
       "4  488  San Jose-San Francisco-Oakland, CA         Alameda  06001"
      ]
     },
     "execution_count": 6,
     "metadata": {},
     "output_type": "execute_result"
    }
   ],
   "source": [
    "geo = pd.read_csv('../rp-USmetros_comparison/data/USmetros_full_correct.csv')\\\n",
    "                       .drop(['Unnamed: 0'], axis=1)#.set_index('County_name')\n",
    "geo['STCO'] = geo['STCO'].apply(lambda x: '{0:0>5}'.format(x))\n",
    "\n",
    "print(geo.shape)\n",
    "geo.head()"
   ]
  },
  {
   "cell_type": "code",
   "execution_count": 7,
   "metadata": {
    "collapsed": false
   },
   "outputs": [
    {
     "name": "stdout",
     "output_type": "stream",
     "text": [
      "No. of counties in CSA 348: 5\n",
      "No. of counties in CSA 176: 19\n",
      "No. of counties in CSA 488: 12\n",
      "No. of counties in CSA 216: 12\n",
      "No. of counties in CSA 408: 31\n",
      "No. of counties in CSA 148: 19\n",
      "No. of counties in CSA 428: 16\n",
      "No. of counties in CSA 548: 40\n",
      "No. of counties in CSA 370: 7\n",
      "No. of counties in CSA 122: 39\n",
      "No. of counties in CSA 220: 10\n",
      "No. of counties in CSA 378: 21\n",
      "No. of counties in CSA 206: 20\n",
      "No. of counties in CSA 288: 14\n",
      "No. of counties in CSA 500: 9\n"
     ]
    }
   ],
   "source": [
    "for i in geo['CSA'].unique():\n",
    "    print('No. of counties in CSA {}: {}'\\\n",
    "          .format(i, geo[geo['CSA']==i].shape[0]))"
   ]
  },
  {
   "cell_type": "code",
   "execution_count": 8,
   "metadata": {
    "collapsed": false
   },
   "outputs": [
    {
     "name": "stdout",
     "output_type": "stream",
     "text": [
      "<class 'list'>\n",
      "274\n"
     ]
    },
    {
     "data": {
      "text/plain": [
       "['06065', '06071', '06111', '17031', '06001']"
      ]
     },
     "execution_count": 8,
     "metadata": {},
     "output_type": "execute_result"
    }
   ],
   "source": [
    "STCO = list(geo['STCO'])\n",
    "\n",
    "print(type(STCO))\n",
    "print(len(STCO))\n",
    "STCO[:5]"
   ]
  },
  {
   "cell_type": "code",
   "execution_count": 9,
   "metadata": {
    "collapsed": false,
    "scrolled": true
   },
   "outputs": [
    {
     "data": {
      "text/plain": [
       "'06065,06071,06111,17031,06001,06013,06041,06055,06069,06075,06077,06081,06085,06087,06095,06097,06037,06059,08001,08005,08013,08014,08019,08031,08035,08039,08047,08059,08093,08123,09001,09005,09009,34003,34013,34017,34019,34021,34023,34025,34027,34029,34031,34035,34037,34039,34041,36005,36027,36047,36059,36061,36071,36079,36081,36085,36087,36103,36111,36119,09015,25001,25005,25009,25017,25021,25023,25025,25027,33001,33011,33013,33015,33017,44001,44003,44005,44007,44009,10001,10003,24015,34001,34005,34007,34009,34011,34015,34033,42011,42017,42029,42045,42091,42101,11001,24003,24005,24009,24013,24017,24019,24021,24025,24027,24031,24033,24035,24037,24041,24043,24510,42055,51013,51043,51047,51059,51061,51069,51107,51153,51157,51177,51179,51187,51510,51600,51610,51630,51683,51685,51840,54003,54027,54037,12011,12061,12085,12086,12093,12099,12111,13013,13015,13035,13045,13057,13059,13063,13067,13077,13085,13089,13097,13113,13117,13121,13129,13135,13139,13143,13149,13151,13157,13159,13171,13195,13199,13211,13217,13219,13221,13223,13227,13231,13233,13247,13255,13285,13293,13297,17011,17037,17043,17063,17089,17091,17093,17097,17099,17111,17155,17197,18073,18089,18091,18111,18127,55059,26049,26087,26091,26093,26099,26115,26125,26147,26161,26163,27003,27009,27019,27025,27037,27049,27053,27059,27079,27085,27095,27123,27131,27139,27141,27143,27145,27163,27171,55093,55109,40013,48085,48097,48113,48121,48139,48181,48213,48221,48223,48231,48251,48257,48349,48363,48367,48397,48425,48439,48497,48015,48039,48071,48157,48167,48201,48291,48321,48339,48455,48471,48473,48477,48481,53029,53033,53035,53041,53045,53053,53057,53061,53067,36105'"
      ]
     },
     "execution_count": 9,
     "metadata": {},
     "output_type": "execute_result"
    }
   ],
   "source": [
    "STCOstr = \",\".join(STCO)\n",
    "STCOstr"
   ]
  },
  {
   "cell_type": "markdown",
   "metadata": {},
   "source": [
    "### Merging datasets"
   ]
  },
  {
   "cell_type": "code",
   "execution_count": 10,
   "metadata": {
    "collapsed": false
   },
   "outputs": [
    {
     "name": "stdout",
     "output_type": "stream",
     "text": [
      "(274, 6)\n"
     ]
    },
    {
     "data": {
      "text/html": [
       "<div>\n",
       "<style scoped>\n",
       "    .dataframe tbody tr th:only-of-type {\n",
       "        vertical-align: middle;\n",
       "    }\n",
       "\n",
       "    .dataframe tbody tr th {\n",
       "        vertical-align: top;\n",
       "    }\n",
       "\n",
       "    .dataframe thead th {\n",
       "        text-align: right;\n",
       "    }\n",
       "</style>\n",
       "<table border=\"1\" class=\"dataframe\">\n",
       "  <thead>\n",
       "    <tr style=\"text-align: right;\">\n",
       "      <th></th>\n",
       "      <th>TotalHousing16</th>\n",
       "      <th>Owners16</th>\n",
       "      <th>renters16</th>\n",
       "      <th>STCO</th>\n",
       "      <th>CSA</th>\n",
       "      <th>CSA_name</th>\n",
       "    </tr>\n",
       "    <tr>\n",
       "      <th>County_name</th>\n",
       "      <th></th>\n",
       "      <th></th>\n",
       "      <th></th>\n",
       "      <th></th>\n",
       "      <th></th>\n",
       "      <th></th>\n",
       "    </tr>\n",
       "  </thead>\n",
       "  <tbody>\n",
       "    <tr>\n",
       "      <th>Alameda</th>\n",
       "      <td>592796</td>\n",
       "      <td>296634</td>\n",
       "      <td>267659</td>\n",
       "      <td>06001</td>\n",
       "      <td>488</td>\n",
       "      <td>San Jose-San Francisco-Oakland, CA</td>\n",
       "    </tr>\n",
       "    <tr>\n",
       "      <th>Contra Costa</th>\n",
       "      <td>406803</td>\n",
       "      <td>250055</td>\n",
       "      <td>137485</td>\n",
       "      <td>06013</td>\n",
       "      <td>488</td>\n",
       "      <td>San Jose-San Francisco-Oakland, CA</td>\n",
       "    </tr>\n",
       "    <tr>\n",
       "      <th>Los Angeles</th>\n",
       "      <td>3490118</td>\n",
       "      <td>1499576</td>\n",
       "      <td>1782269</td>\n",
       "      <td>06037</td>\n",
       "      <td>348</td>\n",
       "      <td>Los Angeles-Long Beach, CA</td>\n",
       "    </tr>\n",
       "    <tr>\n",
       "      <th>Marin</th>\n",
       "      <td>112259</td>\n",
       "      <td>66200</td>\n",
       "      <td>38200</td>\n",
       "      <td>06041</td>\n",
       "      <td>488</td>\n",
       "      <td>San Jose-San Francisco-Oakland, CA</td>\n",
       "    </tr>\n",
       "    <tr>\n",
       "      <th>Napa</th>\n",
       "      <td>55301</td>\n",
       "      <td>30411</td>\n",
       "      <td>18964</td>\n",
       "      <td>06055</td>\n",
       "      <td>488</td>\n",
       "      <td>San Jose-San Francisco-Oakland, CA</td>\n",
       "    </tr>\n",
       "  </tbody>\n",
       "</table>\n",
       "</div>"
      ],
      "text/plain": [
       "             TotalHousing16 Owners16 renters16   STCO  CSA  \\\n",
       "County_name                                                  \n",
       "Alameda              592796   296634    267659  06001  488   \n",
       "Contra Costa         406803   250055    137485  06013  488   \n",
       "Los Angeles         3490118  1499576   1782269  06037  348   \n",
       "Marin                112259    66200     38200  06041  488   \n",
       "Napa                  55301    30411     18964  06055  488   \n",
       "\n",
       "                                        CSA_name  \n",
       "County_name                                       \n",
       "Alameda       San Jose-San Francisco-Oakland, CA  \n",
       "Contra Costa  San Jose-San Francisco-Oakland, CA  \n",
       "Los Angeles           Los Angeles-Long Beach, CA  \n",
       "Marin         San Jose-San Francisco-Oakland, CA  \n",
       "Napa          San Jose-San Francisco-Oakland, CA  "
      ]
     },
     "execution_count": 10,
     "metadata": {},
     "output_type": "execute_result"
    }
   ],
   "source": [
    "HOUSING16_CO = totalHU16.merge(geo, on='STCO').set_index('County_name').drop(\"Name\", axis=1)\n",
    "\n",
    "print(HOUSING16_CO.shape)\n",
    "HOUSING16_CO.head()"
   ]
  },
  {
   "cell_type": "code",
   "execution_count": 11,
   "metadata": {
    "collapsed": false,
    "scrolled": true
   },
   "outputs": [
    {
     "data": {
      "text/plain": [
       "TotalHousing16     int64\n",
       "Owners16           int64\n",
       "renters16          int64\n",
       "STCO              object\n",
       "CSA                int64\n",
       "CSA_name          object\n",
       "dtype: object"
      ]
     },
     "execution_count": 11,
     "metadata": {},
     "output_type": "execute_result"
    }
   ],
   "source": [
    "# convert numeric columns from str ('object') to int via to_numeric\n",
    "HOUSING16_CO.iloc[:,:3] = HOUSING16_CO.iloc[:,:3].apply(pd.to_numeric,\n",
    "                                                      errors='coerce')\n",
    "\n",
    "HOUSING16_CO.dtypes"
   ]
  },
  {
   "cell_type": "markdown",
   "metadata": {},
   "source": [
    "### Exporting all counties Housing data to .csv"
   ]
  },
  {
   "cell_type": "code",
   "execution_count": 12,
   "metadata": {
    "collapsed": true
   },
   "outputs": [],
   "source": [
    "HOUSING16_CO.to_csv('HOUSING16_CO_NEW.csv')"
   ]
  },
  {
   "cell_type": "markdown",
   "metadata": {},
   "source": [
    "## Groupby CSAs to sum"
   ]
  },
  {
   "cell_type": "code",
   "execution_count": 13,
   "metadata": {
    "collapsed": false
   },
   "outputs": [
    {
     "name": "stdout",
     "output_type": "stream",
     "text": [
      "(15, 3)\n"
     ]
    },
    {
     "data": {
      "text/html": [
       "<div>\n",
       "<style scoped>\n",
       "    .dataframe tbody tr th:only-of-type {\n",
       "        vertical-align: middle;\n",
       "    }\n",
       "\n",
       "    .dataframe tbody tr th {\n",
       "        vertical-align: top;\n",
       "    }\n",
       "\n",
       "    .dataframe thead th {\n",
       "        text-align: right;\n",
       "    }\n",
       "</style>\n",
       "<table border=\"1\" class=\"dataframe\">\n",
       "  <thead>\n",
       "    <tr style=\"text-align: right;\">\n",
       "      <th></th>\n",
       "      <th></th>\n",
       "      <th>TotalHousing16</th>\n",
       "      <th>Owners16</th>\n",
       "      <th>renters16</th>\n",
       "    </tr>\n",
       "    <tr>\n",
       "      <th>CSA</th>\n",
       "      <th>CSA_name</th>\n",
       "      <th></th>\n",
       "      <th></th>\n",
       "      <th></th>\n",
       "    </tr>\n",
       "  </thead>\n",
       "  <tbody>\n",
       "    <tr>\n",
       "      <th>122</th>\n",
       "      <th>Atlanta--Athens-Clarke County--Sandy Springs, GA</th>\n",
       "      <td>2475969</td>\n",
       "      <td>1396394</td>\n",
       "      <td>824382</td>\n",
       "    </tr>\n",
       "    <tr>\n",
       "      <th>148</th>\n",
       "      <th>Boston-Worcester-Providence, MA-RI-NH-CT</th>\n",
       "      <td>3412143</td>\n",
       "      <td>1934972</td>\n",
       "      <td>1151423</td>\n",
       "    </tr>\n",
       "    <tr>\n",
       "      <th>176</th>\n",
       "      <th>Chicago-Naperville, IL-IN-WI</th>\n",
       "      <td>3969378</td>\n",
       "      <td>2327231</td>\n",
       "      <td>1282068</td>\n",
       "    </tr>\n",
       "    <tr>\n",
       "      <th>206</th>\n",
       "      <th>Dallas-Fort Worth, TX-OK</th>\n",
       "      <td>2832798</td>\n",
       "      <td>1566020</td>\n",
       "      <td>1034702</td>\n",
       "    </tr>\n",
       "    <tr>\n",
       "      <th>216</th>\n",
       "      <th>Denver-Aurora, CO</th>\n",
       "      <td>1350238</td>\n",
       "      <td>814383</td>\n",
       "      <td>464369</td>\n",
       "    </tr>\n",
       "    <tr>\n",
       "      <th>220</th>\n",
       "      <th>Detroit-Warren-Ann Arbor, MI</th>\n",
       "      <td>2340603</td>\n",
       "      <td>1420760</td>\n",
       "      <td>652609</td>\n",
       "    </tr>\n",
       "    <tr>\n",
       "      <th>288</th>\n",
       "      <th>Houston-The Woodlands, TX</th>\n",
       "      <td>2534512</td>\n",
       "      <td>1383407</td>\n",
       "      <td>907205</td>\n",
       "    </tr>\n",
       "    <tr>\n",
       "      <th>348</th>\n",
       "      <th>Los Angeles-Long Beach, CA</th>\n",
       "      <td>6375740</td>\n",
       "      <td>3072459</td>\n",
       "      <td>2820374</td>\n",
       "    </tr>\n",
       "    <tr>\n",
       "      <th>370</th>\n",
       "      <th>Miami-Fort Lauderdale-Port St. Lucie, FL</th>\n",
       "      <td>2809034</td>\n",
       "      <td>1419029</td>\n",
       "      <td>888587</td>\n",
       "    </tr>\n",
       "    <tr>\n",
       "      <th>378</th>\n",
       "      <th>Minneapolis-St. Paul, MN-WI</th>\n",
       "      <td>1554227</td>\n",
       "      <td>1028692</td>\n",
       "      <td>444354</td>\n",
       "    </tr>\n",
       "    <tr>\n",
       "      <th>408</th>\n",
       "      <th>New York-Newark, NY-NJ-CT-PA</th>\n",
       "      <td>8973910</td>\n",
       "      <td>4328256</td>\n",
       "      <td>3794128</td>\n",
       "    </tr>\n",
       "    <tr>\n",
       "      <th>428</th>\n",
       "      <th>Philadelphia-Reading-Camden, PA-NJ-DE-MD</th>\n",
       "      <td>2965130</td>\n",
       "      <td>1789788</td>\n",
       "      <td>851882</td>\n",
       "    </tr>\n",
       "    <tr>\n",
       "      <th>488</th>\n",
       "      <th>San Jose-San Francisco-Oakland, CA</th>\n",
       "      <td>3202912</td>\n",
       "      <td>1671214</td>\n",
       "      <td>1347297</td>\n",
       "    </tr>\n",
       "    <tr>\n",
       "      <th>500</th>\n",
       "      <th>Seattle-Tacoma, WA</th>\n",
       "      <td>1893806</td>\n",
       "      <td>1070569</td>\n",
       "      <td>680252</td>\n",
       "    </tr>\n",
       "    <tr>\n",
       "      <th>548</th>\n",
       "      <th>Washington-Baltimore-Arlington, DC-MD-VA-WV-PA</th>\n",
       "      <td>3763493</td>\n",
       "      <td>2235443</td>\n",
       "      <td>1237556</td>\n",
       "    </tr>\n",
       "  </tbody>\n",
       "</table>\n",
       "</div>"
      ],
      "text/plain": [
       "                                                      TotalHousing16  \\\n",
       "CSA CSA_name                                                           \n",
       "122 Atlanta--Athens-Clarke County--Sandy Springs, GA         2475969   \n",
       "148 Boston-Worcester-Providence, MA-RI-NH-CT                 3412143   \n",
       "176 Chicago-Naperville, IL-IN-WI                             3969378   \n",
       "206 Dallas-Fort Worth, TX-OK                                 2832798   \n",
       "216 Denver-Aurora, CO                                        1350238   \n",
       "220 Detroit-Warren-Ann Arbor, MI                             2340603   \n",
       "288 Houston-The Woodlands, TX                                2534512   \n",
       "348 Los Angeles-Long Beach, CA                               6375740   \n",
       "370 Miami-Fort Lauderdale-Port St. Lucie, FL                 2809034   \n",
       "378 Minneapolis-St. Paul, MN-WI                              1554227   \n",
       "408 New York-Newark, NY-NJ-CT-PA                             8973910   \n",
       "428 Philadelphia-Reading-Camden, PA-NJ-DE-MD                 2965130   \n",
       "488 San Jose-San Francisco-Oakland, CA                       3202912   \n",
       "500 Seattle-Tacoma, WA                                       1893806   \n",
       "548 Washington-Baltimore-Arlington, DC-MD-VA-WV-PA           3763493   \n",
       "\n",
       "                                                      Owners16  renters16  \n",
       "CSA CSA_name                                                               \n",
       "122 Atlanta--Athens-Clarke County--Sandy Springs, GA   1396394     824382  \n",
       "148 Boston-Worcester-Providence, MA-RI-NH-CT           1934972    1151423  \n",
       "176 Chicago-Naperville, IL-IN-WI                       2327231    1282068  \n",
       "206 Dallas-Fort Worth, TX-OK                           1566020    1034702  \n",
       "216 Denver-Aurora, CO                                   814383     464369  \n",
       "220 Detroit-Warren-Ann Arbor, MI                       1420760     652609  \n",
       "288 Houston-The Woodlands, TX                          1383407     907205  \n",
       "348 Los Angeles-Long Beach, CA                         3072459    2820374  \n",
       "370 Miami-Fort Lauderdale-Port St. Lucie, FL           1419029     888587  \n",
       "378 Minneapolis-St. Paul, MN-WI                        1028692     444354  \n",
       "408 New York-Newark, NY-NJ-CT-PA                       4328256    3794128  \n",
       "428 Philadelphia-Reading-Camden, PA-NJ-DE-MD           1789788     851882  \n",
       "488 San Jose-San Francisco-Oakland, CA                 1671214    1347297  \n",
       "500 Seattle-Tacoma, WA                                 1070569     680252  \n",
       "548 Washington-Baltimore-Arlington, DC-MD-VA-WV-PA     2235443    1237556  "
      ]
     },
     "execution_count": 13,
     "metadata": {},
     "output_type": "execute_result"
    }
   ],
   "source": [
    "CSA_housing16 = HOUSING16_CO.groupby(['CSA', 'CSA_name']).sum()\n",
    "\n",
    "print(CSA_housing16.shape)\n",
    "CSA_housing16"
   ]
  },
  {
   "cell_type": "markdown",
   "metadata": {},
   "source": [
    "### Exporting CSA's Housing data to .csv"
   ]
  },
  {
   "cell_type": "code",
   "execution_count": 14,
   "metadata": {
    "collapsed": true
   },
   "outputs": [],
   "source": [
    "CSA_housing16.to_csv('HOUSING16_CSAs_NEW.csv')"
   ]
  },
  {
   "cell_type": "markdown",
   "metadata": {},
   "source": [
    "----\n",
    "\n",
    "# Housing units 2010\n",
    "### _data were obtained from the ACS 2006-2010 5-year estimate, all counties in the US_\n",
    "variables to be acquired:\n",
    "- **B25002_001E** |\tTotal Housing Units (occupied + vacant)\n",
    "- **B25003_002E** | Owner occupied\n",
    "- **B25003_003E** | Renter occupied"
   ]
  },
  {
   "cell_type": "code",
   "execution_count": 15,
   "metadata": {
    "collapsed": true
   },
   "outputs": [],
   "source": [
    "url10 = \"https://api.census.gov/data/2010/acs/acs5/variables.json\"\n",
    "resp10 = requests.request('GET', url10)\n",
    "aff1y10 = json.loads(resp10.text)"
   ]
  },
  {
   "cell_type": "code",
   "execution_count": 16,
   "metadata": {
    "collapsed": false
   },
   "outputs": [
    {
     "data": {
      "text/plain": [
       "array(['C15002C_005E', 'B01001B_017E', 'B07008PR_022E', ...,\n",
       "       'B23010_008E', 'B99252_002E', 'B08603_011E'], dtype='<U14')"
      ]
     },
     "execution_count": 16,
     "metadata": {},
     "output_type": "execute_result"
    }
   ],
   "source": [
    "#turning things into arrays to enable broadcasting\n",
    "#Python3\n",
    "affkeys10 = np.array(list(aff1y10['variables'].keys()))\n",
    "\n",
    "affkeys10"
   ]
  },
  {
   "cell_type": "code",
   "execution_count": 17,
   "metadata": {
    "collapsed": false
   },
   "outputs": [
    {
     "data": {
      "text/plain": [
       "{'attributes': 'B25002_001EA,B25002_001M,B25002_001MA',\n",
       " 'group': 'B25002',\n",
       " 'label': 'Estimate!!Total',\n",
       " 'limit': 0,\n",
       " 'predicateType': 'int'}"
      ]
     },
     "execution_count": 17,
     "metadata": {},
     "output_type": "execute_result"
    }
   ],
   "source": [
    "# keyword for POP estimates\n",
    "totalHU10 = 'B25002_001E'\n",
    "owner10 = 'B25003_002E'\n",
    "renter10 = 'B25003_003E'\n",
    "\n",
    "aff1y10['variables'][totalHU10]"
   ]
  },
  {
   "cell_type": "code",
   "execution_count": 18,
   "metadata": {
    "collapsed": false
   },
   "outputs": [
    {
     "name": "stdout",
     "output_type": "stream",
     "text": [
      "(3221, 5)\n"
     ]
    },
    {
     "data": {
      "text/html": [
       "<div>\n",
       "<style scoped>\n",
       "    .dataframe tbody tr th:only-of-type {\n",
       "        vertical-align: middle;\n",
       "    }\n",
       "\n",
       "    .dataframe tbody tr th {\n",
       "        vertical-align: top;\n",
       "    }\n",
       "\n",
       "    .dataframe thead th {\n",
       "        text-align: right;\n",
       "    }\n",
       "</style>\n",
       "<table border=\"1\" class=\"dataframe\">\n",
       "  <thead>\n",
       "    <tr style=\"text-align: right;\">\n",
       "      <th></th>\n",
       "      <th>TotalHousing10</th>\n",
       "      <th>Owners10</th>\n",
       "      <th>renters10</th>\n",
       "      <th>Name</th>\n",
       "      <th>STCO</th>\n",
       "    </tr>\n",
       "  </thead>\n",
       "  <tbody>\n",
       "    <tr>\n",
       "      <th>1</th>\n",
       "      <td>27478</td>\n",
       "      <td>15389</td>\n",
       "      <td>8301</td>\n",
       "      <td>Troup County, Georgia</td>\n",
       "      <td>13285</td>\n",
       "    </tr>\n",
       "    <tr>\n",
       "      <th>2</th>\n",
       "      <td>3873</td>\n",
       "      <td>1993</td>\n",
       "      <td>1103</td>\n",
       "      <td>Turner County, Georgia</td>\n",
       "      <td>13287</td>\n",
       "    </tr>\n",
       "    <tr>\n",
       "      <th>3</th>\n",
       "      <td>4272</td>\n",
       "      <td>2488</td>\n",
       "      <td>582</td>\n",
       "      <td>Twiggs County, Georgia</td>\n",
       "      <td>13289</td>\n",
       "    </tr>\n",
       "    <tr>\n",
       "      <th>4</th>\n",
       "      <td>13714</td>\n",
       "      <td>7392</td>\n",
       "      <td>2079</td>\n",
       "      <td>Union County, Georgia</td>\n",
       "      <td>13291</td>\n",
       "    </tr>\n",
       "    <tr>\n",
       "      <th>5</th>\n",
       "      <td>12188</td>\n",
       "      <td>7334</td>\n",
       "      <td>3168</td>\n",
       "      <td>Upson County, Georgia</td>\n",
       "      <td>13293</td>\n",
       "    </tr>\n",
       "  </tbody>\n",
       "</table>\n",
       "</div>"
      ],
      "text/plain": [
       "  TotalHousing10 Owners10 renters10                    Name   STCO\n",
       "1          27478    15389      8301   Troup County, Georgia  13285\n",
       "2           3873     1993      1103  Turner County, Georgia  13287\n",
       "3           4272     2488       582  Twiggs County, Georgia  13289\n",
       "4          13714     7392      2079   Union County, Georgia  13291\n",
       "5          12188     7334      3168   Upson County, Georgia  13293"
      ]
     },
     "execution_count": 18,
     "metadata": {},
     "output_type": "execute_result"
    }
   ],
   "source": [
    "# HU2010 data for all counties in the US\n",
    "totalHU10 = pd.read_json('https://api.census.gov/data/2010/acs/acs5?get='+\n",
    "                         totalHU10 + ',' +\n",
    "                         owner10 + ',' +\n",
    "                         renter10 +',NAME&for=county:*&in=state:*')\n",
    "totalHU10.columns = totalHU10.iloc[0]\n",
    "totalHU10 = totalHU10[1:]\n",
    "\n",
    "totalHU10['state'] = totalHU10['state'].apply(lambda x: '{0:0>2}'.format(x))\n",
    "totalHU10['county'] = totalHU10['county'].apply(lambda x: '{0:0>3}'.format(x))\n",
    "totalHU10['STCO'] = totalHU10[['state', 'county']].apply(lambda x: ''.join(x), axis=1)\n",
    "\n",
    "totalHU10.iloc[:,:3] = totalHU10.iloc[:,:3].apply(pd.to_numeric,\n",
    "                                                 errors='coerce')\n",
    "\n",
    "totalHU10 = totalHU10.drop(['state', 'county'], axis=1)\n",
    "totalHU10.columns = ['TotalHousing10', 'Owners10', 'renters10',\n",
    "                     'Name', 'STCO']\n",
    "\n",
    "print(totalHU10.shape)\n",
    "totalHU10.head()"
   ]
  },
  {
   "cell_type": "code",
   "execution_count": 19,
   "metadata": {
    "collapsed": false
   },
   "outputs": [
    {
     "data": {
      "text/plain": [
       "TotalHousing10    object\n",
       "Owners10          object\n",
       "renters10         object\n",
       "Name              object\n",
       "STCO              object\n",
       "dtype: object"
      ]
     },
     "execution_count": 19,
     "metadata": {},
     "output_type": "execute_result"
    }
   ],
   "source": [
    "totalHU10.dtypes"
   ]
  },
  {
   "cell_type": "code",
   "execution_count": 20,
   "metadata": {
    "collapsed": false
   },
   "outputs": [
    {
     "name": "stdout",
     "output_type": "stream",
     "text": [
      "(274, 6)\n"
     ]
    },
    {
     "data": {
      "text/html": [
       "<div>\n",
       "<style scoped>\n",
       "    .dataframe tbody tr th:only-of-type {\n",
       "        vertical-align: middle;\n",
       "    }\n",
       "\n",
       "    .dataframe tbody tr th {\n",
       "        vertical-align: top;\n",
       "    }\n",
       "\n",
       "    .dataframe thead th {\n",
       "        text-align: right;\n",
       "    }\n",
       "</style>\n",
       "<table border=\"1\" class=\"dataframe\">\n",
       "  <thead>\n",
       "    <tr style=\"text-align: right;\">\n",
       "      <th></th>\n",
       "      <th>TotalHousing10</th>\n",
       "      <th>Owners10</th>\n",
       "      <th>renters10</th>\n",
       "      <th>STCO</th>\n",
       "      <th>CSA</th>\n",
       "      <th>CSA_name</th>\n",
       "    </tr>\n",
       "    <tr>\n",
       "      <th>County_name</th>\n",
       "      <th></th>\n",
       "      <th></th>\n",
       "      <th></th>\n",
       "      <th></th>\n",
       "      <th></th>\n",
       "      <th></th>\n",
       "    </tr>\n",
       "  </thead>\n",
       "  <tbody>\n",
       "    <tr>\n",
       "      <th>Troup</th>\n",
       "      <td>27478</td>\n",
       "      <td>15389</td>\n",
       "      <td>8301</td>\n",
       "      <td>13285</td>\n",
       "      <td>122</td>\n",
       "      <td>Atlanta--Athens-Clarke County--Sandy Springs, GA</td>\n",
       "    </tr>\n",
       "    <tr>\n",
       "      <th>Upson</th>\n",
       "      <td>12188</td>\n",
       "      <td>7334</td>\n",
       "      <td>3168</td>\n",
       "      <td>13293</td>\n",
       "      <td>122</td>\n",
       "      <td>Atlanta--Athens-Clarke County--Sandy Springs, GA</td>\n",
       "    </tr>\n",
       "    <tr>\n",
       "      <th>Walton</th>\n",
       "      <td>31898</td>\n",
       "      <td>22161</td>\n",
       "      <td>6986</td>\n",
       "      <td>13297</td>\n",
       "      <td>122</td>\n",
       "      <td>Atlanta--Athens-Clarke County--Sandy Springs, GA</td>\n",
       "    </tr>\n",
       "    <tr>\n",
       "      <th>Bureau</th>\n",
       "      <td>15686</td>\n",
       "      <td>10959</td>\n",
       "      <td>3621</td>\n",
       "      <td>17011</td>\n",
       "      <td>176</td>\n",
       "      <td>Chicago-Naperville, IL-IN-WI</td>\n",
       "    </tr>\n",
       "    <tr>\n",
       "      <th>Cook</th>\n",
       "      <td>2173433</td>\n",
       "      <td>1169991</td>\n",
       "      <td>766490</td>\n",
       "      <td>17031</td>\n",
       "      <td>176</td>\n",
       "      <td>Chicago-Naperville, IL-IN-WI</td>\n",
       "    </tr>\n",
       "  </tbody>\n",
       "</table>\n",
       "</div>"
      ],
      "text/plain": [
       "            TotalHousing10 Owners10 renters10   STCO  CSA  \\\n",
       "County_name                                                 \n",
       "Troup                27478    15389      8301  13285  122   \n",
       "Upson                12188     7334      3168  13293  122   \n",
       "Walton               31898    22161      6986  13297  122   \n",
       "Bureau               15686    10959      3621  17011  176   \n",
       "Cook               2173433  1169991    766490  17031  176   \n",
       "\n",
       "                                                     CSA_name  \n",
       "County_name                                                    \n",
       "Troup        Atlanta--Athens-Clarke County--Sandy Springs, GA  \n",
       "Upson        Atlanta--Athens-Clarke County--Sandy Springs, GA  \n",
       "Walton       Atlanta--Athens-Clarke County--Sandy Springs, GA  \n",
       "Bureau                           Chicago-Naperville, IL-IN-WI  \n",
       "Cook                             Chicago-Naperville, IL-IN-WI  "
      ]
     },
     "execution_count": 20,
     "metadata": {},
     "output_type": "execute_result"
    }
   ],
   "source": [
    "totalHU10 = totalHU10.merge(geo, on='STCO').set_index('County_name').drop(\"Name\", axis=1)\n",
    "\n",
    "print(totalHU10.shape)\n",
    "totalHU10.head()"
   ]
  },
  {
   "cell_type": "code",
   "execution_count": 21,
   "metadata": {
    "collapsed": true
   },
   "outputs": [],
   "source": [
    "# export to .csv\n",
    "totalHU10.to_csv('exports/HOUSING10_CO_NEW.csv')"
   ]
  },
  {
   "cell_type": "code",
   "execution_count": 22,
   "metadata": {
    "collapsed": true
   },
   "outputs": [],
   "source": [
    "totalHU10[['TotalHousing10','renters10', 'Owners10']] = totalHU10[['TotalHousing10',\n",
    "                                                        'renters10', 'Owners10']].apply(pd.to_numeric,\n",
    "                                                         errors='coerce')"
   ]
  },
  {
   "cell_type": "code",
   "execution_count": 23,
   "metadata": {
    "collapsed": false
   },
   "outputs": [
    {
     "data": {
      "text/plain": [
       "TotalHousing10     int64\n",
       "Owners10           int64\n",
       "renters10          int64\n",
       "STCO              object\n",
       "CSA                int64\n",
       "CSA_name          object\n",
       "dtype: object"
      ]
     },
     "execution_count": 23,
     "metadata": {},
     "output_type": "execute_result"
    }
   ],
   "source": [
    "totalHU10.dtypes"
   ]
  },
  {
   "cell_type": "code",
   "execution_count": 24,
   "metadata": {
    "collapsed": false
   },
   "outputs": [
    {
     "name": "stdout",
     "output_type": "stream",
     "text": [
      "(15, 3)\n"
     ]
    },
    {
     "data": {
      "text/html": [
       "<div>\n",
       "<style scoped>\n",
       "    .dataframe tbody tr th:only-of-type {\n",
       "        vertical-align: middle;\n",
       "    }\n",
       "\n",
       "    .dataframe tbody tr th {\n",
       "        vertical-align: top;\n",
       "    }\n",
       "\n",
       "    .dataframe thead th {\n",
       "        text-align: right;\n",
       "    }\n",
       "</style>\n",
       "<table border=\"1\" class=\"dataframe\">\n",
       "  <thead>\n",
       "    <tr style=\"text-align: right;\">\n",
       "      <th></th>\n",
       "      <th></th>\n",
       "      <th>TotalHousing10</th>\n",
       "      <th>Owners10</th>\n",
       "      <th>renters10</th>\n",
       "    </tr>\n",
       "    <tr>\n",
       "      <th>CSA</th>\n",
       "      <th>CSA_name</th>\n",
       "      <th></th>\n",
       "      <th></th>\n",
       "      <th></th>\n",
       "    </tr>\n",
       "  </thead>\n",
       "  <tbody>\n",
       "    <tr>\n",
       "      <th>122</th>\n",
       "      <th>Atlanta--Athens-Clarke County--Sandy Springs, GA</th>\n",
       "      <td>2385537</td>\n",
       "      <td>1419824</td>\n",
       "      <td>677107</td>\n",
       "    </tr>\n",
       "    <tr>\n",
       "      <th>148</th>\n",
       "      <th>Boston-Worcester-Providence, MA-RI-NH-CT</th>\n",
       "      <td>3352133</td>\n",
       "      <td>1964962</td>\n",
       "      <td>1066964</td>\n",
       "    </tr>\n",
       "    <tr>\n",
       "      <th>176</th>\n",
       "      <th>Chicago-Naperville, IL-IN-WI</th>\n",
       "      <td>3935118</td>\n",
       "      <td>2431899</td>\n",
       "      <td>1137673</td>\n",
       "    </tr>\n",
       "    <tr>\n",
       "      <th>206</th>\n",
       "      <th>Dallas-Fort Worth, TX-OK</th>\n",
       "      <td>2637717</td>\n",
       "      <td>1509869</td>\n",
       "      <td>866058</td>\n",
       "    </tr>\n",
       "    <tr>\n",
       "      <th>216</th>\n",
       "      <th>Denver-Aurora, CO</th>\n",
       "      <td>1282906</td>\n",
       "      <td>787841</td>\n",
       "      <td>395363</td>\n",
       "    </tr>\n",
       "    <tr>\n",
       "      <th>220</th>\n",
       "      <th>Detroit-Warren-Ann Arbor, MI</th>\n",
       "      <td>2336269</td>\n",
       "      <td>1504995</td>\n",
       "      <td>561392</td>\n",
       "    </tr>\n",
       "    <tr>\n",
       "      <th>288</th>\n",
       "      <th>Houston-The Woodlands, TX</th>\n",
       "      <td>2299533</td>\n",
       "      <td>1284443</td>\n",
       "      <td>739694</td>\n",
       "    </tr>\n",
       "    <tr>\n",
       "      <th>348</th>\n",
       "      <th>Los Angeles-Long Beach, CA</th>\n",
       "      <td>6221825</td>\n",
       "      <td>3181828</td>\n",
       "      <td>2547900</td>\n",
       "    </tr>\n",
       "    <tr>\n",
       "      <th>370</th>\n",
       "      <th>Miami-Fort Lauderdale-Port St. Lucie, FL</th>\n",
       "      <td>2749614</td>\n",
       "      <td>1509088</td>\n",
       "      <td>744024</td>\n",
       "    </tr>\n",
       "    <tr>\n",
       "      <th>378</th>\n",
       "      <th>Minneapolis-St. Paul, MN-WI</th>\n",
       "      <td>1512218</td>\n",
       "      <td>1035406</td>\n",
       "      <td>383150</td>\n",
       "    </tr>\n",
       "    <tr>\n",
       "      <th>408</th>\n",
       "      <th>New York-Newark, NY-NJ-CT-PA</th>\n",
       "      <td>8807139</td>\n",
       "      <td>4454177</td>\n",
       "      <td>3574928</td>\n",
       "    </tr>\n",
       "    <tr>\n",
       "      <th>428</th>\n",
       "      <th>Philadelphia-Reading-Camden, PA-NJ-DE-MD</th>\n",
       "      <td>2925011</td>\n",
       "      <td>1841107</td>\n",
       "      <td>784249</td>\n",
       "    </tr>\n",
       "    <tr>\n",
       "      <th>488</th>\n",
       "      <th>San Jose-San Francisco-Oakland, CA</th>\n",
       "      <td>3115353</td>\n",
       "      <td>1686652</td>\n",
       "      <td>1200391</td>\n",
       "    </tr>\n",
       "    <tr>\n",
       "      <th>500</th>\n",
       "      <th>Seattle-Tacoma, WA</th>\n",
       "      <td>1801686</td>\n",
       "      <td>1062172</td>\n",
       "      <td>602866</td>\n",
       "    </tr>\n",
       "    <tr>\n",
       "      <th>548</th>\n",
       "      <th>Washington-Baltimore-Arlington, DC-MD-VA-WV-PA</th>\n",
       "      <td>3622663</td>\n",
       "      <td>2231117</td>\n",
       "      <td>1086748</td>\n",
       "    </tr>\n",
       "  </tbody>\n",
       "</table>\n",
       "</div>"
      ],
      "text/plain": [
       "                                                      TotalHousing10  \\\n",
       "CSA CSA_name                                                           \n",
       "122 Atlanta--Athens-Clarke County--Sandy Springs, GA         2385537   \n",
       "148 Boston-Worcester-Providence, MA-RI-NH-CT                 3352133   \n",
       "176 Chicago-Naperville, IL-IN-WI                             3935118   \n",
       "206 Dallas-Fort Worth, TX-OK                                 2637717   \n",
       "216 Denver-Aurora, CO                                        1282906   \n",
       "220 Detroit-Warren-Ann Arbor, MI                             2336269   \n",
       "288 Houston-The Woodlands, TX                                2299533   \n",
       "348 Los Angeles-Long Beach, CA                               6221825   \n",
       "370 Miami-Fort Lauderdale-Port St. Lucie, FL                 2749614   \n",
       "378 Minneapolis-St. Paul, MN-WI                              1512218   \n",
       "408 New York-Newark, NY-NJ-CT-PA                             8807139   \n",
       "428 Philadelphia-Reading-Camden, PA-NJ-DE-MD                 2925011   \n",
       "488 San Jose-San Francisco-Oakland, CA                       3115353   \n",
       "500 Seattle-Tacoma, WA                                       1801686   \n",
       "548 Washington-Baltimore-Arlington, DC-MD-VA-WV-PA           3622663   \n",
       "\n",
       "                                                      Owners10  renters10  \n",
       "CSA CSA_name                                                               \n",
       "122 Atlanta--Athens-Clarke County--Sandy Springs, GA   1419824     677107  \n",
       "148 Boston-Worcester-Providence, MA-RI-NH-CT           1964962    1066964  \n",
       "176 Chicago-Naperville, IL-IN-WI                       2431899    1137673  \n",
       "206 Dallas-Fort Worth, TX-OK                           1509869     866058  \n",
       "216 Denver-Aurora, CO                                   787841     395363  \n",
       "220 Detroit-Warren-Ann Arbor, MI                       1504995     561392  \n",
       "288 Houston-The Woodlands, TX                          1284443     739694  \n",
       "348 Los Angeles-Long Beach, CA                         3181828    2547900  \n",
       "370 Miami-Fort Lauderdale-Port St. Lucie, FL           1509088     744024  \n",
       "378 Minneapolis-St. Paul, MN-WI                        1035406     383150  \n",
       "408 New York-Newark, NY-NJ-CT-PA                       4454177    3574928  \n",
       "428 Philadelphia-Reading-Camden, PA-NJ-DE-MD           1841107     784249  \n",
       "488 San Jose-San Francisco-Oakland, CA                 1686652    1200391  \n",
       "500 Seattle-Tacoma, WA                                 1062172     602866  \n",
       "548 Washington-Baltimore-Arlington, DC-MD-VA-WV-PA     2231117    1086748  "
      ]
     },
     "execution_count": 24,
     "metadata": {},
     "output_type": "execute_result"
    }
   ],
   "source": [
    "CSA_housing10 = totalHU10.groupby(['CSA', 'CSA_name']).sum()\n",
    "\n",
    "print(CSA_housing10.shape)\n",
    "CSA_housing10"
   ]
  },
  {
   "cell_type": "code",
   "execution_count": 25,
   "metadata": {
    "collapsed": false
   },
   "outputs": [
    {
     "data": {
      "text/html": [
       "<div>\n",
       "<style scoped>\n",
       "    .dataframe tbody tr th:only-of-type {\n",
       "        vertical-align: middle;\n",
       "    }\n",
       "\n",
       "    .dataframe tbody tr th {\n",
       "        vertical-align: top;\n",
       "    }\n",
       "\n",
       "    .dataframe thead th {\n",
       "        text-align: right;\n",
       "    }\n",
       "</style>\n",
       "<table border=\"1\" class=\"dataframe\">\n",
       "  <thead>\n",
       "    <tr style=\"text-align: right;\">\n",
       "      <th></th>\n",
       "      <th></th>\n",
       "      <th>TotalHousing10</th>\n",
       "      <th>Owners10</th>\n",
       "      <th>renters10</th>\n",
       "      <th>TotalHousing16</th>\n",
       "      <th>Owners16</th>\n",
       "      <th>renters16</th>\n",
       "      <th>HousingNET</th>\n",
       "      <th>OwnersNET</th>\n",
       "      <th>RentersNET</th>\n",
       "    </tr>\n",
       "    <tr>\n",
       "      <th>CSA</th>\n",
       "      <th>CSA_name</th>\n",
       "      <th></th>\n",
       "      <th></th>\n",
       "      <th></th>\n",
       "      <th></th>\n",
       "      <th></th>\n",
       "      <th></th>\n",
       "      <th></th>\n",
       "      <th></th>\n",
       "      <th></th>\n",
       "    </tr>\n",
       "  </thead>\n",
       "  <tbody>\n",
       "    <tr>\n",
       "      <th>122</th>\n",
       "      <th>Atlanta--Athens-Clarke County--Sandy Springs, GA</th>\n",
       "      <td>2385537</td>\n",
       "      <td>1419824</td>\n",
       "      <td>677107</td>\n",
       "      <td>2475969</td>\n",
       "      <td>1396394</td>\n",
       "      <td>824382</td>\n",
       "      <td>90432</td>\n",
       "      <td>-23430</td>\n",
       "      <td>147275</td>\n",
       "    </tr>\n",
       "    <tr>\n",
       "      <th>148</th>\n",
       "      <th>Boston-Worcester-Providence, MA-RI-NH-CT</th>\n",
       "      <td>3352133</td>\n",
       "      <td>1964962</td>\n",
       "      <td>1066964</td>\n",
       "      <td>3412143</td>\n",
       "      <td>1934972</td>\n",
       "      <td>1151423</td>\n",
       "      <td>60010</td>\n",
       "      <td>-29990</td>\n",
       "      <td>84459</td>\n",
       "    </tr>\n",
       "    <tr>\n",
       "      <th>176</th>\n",
       "      <th>Chicago-Naperville, IL-IN-WI</th>\n",
       "      <td>3935118</td>\n",
       "      <td>2431899</td>\n",
       "      <td>1137673</td>\n",
       "      <td>3969378</td>\n",
       "      <td>2327231</td>\n",
       "      <td>1282068</td>\n",
       "      <td>34260</td>\n",
       "      <td>-104668</td>\n",
       "      <td>144395</td>\n",
       "    </tr>\n",
       "    <tr>\n",
       "      <th>206</th>\n",
       "      <th>Dallas-Fort Worth, TX-OK</th>\n",
       "      <td>2637717</td>\n",
       "      <td>1509869</td>\n",
       "      <td>866058</td>\n",
       "      <td>2832798</td>\n",
       "      <td>1566020</td>\n",
       "      <td>1034702</td>\n",
       "      <td>195081</td>\n",
       "      <td>56151</td>\n",
       "      <td>168644</td>\n",
       "    </tr>\n",
       "    <tr>\n",
       "      <th>216</th>\n",
       "      <th>Denver-Aurora, CO</th>\n",
       "      <td>1282906</td>\n",
       "      <td>787841</td>\n",
       "      <td>395363</td>\n",
       "      <td>1350238</td>\n",
       "      <td>814383</td>\n",
       "      <td>464369</td>\n",
       "      <td>67332</td>\n",
       "      <td>26542</td>\n",
       "      <td>69006</td>\n",
       "    </tr>\n",
       "    <tr>\n",
       "      <th>220</th>\n",
       "      <th>Detroit-Warren-Ann Arbor, MI</th>\n",
       "      <td>2336269</td>\n",
       "      <td>1504995</td>\n",
       "      <td>561392</td>\n",
       "      <td>2340603</td>\n",
       "      <td>1420760</td>\n",
       "      <td>652609</td>\n",
       "      <td>4334</td>\n",
       "      <td>-84235</td>\n",
       "      <td>91217</td>\n",
       "    </tr>\n",
       "    <tr>\n",
       "      <th>288</th>\n",
       "      <th>Houston-The Woodlands, TX</th>\n",
       "      <td>2299533</td>\n",
       "      <td>1284443</td>\n",
       "      <td>739694</td>\n",
       "      <td>2534512</td>\n",
       "      <td>1383407</td>\n",
       "      <td>907205</td>\n",
       "      <td>234979</td>\n",
       "      <td>98964</td>\n",
       "      <td>167511</td>\n",
       "    </tr>\n",
       "    <tr>\n",
       "      <th>348</th>\n",
       "      <th>Los Angeles-Long Beach, CA</th>\n",
       "      <td>6221825</td>\n",
       "      <td>3181828</td>\n",
       "      <td>2547900</td>\n",
       "      <td>6375740</td>\n",
       "      <td>3072459</td>\n",
       "      <td>2820374</td>\n",
       "      <td>153915</td>\n",
       "      <td>-109369</td>\n",
       "      <td>272474</td>\n",
       "    </tr>\n",
       "    <tr>\n",
       "      <th>370</th>\n",
       "      <th>Miami-Fort Lauderdale-Port St. Lucie, FL</th>\n",
       "      <td>2749614</td>\n",
       "      <td>1509088</td>\n",
       "      <td>744024</td>\n",
       "      <td>2809034</td>\n",
       "      <td>1419029</td>\n",
       "      <td>888587</td>\n",
       "      <td>59420</td>\n",
       "      <td>-90059</td>\n",
       "      <td>144563</td>\n",
       "    </tr>\n",
       "    <tr>\n",
       "      <th>378</th>\n",
       "      <th>Minneapolis-St. Paul, MN-WI</th>\n",
       "      <td>1512218</td>\n",
       "      <td>1035406</td>\n",
       "      <td>383150</td>\n",
       "      <td>1554227</td>\n",
       "      <td>1028692</td>\n",
       "      <td>444354</td>\n",
       "      <td>42009</td>\n",
       "      <td>-6714</td>\n",
       "      <td>61204</td>\n",
       "    </tr>\n",
       "    <tr>\n",
       "      <th>408</th>\n",
       "      <th>New York-Newark, NY-NJ-CT-PA</th>\n",
       "      <td>8807139</td>\n",
       "      <td>4454177</td>\n",
       "      <td>3574928</td>\n",
       "      <td>8973910</td>\n",
       "      <td>4328256</td>\n",
       "      <td>3794128</td>\n",
       "      <td>166771</td>\n",
       "      <td>-125921</td>\n",
       "      <td>219200</td>\n",
       "    </tr>\n",
       "    <tr>\n",
       "      <th>428</th>\n",
       "      <th>Philadelphia-Reading-Camden, PA-NJ-DE-MD</th>\n",
       "      <td>2925011</td>\n",
       "      <td>1841107</td>\n",
       "      <td>784249</td>\n",
       "      <td>2965130</td>\n",
       "      <td>1789788</td>\n",
       "      <td>851882</td>\n",
       "      <td>40119</td>\n",
       "      <td>-51319</td>\n",
       "      <td>67633</td>\n",
       "    </tr>\n",
       "    <tr>\n",
       "      <th>488</th>\n",
       "      <th>San Jose-San Francisco-Oakland, CA</th>\n",
       "      <td>3115353</td>\n",
       "      <td>1686652</td>\n",
       "      <td>1200391</td>\n",
       "      <td>3202912</td>\n",
       "      <td>1671214</td>\n",
       "      <td>1347297</td>\n",
       "      <td>87559</td>\n",
       "      <td>-15438</td>\n",
       "      <td>146906</td>\n",
       "    </tr>\n",
       "    <tr>\n",
       "      <th>500</th>\n",
       "      <th>Seattle-Tacoma, WA</th>\n",
       "      <td>1801686</td>\n",
       "      <td>1062172</td>\n",
       "      <td>602866</td>\n",
       "      <td>1893806</td>\n",
       "      <td>1070569</td>\n",
       "      <td>680252</td>\n",
       "      <td>92120</td>\n",
       "      <td>8397</td>\n",
       "      <td>77386</td>\n",
       "    </tr>\n",
       "    <tr>\n",
       "      <th>548</th>\n",
       "      <th>Washington-Baltimore-Arlington, DC-MD-VA-WV-PA</th>\n",
       "      <td>3622663</td>\n",
       "      <td>2231117</td>\n",
       "      <td>1086748</td>\n",
       "      <td>3763493</td>\n",
       "      <td>2235443</td>\n",
       "      <td>1237556</td>\n",
       "      <td>140830</td>\n",
       "      <td>4326</td>\n",
       "      <td>150808</td>\n",
       "    </tr>\n",
       "  </tbody>\n",
       "</table>\n",
       "</div>"
      ],
      "text/plain": [
       "                                                      TotalHousing10  \\\n",
       "CSA CSA_name                                                           \n",
       "122 Atlanta--Athens-Clarke County--Sandy Springs, GA         2385537   \n",
       "148 Boston-Worcester-Providence, MA-RI-NH-CT                 3352133   \n",
       "176 Chicago-Naperville, IL-IN-WI                             3935118   \n",
       "206 Dallas-Fort Worth, TX-OK                                 2637717   \n",
       "216 Denver-Aurora, CO                                        1282906   \n",
       "220 Detroit-Warren-Ann Arbor, MI                             2336269   \n",
       "288 Houston-The Woodlands, TX                                2299533   \n",
       "348 Los Angeles-Long Beach, CA                               6221825   \n",
       "370 Miami-Fort Lauderdale-Port St. Lucie, FL                 2749614   \n",
       "378 Minneapolis-St. Paul, MN-WI                              1512218   \n",
       "408 New York-Newark, NY-NJ-CT-PA                             8807139   \n",
       "428 Philadelphia-Reading-Camden, PA-NJ-DE-MD                 2925011   \n",
       "488 San Jose-San Francisco-Oakland, CA                       3115353   \n",
       "500 Seattle-Tacoma, WA                                       1801686   \n",
       "548 Washington-Baltimore-Arlington, DC-MD-VA-WV-PA           3622663   \n",
       "\n",
       "                                                      Owners10  renters10  \\\n",
       "CSA CSA_name                                                                \n",
       "122 Atlanta--Athens-Clarke County--Sandy Springs, GA   1419824     677107   \n",
       "148 Boston-Worcester-Providence, MA-RI-NH-CT           1964962    1066964   \n",
       "176 Chicago-Naperville, IL-IN-WI                       2431899    1137673   \n",
       "206 Dallas-Fort Worth, TX-OK                           1509869     866058   \n",
       "216 Denver-Aurora, CO                                   787841     395363   \n",
       "220 Detroit-Warren-Ann Arbor, MI                       1504995     561392   \n",
       "288 Houston-The Woodlands, TX                          1284443     739694   \n",
       "348 Los Angeles-Long Beach, CA                         3181828    2547900   \n",
       "370 Miami-Fort Lauderdale-Port St. Lucie, FL           1509088     744024   \n",
       "378 Minneapolis-St. Paul, MN-WI                        1035406     383150   \n",
       "408 New York-Newark, NY-NJ-CT-PA                       4454177    3574928   \n",
       "428 Philadelphia-Reading-Camden, PA-NJ-DE-MD           1841107     784249   \n",
       "488 San Jose-San Francisco-Oakland, CA                 1686652    1200391   \n",
       "500 Seattle-Tacoma, WA                                 1062172     602866   \n",
       "548 Washington-Baltimore-Arlington, DC-MD-VA-WV-PA     2231117    1086748   \n",
       "\n",
       "                                                      TotalHousing16  \\\n",
       "CSA CSA_name                                                           \n",
       "122 Atlanta--Athens-Clarke County--Sandy Springs, GA         2475969   \n",
       "148 Boston-Worcester-Providence, MA-RI-NH-CT                 3412143   \n",
       "176 Chicago-Naperville, IL-IN-WI                             3969378   \n",
       "206 Dallas-Fort Worth, TX-OK                                 2832798   \n",
       "216 Denver-Aurora, CO                                        1350238   \n",
       "220 Detroit-Warren-Ann Arbor, MI                             2340603   \n",
       "288 Houston-The Woodlands, TX                                2534512   \n",
       "348 Los Angeles-Long Beach, CA                               6375740   \n",
       "370 Miami-Fort Lauderdale-Port St. Lucie, FL                 2809034   \n",
       "378 Minneapolis-St. Paul, MN-WI                              1554227   \n",
       "408 New York-Newark, NY-NJ-CT-PA                             8973910   \n",
       "428 Philadelphia-Reading-Camden, PA-NJ-DE-MD                 2965130   \n",
       "488 San Jose-San Francisco-Oakland, CA                       3202912   \n",
       "500 Seattle-Tacoma, WA                                       1893806   \n",
       "548 Washington-Baltimore-Arlington, DC-MD-VA-WV-PA           3763493   \n",
       "\n",
       "                                                      Owners16  renters16  \\\n",
       "CSA CSA_name                                                                \n",
       "122 Atlanta--Athens-Clarke County--Sandy Springs, GA   1396394     824382   \n",
       "148 Boston-Worcester-Providence, MA-RI-NH-CT           1934972    1151423   \n",
       "176 Chicago-Naperville, IL-IN-WI                       2327231    1282068   \n",
       "206 Dallas-Fort Worth, TX-OK                           1566020    1034702   \n",
       "216 Denver-Aurora, CO                                   814383     464369   \n",
       "220 Detroit-Warren-Ann Arbor, MI                       1420760     652609   \n",
       "288 Houston-The Woodlands, TX                          1383407     907205   \n",
       "348 Los Angeles-Long Beach, CA                         3072459    2820374   \n",
       "370 Miami-Fort Lauderdale-Port St. Lucie, FL           1419029     888587   \n",
       "378 Minneapolis-St. Paul, MN-WI                        1028692     444354   \n",
       "408 New York-Newark, NY-NJ-CT-PA                       4328256    3794128   \n",
       "428 Philadelphia-Reading-Camden, PA-NJ-DE-MD           1789788     851882   \n",
       "488 San Jose-San Francisco-Oakland, CA                 1671214    1347297   \n",
       "500 Seattle-Tacoma, WA                                 1070569     680252   \n",
       "548 Washington-Baltimore-Arlington, DC-MD-VA-WV-PA     2235443    1237556   \n",
       "\n",
       "                                                      HousingNET  OwnersNET  \\\n",
       "CSA CSA_name                                                                  \n",
       "122 Atlanta--Athens-Clarke County--Sandy Springs, GA       90432     -23430   \n",
       "148 Boston-Worcester-Providence, MA-RI-NH-CT               60010     -29990   \n",
       "176 Chicago-Naperville, IL-IN-WI                           34260    -104668   \n",
       "206 Dallas-Fort Worth, TX-OK                              195081      56151   \n",
       "216 Denver-Aurora, CO                                      67332      26542   \n",
       "220 Detroit-Warren-Ann Arbor, MI                            4334     -84235   \n",
       "288 Houston-The Woodlands, TX                             234979      98964   \n",
       "348 Los Angeles-Long Beach, CA                            153915    -109369   \n",
       "370 Miami-Fort Lauderdale-Port St. Lucie, FL               59420     -90059   \n",
       "378 Minneapolis-St. Paul, MN-WI                            42009      -6714   \n",
       "408 New York-Newark, NY-NJ-CT-PA                          166771    -125921   \n",
       "428 Philadelphia-Reading-Camden, PA-NJ-DE-MD               40119     -51319   \n",
       "488 San Jose-San Francisco-Oakland, CA                     87559     -15438   \n",
       "500 Seattle-Tacoma, WA                                     92120       8397   \n",
       "548 Washington-Baltimore-Arlington, DC-MD-VA-WV-PA        140830       4326   \n",
       "\n",
       "                                                      RentersNET  \n",
       "CSA CSA_name                                                      \n",
       "122 Atlanta--Athens-Clarke County--Sandy Springs, GA      147275  \n",
       "148 Boston-Worcester-Providence, MA-RI-NH-CT               84459  \n",
       "176 Chicago-Naperville, IL-IN-WI                          144395  \n",
       "206 Dallas-Fort Worth, TX-OK                              168644  \n",
       "216 Denver-Aurora, CO                                      69006  \n",
       "220 Detroit-Warren-Ann Arbor, MI                           91217  \n",
       "288 Houston-The Woodlands, TX                             167511  \n",
       "348 Los Angeles-Long Beach, CA                            272474  \n",
       "370 Miami-Fort Lauderdale-Port St. Lucie, FL              144563  \n",
       "378 Minneapolis-St. Paul, MN-WI                            61204  \n",
       "408 New York-Newark, NY-NJ-CT-PA                          219200  \n",
       "428 Philadelphia-Reading-Camden, PA-NJ-DE-MD               67633  \n",
       "488 San Jose-San Francisco-Oakland, CA                    146906  \n",
       "500 Seattle-Tacoma, WA                                     77386  \n",
       "548 Washington-Baltimore-Arlington, DC-MD-VA-WV-PA        150808  "
      ]
     },
     "execution_count": 25,
     "metadata": {},
     "output_type": "execute_result"
    }
   ],
   "source": [
    "CSA_housing = CSA_housing10.merge(CSA_housing16, left_index=True,\n",
    "                                                 right_index=True)\n",
    "\n",
    "CSA_housing['HousingNET'] = CSA_housing['TotalHousing16']-CSA_housing['TotalHousing10']\n",
    "CSA_housing['OwnersNET'] = CSA_housing['Owners16']-CSA_housing['Owners10'] \n",
    "CSA_housing['RentersNET'] = CSA_housing['renters16']-CSA_housing['renters10'] \n",
    "\n",
    "CSA_housing"
   ]
  },
  {
   "cell_type": "code",
   "execution_count": 26,
   "metadata": {
    "collapsed": true
   },
   "outputs": [],
   "source": [
    "# export to .csv\n",
    "CSA_housing.to_csv('exports/CSA_housing10-16_NEW.csv')"
   ]
  },
  {
   "cell_type": "markdown",
   "metadata": {},
   "source": [
    "----\n",
    "\n",
    "## Places\n",
    "\n",
    "City-Suburbs by tenure"
   ]
  },
  {
   "cell_type": "code",
   "execution_count": 32,
   "metadata": {
    "collapsed": false
   },
   "outputs": [
    {
     "name": "stdout",
     "output_type": "stream",
     "text": [
      "(29574, 5)\n"
     ]
    },
    {
     "data": {
      "text/html": [
       "<div>\n",
       "<style scoped>\n",
       "    .dataframe tbody tr th:only-of-type {\n",
       "        vertical-align: middle;\n",
       "    }\n",
       "\n",
       "    .dataframe tbody tr th {\n",
       "        vertical-align: top;\n",
       "    }\n",
       "\n",
       "    .dataframe thead th {\n",
       "        text-align: right;\n",
       "    }\n",
       "</style>\n",
       "<table border=\"1\" class=\"dataframe\">\n",
       "  <thead>\n",
       "    <tr style=\"text-align: right;\">\n",
       "      <th></th>\n",
       "      <th>TotalHousing16</th>\n",
       "      <th>Owners16</th>\n",
       "      <th>renters16</th>\n",
       "      <th>Name</th>\n",
       "      <th>STPL</th>\n",
       "    </tr>\n",
       "  </thead>\n",
       "  <tbody>\n",
       "    <tr>\n",
       "      <th>1</th>\n",
       "      <td>63</td>\n",
       "      <td>50</td>\n",
       "      <td>13</td>\n",
       "      <td>Abanda CDP, Alabama</td>\n",
       "      <td>0100100</td>\n",
       "    </tr>\n",
       "    <tr>\n",
       "      <th>2</th>\n",
       "      <td>1319</td>\n",
       "      <td>710</td>\n",
       "      <td>304</td>\n",
       "      <td>Abbeville city, Alabama</td>\n",
       "      <td>0100124</td>\n",
       "    </tr>\n",
       "    <tr>\n",
       "      <th>3</th>\n",
       "      <td>2069</td>\n",
       "      <td>1293</td>\n",
       "      <td>445</td>\n",
       "      <td>Adamsville city, Alabama</td>\n",
       "      <td>0100460</td>\n",
       "    </tr>\n",
       "    <tr>\n",
       "      <th>4</th>\n",
       "      <td>401</td>\n",
       "      <td>237</td>\n",
       "      <td>109</td>\n",
       "      <td>Addison town, Alabama</td>\n",
       "      <td>0100484</td>\n",
       "    </tr>\n",
       "    <tr>\n",
       "      <th>5</th>\n",
       "      <td>199</td>\n",
       "      <td>70</td>\n",
       "      <td>37</td>\n",
       "      <td>Akron town, Alabama</td>\n",
       "      <td>0100676</td>\n",
       "    </tr>\n",
       "  </tbody>\n",
       "</table>\n",
       "</div>"
      ],
      "text/plain": [
       "  TotalHousing16 Owners16 renters16                      Name     STPL\n",
       "1             63       50        13       Abanda CDP, Alabama  0100100\n",
       "2           1319      710       304   Abbeville city, Alabama  0100124\n",
       "3           2069     1293       445  Adamsville city, Alabama  0100460\n",
       "4            401      237       109     Addison town, Alabama  0100484\n",
       "5            199       70        37       Akron town, Alabama  0100676"
      ]
     },
     "execution_count": 32,
     "metadata": {},
     "output_type": "execute_result"
    }
   ],
   "source": [
    "# HU2016 data for all counties in the US\n",
    "placeHU16 = pd.read_json('https://api.census.gov/data/2016/acs/acs5?get='+\n",
    "                         totalHU + ',' +\n",
    "                         owner + ',' +\n",
    "                         renter +',NAME&for=place:*&in=state:*')\n",
    "placeHU16.columns = placeHU16.iloc[0]\n",
    "placeHU16 = placeHU16[1:]\n",
    "\n",
    "placeHU16['state'] = placeHU16['state'].apply(lambda x: '{0:0>2}'.format(x))\n",
    "placeHU16['place'] = placeHU16['place'].apply(lambda x: '{0:0>3}'.format(x))\n",
    "placeHU16['STPL'] = placeHU16[['state', 'place']].apply(lambda x: ''.join(x), axis=1)\n",
    "\n",
    "placeHU16 = placeHU16.drop(['state', 'place'], axis=1)\n",
    "placeHU16.columns = ['TotalHousing16', 'Owners16', 'renters16',\n",
    "                     'Name', 'STPL']\n",
    "\n",
    "print(placeHU16.shape)\n",
    "placeHU16.head()"
   ]
  },
  {
   "cell_type": "code",
   "execution_count": 33,
   "metadata": {
    "collapsed": false
   },
   "outputs": [
    {
     "data": {
      "text/plain": [
       "TotalHousing16    object\n",
       "Owners16          object\n",
       "renters16         object\n",
       "Name              object\n",
       "STPL               int64\n",
       "dtype: object"
      ]
     },
     "execution_count": 33,
     "metadata": {},
     "output_type": "execute_result"
    }
   ],
   "source": [
    "placeHU16.STPL = placeHU16.STPL.astype(int)\n",
    "placeHU16.dtypes"
   ]
  },
  {
   "cell_type": "markdown",
   "metadata": {},
   "source": [
    "### Reading in geo-coded places dataset\n",
    "\n",
    "Created by Dara Goldberg, DCP Regional Planning"
   ]
  },
  {
   "cell_type": "code",
   "execution_count": 34,
   "metadata": {
    "collapsed": false
   },
   "outputs": [
    {
     "name": "stdout",
     "output_type": "stream",
     "text": [
      "(19, 5)\n"
     ]
    },
    {
     "data": {
      "text/html": [
       "<div>\n",
       "<style scoped>\n",
       "    .dataframe tbody tr th:only-of-type {\n",
       "        vertical-align: middle;\n",
       "    }\n",
       "\n",
       "    .dataframe tbody tr th {\n",
       "        vertical-align: top;\n",
       "    }\n",
       "\n",
       "    .dataframe thead th {\n",
       "        text-align: right;\n",
       "    }\n",
       "</style>\n",
       "<table border=\"1\" class=\"dataframe\">\n",
       "  <thead>\n",
       "    <tr style=\"text-align: right;\">\n",
       "      <th></th>\n",
       "      <th>GEOID</th>\n",
       "      <th>NAMELSAD</th>\n",
       "      <th>NAME</th>\n",
       "      <th>CSA</th>\n",
       "      <th>ALAND_mi</th>\n",
       "    </tr>\n",
       "  </thead>\n",
       "  <tbody>\n",
       "    <tr>\n",
       "      <th>0</th>\n",
       "      <td>644000</td>\n",
       "      <td>Los Angeles city, California</td>\n",
       "      <td>Los Angeles</td>\n",
       "      <td>348</td>\n",
       "      <td>468.65867</td>\n",
       "    </tr>\n",
       "    <tr>\n",
       "      <th>1</th>\n",
       "      <td>653000</td>\n",
       "      <td>Oakland city, California</td>\n",
       "      <td>Oakland</td>\n",
       "      <td>488</td>\n",
       "      <td>55.89604</td>\n",
       "    </tr>\n",
       "    <tr>\n",
       "      <th>2</th>\n",
       "      <td>667000</td>\n",
       "      <td>San Francisco city, California</td>\n",
       "      <td>San Francisco</td>\n",
       "      <td>488</td>\n",
       "      <td>46.90564</td>\n",
       "    </tr>\n",
       "  </tbody>\n",
       "</table>\n",
       "</div>"
      ],
      "text/plain": [
       "    GEOID                        NAMELSAD           NAME  CSA   ALAND_mi\n",
       "0  644000    Los Angeles city, California    Los Angeles  348  468.65867\n",
       "1  653000        Oakland city, California        Oakland  488   55.89604\n",
       "2  667000  San Francisco city, California  San Francisco  488   46.90564"
      ]
     },
     "execution_count": 34,
     "metadata": {},
     "output_type": "execute_result"
    }
   ],
   "source": [
    "geoPlace = pd.read_csv('../rp-USmetros_comparison/data/Geocoded_places.csv')\n",
    "geoPlace['GEOID'] = geoPlace['GEOID'].apply(lambda x: '{0:0>7}'.format(x))\n",
    "geoPlace['GEOID'] = geoPlace['GEOID'].astype(int)\n",
    "\n",
    "print(geoPlace.shape)\n",
    "geoPlace.head(3)"
   ]
  },
  {
   "cell_type": "code",
   "execution_count": 35,
   "metadata": {
    "collapsed": false
   },
   "outputs": [
    {
     "data": {
      "text/plain": [
       "GEOID         int64\n",
       "NAMELSAD     object\n",
       "NAME         object\n",
       "CSA           int64\n",
       "ALAND_mi    float64\n",
       "dtype: object"
      ]
     },
     "execution_count": 35,
     "metadata": {},
     "output_type": "execute_result"
    }
   ],
   "source": [
    "geoPlace.dtypes"
   ]
  },
  {
   "cell_type": "code",
   "execution_count": 37,
   "metadata": {
    "collapsed": false
   },
   "outputs": [
    {
     "name": "stdout",
     "output_type": "stream",
     "text": [
      "(19, 7)\n"
     ]
    },
    {
     "data": {
      "text/html": [
       "<div>\n",
       "<style scoped>\n",
       "    .dataframe tbody tr th:only-of-type {\n",
       "        vertical-align: middle;\n",
       "    }\n",
       "\n",
       "    .dataframe tbody tr th {\n",
       "        vertical-align: top;\n",
       "    }\n",
       "\n",
       "    .dataframe thead th {\n",
       "        text-align: right;\n",
       "    }\n",
       "</style>\n",
       "<table border=\"1\" class=\"dataframe\">\n",
       "  <thead>\n",
       "    <tr style=\"text-align: right;\">\n",
       "      <th></th>\n",
       "      <th>NAMELSAD</th>\n",
       "      <th>NAME</th>\n",
       "      <th>CSA</th>\n",
       "      <th>ALAND_mi</th>\n",
       "      <th>TotalHousing16</th>\n",
       "      <th>Owners16</th>\n",
       "      <th>renters16</th>\n",
       "    </tr>\n",
       "    <tr>\n",
       "      <th>GEOID</th>\n",
       "      <th></th>\n",
       "      <th></th>\n",
       "      <th></th>\n",
       "      <th></th>\n",
       "      <th></th>\n",
       "      <th></th>\n",
       "      <th></th>\n",
       "    </tr>\n",
       "  </thead>\n",
       "  <tbody>\n",
       "    <tr>\n",
       "      <th>644000</th>\n",
       "      <td>Los Angeles city, California</td>\n",
       "      <td>Los Angeles</td>\n",
       "      <td>348</td>\n",
       "      <td>468.65867</td>\n",
       "      <td>1447026</td>\n",
       "      <td>496667</td>\n",
       "      <td>859644</td>\n",
       "    </tr>\n",
       "    <tr>\n",
       "      <th>653000</th>\n",
       "      <td>Oakland city, California</td>\n",
       "      <td>Oakland</td>\n",
       "      <td>488</td>\n",
       "      <td>55.89604</td>\n",
       "      <td>169654</td>\n",
       "      <td>62943</td>\n",
       "      <td>95994</td>\n",
       "    </tr>\n",
       "    <tr>\n",
       "      <th>667000</th>\n",
       "      <td>San Francisco city, California</td>\n",
       "      <td>San Francisco</td>\n",
       "      <td>488</td>\n",
       "      <td>46.90564</td>\n",
       "      <td>386755</td>\n",
       "      <td>131331</td>\n",
       "      <td>225466</td>\n",
       "    </tr>\n",
       "    <tr>\n",
       "      <th>668000</th>\n",
       "      <td>San Jose city, California</td>\n",
       "      <td>San Jose</td>\n",
       "      <td>488</td>\n",
       "      <td>177.51410</td>\n",
       "      <td>328185</td>\n",
       "      <td>181122</td>\n",
       "      <td>136195</td>\n",
       "    </tr>\n",
       "    <tr>\n",
       "      <th>820000</th>\n",
       "      <td>Denver city, Colorado</td>\n",
       "      <td>Denver</td>\n",
       "      <td>216</td>\n",
       "      <td>153.30483</td>\n",
       "      <td>299338</td>\n",
       "      <td>138870</td>\n",
       "      <td>142202</td>\n",
       "    </tr>\n",
       "  </tbody>\n",
       "</table>\n",
       "</div>"
      ],
      "text/plain": [
       "                              NAMELSAD           NAME  CSA   ALAND_mi  \\\n",
       "GEOID                                                                   \n",
       "644000    Los Angeles city, California    Los Angeles  348  468.65867   \n",
       "653000        Oakland city, California        Oakland  488   55.89604   \n",
       "667000  San Francisco city, California  San Francisco  488   46.90564   \n",
       "668000       San Jose city, California       San Jose  488  177.51410   \n",
       "820000           Denver city, Colorado         Denver  216  153.30483   \n",
       "\n",
       "       TotalHousing16 Owners16 renters16  \n",
       "GEOID                                     \n",
       "644000        1447026   496667    859644  \n",
       "653000         169654    62943     95994  \n",
       "667000         386755   131331    225466  \n",
       "668000         328185   181122    136195  \n",
       "820000         299338   138870    142202  "
      ]
     },
     "execution_count": 37,
     "metadata": {},
     "output_type": "execute_result"
    }
   ],
   "source": [
    "# merging all places with our target places list\n",
    "tenure_place = geoPlace.merge(placeHU16, left_on = 'GEOID', right_on = 'STPL')\n",
    "\n",
    "tenure_place = tenure_place.drop(['Name', 'STPL'], axis=1).set_index('GEOID')\n",
    "\n",
    "print(tenure_place.shape)\n",
    "tenure_place.head()"
   ]
  },
  {
   "cell_type": "code",
   "execution_count": 38,
   "metadata": {
    "collapsed": true
   },
   "outputs": [],
   "source": [
    "tenure_place.to_csv('exports/tenure_place.csv')"
   ]
  }
 ],
 "metadata": {
  "anaconda-cloud": {},
  "kernelspec": {
   "display_name": "Python 2",
   "language": "python",
   "name": "python2"
  },
  "language_info": {
   "codemirror_mode": {
    "name": "ipython",
    "version": 2
   },
   "file_extension": ".py",
   "mimetype": "text/x-python",
   "name": "python",
   "nbconvert_exporter": "python",
   "pygments_lexer": "ipython2",
   "version": "2.7.9"
  }
 },
 "nbformat": 4,
 "nbformat_minor": 2
}
