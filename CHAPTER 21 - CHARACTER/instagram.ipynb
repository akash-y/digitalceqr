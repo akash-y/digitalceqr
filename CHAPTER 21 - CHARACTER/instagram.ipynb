{
 "cells": [
  {
   "cell_type": "markdown",
   "metadata": {},
   "source": [
    "# Instagram data\n",
    "\n",
    "This notebook was an attempt at collecting hashtag data from Instagram. The API procedure for collecting this data is relatively complicated (you actually have to go through Facebook's API and complete several steps to get your project approved) and I ran out of time before I could figure out exactly how to collect the data we were interested in."
   ]
  },
  {
   "cell_type": "markdown",
   "metadata": {},
   "source": [
    "## Libraries"
   ]
  },
  {
   "cell_type": "code",
   "execution_count": 1,
   "metadata": {},
   "outputs": [],
   "source": [
    "import requests\n",
    "import json\n",
    "import pandas as pd"
   ]
  },
  {
   "cell_type": "markdown",
   "metadata": {},
   "source": [
    "## API call attempt"
   ]
  },
  {
   "cell_type": "code",
   "execution_count": 3,
   "metadata": {},
   "outputs": [
    {
     "data": {
      "text/plain": [
       "'c366d17ce1a04350b2981dc14ccbd72e'"
      ]
     },
     "execution_count": 3,
     "metadata": {},
     "output_type": "execute_result"
    }
   ],
   "source": [
    "access_token = open('api/instagram_api.txt', 'r').readlines()[0][:].rstrip() # api stored in seperate .txt file\n",
    "access_token"
   ]
  },
  {
   "cell_type": "code",
   "execution_count": 4,
   "metadata": {},
   "outputs": [],
   "source": [
    "client_id = open('api/instagram_api.txt', 'r').readlines()[1][:].rstrip() # api stored in seperate .txt file"
   ]
  },
  {
   "cell_type": "code",
   "execution_count": 5,
   "metadata": {},
   "outputs": [],
   "source": [
    "def request(url):\n",
    "    response = requests.request('GET', url)\n",
    "    return response.json()"
   ]
  },
  {
   "cell_type": "code",
   "execution_count": 10,
   "metadata": {},
   "outputs": [
    {
     "data": {
      "text/plain": [
       "{'error': {'message': 'Invalid OAuth access token.',\n",
       "  'type': 'OAuthException',\n",
       "  'code': 190,\n",
       "  'fbtrace_id': 'GhZANNnAipx'}}"
      ]
     },
     "execution_count": 10,
     "metadata": {},
     "output_type": "execute_result"
    }
   ],
   "source": [
    "url1 = 'https://graph.facebook.com/v3.2/ig_hashtag_search?user_id={}&q=bluebottle&access_token={}'\\\n",
    ".format(client_id, access_token)\n",
    "try1 = request(url1)\n",
    "try1"
   ]
  },
  {
   "cell_type": "code",
   "execution_count": 11,
   "metadata": {},
   "outputs": [],
   "source": [
    "url2 = 'https://api.instagram.com/v1/users/self/?access_token={}'.format(access_token)\n",
    "try2 = request(url2)"
   ]
  },
  {
   "cell_type": "code",
   "execution_count": 12,
   "metadata": {},
   "outputs": [
    {
     "data": {
      "text/plain": [
       "{'meta': {'code': 400,\n",
       "  'error_type': 'OAuthAccessTokenException',\n",
       "  'error_message': 'The access_token provided is invalid.'}}"
      ]
     },
     "execution_count": 12,
     "metadata": {},
     "output_type": "execute_result"
    }
   ],
   "source": [
    "try2"
   ]
  },
  {
   "cell_type": "code",
   "execution_count": 13,
   "metadata": {},
   "outputs": [
    {
     "data": {
      "text/plain": [
       "{'meta': {'code': 400,\n",
       "  'error_type': 'OAuthAccessTokenException',\n",
       "  'error_message': 'The access_token provided is invalid.'}}"
      ]
     },
     "execution_count": 13,
     "metadata": {},
     "output_type": "execute_result"
    }
   ],
   "source": [
    "url3 = 'https://api.instagram.com/v1/users/self/media/recent/?access_token={}'.format(access_token)\n",
    "try3 = request(url3)\n",
    "try3"
   ]
  },
  {
   "cell_type": "markdown",
   "metadata": {},
   "source": [
    "# Next steps\n",
    "\n",
    "* Instead of going through IG/FB's API, you could select a few relevant accounts (like this one: https://www.instagram.com/p/ByLeRo0AjMv/) and then just use Beautiful Soup to scrape hashtags from that page."
   ]
  },
  {
   "cell_type": "code",
   "execution_count": null,
   "metadata": {},
   "outputs": [],
   "source": []
  }
 ],
 "metadata": {
  "kernelspec": {
   "display_name": "Python 3",
   "language": "python",
   "name": "python3"
  },
  "language_info": {
   "codemirror_mode": {
    "name": "ipython",
    "version": 3
   },
   "file_extension": ".py",
   "mimetype": "text/x-python",
   "name": "python",
   "nbconvert_exporter": "python",
   "pygments_lexer": "ipython3",
   "version": "3.6.8"
  }
 },
 "nbformat": 4,
 "nbformat_minor": 2
}
