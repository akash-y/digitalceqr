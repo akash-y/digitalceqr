{
 "cells": [
  {
   "cell_type": "markdown",
   "metadata": {},
   "source": [
    "# Business Filings in NYC, Brooklyn, and Red Hook\n",
    "\n",
    "In this notebook, I analyzed business activity in Red Hook compared to other parts of NYC using data from the \"Legally Operating Businesses\" dataset posted on NYC Open data:\n",
    "\n",
    "https://data.cityofnewyork.us/Business/Legally-Operating-Businesses/w7w3-xahh\n",
    "\n",
    "It contains historical information on business filings in NYC including the business type and location."
   ]
  },
  {
   "cell_type": "markdown",
   "metadata": {},
   "source": [
    "## Libraries"
   ]
  },
  {
   "cell_type": "code",
   "execution_count": 1,
   "metadata": {},
   "outputs": [],
   "source": [
    "import urllib.request\n",
    "import pandas as pd\n",
    "import geopandas as gpd\n",
    "import shapely\n",
    "from shapely.geometry import Polygon\n",
    "from fiona.crs import from_epsg\n",
    "import matplotlib.pylab as plt\n",
    "import numpy as np\n",
    "import copy"
   ]
  },
  {
   "cell_type": "markdown",
   "metadata": {},
   "source": [
    "## Read in the data and clean it up"
   ]
  },
  {
   "cell_type": "code",
   "execution_count": 2,
   "metadata": {},
   "outputs": [
    {
     "name": "stderr",
     "output_type": "stream",
     "text": [
      "/anaconda3/lib/python3.6/site-packages/IPython/core/interactiveshell.py:2785: DtypeWarning: Columns (19,20) have mixed types. Specify dtype option on import or set low_memory=False.\n",
      "  interactivity=interactivity, compiler=compiler, result=result)\n"
     ]
    },
    {
     "data": {
      "text/html": [
       "<div>\n",
       "<style scoped>\n",
       "    .dataframe tbody tr th:only-of-type {\n",
       "        vertical-align: middle;\n",
       "    }\n",
       "\n",
       "    .dataframe tbody tr th {\n",
       "        vertical-align: top;\n",
       "    }\n",
       "\n",
       "    .dataframe thead th {\n",
       "        text-align: right;\n",
       "    }\n",
       "</style>\n",
       "<table border=\"1\" class=\"dataframe\">\n",
       "  <thead>\n",
       "    <tr style=\"text-align: right;\">\n",
       "      <th></th>\n",
       "      <th>DCA License Number</th>\n",
       "      <th>License Type</th>\n",
       "      <th>License Expiration Date</th>\n",
       "      <th>License Status</th>\n",
       "      <th>License Creation Date</th>\n",
       "      <th>Industry</th>\n",
       "      <th>Business Name</th>\n",
       "      <th>Business Name 2</th>\n",
       "      <th>Address Building</th>\n",
       "      <th>Address Street Name</th>\n",
       "      <th>...</th>\n",
       "      <th>Community Board</th>\n",
       "      <th>Council District</th>\n",
       "      <th>BIN</th>\n",
       "      <th>BBL</th>\n",
       "      <th>NTA</th>\n",
       "      <th>Census Tract</th>\n",
       "      <th>Detail</th>\n",
       "      <th>Longitude</th>\n",
       "      <th>Latitude</th>\n",
       "      <th>Location</th>\n",
       "    </tr>\n",
       "  </thead>\n",
       "  <tbody>\n",
       "    <tr>\n",
       "      <th>0</th>\n",
       "      <td>0959361-DCA</td>\n",
       "      <td>Business</td>\n",
       "      <td>03/31/2021</td>\n",
       "      <td>Active</td>\n",
       "      <td>04/25/1997</td>\n",
       "      <td>Garage</td>\n",
       "      <td>PARKANLEX GARAGE COMPANY, LLC</td>\n",
       "      <td>NaN</td>\n",
       "      <td>115</td>\n",
       "      <td>E 75TH ST</td>\n",
       "      <td>...</td>\n",
       "      <td>108.0</td>\n",
       "      <td>4.0</td>\n",
       "      <td>1.04314e+06</td>\n",
       "      <td>1014100011</td>\n",
       "      <td>MN40</td>\n",
       "      <td>128.0</td>\n",
       "      <td>Vehicle Spaces: 165, Bicycle Spaces: 17</td>\n",
       "      <td>-73.961625</td>\n",
       "      <td>40.772737</td>\n",
       "      <td>(40.7727369020104, -73.96162515178469)</td>\n",
       "    </tr>\n",
       "    <tr>\n",
       "      <th>1</th>\n",
       "      <td>1235988-DCA</td>\n",
       "      <td>Business</td>\n",
       "      <td>02/28/2021</td>\n",
       "      <td>Active</td>\n",
       "      <td>08/15/2006</td>\n",
       "      <td>Home Improvement Contractor</td>\n",
       "      <td>JUNIOR'S IRONWORK &amp; CONSTRUCTION, INC.</td>\n",
       "      <td>NaN</td>\n",
       "      <td>16927</td>\n",
       "      <td>LIBERTY AVE</td>\n",
       "      <td>...</td>\n",
       "      <td>412.0</td>\n",
       "      <td>27.0</td>\n",
       "      <td>4e+06</td>\n",
       "      <td>4102180032</td>\n",
       "      <td>QN61</td>\n",
       "      <td>444.0</td>\n",
       "      <td>NaN</td>\n",
       "      <td>-73.788915</td>\n",
       "      <td>40.703297</td>\n",
       "      <td>(40.70329689832498, -73.78891454010119)</td>\n",
       "    </tr>\n",
       "    <tr>\n",
       "      <th>2</th>\n",
       "      <td>1453298-DCA</td>\n",
       "      <td>Individual</td>\n",
       "      <td>05/31/2019</td>\n",
       "      <td>Active</td>\n",
       "      <td>01/07/2013</td>\n",
       "      <td>Locksmith</td>\n",
       "      <td>RAO, GARY PETER</td>\n",
       "      <td>NaN</td>\n",
       "      <td>NaN</td>\n",
       "      <td>NaN</td>\n",
       "      <td>...</td>\n",
       "      <td>NaN</td>\n",
       "      <td>NaN</td>\n",
       "      <td>NaN</td>\n",
       "      <td>NaN</td>\n",
       "      <td>NaN</td>\n",
       "      <td>NaN</td>\n",
       "      <td>NaN</td>\n",
       "      <td>NaN</td>\n",
       "      <td>NaN</td>\n",
       "      <td>NaN</td>\n",
       "    </tr>\n",
       "    <tr>\n",
       "      <th>3</th>\n",
       "      <td>2049399-DCA</td>\n",
       "      <td>Business</td>\n",
       "      <td>12/31/2020</td>\n",
       "      <td>Active</td>\n",
       "      <td>03/09/2017</td>\n",
       "      <td>Electronics Store</td>\n",
       "      <td>CANAL ALARM DEVICES, INC.</td>\n",
       "      <td>NaN</td>\n",
       "      <td>387</td>\n",
       "      <td>CANAL ST</td>\n",
       "      <td>...</td>\n",
       "      <td>102.0</td>\n",
       "      <td>1.0</td>\n",
       "      <td>1.00294e+06</td>\n",
       "      <td>1002270004</td>\n",
       "      <td>MN24</td>\n",
       "      <td>47.0</td>\n",
       "      <td>NaN</td>\n",
       "      <td>-74.004791</td>\n",
       "      <td>40.721466</td>\n",
       "      <td>(40.721465796925365, -74.00479091086221)</td>\n",
       "    </tr>\n",
       "    <tr>\n",
       "      <th>4</th>\n",
       "      <td>2021443-DCA</td>\n",
       "      <td>Business</td>\n",
       "      <td>03/31/2021</td>\n",
       "      <td>Active</td>\n",
       "      <td>04/21/2015</td>\n",
       "      <td>Garage and Parking Lot</td>\n",
       "      <td>O &amp; A PARKING GARAGE INC.</td>\n",
       "      <td>NaN</td>\n",
       "      <td>1100</td>\n",
       "      <td>FRANKLIN AVE</td>\n",
       "      <td>...</td>\n",
       "      <td>NaN</td>\n",
       "      <td>NaN</td>\n",
       "      <td>NaN</td>\n",
       "      <td>NaN</td>\n",
       "      <td>BX35</td>\n",
       "      <td>185.0</td>\n",
       "      <td>Vehicle Spaces: 36, Bicycle Spaces: 10</td>\n",
       "      <td>NaN</td>\n",
       "      <td>NaN</td>\n",
       "      <td>NaN</td>\n",
       "    </tr>\n",
       "  </tbody>\n",
       "</table>\n",
       "<p>5 rows × 27 columns</p>\n",
       "</div>"
      ],
      "text/plain": [
       "  DCA License Number License Type License Expiration Date License Status  \\\n",
       "0        0959361-DCA     Business              03/31/2021         Active   \n",
       "1        1235988-DCA     Business              02/28/2021         Active   \n",
       "2        1453298-DCA   Individual              05/31/2019         Active   \n",
       "3        2049399-DCA     Business              12/31/2020         Active   \n",
       "4        2021443-DCA     Business              03/31/2021         Active   \n",
       "\n",
       "  License Creation Date                     Industry  \\\n",
       "0            04/25/1997                       Garage   \n",
       "1            08/15/2006  Home Improvement Contractor   \n",
       "2            01/07/2013                    Locksmith   \n",
       "3            03/09/2017            Electronics Store   \n",
       "4            04/21/2015       Garage and Parking Lot   \n",
       "\n",
       "                            Business Name Business Name 2 Address Building  \\\n",
       "0           PARKANLEX GARAGE COMPANY, LLC             NaN              115   \n",
       "1  JUNIOR'S IRONWORK & CONSTRUCTION, INC.             NaN            16927   \n",
       "2                         RAO, GARY PETER             NaN              NaN   \n",
       "3               CANAL ALARM DEVICES, INC.             NaN              387   \n",
       "4               O & A PARKING GARAGE INC.             NaN             1100   \n",
       "\n",
       "  Address Street Name                    ...                     \\\n",
       "0           E 75TH ST                    ...                      \n",
       "1         LIBERTY AVE                    ...                      \n",
       "2                 NaN                    ...                      \n",
       "3            CANAL ST                    ...                      \n",
       "4        FRANKLIN AVE                    ...                      \n",
       "\n",
       "  Community Board Council District          BIN         BBL   NTA  \\\n",
       "0           108.0              4.0  1.04314e+06  1014100011  MN40   \n",
       "1           412.0             27.0        4e+06  4102180032  QN61   \n",
       "2             NaN              NaN          NaN         NaN   NaN   \n",
       "3           102.0              1.0  1.00294e+06  1002270004  MN24   \n",
       "4             NaN              NaN          NaN         NaN  BX35   \n",
       "\n",
       "  Census Tract                                   Detail  Longitude   Latitude  \\\n",
       "0        128.0  Vehicle Spaces: 165, Bicycle Spaces: 17 -73.961625  40.772737   \n",
       "1        444.0                                      NaN -73.788915  40.703297   \n",
       "2          NaN                                      NaN        NaN        NaN   \n",
       "3         47.0                                      NaN -74.004791  40.721466   \n",
       "4        185.0   Vehicle Spaces: 36, Bicycle Spaces: 10        NaN        NaN   \n",
       "\n",
       "                                   Location  \n",
       "0    (40.7727369020104, -73.96162515178469)  \n",
       "1   (40.70329689832498, -73.78891454010119)  \n",
       "2                                       NaN  \n",
       "3  (40.721465796925365, -74.00479091086221)  \n",
       "4                                       NaN  \n",
       "\n",
       "[5 rows x 27 columns]"
      ]
     },
     "execution_count": 2,
     "metadata": {},
     "output_type": "execute_result"
    }
   ],
   "source": [
    "# Read in the data\n",
    "business_filings = pd.read_csv('data/primary_source_data/business_filings.csv')\n",
    "business_filings.head()"
   ]
  },
  {
   "cell_type": "code",
   "execution_count": 3,
   "metadata": {},
   "outputs": [],
   "source": [
    "# Remove rows for filings with Address Borough listed as \"Outside NYC\"\n",
    "nyc_filings = business_filings[business_filings['Address Borough']!='Outside NYC']"
   ]
  },
  {
   "cell_type": "code",
   "execution_count": 4,
   "metadata": {},
   "outputs": [
    {
     "name": "stderr",
     "output_type": "stream",
     "text": [
      "/anaconda3/lib/python3.6/site-packages/pandas/core/frame.py:3694: SettingWithCopyWarning: \n",
      "A value is trying to be set on a copy of a slice from a DataFrame\n",
      "\n",
      "See the caveats in the documentation: http://pandas.pydata.org/pandas-docs/stable/indexing.html#indexing-view-versus-copy\n",
      "  errors=errors)\n"
     ]
    }
   ],
   "source": [
    "# Drop \"Location\" column since it is improperly formatted\n",
    "nyc_filings.drop(['Location'], axis=1, inplace=True)"
   ]
  },
  {
   "cell_type": "code",
   "execution_count": 5,
   "metadata": {
    "scrolled": true
   },
   "outputs": [
    {
     "name": "stderr",
     "output_type": "stream",
     "text": [
      "/anaconda3/lib/python3.6/site-packages/ipykernel_launcher.py:2: SettingWithCopyWarning: \n",
      "A value is trying to be set on a copy of a slice from a DataFrame.\n",
      "Try using .loc[row_indexer,col_indexer] = value instead\n",
      "\n",
      "See the caveats in the documentation: http://pandas.pydata.org/pandas-docs/stable/indexing.html#indexing-view-versus-copy\n",
      "  \n"
     ]
    }
   ],
   "source": [
    "# Convert creation date to datetime\n",
    "nyc_filings['License Creation Date'] = pd.to_datetime(nyc_filings['License Creation Date'], \\\n",
    "                                                           format='%m/%d/%Y')"
   ]
  },
  {
   "cell_type": "code",
   "execution_count": 6,
   "metadata": {},
   "outputs": [
    {
     "name": "stdout",
     "output_type": "stream",
     "text": [
      "Total number of business filings in all of NYC: 184145\n"
     ]
    }
   ],
   "source": [
    "print(\"Total number of business filings in all of NYC: {}\".format(nyc_filings.shape[0]))"
   ]
  },
  {
   "cell_type": "code",
   "execution_count": 7,
   "metadata": {},
   "outputs": [
    {
     "name": "stdout",
     "output_type": "stream",
     "text": [
      "Number missing lon lat info: 70523\n"
     ]
    }
   ],
   "source": [
    "print(\"Number missing lon lat info: {}\".format(nyc_filings.Longitude.isnull().sum()))"
   ]
  },
  {
   "cell_type": "markdown",
   "metadata": {},
   "source": [
    "## Grouping by date for NYC"
   ]
  },
  {
   "cell_type": "code",
   "execution_count": 8,
   "metadata": {
    "scrolled": false
   },
   "outputs": [
    {
     "data": {
      "text/html": [
       "<div>\n",
       "<style scoped>\n",
       "    .dataframe tbody tr th:only-of-type {\n",
       "        vertical-align: middle;\n",
       "    }\n",
       "\n",
       "    .dataframe tbody tr th {\n",
       "        vertical-align: top;\n",
       "    }\n",
       "\n",
       "    .dataframe thead th {\n",
       "        text-align: right;\n",
       "    }\n",
       "</style>\n",
       "<table border=\"1\" class=\"dataframe\">\n",
       "  <thead>\n",
       "    <tr style=\"text-align: right;\">\n",
       "      <th></th>\n",
       "      <th>DCA License Number</th>\n",
       "      <th>License Type</th>\n",
       "      <th>License Expiration Date</th>\n",
       "      <th>License Status</th>\n",
       "      <th>Industry</th>\n",
       "      <th>Business Name</th>\n",
       "      <th>Business Name 2</th>\n",
       "      <th>Address Building</th>\n",
       "      <th>Address Street Name</th>\n",
       "      <th>Secondary Address Street Name</th>\n",
       "      <th>...</th>\n",
       "      <th>Borough Code</th>\n",
       "      <th>Community Board</th>\n",
       "      <th>Council District</th>\n",
       "      <th>BIN</th>\n",
       "      <th>BBL</th>\n",
       "      <th>NTA</th>\n",
       "      <th>Census Tract</th>\n",
       "      <th>Detail</th>\n",
       "      <th>Longitude</th>\n",
       "      <th>Latitude</th>\n",
       "    </tr>\n",
       "    <tr>\n",
       "      <th>License Creation Date</th>\n",
       "      <th></th>\n",
       "      <th></th>\n",
       "      <th></th>\n",
       "      <th></th>\n",
       "      <th></th>\n",
       "      <th></th>\n",
       "      <th></th>\n",
       "      <th></th>\n",
       "      <th></th>\n",
       "      <th></th>\n",
       "      <th></th>\n",
       "      <th></th>\n",
       "      <th></th>\n",
       "      <th></th>\n",
       "      <th></th>\n",
       "      <th></th>\n",
       "      <th></th>\n",
       "      <th></th>\n",
       "      <th></th>\n",
       "      <th></th>\n",
       "      <th></th>\n",
       "    </tr>\n",
       "  </thead>\n",
       "  <tbody>\n",
       "    <tr>\n",
       "      <th>1997-04-25</th>\n",
       "      <td>0959361-DCA</td>\n",
       "      <td>Business</td>\n",
       "      <td>03/31/2021</td>\n",
       "      <td>Active</td>\n",
       "      <td>Garage</td>\n",
       "      <td>PARKANLEX GARAGE COMPANY, LLC</td>\n",
       "      <td>NaN</td>\n",
       "      <td>115</td>\n",
       "      <td>E 75TH ST</td>\n",
       "      <td>NaN</td>\n",
       "      <td>...</td>\n",
       "      <td>1.0</td>\n",
       "      <td>108.0</td>\n",
       "      <td>4.0</td>\n",
       "      <td>1.04314e+06</td>\n",
       "      <td>1014100011</td>\n",
       "      <td>MN40</td>\n",
       "      <td>128.0</td>\n",
       "      <td>Vehicle Spaces: 165, Bicycle Spaces: 17</td>\n",
       "      <td>-73.961625</td>\n",
       "      <td>40.772737</td>\n",
       "    </tr>\n",
       "    <tr>\n",
       "      <th>2006-08-15</th>\n",
       "      <td>1235988-DCA</td>\n",
       "      <td>Business</td>\n",
       "      <td>02/28/2021</td>\n",
       "      <td>Active</td>\n",
       "      <td>Home Improvement Contractor</td>\n",
       "      <td>JUNIOR'S IRONWORK &amp; CONSTRUCTION, INC.</td>\n",
       "      <td>NaN</td>\n",
       "      <td>16927</td>\n",
       "      <td>LIBERTY AVE</td>\n",
       "      <td>NaN</td>\n",
       "      <td>...</td>\n",
       "      <td>4.0</td>\n",
       "      <td>412.0</td>\n",
       "      <td>27.0</td>\n",
       "      <td>4e+06</td>\n",
       "      <td>4102180032</td>\n",
       "      <td>QN61</td>\n",
       "      <td>444.0</td>\n",
       "      <td>NaN</td>\n",
       "      <td>-73.788915</td>\n",
       "      <td>40.703297</td>\n",
       "    </tr>\n",
       "    <tr>\n",
       "      <th>2013-01-07</th>\n",
       "      <td>1453298-DCA</td>\n",
       "      <td>Individual</td>\n",
       "      <td>05/31/2019</td>\n",
       "      <td>Active</td>\n",
       "      <td>Locksmith</td>\n",
       "      <td>RAO, GARY PETER</td>\n",
       "      <td>NaN</td>\n",
       "      <td>NaN</td>\n",
       "      <td>NaN</td>\n",
       "      <td>NaN</td>\n",
       "      <td>...</td>\n",
       "      <td>NaN</td>\n",
       "      <td>NaN</td>\n",
       "      <td>NaN</td>\n",
       "      <td>NaN</td>\n",
       "      <td>NaN</td>\n",
       "      <td>NaN</td>\n",
       "      <td>NaN</td>\n",
       "      <td>NaN</td>\n",
       "      <td>NaN</td>\n",
       "      <td>NaN</td>\n",
       "    </tr>\n",
       "    <tr>\n",
       "      <th>2017-03-09</th>\n",
       "      <td>2049399-DCA</td>\n",
       "      <td>Business</td>\n",
       "      <td>12/31/2020</td>\n",
       "      <td>Active</td>\n",
       "      <td>Electronics Store</td>\n",
       "      <td>CANAL ALARM DEVICES, INC.</td>\n",
       "      <td>NaN</td>\n",
       "      <td>387</td>\n",
       "      <td>CANAL ST</td>\n",
       "      <td>NaN</td>\n",
       "      <td>...</td>\n",
       "      <td>1.0</td>\n",
       "      <td>102.0</td>\n",
       "      <td>1.0</td>\n",
       "      <td>1.00294e+06</td>\n",
       "      <td>1002270004</td>\n",
       "      <td>MN24</td>\n",
       "      <td>47.0</td>\n",
       "      <td>NaN</td>\n",
       "      <td>-74.004791</td>\n",
       "      <td>40.721466</td>\n",
       "    </tr>\n",
       "    <tr>\n",
       "      <th>2015-04-21</th>\n",
       "      <td>2021443-DCA</td>\n",
       "      <td>Business</td>\n",
       "      <td>03/31/2021</td>\n",
       "      <td>Active</td>\n",
       "      <td>Garage and Parking Lot</td>\n",
       "      <td>O &amp; A PARKING GARAGE INC.</td>\n",
       "      <td>NaN</td>\n",
       "      <td>1100</td>\n",
       "      <td>FRANKLIN AVE</td>\n",
       "      <td>NaN</td>\n",
       "      <td>...</td>\n",
       "      <td>2.0</td>\n",
       "      <td>NaN</td>\n",
       "      <td>NaN</td>\n",
       "      <td>NaN</td>\n",
       "      <td>NaN</td>\n",
       "      <td>BX35</td>\n",
       "      <td>185.0</td>\n",
       "      <td>Vehicle Spaces: 36, Bicycle Spaces: 10</td>\n",
       "      <td>NaN</td>\n",
       "      <td>NaN</td>\n",
       "    </tr>\n",
       "  </tbody>\n",
       "</table>\n",
       "<p>5 rows × 25 columns</p>\n",
       "</div>"
      ],
      "text/plain": [
       "                      DCA License Number License Type License Expiration Date  \\\n",
       "License Creation Date                                                           \n",
       "1997-04-25                   0959361-DCA     Business              03/31/2021   \n",
       "2006-08-15                   1235988-DCA     Business              02/28/2021   \n",
       "2013-01-07                   1453298-DCA   Individual              05/31/2019   \n",
       "2017-03-09                   2049399-DCA     Business              12/31/2020   \n",
       "2015-04-21                   2021443-DCA     Business              03/31/2021   \n",
       "\n",
       "                      License Status                     Industry  \\\n",
       "License Creation Date                                               \n",
       "1997-04-25                    Active                       Garage   \n",
       "2006-08-15                    Active  Home Improvement Contractor   \n",
       "2013-01-07                    Active                    Locksmith   \n",
       "2017-03-09                    Active            Electronics Store   \n",
       "2015-04-21                    Active       Garage and Parking Lot   \n",
       "\n",
       "                                                Business Name Business Name 2  \\\n",
       "License Creation Date                                                           \n",
       "1997-04-25                      PARKANLEX GARAGE COMPANY, LLC             NaN   \n",
       "2006-08-15             JUNIOR'S IRONWORK & CONSTRUCTION, INC.             NaN   \n",
       "2013-01-07                                    RAO, GARY PETER             NaN   \n",
       "2017-03-09                          CANAL ALARM DEVICES, INC.             NaN   \n",
       "2015-04-21                          O & A PARKING GARAGE INC.             NaN   \n",
       "\n",
       "                      Address Building Address Street Name  \\\n",
       "License Creation Date                                        \n",
       "1997-04-25                         115           E 75TH ST   \n",
       "2006-08-15                       16927         LIBERTY AVE   \n",
       "2013-01-07                         NaN                 NaN   \n",
       "2017-03-09                         387            CANAL ST   \n",
       "2015-04-21                        1100        FRANKLIN AVE   \n",
       "\n",
       "                      Secondary Address Street Name    ...     Borough Code  \\\n",
       "License Creation Date                                  ...                    \n",
       "1997-04-25                                      NaN    ...              1.0   \n",
       "2006-08-15                                      NaN    ...              4.0   \n",
       "2013-01-07                                      NaN    ...              NaN   \n",
       "2017-03-09                                      NaN    ...              1.0   \n",
       "2015-04-21                                      NaN    ...              2.0   \n",
       "\n",
       "                      Community Board Council District          BIN  \\\n",
       "License Creation Date                                                 \n",
       "1997-04-25                      108.0              4.0  1.04314e+06   \n",
       "2006-08-15                      412.0             27.0        4e+06   \n",
       "2013-01-07                        NaN              NaN          NaN   \n",
       "2017-03-09                      102.0              1.0  1.00294e+06   \n",
       "2015-04-21                        NaN              NaN          NaN   \n",
       "\n",
       "                              BBL   NTA  Census Tract  \\\n",
       "License Creation Date                                   \n",
       "1997-04-25             1014100011  MN40         128.0   \n",
       "2006-08-15             4102180032  QN61         444.0   \n",
       "2013-01-07                    NaN   NaN           NaN   \n",
       "2017-03-09             1002270004  MN24          47.0   \n",
       "2015-04-21                    NaN  BX35         185.0   \n",
       "\n",
       "                                                        Detail  Longitude  \\\n",
       "License Creation Date                                                       \n",
       "1997-04-25             Vehicle Spaces: 165, Bicycle Spaces: 17 -73.961625   \n",
       "2006-08-15                                                 NaN -73.788915   \n",
       "2013-01-07                                                 NaN        NaN   \n",
       "2017-03-09                                                 NaN -74.004791   \n",
       "2015-04-21              Vehicle Spaces: 36, Bicycle Spaces: 10        NaN   \n",
       "\n",
       "                        Latitude  \n",
       "License Creation Date             \n",
       "1997-04-25             40.772737  \n",
       "2006-08-15             40.703297  \n",
       "2013-01-07                   NaN  \n",
       "2017-03-09             40.721466  \n",
       "2015-04-21                   NaN  \n",
       "\n",
       "[5 rows x 25 columns]"
      ]
     },
     "execution_count": 8,
     "metadata": {},
     "output_type": "execute_result"
    }
   ],
   "source": [
    "# All filings in NYC\n",
    "filings_date_groups = nyc_filings.set_index('License Creation Date')\n",
    "filings_date_groups.head()"
   ]
  },
  {
   "cell_type": "code",
   "execution_count": 9,
   "metadata": {},
   "outputs": [
    {
     "data": {
      "text/html": [
       "<div>\n",
       "<style scoped>\n",
       "    .dataframe tbody tr th:only-of-type {\n",
       "        vertical-align: middle;\n",
       "    }\n",
       "\n",
       "    .dataframe tbody tr th {\n",
       "        vertical-align: top;\n",
       "    }\n",
       "\n",
       "    .dataframe thead th {\n",
       "        text-align: right;\n",
       "    }\n",
       "</style>\n",
       "<table border=\"1\" class=\"dataframe\">\n",
       "  <thead>\n",
       "    <tr style=\"text-align: right;\">\n",
       "      <th></th>\n",
       "      <th>License Creation Date</th>\n",
       "      <th>Borough Code</th>\n",
       "      <th>Community Board</th>\n",
       "      <th>Council District</th>\n",
       "      <th>Census Tract</th>\n",
       "      <th>Longitude</th>\n",
       "      <th>Latitude</th>\n",
       "      <th>Year</th>\n",
       "    </tr>\n",
       "  </thead>\n",
       "  <tbody>\n",
       "    <tr>\n",
       "      <th>0</th>\n",
       "      <td>1977-01-31</td>\n",
       "      <td>3.0</td>\n",
       "      <td>301.0</td>\n",
       "      <td>33.0</td>\n",
       "      <td>561.0</td>\n",
       "      <td>-73.952437</td>\n",
       "      <td>40.726685</td>\n",
       "      <td>1977</td>\n",
       "    </tr>\n",
       "    <tr>\n",
       "      <th>1</th>\n",
       "      <td>1977-02-28</td>\n",
       "      <td>NaN</td>\n",
       "      <td>NaN</td>\n",
       "      <td>NaN</td>\n",
       "      <td>NaN</td>\n",
       "      <td>NaN</td>\n",
       "      <td>NaN</td>\n",
       "      <td>1977</td>\n",
       "    </tr>\n",
       "    <tr>\n",
       "      <th>2</th>\n",
       "      <td>1977-03-31</td>\n",
       "      <td>NaN</td>\n",
       "      <td>NaN</td>\n",
       "      <td>NaN</td>\n",
       "      <td>NaN</td>\n",
       "      <td>NaN</td>\n",
       "      <td>NaN</td>\n",
       "      <td>1977</td>\n",
       "    </tr>\n",
       "    <tr>\n",
       "      <th>3</th>\n",
       "      <td>1977-04-30</td>\n",
       "      <td>4.0</td>\n",
       "      <td>403.0</td>\n",
       "      <td>21.0</td>\n",
       "      <td>357.0</td>\n",
       "      <td>-73.868315</td>\n",
       "      <td>40.768801</td>\n",
       "      <td>1977</td>\n",
       "    </tr>\n",
       "    <tr>\n",
       "      <th>4</th>\n",
       "      <td>1977-05-31</td>\n",
       "      <td>NaN</td>\n",
       "      <td>NaN</td>\n",
       "      <td>NaN</td>\n",
       "      <td>NaN</td>\n",
       "      <td>NaN</td>\n",
       "      <td>NaN</td>\n",
       "      <td>1977</td>\n",
       "    </tr>\n",
       "  </tbody>\n",
       "</table>\n",
       "</div>"
      ],
      "text/plain": [
       "  License Creation Date  Borough Code  Community Board  Council District  \\\n",
       "0            1977-01-31           3.0            301.0              33.0   \n",
       "1            1977-02-28           NaN              NaN               NaN   \n",
       "2            1977-03-31           NaN              NaN               NaN   \n",
       "3            1977-04-30           4.0            403.0              21.0   \n",
       "4            1977-05-31           NaN              NaN               NaN   \n",
       "\n",
       "   Census Tract  Longitude   Latitude  Year  \n",
       "0         561.0 -73.952437  40.726685  1977  \n",
       "1           NaN        NaN        NaN  1977  \n",
       "2           NaN        NaN        NaN  1977  \n",
       "3         357.0 -73.868315  40.768801  1977  \n",
       "4           NaN        NaN        NaN  1977  "
      ]
     },
     "execution_count": 9,
     "metadata": {},
     "output_type": "execute_result"
    }
   ],
   "source": [
    "# Grouping all filings by the month of the creation date and taking the count of each column\n",
    "filings_count = filings_date_groups.resample('M').mean()\n",
    "filings_count.reset_index(inplace=True)\n",
    "filings_count['Year'] = filings_count['License Creation Date'].dt.year\n",
    "filings_count['Year'].astype(int, inplace=True)\n",
    "filings_count.head()"
   ]
  },
  {
   "cell_type": "markdown",
   "metadata": {},
   "source": [
    "## For normalization by population"
   ]
  },
  {
   "cell_type": "code",
   "execution_count": 10,
   "metadata": {},
   "outputs": [],
   "source": [
    "# Set a multiplier for the normalized fields since they will otherwise be very small\n",
    "norm_multiplier_pop = 1"
   ]
  },
  {
   "cell_type": "code",
   "execution_count": 11,
   "metadata": {
    "scrolled": true
   },
   "outputs": [
    {
     "data": {
      "text/html": [
       "<div>\n",
       "<style scoped>\n",
       "    .dataframe tbody tr th:only-of-type {\n",
       "        vertical-align: middle;\n",
       "    }\n",
       "\n",
       "    .dataframe tbody tr th {\n",
       "        vertical-align: top;\n",
       "    }\n",
       "\n",
       "    .dataframe thead th {\n",
       "        text-align: right;\n",
       "    }\n",
       "</style>\n",
       "<table border=\"1\" class=\"dataframe\">\n",
       "  <thead>\n",
       "    <tr style=\"text-align: right;\">\n",
       "      <th></th>\n",
       "      <th>Year</th>\n",
       "      <th>New York County</th>\n",
       "      <th>Kings County</th>\n",
       "      <th>Bronx County</th>\n",
       "      <th>Queens County</th>\n",
       "      <th>Richmond County</th>\n",
       "      <th>New York City Total</th>\n",
       "      <th>Red Hook CTs</th>\n",
       "    </tr>\n",
       "  </thead>\n",
       "  <tbody>\n",
       "    <tr>\n",
       "      <th>0</th>\n",
       "      <td>2010</td>\n",
       "      <td>1583345</td>\n",
       "      <td>2466782</td>\n",
       "      <td>1365725</td>\n",
       "      <td>2199169</td>\n",
       "      <td>463450</td>\n",
       "      <td>8078471</td>\n",
       "      <td>10973</td>\n",
       "    </tr>\n",
       "    <tr>\n",
       "      <th>1</th>\n",
       "      <td>2011</td>\n",
       "      <td>1588257</td>\n",
       "      <td>2486119</td>\n",
       "      <td>1374593</td>\n",
       "      <td>2213977</td>\n",
       "      <td>466034</td>\n",
       "      <td>8128980</td>\n",
       "      <td>11374</td>\n",
       "    </tr>\n",
       "    <tr>\n",
       "      <th>2</th>\n",
       "      <td>2012</td>\n",
       "      <td>1596735</td>\n",
       "      <td>2512740</td>\n",
       "      <td>1386364</td>\n",
       "      <td>2235008</td>\n",
       "      <td>468374</td>\n",
       "      <td>8199221</td>\n",
       "      <td>10987</td>\n",
       "    </tr>\n",
       "    <tr>\n",
       "      <th>3</th>\n",
       "      <td>2013</td>\n",
       "      <td>1605272</td>\n",
       "      <td>2539789</td>\n",
       "      <td>1397315</td>\n",
       "      <td>2256400</td>\n",
       "      <td>470223</td>\n",
       "      <td>8268999</td>\n",
       "      <td>10670</td>\n",
       "    </tr>\n",
       "    <tr>\n",
       "      <th>4</th>\n",
       "      <td>2014</td>\n",
       "      <td>1618398</td>\n",
       "      <td>2570801</td>\n",
       "      <td>1413566</td>\n",
       "      <td>2280602</td>\n",
       "      <td>471522</td>\n",
       "      <td>8354889</td>\n",
       "      <td>10440</td>\n",
       "    </tr>\n",
       "    <tr>\n",
       "      <th>5</th>\n",
       "      <td>2015</td>\n",
       "      <td>1629507</td>\n",
       "      <td>2595259</td>\n",
       "      <td>1428357</td>\n",
       "      <td>2301139</td>\n",
       "      <td>472481</td>\n",
       "      <td>8426743</td>\n",
       "      <td>10768</td>\n",
       "    </tr>\n",
       "    <tr>\n",
       "      <th>6</th>\n",
       "      <td>2016</td>\n",
       "      <td>1634989</td>\n",
       "      <td>2606852</td>\n",
       "      <td>1436785</td>\n",
       "      <td>2310011</td>\n",
       "      <td>473324</td>\n",
       "      <td>8461961</td>\n",
       "      <td>11102</td>\n",
       "    </tr>\n",
       "    <tr>\n",
       "      <th>7</th>\n",
       "      <td>2017</td>\n",
       "      <td>1653877</td>\n",
       "      <td>2635121</td>\n",
       "      <td>1455846</td>\n",
       "      <td>2339280</td>\n",
       "      <td>475948</td>\n",
       "      <td>8560072</td>\n",
       "      <td>11316</td>\n",
       "    </tr>\n",
       "  </tbody>\n",
       "</table>\n",
       "</div>"
      ],
      "text/plain": [
       "   Year  New York County  Kings County  Bronx County  Queens County  \\\n",
       "0  2010          1583345       2466782       1365725        2199169   \n",
       "1  2011          1588257       2486119       1374593        2213977   \n",
       "2  2012          1596735       2512740       1386364        2235008   \n",
       "3  2013          1605272       2539789       1397315        2256400   \n",
       "4  2014          1618398       2570801       1413566        2280602   \n",
       "5  2015          1629507       2595259       1428357        2301139   \n",
       "6  2016          1634989       2606852       1436785        2310011   \n",
       "7  2017          1653877       2635121       1455846        2339280   \n",
       "\n",
       "   Richmond County  New York City Total  Red Hook CTs  \n",
       "0           463450              8078471         10973  \n",
       "1           466034              8128980         11374  \n",
       "2           468374              8199221         10987  \n",
       "3           470223              8268999         10670  \n",
       "4           471522              8354889         10440  \n",
       "5           472481              8426743         10768  \n",
       "6           473324              8461961         11102  \n",
       "7           475948              8560072         11316  "
      ]
     },
     "execution_count": 11,
     "metadata": {},
     "output_type": "execute_result"
    }
   ],
   "source": [
    "# Population data over time\n",
    "pop_df = pd.read_csv('data/created_data/pop_time.csv')\n",
    "pop_df"
   ]
  },
  {
   "cell_type": "code",
   "execution_count": 12,
   "metadata": {},
   "outputs": [
    {
     "data": {
      "text/html": [
       "<div>\n",
       "<style scoped>\n",
       "    .dataframe tbody tr th:only-of-type {\n",
       "        vertical-align: middle;\n",
       "    }\n",
       "\n",
       "    .dataframe tbody tr th {\n",
       "        vertical-align: top;\n",
       "    }\n",
       "\n",
       "    .dataframe thead th {\n",
       "        text-align: right;\n",
       "    }\n",
       "</style>\n",
       "<table border=\"1\" class=\"dataframe\">\n",
       "  <thead>\n",
       "    <tr style=\"text-align: right;\">\n",
       "      <th></th>\n",
       "      <th>License Creation Date</th>\n",
       "      <th>Borough Code</th>\n",
       "      <th>Community Board</th>\n",
       "      <th>Council District</th>\n",
       "      <th>Census Tract</th>\n",
       "      <th>Longitude</th>\n",
       "      <th>Latitude</th>\n",
       "      <th>Year</th>\n",
       "      <th>New York County</th>\n",
       "      <th>Kings County</th>\n",
       "      <th>Bronx County</th>\n",
       "      <th>Queens County</th>\n",
       "      <th>Richmond County</th>\n",
       "      <th>New York City Total</th>\n",
       "      <th>Red Hook CTs</th>\n",
       "    </tr>\n",
       "  </thead>\n",
       "  <tbody>\n",
       "    <tr>\n",
       "      <th>0</th>\n",
       "      <td>1977-01-31</td>\n",
       "      <td>3.0</td>\n",
       "      <td>301.0</td>\n",
       "      <td>33.0</td>\n",
       "      <td>561.0</td>\n",
       "      <td>-73.952437</td>\n",
       "      <td>40.726685</td>\n",
       "      <td>1977</td>\n",
       "      <td>NaN</td>\n",
       "      <td>NaN</td>\n",
       "      <td>NaN</td>\n",
       "      <td>NaN</td>\n",
       "      <td>NaN</td>\n",
       "      <td>NaN</td>\n",
       "      <td>NaN</td>\n",
       "    </tr>\n",
       "    <tr>\n",
       "      <th>1</th>\n",
       "      <td>1977-02-28</td>\n",
       "      <td>NaN</td>\n",
       "      <td>NaN</td>\n",
       "      <td>NaN</td>\n",
       "      <td>NaN</td>\n",
       "      <td>NaN</td>\n",
       "      <td>NaN</td>\n",
       "      <td>1977</td>\n",
       "      <td>NaN</td>\n",
       "      <td>NaN</td>\n",
       "      <td>NaN</td>\n",
       "      <td>NaN</td>\n",
       "      <td>NaN</td>\n",
       "      <td>NaN</td>\n",
       "      <td>NaN</td>\n",
       "    </tr>\n",
       "    <tr>\n",
       "      <th>2</th>\n",
       "      <td>1977-03-31</td>\n",
       "      <td>NaN</td>\n",
       "      <td>NaN</td>\n",
       "      <td>NaN</td>\n",
       "      <td>NaN</td>\n",
       "      <td>NaN</td>\n",
       "      <td>NaN</td>\n",
       "      <td>1977</td>\n",
       "      <td>NaN</td>\n",
       "      <td>NaN</td>\n",
       "      <td>NaN</td>\n",
       "      <td>NaN</td>\n",
       "      <td>NaN</td>\n",
       "      <td>NaN</td>\n",
       "      <td>NaN</td>\n",
       "    </tr>\n",
       "    <tr>\n",
       "      <th>3</th>\n",
       "      <td>1977-04-30</td>\n",
       "      <td>4.0</td>\n",
       "      <td>403.0</td>\n",
       "      <td>21.0</td>\n",
       "      <td>357.0</td>\n",
       "      <td>-73.868315</td>\n",
       "      <td>40.768801</td>\n",
       "      <td>1977</td>\n",
       "      <td>NaN</td>\n",
       "      <td>NaN</td>\n",
       "      <td>NaN</td>\n",
       "      <td>NaN</td>\n",
       "      <td>NaN</td>\n",
       "      <td>NaN</td>\n",
       "      <td>NaN</td>\n",
       "    </tr>\n",
       "    <tr>\n",
       "      <th>4</th>\n",
       "      <td>1977-05-31</td>\n",
       "      <td>NaN</td>\n",
       "      <td>NaN</td>\n",
       "      <td>NaN</td>\n",
       "      <td>NaN</td>\n",
       "      <td>NaN</td>\n",
       "      <td>NaN</td>\n",
       "      <td>1977</td>\n",
       "      <td>NaN</td>\n",
       "      <td>NaN</td>\n",
       "      <td>NaN</td>\n",
       "      <td>NaN</td>\n",
       "      <td>NaN</td>\n",
       "      <td>NaN</td>\n",
       "      <td>NaN</td>\n",
       "    </tr>\n",
       "  </tbody>\n",
       "</table>\n",
       "</div>"
      ],
      "text/plain": [
       "  License Creation Date  Borough Code  Community Board  Council District  \\\n",
       "0            1977-01-31           3.0            301.0              33.0   \n",
       "1            1977-02-28           NaN              NaN               NaN   \n",
       "2            1977-03-31           NaN              NaN               NaN   \n",
       "3            1977-04-30           4.0            403.0              21.0   \n",
       "4            1977-05-31           NaN              NaN               NaN   \n",
       "\n",
       "   Census Tract  Longitude   Latitude  Year  New York County  Kings County  \\\n",
       "0         561.0 -73.952437  40.726685  1977              NaN           NaN   \n",
       "1           NaN        NaN        NaN  1977              NaN           NaN   \n",
       "2           NaN        NaN        NaN  1977              NaN           NaN   \n",
       "3         357.0 -73.868315  40.768801  1977              NaN           NaN   \n",
       "4           NaN        NaN        NaN  1977              NaN           NaN   \n",
       "\n",
       "   Bronx County  Queens County  Richmond County  New York City Total  \\\n",
       "0           NaN            NaN              NaN                  NaN   \n",
       "1           NaN            NaN              NaN                  NaN   \n",
       "2           NaN            NaN              NaN                  NaN   \n",
       "3           NaN            NaN              NaN                  NaN   \n",
       "4           NaN            NaN              NaN                  NaN   \n",
       "\n",
       "   Red Hook CTs  \n",
       "0           NaN  \n",
       "1           NaN  \n",
       "2           NaN  \n",
       "3           NaN  \n",
       "4           NaN  "
      ]
     },
     "execution_count": 12,
     "metadata": {},
     "output_type": "execute_result"
    }
   ],
   "source": [
    "# Merge the two\n",
    "file_count_merge = filings_count.merge(pop_df, how='left', left_on='Year', right_on='Year')\n",
    "file_count_merge.head()"
   ]
  },
  {
   "cell_type": "code",
   "execution_count": 13,
   "metadata": {},
   "outputs": [
    {
     "ename": "KeyError",
     "evalue": "'DCA License Number'",
     "output_type": "error",
     "traceback": [
      "\u001b[0;31m---------------------------------------------------------------------------\u001b[0m",
      "\u001b[0;31mKeyError\u001b[0m                                  Traceback (most recent call last)",
      "\u001b[0;32m/anaconda3/lib/python3.6/site-packages/pandas/core/indexes/base.py\u001b[0m in \u001b[0;36mget_loc\u001b[0;34m(self, key, method, tolerance)\u001b[0m\n\u001b[1;32m   3062\u001b[0m             \u001b[0;32mtry\u001b[0m\u001b[0;34m:\u001b[0m\u001b[0;34m\u001b[0m\u001b[0;34m\u001b[0m\u001b[0m\n\u001b[0;32m-> 3063\u001b[0;31m                 \u001b[0;32mreturn\u001b[0m \u001b[0mself\u001b[0m\u001b[0;34m.\u001b[0m\u001b[0m_engine\u001b[0m\u001b[0;34m.\u001b[0m\u001b[0mget_loc\u001b[0m\u001b[0;34m(\u001b[0m\u001b[0mkey\u001b[0m\u001b[0;34m)\u001b[0m\u001b[0;34m\u001b[0m\u001b[0;34m\u001b[0m\u001b[0m\n\u001b[0m\u001b[1;32m   3064\u001b[0m             \u001b[0;32mexcept\u001b[0m \u001b[0mKeyError\u001b[0m\u001b[0;34m:\u001b[0m\u001b[0;34m\u001b[0m\u001b[0;34m\u001b[0m\u001b[0m\n",
      "\u001b[0;32mpandas/_libs/index.pyx\u001b[0m in \u001b[0;36mpandas._libs.index.IndexEngine.get_loc\u001b[0;34m()\u001b[0m\n",
      "\u001b[0;32mpandas/_libs/index.pyx\u001b[0m in \u001b[0;36mpandas._libs.index.IndexEngine.get_loc\u001b[0;34m()\u001b[0m\n",
      "\u001b[0;32mpandas/_libs/hashtable_class_helper.pxi\u001b[0m in \u001b[0;36mpandas._libs.hashtable.PyObjectHashTable.get_item\u001b[0;34m()\u001b[0m\n",
      "\u001b[0;32mpandas/_libs/hashtable_class_helper.pxi\u001b[0m in \u001b[0;36mpandas._libs.hashtable.PyObjectHashTable.get_item\u001b[0;34m()\u001b[0m\n",
      "\u001b[0;31mKeyError\u001b[0m: 'DCA License Number'",
      "\nDuring handling of the above exception, another exception occurred:\n",
      "\u001b[0;31mKeyError\u001b[0m                                  Traceback (most recent call last)",
      "\u001b[0;32m<ipython-input-13-1147c6968ca9>\u001b[0m in \u001b[0;36m<module>\u001b[0;34m()\u001b[0m\n\u001b[1;32m      1\u001b[0m \u001b[0;31m# Get the normalized count\u001b[0m\u001b[0;34m\u001b[0m\u001b[0;34m\u001b[0m\u001b[0;34m\u001b[0m\u001b[0m\n\u001b[0;32m----> 2\u001b[0;31m \u001b[0mfile_count_merge\u001b[0m\u001b[0;34m[\u001b[0m\u001b[0;34m'count_norm_pop'\u001b[0m\u001b[0;34m]\u001b[0m \u001b[0;34m=\u001b[0m \u001b[0mfile_count_merge\u001b[0m\u001b[0;34m[\u001b[0m\u001b[0;34m'DCA License Number'\u001b[0m\u001b[0;34m]\u001b[0m\u001b[0;34m/\u001b[0m     \u001b[0mfile_count_merge\u001b[0m\u001b[0;34m[\u001b[0m\u001b[0;34m'New York City Total'\u001b[0m\u001b[0;34m]\u001b[0m\u001b[0;34m*\u001b[0m\u001b[0mnorm_multiplier_pop\u001b[0m\u001b[0;34m\u001b[0m\u001b[0;34m\u001b[0m\u001b[0m\n\u001b[0m",
      "\u001b[0;32m/anaconda3/lib/python3.6/site-packages/pandas/core/frame.py\u001b[0m in \u001b[0;36m__getitem__\u001b[0;34m(self, key)\u001b[0m\n\u001b[1;32m   2683\u001b[0m             \u001b[0;32mreturn\u001b[0m \u001b[0mself\u001b[0m\u001b[0;34m.\u001b[0m\u001b[0m_getitem_multilevel\u001b[0m\u001b[0;34m(\u001b[0m\u001b[0mkey\u001b[0m\u001b[0;34m)\u001b[0m\u001b[0;34m\u001b[0m\u001b[0;34m\u001b[0m\u001b[0m\n\u001b[1;32m   2684\u001b[0m         \u001b[0;32melse\u001b[0m\u001b[0;34m:\u001b[0m\u001b[0;34m\u001b[0m\u001b[0;34m\u001b[0m\u001b[0m\n\u001b[0;32m-> 2685\u001b[0;31m             \u001b[0;32mreturn\u001b[0m \u001b[0mself\u001b[0m\u001b[0;34m.\u001b[0m\u001b[0m_getitem_column\u001b[0m\u001b[0;34m(\u001b[0m\u001b[0mkey\u001b[0m\u001b[0;34m)\u001b[0m\u001b[0;34m\u001b[0m\u001b[0;34m\u001b[0m\u001b[0m\n\u001b[0m\u001b[1;32m   2686\u001b[0m \u001b[0;34m\u001b[0m\u001b[0m\n\u001b[1;32m   2687\u001b[0m     \u001b[0;32mdef\u001b[0m \u001b[0m_getitem_column\u001b[0m\u001b[0;34m(\u001b[0m\u001b[0mself\u001b[0m\u001b[0;34m,\u001b[0m \u001b[0mkey\u001b[0m\u001b[0;34m)\u001b[0m\u001b[0;34m:\u001b[0m\u001b[0;34m\u001b[0m\u001b[0;34m\u001b[0m\u001b[0m\n",
      "\u001b[0;32m/anaconda3/lib/python3.6/site-packages/pandas/core/frame.py\u001b[0m in \u001b[0;36m_getitem_column\u001b[0;34m(self, key)\u001b[0m\n\u001b[1;32m   2690\u001b[0m         \u001b[0;31m# get column\u001b[0m\u001b[0;34m\u001b[0m\u001b[0;34m\u001b[0m\u001b[0;34m\u001b[0m\u001b[0m\n\u001b[1;32m   2691\u001b[0m         \u001b[0;32mif\u001b[0m \u001b[0mself\u001b[0m\u001b[0;34m.\u001b[0m\u001b[0mcolumns\u001b[0m\u001b[0;34m.\u001b[0m\u001b[0mis_unique\u001b[0m\u001b[0;34m:\u001b[0m\u001b[0;34m\u001b[0m\u001b[0;34m\u001b[0m\u001b[0m\n\u001b[0;32m-> 2692\u001b[0;31m             \u001b[0;32mreturn\u001b[0m \u001b[0mself\u001b[0m\u001b[0;34m.\u001b[0m\u001b[0m_get_item_cache\u001b[0m\u001b[0;34m(\u001b[0m\u001b[0mkey\u001b[0m\u001b[0;34m)\u001b[0m\u001b[0;34m\u001b[0m\u001b[0;34m\u001b[0m\u001b[0m\n\u001b[0m\u001b[1;32m   2693\u001b[0m \u001b[0;34m\u001b[0m\u001b[0m\n\u001b[1;32m   2694\u001b[0m         \u001b[0;31m# duplicate columns & possible reduce dimensionality\u001b[0m\u001b[0;34m\u001b[0m\u001b[0;34m\u001b[0m\u001b[0;34m\u001b[0m\u001b[0m\n",
      "\u001b[0;32m/anaconda3/lib/python3.6/site-packages/pandas/core/generic.py\u001b[0m in \u001b[0;36m_get_item_cache\u001b[0;34m(self, item)\u001b[0m\n\u001b[1;32m   2484\u001b[0m         \u001b[0mres\u001b[0m \u001b[0;34m=\u001b[0m \u001b[0mcache\u001b[0m\u001b[0;34m.\u001b[0m\u001b[0mget\u001b[0m\u001b[0;34m(\u001b[0m\u001b[0mitem\u001b[0m\u001b[0;34m)\u001b[0m\u001b[0;34m\u001b[0m\u001b[0;34m\u001b[0m\u001b[0m\n\u001b[1;32m   2485\u001b[0m         \u001b[0;32mif\u001b[0m \u001b[0mres\u001b[0m \u001b[0;32mis\u001b[0m \u001b[0;32mNone\u001b[0m\u001b[0;34m:\u001b[0m\u001b[0;34m\u001b[0m\u001b[0;34m\u001b[0m\u001b[0m\n\u001b[0;32m-> 2486\u001b[0;31m             \u001b[0mvalues\u001b[0m \u001b[0;34m=\u001b[0m \u001b[0mself\u001b[0m\u001b[0;34m.\u001b[0m\u001b[0m_data\u001b[0m\u001b[0;34m.\u001b[0m\u001b[0mget\u001b[0m\u001b[0;34m(\u001b[0m\u001b[0mitem\u001b[0m\u001b[0;34m)\u001b[0m\u001b[0;34m\u001b[0m\u001b[0;34m\u001b[0m\u001b[0m\n\u001b[0m\u001b[1;32m   2487\u001b[0m             \u001b[0mres\u001b[0m \u001b[0;34m=\u001b[0m \u001b[0mself\u001b[0m\u001b[0;34m.\u001b[0m\u001b[0m_box_item_values\u001b[0m\u001b[0;34m(\u001b[0m\u001b[0mitem\u001b[0m\u001b[0;34m,\u001b[0m \u001b[0mvalues\u001b[0m\u001b[0;34m)\u001b[0m\u001b[0;34m\u001b[0m\u001b[0;34m\u001b[0m\u001b[0m\n\u001b[1;32m   2488\u001b[0m             \u001b[0mcache\u001b[0m\u001b[0;34m[\u001b[0m\u001b[0mitem\u001b[0m\u001b[0;34m]\u001b[0m \u001b[0;34m=\u001b[0m \u001b[0mres\u001b[0m\u001b[0;34m\u001b[0m\u001b[0;34m\u001b[0m\u001b[0m\n",
      "\u001b[0;32m/anaconda3/lib/python3.6/site-packages/pandas/core/internals.py\u001b[0m in \u001b[0;36mget\u001b[0;34m(self, item, fastpath)\u001b[0m\n\u001b[1;32m   4113\u001b[0m \u001b[0;34m\u001b[0m\u001b[0m\n\u001b[1;32m   4114\u001b[0m             \u001b[0;32mif\u001b[0m \u001b[0;32mnot\u001b[0m \u001b[0misna\u001b[0m\u001b[0;34m(\u001b[0m\u001b[0mitem\u001b[0m\u001b[0;34m)\u001b[0m\u001b[0;34m:\u001b[0m\u001b[0;34m\u001b[0m\u001b[0;34m\u001b[0m\u001b[0m\n\u001b[0;32m-> 4115\u001b[0;31m                 \u001b[0mloc\u001b[0m \u001b[0;34m=\u001b[0m \u001b[0mself\u001b[0m\u001b[0;34m.\u001b[0m\u001b[0mitems\u001b[0m\u001b[0;34m.\u001b[0m\u001b[0mget_loc\u001b[0m\u001b[0;34m(\u001b[0m\u001b[0mitem\u001b[0m\u001b[0;34m)\u001b[0m\u001b[0;34m\u001b[0m\u001b[0;34m\u001b[0m\u001b[0m\n\u001b[0m\u001b[1;32m   4116\u001b[0m             \u001b[0;32melse\u001b[0m\u001b[0;34m:\u001b[0m\u001b[0;34m\u001b[0m\u001b[0;34m\u001b[0m\u001b[0m\n\u001b[1;32m   4117\u001b[0m                 \u001b[0mindexer\u001b[0m \u001b[0;34m=\u001b[0m \u001b[0mnp\u001b[0m\u001b[0;34m.\u001b[0m\u001b[0marange\u001b[0m\u001b[0;34m(\u001b[0m\u001b[0mlen\u001b[0m\u001b[0;34m(\u001b[0m\u001b[0mself\u001b[0m\u001b[0;34m.\u001b[0m\u001b[0mitems\u001b[0m\u001b[0;34m)\u001b[0m\u001b[0;34m)\u001b[0m\u001b[0;34m[\u001b[0m\u001b[0misna\u001b[0m\u001b[0;34m(\u001b[0m\u001b[0mself\u001b[0m\u001b[0;34m.\u001b[0m\u001b[0mitems\u001b[0m\u001b[0;34m)\u001b[0m\u001b[0;34m]\u001b[0m\u001b[0;34m\u001b[0m\u001b[0;34m\u001b[0m\u001b[0m\n",
      "\u001b[0;32m/anaconda3/lib/python3.6/site-packages/pandas/core/indexes/base.py\u001b[0m in \u001b[0;36mget_loc\u001b[0;34m(self, key, method, tolerance)\u001b[0m\n\u001b[1;32m   3063\u001b[0m                 \u001b[0;32mreturn\u001b[0m \u001b[0mself\u001b[0m\u001b[0;34m.\u001b[0m\u001b[0m_engine\u001b[0m\u001b[0;34m.\u001b[0m\u001b[0mget_loc\u001b[0m\u001b[0;34m(\u001b[0m\u001b[0mkey\u001b[0m\u001b[0;34m)\u001b[0m\u001b[0;34m\u001b[0m\u001b[0;34m\u001b[0m\u001b[0m\n\u001b[1;32m   3064\u001b[0m             \u001b[0;32mexcept\u001b[0m \u001b[0mKeyError\u001b[0m\u001b[0;34m:\u001b[0m\u001b[0;34m\u001b[0m\u001b[0;34m\u001b[0m\u001b[0m\n\u001b[0;32m-> 3065\u001b[0;31m                 \u001b[0;32mreturn\u001b[0m \u001b[0mself\u001b[0m\u001b[0;34m.\u001b[0m\u001b[0m_engine\u001b[0m\u001b[0;34m.\u001b[0m\u001b[0mget_loc\u001b[0m\u001b[0;34m(\u001b[0m\u001b[0mself\u001b[0m\u001b[0;34m.\u001b[0m\u001b[0m_maybe_cast_indexer\u001b[0m\u001b[0;34m(\u001b[0m\u001b[0mkey\u001b[0m\u001b[0;34m)\u001b[0m\u001b[0;34m)\u001b[0m\u001b[0;34m\u001b[0m\u001b[0;34m\u001b[0m\u001b[0m\n\u001b[0m\u001b[1;32m   3066\u001b[0m \u001b[0;34m\u001b[0m\u001b[0m\n\u001b[1;32m   3067\u001b[0m         \u001b[0mindexer\u001b[0m \u001b[0;34m=\u001b[0m \u001b[0mself\u001b[0m\u001b[0;34m.\u001b[0m\u001b[0mget_indexer\u001b[0m\u001b[0;34m(\u001b[0m\u001b[0;34m[\u001b[0m\u001b[0mkey\u001b[0m\u001b[0;34m]\u001b[0m\u001b[0;34m,\u001b[0m \u001b[0mmethod\u001b[0m\u001b[0;34m=\u001b[0m\u001b[0mmethod\u001b[0m\u001b[0;34m,\u001b[0m \u001b[0mtolerance\u001b[0m\u001b[0;34m=\u001b[0m\u001b[0mtolerance\u001b[0m\u001b[0;34m)\u001b[0m\u001b[0;34m\u001b[0m\u001b[0;34m\u001b[0m\u001b[0m\n",
      "\u001b[0;32mpandas/_libs/index.pyx\u001b[0m in \u001b[0;36mpandas._libs.index.IndexEngine.get_loc\u001b[0;34m()\u001b[0m\n",
      "\u001b[0;32mpandas/_libs/index.pyx\u001b[0m in \u001b[0;36mpandas._libs.index.IndexEngine.get_loc\u001b[0;34m()\u001b[0m\n",
      "\u001b[0;32mpandas/_libs/hashtable_class_helper.pxi\u001b[0m in \u001b[0;36mpandas._libs.hashtable.PyObjectHashTable.get_item\u001b[0;34m()\u001b[0m\n",
      "\u001b[0;32mpandas/_libs/hashtable_class_helper.pxi\u001b[0m in \u001b[0;36mpandas._libs.hashtable.PyObjectHashTable.get_item\u001b[0;34m()\u001b[0m\n",
      "\u001b[0;31mKeyError\u001b[0m: 'DCA License Number'"
     ]
    }
   ],
   "source": [
    "# Get the normalized count\n",
    "file_count_merge['count_norm_pop'] = file_count_merge['DCA License Number']/ \\\n",
    "    file_count_merge['New York City Total']*norm_multiplier_pop"
   ]
  },
  {
   "cell_type": "code",
   "execution_count": null,
   "metadata": {
    "scrolled": false
   },
   "outputs": [],
   "source": [
    "# Plot\n",
    "plt.figure(figsize=(20,8))\n",
    "plt.plot(file_count_merge['License Creation Date'], file_count_merge['count_norm_pop'])\n",
    "plt.title(\"Count of Businesses on File Each Month in NYC\", fontsize=25)\n",
    "plt.xlabel(\"Year\", fontsize=20)\n",
    "plt.ylabel(\"Count per Month (for every {} resident(s))\".format(norm_multiplier_pop), fontsize=15)\n",
    "plt.xticks(fontsize=15)\n",
    "plt.yticks(fontsize=15)\n",
    "plt.show()"
   ]
  },
  {
   "cell_type": "markdown",
   "metadata": {},
   "source": [
    "## Business Filings for Brooklyn only"
   ]
  },
  {
   "cell_type": "code",
   "execution_count": null,
   "metadata": {},
   "outputs": [],
   "source": [
    "# Create a Brooklyn df\n",
    "bk_df = nyc_filings[(nyc_filings['Address Borough']=='Brooklyn') | (nyc_filings['Address Borough']=='BROOKLYN')]"
   ]
  },
  {
   "cell_type": "code",
   "execution_count": null,
   "metadata": {
    "scrolled": false
   },
   "outputs": [],
   "source": [
    "# Repeat the steps above\n",
    "bk_date_groups = bk_df.set_index('License Creation Date')\n",
    "bk_count = bk_date_groups.resample('M').mean()\n",
    "bk_count.reset_index(inplace=True)\n",
    "bk_count['Year'] = bk_count['License Creation Date'].dt.year\n",
    "bk_merge = pd.merge(bk_count, pop_df[['Kings County', 'Red Hook CTs', 'Year']], how='left', \\\n",
    "                    left_on='Year', right_on='Year')\n",
    "bk_merge['count_norm_pop'] = bk_merge['DCA License Number']/bk_merge['Kings County']*norm_multiplier_pop\n",
    "bk_merge.head()"
   ]
  },
  {
   "cell_type": "code",
   "execution_count": null,
   "metadata": {},
   "outputs": [],
   "source": [
    "# Plot\n",
    "plt.figure(figsize=(20,8))\n",
    "plt.plot(bk_merge['License Creation Date'], bk_merge['count_norm_pop'])\n",
    "plt.title(\"Count of Monthly Business Filings in Brooklyn\", fontsize=25)\n",
    "plt.xlabel(\"Year\", fontsize=20)\n",
    "plt.ylabel(\"Count per Month (for every {} resident(s))\".format(norm_multiplier_pop), fontsize=15)\n",
    "plt.xticks(fontsize=15)\n",
    "plt.yticks(fontsize=15)\n",
    "plt.show()"
   ]
  },
  {
   "cell_type": "markdown",
   "metadata": {},
   "source": [
    "## Brooklyn and all of NYC"
   ]
  },
  {
   "cell_type": "code",
   "execution_count": null,
   "metadata": {},
   "outputs": [],
   "source": [
    "# Brooklyn and all of NYC\n",
    "plt.figure(figsize=(20,8))\n",
    "plt.plot(bk_merge['License Creation Date'], bk_merge['count_norm_pop'], label='Brooklyn')\n",
    "plt.plot(file_count_merge['License Creation Date'], file_count_merge['count_norm_pop'], label='NYC')\n",
    "plt.title(\"Count of Businesses on File Each Month and NYC\", fontsize=25)\n",
    "plt.xlabel(\"Year\", fontsize=20)\n",
    "plt.ylabel(\"Count per Month (for every {} resident(s))\".format(norm_multiplier_pop), fontsize=15)\n",
    "plt.xticks(fontsize=15)\n",
    "plt.yticks(fontsize=15)\n",
    "plt.show()"
   ]
  },
  {
   "cell_type": "markdown",
   "metadata": {},
   "source": [
    "## Business Filings for Red Hook only\n",
    "\n",
    "I read in the shapefile created in the \"geoscope\" notebook in order to locate businesses located specifically in Red Hook based on their lon lat locations. Then I compare them to Brooklyn and NYC."
   ]
  },
  {
   "cell_type": "code",
   "execution_count": null,
   "metadata": {},
   "outputs": [],
   "source": [
    "# Read in the Red Hook shapefile\n",
    "rh_tracts = gpd.read_file('data/created_data/rh_comb_tract/rh_comb_tract.shp')\n",
    "rh_tracts"
   ]
  },
  {
   "cell_type": "code",
   "execution_count": null,
   "metadata": {},
   "outputs": [],
   "source": [
    "# Make a copy of business filings for Red Hook only\n",
    "rh_df = copy.deepcopy(nyc_filings)"
   ]
  },
  {
   "cell_type": "code",
   "execution_count": null,
   "metadata": {},
   "outputs": [],
   "source": [
    "# Remove rows with null lat lon data\n",
    "rh_df = rh_df[rh_df['Longitude'].notnull()]\n",
    "rh_df['lonlat'] = list(zip(rh_df.Longitude, rh_df.Latitude))"
   ]
  },
  {
   "cell_type": "code",
   "execution_count": null,
   "metadata": {},
   "outputs": [],
   "source": [
    "# Make a geodataframe\n",
    "rh_df = gpd.GeoDataFrame(rh_df)\n",
    "rh_df['geometry'] = rh_df[['lonlat']].applymap(lambda x:shapely.geometry.Point(x))\n",
    "rh_df.head()"
   ]
  },
  {
   "cell_type": "code",
   "execution_count": null,
   "metadata": {},
   "outputs": [],
   "source": [
    "# Match CRS\n",
    "rh_df.crs = from_epsg(4326)\n",
    "rh_df = rh_df.to_crs(epsg=2263)"
   ]
  },
  {
   "cell_type": "code",
   "execution_count": null,
   "metadata": {},
   "outputs": [],
   "source": [
    "# Join with the Red Hook census tract to keep only business filings within the neighborhood\n",
    "rh_df_sjoin = gpd.tools.sjoin(rh_df,rh_tracts)"
   ]
  },
  {
   "cell_type": "code",
   "execution_count": null,
   "metadata": {},
   "outputs": [],
   "source": [
    "# Bring in more data for plotting\n",
    "rh_centroid = gpd.read_file('data/created_data/rh_centroid/rh_centroid.shp')\n",
    "site_poly = gpd.read_file('data/created_data/site/site_poly/site_poly.shp')\n",
    "site_centroid = gpd.read_file('data/created_data/site/site_centroid/site_centroid.shp')"
   ]
  },
  {
   "cell_type": "code",
   "execution_count": null,
   "metadata": {
    "scrolled": false
   },
   "outputs": [],
   "source": [
    "# Plot\n",
    "f, ax = plt.subplots(figsize=(8,8))\n",
    "rh_tracts.plot(alpha=1,linewidth=0.8,ax=ax,color='w',edgecolor='black')\n",
    "rh_df_sjoin.plot(alpha=.5, linewidth=0.2,ax=ax,color='r',edgecolor='black',markersize=125, label='Businesses')\n",
    "rh_centroid.plot(alpha=.5, linewidth=0.2,ax=ax,color='g',edgecolor='black',markersize=125,label='RH Centroid')\n",
    "site_poly.plot(alpha=.2, linewidth=0.2,ax=ax,color='b',edgecolor='black',markersize=100)\n",
    "site_centroid.plot(alpha=.5, linewidth=0.2,ax=ax,color='b',edgecolor='black',markersize=125, \\\n",
    "                   label='Project Site')\n",
    "plt.title(\"Business Filings Within Red Hook\", fontsize=20)\n",
    "ax.get_xaxis().set_visible(False)\n",
    "ax.get_yaxis().set_visible(False)\n",
    "plt.legend(fontsize=12, loc='upper left')\n",
    "plt.show()"
   ]
  },
  {
   "cell_type": "markdown",
   "metadata": {},
   "source": [
    "### Note:\n",
    "\n",
    "The plot of locations above is less useful because many businesses are missing longitude latitude information. I would recommend using a Google Geocode search (see the \"zap\" notebook for a method for geocode searching) to try and pick up more of this location information."
   ]
  },
  {
   "cell_type": "code",
   "execution_count": null,
   "metadata": {},
   "outputs": [],
   "source": [
    "# Number of business filings in Red Hook\n",
    "rh_df_sjoin.shape[0]"
   ]
  },
  {
   "cell_type": "code",
   "execution_count": null,
   "metadata": {
    "scrolled": false
   },
   "outputs": [],
   "source": [
    "# Red Hook groups\n",
    "rh_date_groups = rh_df_sjoin.set_index('License Creation Date')\n",
    "rh_date_groups.head()"
   ]
  },
  {
   "cell_type": "code",
   "execution_count": null,
   "metadata": {},
   "outputs": [],
   "source": [
    "# Grouping all filings by the month of the creation date and taking the count of each column\n",
    "rh_count = rh_date_groups.resample('M').mean()\n",
    "rh_count.reset_index(inplace=True)\n",
    "rh_count['Year'] = rh_count['License Creation Date'].dt.year\n",
    "rh_merge = pd.merge(rh_count, pop_df[['Red Hook CTs', 'Year']], how='left', \\\n",
    "                    left_on='Year', right_on='Year')\n",
    "rh_merge['count_norm_pop'] = rh_merge['DCA License Number']/rh_merge['Red Hook CTs']*norm_multiplier_pop\n",
    "rh_merge.head()"
   ]
  },
  {
   "cell_type": "code",
   "execution_count": null,
   "metadata": {
    "scrolled": false
   },
   "outputs": [],
   "source": [
    "# Brooklyn and all of NYC\n",
    "plt.figure(figsize=(20,8))\n",
    "plt.plot(bk_merge['License Creation Date'], bk_merge['count_norm_pop'], label='Brooklyn')\n",
    "plt.plot(rh_merge['License Creation Date'], rh_merge['count_norm_pop'], c='r', label='Red Hook')\n",
    "plt.plot(file_count_merge['License Creation Date'], file_count_merge['count_norm_pop'], c='purple', label='NYC')\n",
    "plt.title(\"Count of Businesses on File Each Month\", fontsize=25)\n",
    "plt.xlabel(\"Year\", fontsize=20)\n",
    "plt.ylabel(\"Count per Month (for every {} resident(s))\".format(norm_multiplier_pop), fontsize=15)\n",
    "plt.xticks(fontsize=15)\n",
    "plt.yticks(fontsize=15)\n",
    "plt.legend(fontsize=20)\n",
    "plt.show()"
   ]
  },
  {
   "cell_type": "markdown",
   "metadata": {},
   "source": [
    "## Business filings by industry"
   ]
  },
  {
   "cell_type": "code",
   "execution_count": null,
   "metadata": {
    "scrolled": false
   },
   "outputs": [],
   "source": [
    "# All unique industry names for filings across NYC\n",
    "industries = set(rh_df['Industry'].values)\n",
    "industries"
   ]
  },
  {
   "cell_type": "code",
   "execution_count": null,
   "metadata": {},
   "outputs": [],
   "source": [
    "# All unique industry names for filings in Red Hook\n",
    "rh_industries = set(rh_df['Industry'].values)\n",
    "rh_industries"
   ]
  },
  {
   "cell_type": "code",
   "execution_count": null,
   "metadata": {},
   "outputs": [],
   "source": [
    "# Function for making a dictionary of individual dfs with counts for the total filings of each industry\n",
    "def industry_group_maker(industry_list):\n",
    "    industry_dfs = {}\n",
    "    for industry in industry_list:\n",
    "        temp_df = rh_df[rh_df['Industry']==industry]\n",
    "        temp_df = temp_df.set_index('License Creation Date')\n",
    "        temp_df = temp_df.resample('M').mean()\n",
    "        temp_df = temp_df[temp_df.index.year>=2010]\n",
    "        industry_dfs[industry] = industry_dfs.get(industry, temp_df)\n",
    "    return industry_dfs"
   ]
  },
  {
   "cell_type": "code",
   "execution_count": null,
   "metadata": {},
   "outputs": [],
   "source": [
    "# Get all the individualized industry dataframes for Red Hook\n",
    "all_rh_industry_dfs = industry_group_maker(rh_industries)"
   ]
  },
  {
   "cell_type": "code",
   "execution_count": null,
   "metadata": {},
   "outputs": [],
   "source": [
    "all_rh_industry_dfs['Tobacco Retail Dealer']"
   ]
  },
  {
   "cell_type": "code",
   "execution_count": null,
   "metadata": {
    "scrolled": false
   },
   "outputs": [],
   "source": [
    "# Plot\n",
    "f, ax = plt.subplots(figsize=(20,8))\n",
    "for k,v in all_rh_industry_dfs.items():\n",
    "    v['DCA License Number'].plot(alpha=1,linewidth=2,ax=ax,label=k)\n",
    "plt.title(\"Businesses on File By Industry in Red Hook\", fontsize=25)\n",
    "plt.xlabel(\"Year\", fontsize=20)\n",
    "plt.ylabel(\"Number of Businss Filings per Month\", fontsize=20)\n",
    "plt.xticks(fontsize=15)\n",
    "plt.yticks(fontsize=15)\n",
    "plt.legend(loc='upper center', bbox_to_anchor=(0.5, -0.1),ncol=5,fontsize=15)\n",
    "plt.show()"
   ]
  },
  {
   "cell_type": "code",
   "execution_count": null,
   "metadata": {
    "scrolled": false
   },
   "outputs": [],
   "source": [
    "# Getting the top industries (for all time) since the previous plot is confusing\n",
    "top_industries = {}\n",
    "for k,v in all_rh_industry_dfs.items():\n",
    "    top_industries[k] = top_industries.get(k, (v['DCA License Number'].sum(), v))\n",
    "top_industries = sorted(top_industries.items(), key=lambda x: x[1][0], reverse=True)"
   ]
  },
  {
   "cell_type": "code",
   "execution_count": null,
   "metadata": {},
   "outputs": [],
   "source": [
    "# Set the number of top industries you want\n",
    "cutoff = 5"
   ]
  },
  {
   "cell_type": "code",
   "execution_count": null,
   "metadata": {},
   "outputs": [],
   "source": [
    "print(\"Top {} industries and total number of filings since 2010:\".format(cutoff))\n",
    "print(\"\")\n",
    "for i in range(cutoff):\n",
    "    print(str(top_industries[i][0]) + \" - \" + str(top_industries[i][1][0]))\n",
    "    print(\"\")"
   ]
  },
  {
   "cell_type": "code",
   "execution_count": null,
   "metadata": {},
   "outputs": [],
   "source": [
    "# Plot the top X industries (X = cutoff number)\n",
    "plt.figure(figsize=(20,8))\n",
    "for i in range(cutoff):\n",
    "    top_industries[i][1][1]['DCA License Number'].plot(alpha=1,linewidth=2, \\\n",
    "                                                       label=top_industries[i][0])\n",
    "plt.title(\"Top {} Industries in Red Hook and Total Number of Filings\".format(cutoff), fontsize=25)\n",
    "plt.xlabel(\"Year\", fontsize=20)\n",
    "plt.ylabel(\"Businesses on File Each Month\", fontsize=20)\n",
    "plt.xticks(fontsize=15)\n",
    "plt.yticks(fontsize=15)\n",
    "plt.legend(loc=\"upper left\", fontsize=15)\n",
    "plt.show()"
   ]
  },
  {
   "cell_type": "markdown",
   "metadata": {},
   "source": [
    "### Note:\n",
    "\n",
    "The above plot shows the top industries in Red Hook between 2010 and 2019. The top industries were found by taking those with the overall largest count of business filings between 2010 and 2019."
   ]
  },
  {
   "cell_type": "code",
   "execution_count": null,
   "metadata": {},
   "outputs": [],
   "source": [
    "# Removing laundries since it may be an outlier\n",
    "top_ind_edit = {}\n",
    "for k,v in all_rh_industry_dfs.items():\n",
    "    if k != 'Laundries':\n",
    "        top_ind_edit[k] = top_ind_edit.get(k, (v['DCA License Number'].sum(), v))\n",
    "top_ind_edit = sorted(top_ind_edit.items(), key=lambda x: x[1][0], reverse=True)"
   ]
  },
  {
   "cell_type": "code",
   "execution_count": null,
   "metadata": {},
   "outputs": [],
   "source": [
    "print(\"Top {} industries and total number of filings since 2010 (not including laundries:\".format(cutoff))\n",
    "print(\"\")\n",
    "for i in range(cutoff):\n",
    "    print(str(top_ind_edit[i][0]) + \" - \" + str(top_ind_edit[i][1][0]))\n",
    "    print(\"\")"
   ]
  },
  {
   "cell_type": "code",
   "execution_count": null,
   "metadata": {},
   "outputs": [],
   "source": [
    "# Plot top X industries without laundries\n",
    "plt.figure(figsize=(20,8))\n",
    "for i in range(cutoff):\n",
    "    top_ind_edit[i][1][1]['DCA License Number'].plot(alpha=1,linewidth=2, \\\n",
    "                                                       label=top_ind_edit[i][0])\n",
    "plt.title(\"Count of Top {} Industries on File in Red Hook\".format(cutoff), fontsize=25)\n",
    "plt.xlabel(\"Year\", fontsize=20)\n",
    "plt.ylabel(\"Count of Businesses on File\", fontsize=20)\n",
    "plt.xticks(fontsize=15)\n",
    "plt.yticks(fontsize=15)\n",
    "plt.legend(loc=\"upper left\", fontsize=15)\n",
    "plt.show()"
   ]
  },
  {
   "cell_type": "markdown",
   "metadata": {},
   "source": [
    "## Normalization by area"
   ]
  },
  {
   "cell_type": "code",
   "execution_count": null,
   "metadata": {},
   "outputs": [],
   "source": [
    "# Can use this to make the filings count normalized by shape area larger\n",
    "norm_mult_area = 1"
   ]
  },
  {
   "cell_type": "code",
   "execution_count": null,
   "metadata": {},
   "outputs": [],
   "source": [
    "# Pull in the census tracts to get shape areas\n",
    "nyc_cts = gpd.read_file('data/primary_source_data/census_tracts/geo_export_a1169309-1083-403c-8f43-' + \\\n",
    "                        '77f62e2a399e.shp')\n",
    "nyc_cts = nyc_cts.to_crs(epsg=2263)\n",
    "nyc_cts.head()"
   ]
  },
  {
   "cell_type": "code",
   "execution_count": null,
   "metadata": {},
   "outputs": [],
   "source": [
    "# Get total area of NYC\n",
    "nyc_tot_area = nyc_cts.shape_area.sum()\n",
    "nyc_tot_area"
   ]
  },
  {
   "cell_type": "code",
   "execution_count": null,
   "metadata": {},
   "outputs": [],
   "source": [
    "# Get total area of Brooklyn\n",
    "bk_tot_area = nyc_cts[nyc_cts['boro_name']=='Brooklyn'].shape_area.sum()\n",
    "rh_tot_area = rh_tracts.shape_area.values[0]"
   ]
  },
  {
   "cell_type": "code",
   "execution_count": null,
   "metadata": {},
   "outputs": [],
   "source": [
    "# Normalize the filings for all of NYC\n",
    "file_count_merge['count_norm_area'] = file_count_merge['DCA License Number']/nyc_tot_area*norm_mult_area\n",
    "file_count_merge.head()"
   ]
  },
  {
   "cell_type": "code",
   "execution_count": null,
   "metadata": {},
   "outputs": [],
   "source": [
    "# Normalize the filings for Brooklyn and Red Hook\n",
    "bk_merge['count_norm_area'] = bk_merge['DCA License Number']/bk_tot_area*norm_mult_area\n",
    "rh_merge['count_norm_area'] = rh_merge['DCA License Number']/rh_tot_area*norm_mult_area"
   ]
  },
  {
   "cell_type": "code",
   "execution_count": null,
   "metadata": {},
   "outputs": [],
   "source": [
    "# Brooklyn and all of NYC\n",
    "plt.figure(figsize=(20,8))\n",
    "plt.plot(bk_merge['License Creation Date'], bk_merge['count_norm_area'], label='Brooklyn')\n",
    "plt.plot(rh_merge['License Creation Date'], rh_merge['count_norm_area'].rolling(6).mean(), c='r', label='Red Hook')\n",
    "plt.plot(file_count_merge['License Creation Date'], file_count_merge['count_norm_area'], c='purple', label='NYC')\n",
    "plt.title(\"Count of Businesses on File\", fontsize=25)\n",
    "plt.xlabel(\"Year\", fontsize=20)\n",
    "plt.ylabel(\"Count per Month (normalized by shape area)\".format(norm_multiplier_pop), fontsize=15)\n",
    "plt.xticks(fontsize=15)\n",
    "plt.yticks(fontsize=15)\n",
    "plt.legend(fontsize=20)\n",
    "plt.show()"
   ]
  },
  {
   "cell_type": "code",
   "execution_count": null,
   "metadata": {},
   "outputs": [],
   "source": [
    "# To modify the rolling mean window for Red Hook\n",
    "rh_roller = 6\n",
    "nyc_bk_roller = 1"
   ]
  },
  {
   "cell_type": "code",
   "execution_count": null,
   "metadata": {},
   "outputs": [],
   "source": [
    "# Brooklyn and all of NYC\n",
    "plt.figure(figsize=(12,7))\n",
    "plt.plot(file_count_merge[file_count_merge['Year']>=2010]['License Creation Date'], \\\n",
    "         file_count_merge[file_count_merge['Year']>=2010]['count_norm_area'].rolling(nyc_bk_roller).mean(), \\\n",
    "         c='g', label='NYC')\n",
    "plt.plot(bk_merge[bk_merge['Year']>=2010]['License Creation Date'], \\\n",
    "         bk_merge[bk_merge['Year']>=2010]['count_norm_area'].rolling(nyc_bk_roller).mean(), c='b', label='Brooklyn')\n",
    "plt.plot(rh_merge[rh_merge['Year']>=2010]['License Creation Date'], \\\n",
    "         rh_merge[rh_merge['Year']>=2010]['count_norm_area'].rolling(rh_roller).mean(), c='r', label='Red Hook')\n",
    "plt.title(\"Count of Businesses on File Over Time\", fontsize=25)\n",
    "plt.xlabel(\"Year\", fontsize=20)\n",
    "plt.ylabel(\"Count of Businesses on File (normalized by land area)\".format(norm_multiplier_pop), fontsize=15)\n",
    "plt.xticks(fontsize=15)\n",
    "plt.yticks(fontsize=15)\n",
    "plt.legend(fontsize=20)\n",
    "plt.show()"
   ]
  },
  {
   "cell_type": "markdown",
   "metadata": {},
   "source": [
    "## Above plot\n",
    "\n",
    "This is the monthly count of business filings in different NYC geographies. Right now, the plot shows a rolling mean for Red Hook only with a window of 6 and Brooklyn & NYC with a window of 1. We could change this setting depending on what makes the most sense."
   ]
  },
  {
   "cell_type": "markdown",
   "metadata": {},
   "source": [
    "# Next steps\n",
    "\n",
    "* Narrow down the business filings\n",
    "* Deal with missing latitude and longitude"
   ]
  },
  {
   "cell_type": "code",
   "execution_count": null,
   "metadata": {},
   "outputs": [],
   "source": []
  }
 ],
 "metadata": {
  "kernelspec": {
   "display_name": "Python 3",
   "language": "python",
   "name": "python3"
  },
  "language_info": {
   "codemirror_mode": {
    "name": "ipython",
    "version": 3
   },
   "file_extension": ".py",
   "mimetype": "text/x-python",
   "name": "python",
   "nbconvert_exporter": "python",
   "pygments_lexer": "ipython3",
   "version": "3.6.8"
  }
 },
 "nbformat": 4,
 "nbformat_minor": 2
}
