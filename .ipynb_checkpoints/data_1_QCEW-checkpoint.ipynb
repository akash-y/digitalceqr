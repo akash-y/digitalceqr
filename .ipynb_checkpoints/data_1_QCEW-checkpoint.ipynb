{
 "cells": [
  {
   "cell_type": "markdown",
   "metadata": {},
   "source": [
    "Author: Dana Chermesh Reshef, DRAW Brooklyn<br>\n",
    "April 2019\n",
    "\n",
    "### _Digital CEQR -- #1_\n",
    "# Data Sources and Data acquisition\n",
    "\n",
    "### Data Sources:\n",
    "- [Bureau of Labor Statistics, Quarterly Census of Employment and Wages](https://www.bls.gov/cew/datatoc.htm) (BLS-QCEW)\n",
    "\n",
    "---- \n",
    "# 0 - Imports"
   ]
  },
  {
   "cell_type": "code",
   "execution_count": 1,
   "metadata": {},
   "outputs": [
    {
     "name": "stdout",
     "output_type": "stream",
     "text": [
      "Populating the interactive namespace from numpy and matplotlib\n"
     ]
    }
   ],
   "source": [
    "import requests\n",
    "import pandas as pd\n",
    "import numpy as np\n",
    "\n",
    "from __future__ import print_function, division\n",
    "import matplotlib.pylab as pl\n",
    "import seaborn as sns\n",
    "sns.set_style('whitegrid')\n",
    "# import json\n",
    "\n",
    "# Spatial\n",
    "import geopandas as gpd\n",
    "import fiona\n",
    "import shapely\n",
    "\n",
    "import statsmodels.formula.api as smf\n",
    "import statsmodels.api as sm\n",
    "\n",
    "%pylab inline"
   ]
  },
  {
   "cell_type": "markdown",
   "metadata": {},
   "source": [
    "# 1 - Data acquisition\n",
    "\n",
    "## Download directly from the BLS-QCEW website\n",
    "\n",
    "The following code was downloaded from the [BLS-QCEW website](https://data.bls.gov/cew/doc/access/data_access_examples.htm#PYTHON), sapmle code for Python 3 ([Download](https://data.bls.gov/cew/doc/access/qcew_python_3x_example.zip))"
   ]
  },
  {
   "cell_type": "code",
   "execution_count": 2,
   "metadata": {},
   "outputs": [],
   "source": [
    "import urllib.request\n",
    "import urllib\n",
    "\n",
    "# *******************************************************************************\n",
    "# qcewCreateDataRows : This function takes a raw csv string and splits it into\n",
    "# a two-dimensional array containing the data and the header row of the csv file\n",
    "# a try/except block is used to handle for both binary and char encoding\n",
    "def qcewCreateDataRows(csv):\n",
    "    dataRows = []\n",
    "    try: dataLines = csv.decode().split('\\r\\n')\n",
    "    except er: dataLines = csv.split('\\r\\n');\n",
    "    for row in dataLines:\n",
    "        dataRows.append(row.split(','))\n",
    "    return dataRows\n",
    "# *******************************************************************************\n",
    "\n",
    "\n",
    "# *******************************************************************************\n",
    "# qcewGetAreaData : This function takes a year, quarter, and area argument and\n",
    "# returns an array containing the associated area data. Use 'a' for annual\n",
    "# averages. \n",
    "# For all area codes and titles see:\n",
    "# http://www.bls.gov/cew/doc/titles/area/area_titles.htm\n",
    "#\n",
    "def qcewGetAreaData(year,qtr,area):\n",
    "    urlPath = \"http://data.bls.gov/cew/data/api/[YEAR]/[QTR]/area/[AREA].csv\"\n",
    "    urlPath = urlPath.replace(\"[YEAR]\",year)\n",
    "    urlPath = urlPath.replace(\"[QTR]\",qtr.lower())\n",
    "    urlPath = urlPath.replace(\"[AREA]\",area.upper())\n",
    "    httpStream = urllib.request.urlopen(urlPath)\n",
    "    csv = httpStream.read()\n",
    "    httpStream.close()\n",
    "    return qcewCreateDataRows(csv)\n",
    "# *******************************************************************************\n",
    "\n",
    "\n",
    "# *******************************************************************************\n",
    "# qcewGetIndustryData : This function takes a year, quarter, and industry code\n",
    "# and returns an array containing the associated industry data. Use 'a' for \n",
    "# annual averages. Some industry codes contain hyphens. The CSV files use\n",
    "# underscores instead of hyphens. So 31-33 becomes 31_33. \n",
    "# For all industry codes and titles see:\n",
    "# http://www.bls.gov/cew/doc/titles/industry/industry_titles.htm\n",
    "#\n",
    "def qcewGetIndustryData(year,qtr,industry):\n",
    "    urlPath = \"http://data.bls.gov/cew/data/api/[YEAR]/[QTR]/industry/[IND].csv\"\n",
    "    urlPath = urlPath.replace(\"[YEAR]\",year)\n",
    "    urlPath = urlPath.replace(\"[QTR]\",qtr.lower())\n",
    "    urlPath = urlPath.replace(\"[IND]\",industry)\n",
    "    httpStream = urllib.request.urlopen(urlPath)\n",
    "    csv = httpStream.read()\n",
    "    httpStream.close()\n",
    "    return qcewCreateDataRows(csv)\n",
    "# *******************************************************************************\n",
    "\n",
    "\n",
    "# *******************************************************************************\n",
    "# qcewGetSizeData : This function takes a year and establishment size class code\n",
    "# and returns an array containing the associated size data. Size data\n",
    "# is only available for the first quarter of each year.\n",
    "# For all establishment size classes and titles see:\n",
    "# http://www.bls.gov/cew/doc/titles/size/size_titles.htm\n",
    "#\n",
    "def qcewGetSizeData(year,size):\n",
    "    urlPath = \"http://data.bls.gov/cew/data/api/[YEAR]/1/size/[SIZE].csv\"\n",
    "    urlPath = urlPath.replace(\"[YEAR]\",year)\n",
    "    urlPath = urlPath.replace(\"[SIZE]\",size)\n",
    "    httpStream = urllib.request.urlopen(urlPath)\n",
    "    csv = httpStream.read()\n",
    "    httpStream.close()\n",
    "    return qcewCreateDataRows(csv)"
   ]
  },
  {
   "cell_type": "markdown",
   "metadata": {},
   "source": [
    "## Getting the 'annual_avg_emplvl' by industry and ownership for every county in the major US metros of this analysis \n",
    "using the `qcewGetAreaData()` function built by the BLS QCEW"
   ]
  },
  {
   "cell_type": "code",
   "execution_count": 3,
   "metadata": {},
   "outputs": [],
   "source": [
    "# define industries to be extracted\n",
    "# using python dictionary data storage, \n",
    "# where each value is a list of str\n",
    "# of industries codes\n",
    "\n",
    "industry = {'office':['1022', '1023', '1024'],\n",
    "            'health':['1025']}\n",
    "            # continue adding industries as needed\n",
    "            # in the format of\n",
    "            # '<IndustryName>' : [<list of ind_codes as str>] \n",
    "    \n",
    "ownership = '5' # could become a list if you want to include more ownership codes"
   ]
  },
  {
   "cell_type": "code",
   "execution_count": 4,
   "metadata": {},
   "outputs": [
    {
     "data": {
      "text/plain": [
       "['health', 'office']"
      ]
     },
     "execution_count": 4,
     "metadata": {},
     "output_type": "execute_result"
    }
   ],
   "source": [
    "list(industry.keys()) # dictionaries are alphabething themselves!"
   ]
  },
  {
   "cell_type": "code",
   "execution_count": 5,
   "metadata": {},
   "outputs": [
    {
     "name": "stdout",
     "output_type": "stream",
     "text": [
      "(1, 4)\n",
      "area_fips            object\n",
      "own_code             object\n",
      "industry_code        object\n",
      "annual_avg_emplvl     int64\n",
      "dtype: object\n"
     ]
    },
    {
     "name": "stderr",
     "output_type": "stream",
     "text": [
      "/anaconda3/lib/python3.5/site-packages/ipykernel_launcher.py:20: SettingWithCopyWarning: \n",
      "A value is trying to be set on a copy of a slice from a DataFrame\n",
      "\n",
      "See the caveats in the documentation: http://pandas.pydata.org/pandas-docs/stable/indexing.html#indexing-view-versus-copy\n",
      "/anaconda3/lib/python3.5/site-packages/ipykernel_launcher.py:21: SettingWithCopyWarning: \n",
      "A value is trying to be set on a copy of a slice from a DataFrame\n",
      "\n",
      "See the caveats in the documentation: http://pandas.pydata.org/pandas-docs/stable/indexing.html#indexing-view-versus-copy\n",
      "/anaconda3/lib/python3.5/site-packages/ipykernel_launcher.py:22: SettingWithCopyWarning: \n",
      "A value is trying to be set on a copy of a slice from a DataFrame\n",
      "\n",
      "See the caveats in the documentation: http://pandas.pydata.org/pandas-docs/stable/indexing.html#indexing-view-versus-copy\n"
     ]
    },
    {
     "data": {
      "text/html": [
       "<div>\n",
       "<style scoped>\n",
       "    .dataframe tbody tr th:only-of-type {\n",
       "        vertical-align: middle;\n",
       "    }\n",
       "\n",
       "    .dataframe tbody tr th {\n",
       "        vertical-align: top;\n",
       "    }\n",
       "\n",
       "    .dataframe thead th {\n",
       "        text-align: right;\n",
       "    }\n",
       "</style>\n",
       "<table border=\"1\" class=\"dataframe\">\n",
       "  <thead>\n",
       "    <tr style=\"text-align: right;\">\n",
       "      <th></th>\n",
       "      <th>area_fips</th>\n",
       "      <th>own_code</th>\n",
       "      <th>industry_code</th>\n",
       "      <th>annual_avg_emplvl</th>\n",
       "    </tr>\n",
       "  </thead>\n",
       "  <tbody>\n",
       "    <tr>\n",
       "      <th>3</th>\n",
       "      <td>06041</td>\n",
       "      <td>5</td>\n",
       "      <td>office</td>\n",
       "      <td>25937</td>\n",
       "    </tr>\n",
       "  </tbody>\n",
       "</table>\n",
       "</div>"
      ],
      "text/plain": [
       "  area_fips own_code industry_code  annual_avg_emplvl\n",
       "3     06041        5        office              25937"
      ]
     },
     "execution_count": 5,
     "metadata": {},
     "output_type": "execute_result"
    }
   ],
   "source": [
    "# TEST ONE COUNTY\n",
    "# this one is a test of one STCO -- will not be stored\n",
    "\n",
    "test = qcewGetAreaData(\"2017\",\"A\",'06041') # using BLS code (only after 2013!)\n",
    "test = pd.DataFrame(test) # put it in a pandas table\n",
    "test.columns = test.iloc[0] # first row to headers\n",
    "test = test[1:] # same\n",
    "test.columns = [i.replace('\"', '') for i in test.columns] # cleaning data\n",
    "test = test.replace({'\"':''}, regex=True) # cleaning data\n",
    "test = test[['area_fips', 'own_code', 'industry_code', 'annual_avg_emplvl']] # selecting only relevant columns\n",
    "\n",
    "# index to relevant row by ownership and industry\n",
    "test = test.loc[(test['own_code'] == ownership) & test['industry_code'].isin(industry['office'])] \n",
    "\n",
    "# summing all rows to total and create new row\n",
    "test.annual_avg_emplvl = test.annual_avg_emplvl.astype(int)\n",
    "test = test.append(test.sum(numeric_only=True), ignore_index=True)\n",
    "\n",
    "# assigning fipa, own, industry data to the new row\n",
    "test['area_fips'][-1:] = test['area_fips'][:1]\n",
    "test['own_code'][-1:] = test['own_code'][:1]\n",
    "test['industry_code'][-1:] = 'office'\n",
    "\n",
    "test = test[-1:] # dropping all rows but the sum\n",
    "test.annual_avg_emplvl = test.annual_avg_emplvl.astype(int)\n",
    "\n",
    "print(test.shape)\n",
    "print(test.dtypes)\n",
    "test.head()"
   ]
  },
  {
   "cell_type": "markdown",
   "metadata": {},
   "source": [
    "# QCEW data before 2013\n",
    "### _** Open data of the BLS QCEW is available from 2013 only; data for earlier years should be downloaded directly to the local machine**_\n",
    "\n",
    "Download from https://www.bls.gov/cew/datatoc.htm the .zip files for the selected year under _**CSVs By Area**_ and unzip to your local folder, then run the following code to read in only _**selected counties, 'annual avg emplvl'**_, using python's _streaming_ method.\n",
    "\n",
    "## example: year 2000"
   ]
  },
  {
   "cell_type": "code",
   "execution_count": 6,
   "metadata": {},
   "outputs": [
    {
     "name": "stdout",
     "output_type": "stream",
     "text": [
      "/Users/danachermesh/Desktop/digitalceqr\n"
     ]
    }
   ],
   "source": [
    "# check where your notebook is at, \n",
    "# in order to pass the right path in the next cell\n",
    "!pwd"
   ]
  },
  {
   "cell_type": "code",
   "execution_count": null,
   "metadata": {},
   "outputs": [],
   "source": [
    "# creating a list of all file names in the unzipped folder\n",
    "\n",
    "import os\n",
    "\n",
    "mypath = '/Users/danachermesh/Desktop/digitalceqr/data/2000.annual.by_area/'# change to your local path\n",
    "filesList = os.listdir(mypath)\n",
    "\n",
    "print(len(filesList))\n",
    "filesList"
   ]
  },
  {
   "cell_type": "code",
   "execution_count": null,
   "metadata": {},
   "outputs": [],
   "source": []
  }
 ],
 "metadata": {
  "kernelspec": {
   "display_name": "Python 3",
   "language": "python",
   "name": "python3"
  },
  "language_info": {
   "codemirror_mode": {
    "name": "ipython",
    "version": 3
   },
   "file_extension": ".py",
   "mimetype": "text/x-python",
   "name": "python",
   "nbconvert_exporter": "python",
   "pygments_lexer": "ipython3",
   "version": "3.5.5"
  }
 },
 "nbformat": 4,
 "nbformat_minor": 2
}
