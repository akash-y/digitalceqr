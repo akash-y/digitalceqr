{
 "cells": [
  {
   "cell_type": "markdown",
   "metadata": {},
   "source": [
    "DRAW Brooklyn | CUSP internship <br>\n",
    "April 2019\n",
    "\n",
    "# Digital CEQR Chapter 6: Transportation\n",
    "### Analysis objectives and background\n",
    "### Research Question/s:\n",
    "### Methodology:\n",
    "\n",
    "---- \n",
    "# 0 - Imports"
   ]
  },
  {
   "cell_type": "code",
   "execution_count": 1,
   "metadata": {},
   "outputs": [
    {
     "name": "stdout",
     "output_type": "stream",
     "text": [
      "Populating the interactive namespace from numpy and matplotlib\n"
     ]
    }
   ],
   "source": [
    "import requests\n",
    "import pandas as pd\n",
    "import numpy as np\n",
    "\n",
    "from __future__ import print_function, division\n",
    "import matplotlib.pylab as pl\n",
    "import seaborn as sns\n",
    "sns.set_style('whitegrid')\n",
    "import json\n",
    "\n",
    "# Spatial\n",
    "import geopandas as gpd\n",
    "import fiona\n",
    "import shapely\n",
    "\n",
    "import statsmodels.formula.api as smf\n",
    "import statsmodels.api as sm\n",
    "\n",
    "%pylab inline"
   ]
  },
  {
   "cell_type": "markdown",
   "metadata": {},
   "source": [
    "# 1 - Data"
   ]
  },
  {
   "cell_type": "code",
   "execution_count": 2,
   "metadata": {},
   "outputs": [],
   "source": [
    "#read in in the variables available. the info you need is in the 1year ACS data\n",
    "url = \"https://api.census.gov/data/2017/acs/acs5/variables.json\"\n",
    "resp = requests.request('GET', url)\n",
    "aff1y = json.loads(resp.text)"
   ]
  },
  {
   "cell_type": "code",
   "execution_count": 3,
   "metadata": {},
   "outputs": [
    {
     "data": {
      "text/plain": [
       "array(['B19037I_005E', 'B05003B_005E', 'B24124_410E', ..., 'B02017_026E',\n",
       "       'B19101_015E', 'B26201_163E'], dtype='<U14')"
      ]
     },
     "execution_count": 3,
     "metadata": {},
     "output_type": "execute_result"
    }
   ],
   "source": [
    "#turning things into arrays to enable broadcasting\n",
    "#Python3\n",
    "affkeys = np.array(list(aff1y['variables'].keys()))\n",
    "\n",
    "affkeys"
   ]
  },
  {
   "cell_type": "code",
   "execution_count": 20,
   "metadata": {},
   "outputs": [
    {
     "data": {
      "text/plain": [
       "{'attributes': 'B08113_025M,B08113_025MA,B08113_025EA',\n",
       " 'concept': 'MEANS OF TRANSPORTATION TO WORK BY LANGUAGE SPOKEN AT HOME AND ABILITY TO SPEAK ENGLISH',\n",
       " 'group': 'B08113',\n",
       " 'label': 'Estimate!!Total!!Public transportation (excluding taxicab)',\n",
       " 'limit': 0,\n",
       " 'predicateType': 'int'}"
      ]
     },
     "execution_count": 20,
     "metadata": {},
     "output_type": "execute_result"
    }
   ],
   "source": [
    "# keyword for Commuying estimates\n",
    "drive = 'B08015_001E'\n",
    "workers = 'B08101_001E'\n",
    "public = 'B08113_025E'\n",
    "\n",
    "aff1y['variables'][public]"
   ]
  },
  {
   "cell_type": "code",
   "execution_count": 21,
   "metadata": {},
   "outputs": [
    {
     "name": "stdout",
     "output_type": "stream",
     "text": [
      "(761, 5)\n"
     ]
    },
    {
     "data": {
      "text/html": [
       "<div>\n",
       "<style scoped>\n",
       "    .dataframe tbody tr th:only-of-type {\n",
       "        vertical-align: middle;\n",
       "    }\n",
       "\n",
       "    .dataframe tbody tr th {\n",
       "        vertical-align: top;\n",
       "    }\n",
       "\n",
       "    .dataframe thead th {\n",
       "        text-align: right;\n",
       "    }\n",
       "</style>\n",
       "<table border=\"1\" class=\"dataframe\">\n",
       "  <thead>\n",
       "    <tr style=\"text-align: right;\">\n",
       "      <th></th>\n",
       "      <th>TotalCommuting</th>\n",
       "      <th>driving17</th>\n",
       "      <th>public17</th>\n",
       "      <th>Name</th>\n",
       "      <th>tract</th>\n",
       "    </tr>\n",
       "  </thead>\n",
       "  <tbody>\n",
       "    <tr>\n",
       "      <th>1</th>\n",
       "      <td>1043</td>\n",
       "      <td>255</td>\n",
       "      <td>684</td>\n",
       "      <td>Census Tract 70, Kings County, New York</td>\n",
       "      <td>007000</td>\n",
       "    </tr>\n",
       "    <tr>\n",
       "      <th>2</th>\n",
       "      <td>2172</td>\n",
       "      <td>305</td>\n",
       "      <td>1145</td>\n",
       "      <td>Census Tract 106, Kings County, New York</td>\n",
       "      <td>010600</td>\n",
       "    </tr>\n",
       "    <tr>\n",
       "      <th>3</th>\n",
       "      <td>1915</td>\n",
       "      <td>200</td>\n",
       "      <td>1232</td>\n",
       "      <td>Census Tract 108, Kings County, New York</td>\n",
       "      <td>010800</td>\n",
       "    </tr>\n",
       "    <tr>\n",
       "      <th>4</th>\n",
       "      <td>1227</td>\n",
       "      <td>180</td>\n",
       "      <td>804</td>\n",
       "      <td>Census Tract 121, Kings County, New York</td>\n",
       "      <td>012100</td>\n",
       "    </tr>\n",
       "    <tr>\n",
       "      <th>5</th>\n",
       "      <td>1206</td>\n",
       "      <td>65</td>\n",
       "      <td>949</td>\n",
       "      <td>Census Tract 129.02, Kings County, New York</td>\n",
       "      <td>012902</td>\n",
       "    </tr>\n",
       "  </tbody>\n",
       "</table>\n",
       "</div>"
      ],
      "text/plain": [
       "  TotalCommuting driving17 public17  \\\n",
       "1           1043       255      684   \n",
       "2           2172       305     1145   \n",
       "3           1915       200     1232   \n",
       "4           1227       180      804   \n",
       "5           1206        65      949   \n",
       "\n",
       "                                          Name   tract  \n",
       "1      Census Tract 70, Kings County, New York  007000  \n",
       "2     Census Tract 106, Kings County, New York  010600  \n",
       "3     Census Tract 108, Kings County, New York  010800  \n",
       "4     Census Tract 121, Kings County, New York  012100  \n",
       "5  Census Tract 129.02, Kings County, New York  012902  "
      ]
     },
     "execution_count": 21,
     "metadata": {},
     "output_type": "execute_result"
    }
   ],
   "source": [
    "# commute_age data for all counties in the US\n",
    "commute = pd.read_json('https://api.census.gov/data/2017/acs/acs5?get='+\n",
    "                         workers + ',' +\n",
    "                         drive + ',' +\n",
    "                         public + ',' +\n",
    "                         'NAME&for=tract:*&in=county:047&in=state:36')\n",
    "commute.columns = commute.iloc[0]\n",
    "commute = commute[1:]\n",
    "\n",
    "commute = commute.drop(['state', 'county'], axis=1)\n",
    "commute.columns = ['TotalCommuting', 'driving17', 'public17',\n",
    "                       'Name', 'tract']\n",
    "\n",
    "print(commute.shape)\n",
    "commute.head()"
   ]
  },
  {
   "cell_type": "code",
   "execution_count": 22,
   "metadata": {},
   "outputs": [
    {
     "data": {
      "text/html": [
       "<div>\n",
       "<style scoped>\n",
       "    .dataframe tbody tr th:only-of-type {\n",
       "        vertical-align: middle;\n",
       "    }\n",
       "\n",
       "    .dataframe tbody tr th {\n",
       "        vertical-align: top;\n",
       "    }\n",
       "\n",
       "    .dataframe thead th {\n",
       "        text-align: right;\n",
       "    }\n",
       "</style>\n",
       "<table border=\"1\" class=\"dataframe\">\n",
       "  <thead>\n",
       "    <tr style=\"text-align: right;\">\n",
       "      <th></th>\n",
       "      <th>TotalCommuting</th>\n",
       "      <th>driving17</th>\n",
       "      <th>public17</th>\n",
       "      <th>Name</th>\n",
       "      <th>tract</th>\n",
       "    </tr>\n",
       "  </thead>\n",
       "  <tbody>\n",
       "    <tr>\n",
       "      <th>565</th>\n",
       "      <td>1373</td>\n",
       "      <td>230</td>\n",
       "      <td>574</td>\n",
       "      <td>Census Tract 53, Kings County, New York</td>\n",
       "      <td>005300</td>\n",
       "    </tr>\n",
       "  </tbody>\n",
       "</table>\n",
       "</div>"
      ],
      "text/plain": [
       "    TotalCommuting driving17 public17  \\\n",
       "565           1373       230      574   \n",
       "\n",
       "                                        Name   tract  \n",
       "565  Census Tract 53, Kings County, New York  005300  "
      ]
     },
     "execution_count": 22,
     "metadata": {},
     "output_type": "execute_result"
    }
   ],
   "source": [
    "commute[commute.tract == '005300']"
   ]
  },
  {
   "cell_type": "code",
   "execution_count": null,
   "metadata": {},
   "outputs": [],
   "source": []
  },
  {
   "cell_type": "code",
   "execution_count": null,
   "metadata": {},
   "outputs": [],
   "source": []
  }
 ],
 "metadata": {
  "kernelspec": {
   "display_name": "Python 3",
   "language": "python",
   "name": "python3"
  },
  "language_info": {
   "codemirror_mode": {
    "name": "ipython",
    "version": 3
   },
   "file_extension": ".py",
   "mimetype": "text/x-python",
   "name": "python",
   "nbconvert_exporter": "python",
   "pygments_lexer": "ipython3",
   "version": "3.5.5"
  }
 },
 "nbformat": 4,
 "nbformat_minor": 2
}
