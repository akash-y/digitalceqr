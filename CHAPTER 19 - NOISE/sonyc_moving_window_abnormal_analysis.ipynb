{
 "cells": [
  {
   "cell_type": "markdown",
   "metadata": {},
   "source": [
    "# Sonyc Moving Window Abnormal Analysis\n",
    "\n",
    "**Cowork by Xurui Chen and Pengzi Li**\n",
    "\n",
    "[Get Moving Window](#Get_Moving_Window)\n",
    "\n",
    "[Abnormal Detection](#Abnormal_Detection)"
   ]
  },
  {
   "cell_type": "code",
   "execution_count": 10,
   "metadata": {},
   "outputs": [],
   "source": [
    "import pandas as pd\n",
    "import numpy as np\n",
    "import utils\n",
    "import matplotlib as plt\n",
    "import seaborn as sns\n",
    "import matplotlib.ticker as ticker\n",
    "import ipywidgets as widgets\n",
    "import matplotlib.dates as mdates\n",
    "from datetime import datetime"
   ]
  },
  {
   "cell_type": "code",
   "execution_count": 2,
   "metadata": {},
   "outputs": [],
   "source": [
    "matplotlib.rcParams['timezone'] = 'America/New_York'\n",
    "df = pd.read_csv('sonycnode-b827eb491436.sonyc.csv')"
   ]
  },
  {
   "cell_type": "code",
   "execution_count": 3,
   "metadata": {},
   "outputs": [],
   "source": [
    "df['time'] = pd.to_datetime(df['timestamp'].values.astype(np.int64), unit='s')\n",
    "df['time'] = df['time'].dt.tz_localize('UTC').dt.tz_convert('America/New_York')\n",
    "df.set_index(pd.DatetimeIndex(df['time']), inplace=True)\n",
    "df.drop(['time', 'timestamp'], axis=1, inplace=True)"
   ]
  },
  {
   "cell_type": "code",
   "execution_count": 4,
   "metadata": {},
   "outputs": [],
   "source": [
    "df['weekday'] = df.index.weekday\n",
    "df['min_of_day'] = (df.index.hour * 60.0) + df.index.minute\n",
    "df['hour_of_day'] = df.index.hour"
   ]
  },
  {
   "cell_type": "code",
   "execution_count": 5,
   "metadata": {},
   "outputs": [
    {
     "data": {
      "text/html": [
       "<div>\n",
       "<style scoped>\n",
       "    .dataframe tbody tr th:only-of-type {\n",
       "        vertical-align: middle;\n",
       "    }\n",
       "\n",
       "    .dataframe tbody tr th {\n",
       "        vertical-align: top;\n",
       "    }\n",
       "\n",
       "    .dataframe thead th {\n",
       "        text-align: right;\n",
       "    }\n",
       "</style>\n",
       "<table border=\"1\" class=\"dataframe\">\n",
       "  <thead>\n",
       "    <tr style=\"text-align: right;\">\n",
       "      <th></th>\n",
       "      <th>dBAS</th>\n",
       "      <th>weekday</th>\n",
       "      <th>min_of_day</th>\n",
       "      <th>hour_of_day</th>\n",
       "    </tr>\n",
       "    <tr>\n",
       "      <th>time</th>\n",
       "      <th></th>\n",
       "      <th></th>\n",
       "      <th></th>\n",
       "      <th></th>\n",
       "    </tr>\n",
       "  </thead>\n",
       "  <tbody>\n",
       "    <tr>\n",
       "      <th>2019-04-11 11:14:09-04:00</th>\n",
       "      <td>64.35</td>\n",
       "      <td>3</td>\n",
       "      <td>674.0</td>\n",
       "      <td>11</td>\n",
       "    </tr>\n",
       "    <tr>\n",
       "      <th>2019-04-11 11:14:10-04:00</th>\n",
       "      <td>65.92</td>\n",
       "      <td>3</td>\n",
       "      <td>674.0</td>\n",
       "      <td>11</td>\n",
       "    </tr>\n",
       "    <tr>\n",
       "      <th>2019-04-11 11:14:11-04:00</th>\n",
       "      <td>69.24</td>\n",
       "      <td>3</td>\n",
       "      <td>674.0</td>\n",
       "      <td>11</td>\n",
       "    </tr>\n",
       "    <tr>\n",
       "      <th>2019-04-11 11:14:12-04:00</th>\n",
       "      <td>71.78</td>\n",
       "      <td>3</td>\n",
       "      <td>674.0</td>\n",
       "      <td>11</td>\n",
       "    </tr>\n",
       "    <tr>\n",
       "      <th>2019-04-11 11:14:13-04:00</th>\n",
       "      <td>70.70</td>\n",
       "      <td>3</td>\n",
       "      <td>674.0</td>\n",
       "      <td>11</td>\n",
       "    </tr>\n",
       "  </tbody>\n",
       "</table>\n",
       "</div>"
      ],
      "text/plain": [
       "                            dBAS  weekday  min_of_day  hour_of_day\n",
       "time                                                              \n",
       "2019-04-11 11:14:09-04:00  64.35        3       674.0           11\n",
       "2019-04-11 11:14:10-04:00  65.92        3       674.0           11\n",
       "2019-04-11 11:14:11-04:00  69.24        3       674.0           11\n",
       "2019-04-11 11:14:12-04:00  71.78        3       674.0           11\n",
       "2019-04-11 11:14:13-04:00  70.70        3       674.0           11"
      ]
     },
     "execution_count": 5,
     "metadata": {},
     "output_type": "execute_result"
    }
   ],
   "source": [
    "df.head()"
   ]
  },
  {
   "cell_type": "markdown",
   "metadata": {},
   "source": [
    "## Get_Moving_Window"
   ]
  },
  {
   "cell_type": "markdown",
   "metadata": {},
   "source": [
    "Get moving average and std in 60s. "
   ]
  },
  {
   "cell_type": "code",
   "execution_count": 11,
   "metadata": {},
   "outputs": [],
   "source": [
    "rolling_mean = df.dBAS.rolling(window=60).mean()"
   ]
  },
  {
   "cell_type": "code",
   "execution_count": 14,
   "metadata": {},
   "outputs": [],
   "source": [
    "rolling_std = df.dBAS.rolling(window=60).std()"
   ]
  },
  {
   "cell_type": "code",
   "execution_count": 15,
   "metadata": {},
   "outputs": [],
   "source": [
    "df['rolling_mean'] = rolling_mean"
   ]
  },
  {
   "cell_type": "code",
   "execution_count": 16,
   "metadata": {},
   "outputs": [],
   "source": [
    "df['rolling_std'] = rolling_std"
   ]
  },
  {
   "cell_type": "code",
   "execution_count": 17,
   "metadata": {},
   "outputs": [
    {
     "data": {
      "text/html": [
       "<div>\n",
       "<style scoped>\n",
       "    .dataframe tbody tr th:only-of-type {\n",
       "        vertical-align: middle;\n",
       "    }\n",
       "\n",
       "    .dataframe tbody tr th {\n",
       "        vertical-align: top;\n",
       "    }\n",
       "\n",
       "    .dataframe thead th {\n",
       "        text-align: right;\n",
       "    }\n",
       "</style>\n",
       "<table border=\"1\" class=\"dataframe\">\n",
       "  <thead>\n",
       "    <tr style=\"text-align: right;\">\n",
       "      <th></th>\n",
       "      <th>dBAS</th>\n",
       "      <th>weekday</th>\n",
       "      <th>min_of_day</th>\n",
       "      <th>hour_of_day</th>\n",
       "      <th>rolling_mean</th>\n",
       "      <th>rolling_std</th>\n",
       "    </tr>\n",
       "    <tr>\n",
       "      <th>time</th>\n",
       "      <th></th>\n",
       "      <th></th>\n",
       "      <th></th>\n",
       "      <th></th>\n",
       "      <th></th>\n",
       "      <th></th>\n",
       "    </tr>\n",
       "  </thead>\n",
       "  <tbody>\n",
       "    <tr>\n",
       "      <th>2019-04-11 11:14:09-04:00</th>\n",
       "      <td>64.35</td>\n",
       "      <td>3</td>\n",
       "      <td>674.0</td>\n",
       "      <td>11</td>\n",
       "      <td>NaN</td>\n",
       "      <td>NaN</td>\n",
       "    </tr>\n",
       "    <tr>\n",
       "      <th>2019-04-11 11:14:10-04:00</th>\n",
       "      <td>65.92</td>\n",
       "      <td>3</td>\n",
       "      <td>674.0</td>\n",
       "      <td>11</td>\n",
       "      <td>NaN</td>\n",
       "      <td>NaN</td>\n",
       "    </tr>\n",
       "    <tr>\n",
       "      <th>2019-04-11 11:14:11-04:00</th>\n",
       "      <td>69.24</td>\n",
       "      <td>3</td>\n",
       "      <td>674.0</td>\n",
       "      <td>11</td>\n",
       "      <td>NaN</td>\n",
       "      <td>NaN</td>\n",
       "    </tr>\n",
       "    <tr>\n",
       "      <th>2019-04-11 11:14:12-04:00</th>\n",
       "      <td>71.78</td>\n",
       "      <td>3</td>\n",
       "      <td>674.0</td>\n",
       "      <td>11</td>\n",
       "      <td>NaN</td>\n",
       "      <td>NaN</td>\n",
       "    </tr>\n",
       "    <tr>\n",
       "      <th>2019-04-11 11:14:13-04:00</th>\n",
       "      <td>70.70</td>\n",
       "      <td>3</td>\n",
       "      <td>674.0</td>\n",
       "      <td>11</td>\n",
       "      <td>NaN</td>\n",
       "      <td>NaN</td>\n",
       "    </tr>\n",
       "  </tbody>\n",
       "</table>\n",
       "</div>"
      ],
      "text/plain": [
       "                            dBAS  weekday  min_of_day  hour_of_day  \\\n",
       "time                                                                 \n",
       "2019-04-11 11:14:09-04:00  64.35        3       674.0           11   \n",
       "2019-04-11 11:14:10-04:00  65.92        3       674.0           11   \n",
       "2019-04-11 11:14:11-04:00  69.24        3       674.0           11   \n",
       "2019-04-11 11:14:12-04:00  71.78        3       674.0           11   \n",
       "2019-04-11 11:14:13-04:00  70.70        3       674.0           11   \n",
       "\n",
       "                           rolling_mean  rolling_std  \n",
       "time                                                  \n",
       "2019-04-11 11:14:09-04:00           NaN          NaN  \n",
       "2019-04-11 11:14:10-04:00           NaN          NaN  \n",
       "2019-04-11 11:14:11-04:00           NaN          NaN  \n",
       "2019-04-11 11:14:12-04:00           NaN          NaN  \n",
       "2019-04-11 11:14:13-04:00           NaN          NaN  "
      ]
     },
     "execution_count": 17,
     "metadata": {},
     "output_type": "execute_result"
    }
   ],
   "source": [
    "df.head()"
   ]
  },
  {
   "cell_type": "markdown",
   "metadata": {},
   "source": [
    "## Abnormal_Detection"
   ]
  },
  {
   "cell_type": "code",
   "execution_count": 20,
   "metadata": {},
   "outputs": [
    {
     "name": "stdout",
     "output_type": "stream",
     "text": [
      "\n",
      "Start: \t 2019-04-11 11:14:09-04:00\n",
      "End: \t 2019-04-23 09:02:06-04:00\n",
      "\n",
      "Total avg SPL: \t 58.60 dBA\n",
      "Total std SPL: \t 7.72 dBA\n",
      "Total max SPL: \t 107.73 dBA\n",
      "Total min SPL: \t 41.88 dBA\n"
     ]
    }
   ],
   "source": [
    "# Print high level information\n",
    "print('')\n",
    "print('Start: \\t %s' % df.index[0])\n",
    "print('End: \\t %s' % df.index[-1])\n",
    "print('')\n",
    "print('Total avg SPL: \\t %0.2f dBA' % df['dBAS'].mean())\n",
    "print('Total std SPL: \\t %0.2f dBA' % df['dBAS'].std())\n",
    "print('Total max SPL: \\t %0.2f dBA' % df['dBAS'].max())\n",
    "print('Total min SPL: \\t %0.2f dBA' % df['dBAS'].min())"
   ]
  },
  {
   "cell_type": "markdown",
   "metadata": {},
   "source": [
    "From overall average and standard deviation, we assume that if the noise higher 3 moving_std than this window time moving_avg, there is a truck pass by."
   ]
  },
  {
   "cell_type": "code",
   "execution_count": 21,
   "metadata": {},
   "outputs": [],
   "source": [
    "def truckDetection(df):\n",
    "    return(df[(df['dBAS'] - df['rolling_mean']> 3*df['rolling_std'])])"
   ]
  },
  {
   "cell_type": "code",
   "execution_count": 23,
   "metadata": {},
   "outputs": [],
   "source": [
    "truckNoisePoint = truckDetection(df)"
   ]
  },
  {
   "cell_type": "code",
   "execution_count": 24,
   "metadata": {},
   "outputs": [
    {
     "data": {
      "text/plain": [
       "(23799, 6)"
      ]
     },
     "execution_count": 24,
     "metadata": {},
     "output_type": "execute_result"
    }
   ],
   "source": [
    "truckNoisePoint.shape"
   ]
  },
  {
   "cell_type": "code",
   "execution_count": 26,
   "metadata": {},
   "outputs": [
    {
     "data": {
      "text/html": [
       "<div>\n",
       "<style scoped>\n",
       "    .dataframe tbody tr th:only-of-type {\n",
       "        vertical-align: middle;\n",
       "    }\n",
       "\n",
       "    .dataframe tbody tr th {\n",
       "        vertical-align: top;\n",
       "    }\n",
       "\n",
       "    .dataframe thead th {\n",
       "        text-align: right;\n",
       "    }\n",
       "</style>\n",
       "<table border=\"1\" class=\"dataframe\">\n",
       "  <thead>\n",
       "    <tr style=\"text-align: right;\">\n",
       "      <th></th>\n",
       "      <th>dBAS</th>\n",
       "      <th>weekday</th>\n",
       "      <th>min_of_day</th>\n",
       "      <th>hour_of_day</th>\n",
       "      <th>rolling_mean</th>\n",
       "      <th>rolling_std</th>\n",
       "    </tr>\n",
       "    <tr>\n",
       "      <th>time</th>\n",
       "      <th></th>\n",
       "      <th></th>\n",
       "      <th></th>\n",
       "      <th></th>\n",
       "      <th></th>\n",
       "      <th></th>\n",
       "    </tr>\n",
       "  </thead>\n",
       "  <tbody>\n",
       "    <tr>\n",
       "      <th>2019-04-11 11:26:36-04:00</th>\n",
       "      <td>73.76</td>\n",
       "      <td>3</td>\n",
       "      <td>686.0</td>\n",
       "      <td>11</td>\n",
       "      <td>59.271167</td>\n",
       "      <td>4.547259</td>\n",
       "    </tr>\n",
       "    <tr>\n",
       "      <th>2019-04-11 11:26:40-04:00</th>\n",
       "      <td>80.16</td>\n",
       "      <td>3</td>\n",
       "      <td>686.0</td>\n",
       "      <td>11</td>\n",
       "      <td>60.348667</td>\n",
       "      <td>5.996387</td>\n",
       "    </tr>\n",
       "    <tr>\n",
       "      <th>2019-04-11 11:26:41-04:00</th>\n",
       "      <td>87.45</td>\n",
       "      <td>3</td>\n",
       "      <td>686.0</td>\n",
       "      <td>11</td>\n",
       "      <td>60.878667</td>\n",
       "      <td>6.909823</td>\n",
       "    </tr>\n",
       "    <tr>\n",
       "      <th>2019-04-11 11:30:25-04:00</th>\n",
       "      <td>80.50</td>\n",
       "      <td>3</td>\n",
       "      <td>690.0</td>\n",
       "      <td>11</td>\n",
       "      <td>62.893833</td>\n",
       "      <td>5.619611</td>\n",
       "    </tr>\n",
       "    <tr>\n",
       "      <th>2019-04-11 11:38:40-04:00</th>\n",
       "      <td>82.62</td>\n",
       "      <td>3</td>\n",
       "      <td>698.0</td>\n",
       "      <td>11</td>\n",
       "      <td>61.627167</td>\n",
       "      <td>5.737159</td>\n",
       "    </tr>\n",
       "  </tbody>\n",
       "</table>\n",
       "</div>"
      ],
      "text/plain": [
       "                            dBAS  weekday  min_of_day  hour_of_day  \\\n",
       "time                                                                 \n",
       "2019-04-11 11:26:36-04:00  73.76        3       686.0           11   \n",
       "2019-04-11 11:26:40-04:00  80.16        3       686.0           11   \n",
       "2019-04-11 11:26:41-04:00  87.45        3       686.0           11   \n",
       "2019-04-11 11:30:25-04:00  80.50        3       690.0           11   \n",
       "2019-04-11 11:38:40-04:00  82.62        3       698.0           11   \n",
       "\n",
       "                           rolling_mean  rolling_std  \n",
       "time                                                  \n",
       "2019-04-11 11:26:36-04:00     59.271167     4.547259  \n",
       "2019-04-11 11:26:40-04:00     60.348667     5.996387  \n",
       "2019-04-11 11:26:41-04:00     60.878667     6.909823  \n",
       "2019-04-11 11:30:25-04:00     62.893833     5.619611  \n",
       "2019-04-11 11:38:40-04:00     61.627167     5.737159  "
      ]
     },
     "execution_count": 26,
     "metadata": {},
     "output_type": "execute_result"
    }
   ],
   "source": [
    "truckNoisePoint.head()"
   ]
  },
  {
   "cell_type": "markdown",
   "metadata": {},
   "source": [
    "These are unaggregated truck noise data point."
   ]
  },
  {
   "cell_type": "markdown",
   "metadata": {},
   "source": [
    "Analyze by each day."
   ]
  },
  {
   "cell_type": "code",
   "execution_count": 36,
   "metadata": {},
   "outputs": [
    {
     "name": "stderr",
     "output_type": "stream",
     "text": [
      "C:\\Users\\sherr\\Anaconda3\\lib\\site-packages\\ipykernel_launcher.py:1: SettingWithCopyWarning: \n",
      "A value is trying to be set on a copy of a slice from a DataFrame.\n",
      "Try using .loc[row_indexer,col_indexer] = value instead\n",
      "\n",
      "See the caveats in the documentation: http://pandas.pydata.org/pandas-docs/stable/indexing.html#indexing-view-versus-copy\n",
      "  \"\"\"Entry point for launching an IPython kernel.\n"
     ]
    }
   ],
   "source": [
    "truckNoisePoint['Date'] = truckNoisePoint.index.to_frame()['time'].apply(lambda x: x.date()).to_list()"
   ]
  },
  {
   "cell_type": "code",
   "execution_count": 42,
   "metadata": {},
   "outputs": [],
   "source": [
    "truckNoiseDate = truckNoisePoint.groupby('Date').size().to_frame().rename(columns = {0: 'DateCount'})"
   ]
  },
  {
   "cell_type": "code",
   "execution_count": 43,
   "metadata": {},
   "outputs": [
    {
     "data": {
      "text/html": [
       "<div>\n",
       "<style scoped>\n",
       "    .dataframe tbody tr th:only-of-type {\n",
       "        vertical-align: middle;\n",
       "    }\n",
       "\n",
       "    .dataframe tbody tr th {\n",
       "        vertical-align: top;\n",
       "    }\n",
       "\n",
       "    .dataframe thead th {\n",
       "        text-align: right;\n",
       "    }\n",
       "</style>\n",
       "<table border=\"1\" class=\"dataframe\">\n",
       "  <thead>\n",
       "    <tr style=\"text-align: right;\">\n",
       "      <th></th>\n",
       "      <th>DateCount</th>\n",
       "    </tr>\n",
       "    <tr>\n",
       "      <th>Date</th>\n",
       "      <th></th>\n",
       "    </tr>\n",
       "  </thead>\n",
       "  <tbody>\n",
       "    <tr>\n",
       "      <th>2019-04-11</th>\n",
       "      <td>216</td>\n",
       "    </tr>\n",
       "    <tr>\n",
       "      <th>2019-04-12</th>\n",
       "      <td>2112</td>\n",
       "    </tr>\n",
       "    <tr>\n",
       "      <th>2019-04-13</th>\n",
       "      <td>1717</td>\n",
       "    </tr>\n",
       "    <tr>\n",
       "      <th>2019-04-14</th>\n",
       "      <td>1679</td>\n",
       "    </tr>\n",
       "    <tr>\n",
       "      <th>2019-04-15</th>\n",
       "      <td>2113</td>\n",
       "    </tr>\n",
       "    <tr>\n",
       "      <th>2019-04-16</th>\n",
       "      <td>1838</td>\n",
       "    </tr>\n",
       "    <tr>\n",
       "      <th>2019-04-17</th>\n",
       "      <td>1831</td>\n",
       "    </tr>\n",
       "    <tr>\n",
       "      <th>2019-04-18</th>\n",
       "      <td>2112</td>\n",
       "    </tr>\n",
       "    <tr>\n",
       "      <th>2019-04-19</th>\n",
       "      <td>2009</td>\n",
       "    </tr>\n",
       "    <tr>\n",
       "      <th>2019-04-20</th>\n",
       "      <td>2079</td>\n",
       "    </tr>\n",
       "    <tr>\n",
       "      <th>2019-04-21</th>\n",
       "      <td>2092</td>\n",
       "    </tr>\n",
       "    <tr>\n",
       "      <th>2019-04-22</th>\n",
       "      <td>2174</td>\n",
       "    </tr>\n",
       "    <tr>\n",
       "      <th>2019-04-23</th>\n",
       "      <td>1827</td>\n",
       "    </tr>\n",
       "  </tbody>\n",
       "</table>\n",
       "</div>"
      ],
      "text/plain": [
       "            DateCount\n",
       "Date                 \n",
       "2019-04-11        216\n",
       "2019-04-12       2112\n",
       "2019-04-13       1717\n",
       "2019-04-14       1679\n",
       "2019-04-15       2113\n",
       "2019-04-16       1838\n",
       "2019-04-17       1831\n",
       "2019-04-18       2112\n",
       "2019-04-19       2009\n",
       "2019-04-20       2079\n",
       "2019-04-21       2092\n",
       "2019-04-22       2174\n",
       "2019-04-23       1827"
      ]
     },
     "execution_count": 43,
     "metadata": {},
     "output_type": "execute_result"
    }
   ],
   "source": [
    "truckNoiseDate"
   ]
  },
  {
   "cell_type": "markdown",
   "metadata": {},
   "source": [
    "Future: This is the analysis in the raw data (record in second) with the 60s moving window, which means if a data point is higher 3 moving_std (the std of previous 60s data point) than moving_avg (the mean of previous 60s data point), this will be the noise data. But a truck might go through our study area and continue to make seconds or minutes noise. For the next step, we should aggregate the noise data point in seconds or 1 minute and get a more accurate truck count."
   ]
  },
  {
   "cell_type": "code",
   "execution_count": null,
   "metadata": {},
   "outputs": [],
   "source": []
  }
 ],
 "metadata": {
  "kernelspec": {
   "display_name": "py3Env",
   "language": "python",
   "name": "py3env"
  },
  "language_info": {
   "codemirror_mode": {
    "name": "ipython",
    "version": 2
   },
   "file_extension": ".py",
   "mimetype": "text/x-python",
   "name": "python",
   "nbconvert_exporter": "python",
   "pygments_lexer": "ipython2",
   "version": "2.7.16"
  }
 },
 "nbformat": 4,
 "nbformat_minor": 2
}
