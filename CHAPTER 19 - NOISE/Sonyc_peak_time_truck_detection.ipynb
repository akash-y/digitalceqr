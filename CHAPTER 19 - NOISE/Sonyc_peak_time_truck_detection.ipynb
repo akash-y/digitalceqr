{
 "cells": [
  {
   "cell_type": "markdown",
   "metadata": {},
   "source": [
    "# Sonyc Peak Time Truck Detection\n",
    "\n",
    "**Cowork by Xurui Chen and Pengzi Li**\n",
    "\n",
    "[Peak Time Detection](#Peak_Time_Detection)\n",
    "\n",
    "[Get Moving Window](#Get_Moving_Window)\n",
    "\n",
    "[Data Filter](#Data_Filter)\n",
    "\n",
    "[Abnormal Detection](#Abnormal_Detection)"
   ]
  },
  {
   "cell_type": "code",
   "execution_count": 1,
   "metadata": {},
   "outputs": [],
   "source": [
    "import pandas as pd\n",
    "import numpy as np\n",
    "import utils\n",
    "import matplotlib as plt\n",
    "import seaborn as sns\n",
    "import matplotlib.ticker as ticker\n",
    "import ipywidgets as widgets\n",
    "import matplotlib.dates as mdates\n",
    "from datetime import datetime\n",
    "import matplotlib.pyplot as pl"
   ]
  },
  {
   "cell_type": "code",
   "execution_count": 2,
   "metadata": {},
   "outputs": [],
   "source": [
    "plt.rcParams['timezone'] = 'America/New_York'\n",
    "df = pd.read_csv('sonycnode-b827eb491436.sonyc.csv')"
   ]
  },
  {
   "cell_type": "code",
   "execution_count": 3,
   "metadata": {},
   "outputs": [],
   "source": [
    "df['time'] = pd.to_datetime(df['timestamp'].values.astype(np.int64), unit='s')\n",
    "df['time'] = df['time'].dt.tz_localize('UTC').dt.tz_convert('America/New_York')\n",
    "df.set_index(pd.DatetimeIndex(df['time']), inplace=True)\n",
    "df.drop(['time', 'timestamp'], axis=1, inplace=True)"
   ]
  },
  {
   "cell_type": "code",
   "execution_count": 4,
   "metadata": {},
   "outputs": [],
   "source": [
    "df['weekday'] = df.index.weekday\n",
    "df['min_of_day'] = (df.index.hour * 60.0) + df.index.minute\n",
    "df['hour_of_day'] = df.index.hour"
   ]
  },
  {
   "cell_type": "code",
   "execution_count": 5,
   "metadata": {},
   "outputs": [
    {
     "data": {
      "text/html": [
       "<div>\n",
       "<style scoped>\n",
       "    .dataframe tbody tr th:only-of-type {\n",
       "        vertical-align: middle;\n",
       "    }\n",
       "\n",
       "    .dataframe tbody tr th {\n",
       "        vertical-align: top;\n",
       "    }\n",
       "\n",
       "    .dataframe thead th {\n",
       "        text-align: right;\n",
       "    }\n",
       "</style>\n",
       "<table border=\"1\" class=\"dataframe\">\n",
       "  <thead>\n",
       "    <tr style=\"text-align: right;\">\n",
       "      <th></th>\n",
       "      <th>dBAS</th>\n",
       "      <th>weekday</th>\n",
       "      <th>min_of_day</th>\n",
       "      <th>hour_of_day</th>\n",
       "    </tr>\n",
       "    <tr>\n",
       "      <th>time</th>\n",
       "      <th></th>\n",
       "      <th></th>\n",
       "      <th></th>\n",
       "      <th></th>\n",
       "    </tr>\n",
       "  </thead>\n",
       "  <tbody>\n",
       "    <tr>\n",
       "      <th>2019-04-11 11:14:09-04:00</th>\n",
       "      <td>64.35</td>\n",
       "      <td>3</td>\n",
       "      <td>674.0</td>\n",
       "      <td>11</td>\n",
       "    </tr>\n",
       "    <tr>\n",
       "      <th>2019-04-11 11:14:10-04:00</th>\n",
       "      <td>65.92</td>\n",
       "      <td>3</td>\n",
       "      <td>674.0</td>\n",
       "      <td>11</td>\n",
       "    </tr>\n",
       "    <tr>\n",
       "      <th>2019-04-11 11:14:11-04:00</th>\n",
       "      <td>69.24</td>\n",
       "      <td>3</td>\n",
       "      <td>674.0</td>\n",
       "      <td>11</td>\n",
       "    </tr>\n",
       "    <tr>\n",
       "      <th>2019-04-11 11:14:12-04:00</th>\n",
       "      <td>71.78</td>\n",
       "      <td>3</td>\n",
       "      <td>674.0</td>\n",
       "      <td>11</td>\n",
       "    </tr>\n",
       "    <tr>\n",
       "      <th>2019-04-11 11:14:13-04:00</th>\n",
       "      <td>70.70</td>\n",
       "      <td>3</td>\n",
       "      <td>674.0</td>\n",
       "      <td>11</td>\n",
       "    </tr>\n",
       "  </tbody>\n",
       "</table>\n",
       "</div>"
      ],
      "text/plain": [
       "                            dBAS  weekday  min_of_day  hour_of_day\n",
       "time                                                              \n",
       "2019-04-11 11:14:09-04:00  64.35        3       674.0           11\n",
       "2019-04-11 11:14:10-04:00  65.92        3       674.0           11\n",
       "2019-04-11 11:14:11-04:00  69.24        3       674.0           11\n",
       "2019-04-11 11:14:12-04:00  71.78        3       674.0           11\n",
       "2019-04-11 11:14:13-04:00  70.70        3       674.0           11"
      ]
     },
     "execution_count": 5,
     "metadata": {},
     "output_type": "execute_result"
    }
   ],
   "source": [
    "df.head()"
   ]
  },
  {
   "cell_type": "markdown",
   "metadata": {},
   "source": [
    "## Peak_Time_Detection"
   ]
  },
  {
   "cell_type": "code",
   "execution_count": 6,
   "metadata": {},
   "outputs": [],
   "source": [
    "def calc_leq(data):\n",
    "    return 10 * np.log10(np.mean(10 ** (data / 10)))"
   ]
  },
  {
   "cell_type": "code",
   "execution_count": 7,
   "metadata": {},
   "outputs": [
    {
     "data": {
      "image/png": "[encoded data removed]",
      "text/plain": [
       "<Figure size 864x432 with 1 Axes>"
      ]
     },
     "metadata": {
      "needs_background": "light"
     },
     "output_type": "display_data"
    }
   ],
   "source": [
    "df_gb = df.groupby(df['hour_of_day'])['dBAS'].apply(calc_leq)\n",
    "\n",
    "pl.figure(figsize=(12,6))\n",
    "ax = sns.lineplot(x=df_gb.index, y=df_gb, linewidth=2)\n",
    "\n",
    "pl.xlim([df_gb.index.min(), df_gb.index.max()])\n",
    "pl.title('SPL grouped by hour')\n",
    "pl.xlabel('Hour of the day')\n",
    "ax.xaxis.set_major_locator(ticker.MultipleLocator(1))\n",
    "pl.ylabel('A weighted SPL')\n",
    "pl.tight_layout()\n",
    "pl.grid()"
   ]
  },
  {
   "cell_type": "code",
   "execution_count": 8,
   "metadata": {},
   "outputs": [],
   "source": [
    "wkday_df = df.loc[df['weekday'] < 5]\n",
    "wkend_df = df.loc[df['weekday'] > 4]"
   ]
  },
  {
   "cell_type": "markdown",
   "metadata": {},
   "source": [
    "Plot the mean dBAS changes through the day weekend vs weekday"
   ]
  },
  {
   "cell_type": "code",
   "execution_count": 9,
   "metadata": {},
   "outputs": [
    {
     "data": {
      "image/png": "[encoded data removed]",
      "text/plain": [
       "<Figure size 864x432 with 1 Axes>"
      ]
     },
     "metadata": {
      "needs_background": "light"
     },
     "output_type": "display_data"
    }
   ],
   "source": [
    "wkend_gb = wkend_df.groupby(wkend_df['hour_of_day'])['dBAS'].apply(calc_leq)\n",
    "wkday_gb = wkday_df.groupby(wkday_df['hour_of_day'])['dBAS'].apply(calc_leq)\n",
    "\n",
    "pl.figure(figsize=(12,6))\n",
    "ax = sns.lineplot(x=wkend_gb.index, y=wkend_gb, linewidth=2)\n",
    "ax = sns.lineplot(x=wkday_gb.index, y=wkday_gb, linewidth=2)\n",
    "pl.xlim([wkend_gb.index.min(), wkend_gb.index.max()])\n",
    "pl.title('SPL grouped by hour comparing weekday and weekends')\n",
    "pl.xlabel('Hour of the day')\n",
    "ax.xaxis.set_major_locator(ticker.MultipleLocator(1))\n",
    "# ax.axvspan(7, 8, alpha=0.5, color='red')\n",
    "# ax.axvspan(7, 8, alpha=0.5, color='red')\n",
    "# ax.axvspan(16, 18, alpha=0.5, color='red')\n",
    "pl.ylabel('A weighted SPL')\n",
    "pl.legend(['Weekend', 'Weekday'])\n",
    "pl.tight_layout()\n",
    "pl.grid()\n",
    "#pl.savefig('wkend_wkday_byhour.pdf', format='pdf', dpi=1000, bbox_inches='tight')"
   ]
  },
  {
   "cell_type": "code",
   "execution_count": 10,
   "metadata": {},
   "outputs": [
    {
     "data": {
      "image/png": "[encoded data removed]",
      "text/plain": [
       "<Figure size 864x432 with 1 Axes>"
      ]
     },
     "metadata": {
      "needs_background": "light"
     },
     "output_type": "display_data"
    }
   ],
   "source": [
    "pl.figure(figsize=(12,6))\n",
    "ax = sns.lineplot(x=wkday_gb.index, y=wkday_gb, linewidth=2)\n",
    "pl.xlim([wkend_gb.index.min(), wkend_gb.index.max()])\n",
    "pl.title('SPL grouped by hour comparing weekday and weekends')\n",
    "pl.xlabel('Hour of the day')\n",
    "ax.xaxis.set_major_locator(ticker.MultipleLocator(1))\n",
    "ax.axvspan(7.5, 8.5, alpha=0.2, color='red')\n",
    "ax.axvspan(9.5, 10.5, alpha=0.2, color='red')\n",
    "ax.axvspan(11.5, 12.5, alpha=0.2, color='red')\n",
    "ax.axvspan(17.5, 18.5, alpha=0.2, color='red')\n",
    "pl.ylabel('A weighted SPL')\n",
    "pl.legend(['Weekday', 'Peak Hour'])\n",
    "pl.tight_layout()\n",
    "# plt.savefig('wkend_wkday_byhour.pdf', format='pdf', dpi=1000, bbox_inches='tight')\n",
    "pl.grid()\n",
    "# pl.savefig('peak hour.jpg')"
   ]
  },
  {
   "cell_type": "markdown",
   "metadata": {},
   "source": [
    "So we select the 8am, 10am, 12pm and 6pm as morning, midday and afternoon peak time.\n",
    "\n",
    "And we use 7:50-8:10, 9:50-10:10, 11:50-12:10, 17:50-18:10 to analyze."
   ]
  },
  {
   "cell_type": "markdown",
   "metadata": {},
   "source": [
    "## Get_Moving_Window"
   ]
  },
  {
   "cell_type": "code",
   "execution_count": 11,
   "metadata": {},
   "outputs": [],
   "source": [
    "rolling_mean = df.dBAS.rolling(window=60).mean()\n",
    "rolling_std = df.dBAS.rolling(window=60).std()"
   ]
  },
  {
   "cell_type": "code",
   "execution_count": 12,
   "metadata": {},
   "outputs": [],
   "source": [
    "df['rolling_mean'] = rolling_mean\n",
    "df['rolling_std'] = rolling_std"
   ]
  },
  {
   "cell_type": "code",
   "execution_count": 13,
   "metadata": {},
   "outputs": [
    {
     "data": {
      "text/html": [
       "<div>\n",
       "<style scoped>\n",
       "    .dataframe tbody tr th:only-of-type {\n",
       "        vertical-align: middle;\n",
       "    }\n",
       "\n",
       "    .dataframe tbody tr th {\n",
       "        vertical-align: top;\n",
       "    }\n",
       "\n",
       "    .dataframe thead th {\n",
       "        text-align: right;\n",
       "    }\n",
       "</style>\n",
       "<table border=\"1\" class=\"dataframe\">\n",
       "  <thead>\n",
       "    <tr style=\"text-align: right;\">\n",
       "      <th></th>\n",
       "      <th>dBAS</th>\n",
       "      <th>weekday</th>\n",
       "      <th>min_of_day</th>\n",
       "      <th>hour_of_day</th>\n",
       "      <th>rolling_mean</th>\n",
       "      <th>rolling_std</th>\n",
       "    </tr>\n",
       "    <tr>\n",
       "      <th>time</th>\n",
       "      <th></th>\n",
       "      <th></th>\n",
       "      <th></th>\n",
       "      <th></th>\n",
       "      <th></th>\n",
       "      <th></th>\n",
       "    </tr>\n",
       "  </thead>\n",
       "  <tbody>\n",
       "    <tr>\n",
       "      <th>2019-04-11 11:14:09-04:00</th>\n",
       "      <td>64.35</td>\n",
       "      <td>3</td>\n",
       "      <td>674.0</td>\n",
       "      <td>11</td>\n",
       "      <td>NaN</td>\n",
       "      <td>NaN</td>\n",
       "    </tr>\n",
       "    <tr>\n",
       "      <th>2019-04-11 11:14:10-04:00</th>\n",
       "      <td>65.92</td>\n",
       "      <td>3</td>\n",
       "      <td>674.0</td>\n",
       "      <td>11</td>\n",
       "      <td>NaN</td>\n",
       "      <td>NaN</td>\n",
       "    </tr>\n",
       "    <tr>\n",
       "      <th>2019-04-11 11:14:11-04:00</th>\n",
       "      <td>69.24</td>\n",
       "      <td>3</td>\n",
       "      <td>674.0</td>\n",
       "      <td>11</td>\n",
       "      <td>NaN</td>\n",
       "      <td>NaN</td>\n",
       "    </tr>\n",
       "    <tr>\n",
       "      <th>2019-04-11 11:14:12-04:00</th>\n",
       "      <td>71.78</td>\n",
       "      <td>3</td>\n",
       "      <td>674.0</td>\n",
       "      <td>11</td>\n",
       "      <td>NaN</td>\n",
       "      <td>NaN</td>\n",
       "    </tr>\n",
       "    <tr>\n",
       "      <th>2019-04-11 11:14:13-04:00</th>\n",
       "      <td>70.70</td>\n",
       "      <td>3</td>\n",
       "      <td>674.0</td>\n",
       "      <td>11</td>\n",
       "      <td>NaN</td>\n",
       "      <td>NaN</td>\n",
       "    </tr>\n",
       "  </tbody>\n",
       "</table>\n",
       "</div>"
      ],
      "text/plain": [
       "                            dBAS  weekday  min_of_day  hour_of_day  \\\n",
       "time                                                                 \n",
       "2019-04-11 11:14:09-04:00  64.35        3       674.0           11   \n",
       "2019-04-11 11:14:10-04:00  65.92        3       674.0           11   \n",
       "2019-04-11 11:14:11-04:00  69.24        3       674.0           11   \n",
       "2019-04-11 11:14:12-04:00  71.78        3       674.0           11   \n",
       "2019-04-11 11:14:13-04:00  70.70        3       674.0           11   \n",
       "\n",
       "                           rolling_mean  rolling_std  \n",
       "time                                                  \n",
       "2019-04-11 11:14:09-04:00           NaN          NaN  \n",
       "2019-04-11 11:14:10-04:00           NaN          NaN  \n",
       "2019-04-11 11:14:11-04:00           NaN          NaN  \n",
       "2019-04-11 11:14:12-04:00           NaN          NaN  \n",
       "2019-04-11 11:14:13-04:00           NaN          NaN  "
      ]
     },
     "execution_count": 13,
     "metadata": {},
     "output_type": "execute_result"
    }
   ],
   "source": [
    "df.head()"
   ]
  },
  {
   "cell_type": "markdown",
   "metadata": {},
   "source": [
    "## Data_Filter"
   ]
  },
  {
   "cell_type": "markdown",
   "metadata": {},
   "source": [
    "Filter the data with only the peak time range."
   ]
  },
  {
   "cell_type": "code",
   "execution_count": 14,
   "metadata": {},
   "outputs": [
    {
     "name": "stdout",
     "output_type": "stream",
     "text": [
      "The minute of 7:50:\n",
      "470.0\n",
      "The minute of 8:10:\n",
      "490.0\n"
     ]
    }
   ],
   "source": [
    "print(\"The minute of 7:50:\")\n",
    "print(pd.to_datetime('2019-04-11 07:50:09').hour * 60.0 + pd.to_datetime('2019-04-11 07:50:09').minute)\n",
    "print(\"The minute of 8:10:\")\n",
    "print(pd.to_datetime('2019-04-11 08:10:09').hour * 60.0 + pd.to_datetime('2019-04-11 08:10:09').minute)"
   ]
  },
  {
   "cell_type": "code",
   "execution_count": 15,
   "metadata": {},
   "outputs": [
    {
     "name": "stdout",
     "output_type": "stream",
     "text": [
      "The minute of 9:50:\n",
      "590.0\n",
      "The minute of 10:10:\n",
      "610.0\n"
     ]
    }
   ],
   "source": [
    "print(\"The minute of 9:50:\")\n",
    "print(pd.to_datetime('2019-04-11 09:50:09').hour * 60.0 + pd.to_datetime('2019-04-11 09:50:09').minute)\n",
    "print(\"The minute of 10:10:\")\n",
    "print(pd.to_datetime('2019-04-11 10:10:09').hour * 60.0 + pd.to_datetime('2019-10-11 08:10:09').minute)\n"
   ]
  },
  {
   "cell_type": "code",
   "execution_count": 16,
   "metadata": {},
   "outputs": [
    {
     "name": "stdout",
     "output_type": "stream",
     "text": [
      "The minute of 11:50:\n",
      "710.0\n",
      "The minute of 12:10:\n",
      "730.0\n"
     ]
    }
   ],
   "source": [
    "print(\"The minute of 11:50:\")\n",
    "print(pd.to_datetime('2019-04-11 11:50:09').hour * 60.0 + pd.to_datetime('2019-04-11 11:50:09').minute)\n",
    "print(\"The minute of 12:10:\")\n",
    "print(pd.to_datetime('2019-04-11 12:10:09').hour * 60.0 + pd.to_datetime('2019-04-11 12:10:09').minute)"
   ]
  },
  {
   "cell_type": "code",
   "execution_count": 17,
   "metadata": {},
   "outputs": [
    {
     "name": "stdout",
     "output_type": "stream",
     "text": [
      "The minute of 17:50:\n",
      "1070.0\n",
      "The minute of 18:10:\n",
      "1090.0\n"
     ]
    }
   ],
   "source": [
    "print(\"The minute of 17:50:\")\n",
    "print(pd.to_datetime('2019-04-11 17:50:09').hour * 60.0 + pd.to_datetime('2019-04-11 17:50:09').minute)\n",
    "print(\"The minute of 18:10:\")\n",
    "print(pd.to_datetime('2019-04-11 18:10:09').hour * 60.0 + pd.to_datetime('2019-04-11 18:10:09').minute)"
   ]
  },
  {
   "cell_type": "code",
   "execution_count": 18,
   "metadata": {},
   "outputs": [],
   "source": [
    "am_peak_df1 = df[(df.min_of_day<490) & (df.min_of_day>=470)]\n",
    "am_peak_df2 = df[(df.min_of_day<610) & (df.min_of_day>=590)]\n",
    "mid_peak_df = df[(df.min_of_day<730) & (df.min_of_day>=710)]\n",
    "pm_peak_df = df[(df.min_of_day<1090) & (df.min_of_day>=1070)]"
   ]
  },
  {
   "cell_type": "code",
   "execution_count": 19,
   "metadata": {},
   "outputs": [
    {
     "name": "stderr",
     "output_type": "stream",
     "text": [
      "/anaconda3/envs/myEnv3/lib/python2.7/site-packages/ipykernel_launcher.py:1: SettingWithCopyWarning: \n",
      "A value is trying to be set on a copy of a slice from a DataFrame.\n",
      "Try using .loc[row_indexer,col_indexer] = value instead\n",
      "\n",
      "See the caveats in the documentation: http://pandas.pydata.org/pandas-docs/stable/indexing.html#indexing-view-versus-copy\n",
      "  \"\"\"Entry point for launching an IPython kernel.\n",
      "/anaconda3/envs/myEnv3/lib/python2.7/site-packages/ipykernel_launcher.py:2: SettingWithCopyWarning: \n",
      "A value is trying to be set on a copy of a slice from a DataFrame.\n",
      "Try using .loc[row_indexer,col_indexer] = value instead\n",
      "\n",
      "See the caveats in the documentation: http://pandas.pydata.org/pandas-docs/stable/indexing.html#indexing-view-versus-copy\n",
      "  \n",
      "/anaconda3/envs/myEnv3/lib/python2.7/site-packages/ipykernel_launcher.py:3: SettingWithCopyWarning: \n",
      "A value is trying to be set on a copy of a slice from a DataFrame.\n",
      "Try using .loc[row_indexer,col_indexer] = value instead\n",
      "\n",
      "See the caveats in the documentation: http://pandas.pydata.org/pandas-docs/stable/indexing.html#indexing-view-versus-copy\n",
      "  This is separate from the ipykernel package so we can avoid doing imports until\n",
      "/anaconda3/envs/myEnv3/lib/python2.7/site-packages/ipykernel_launcher.py:4: SettingWithCopyWarning: \n",
      "A value is trying to be set on a copy of a slice from a DataFrame.\n",
      "Try using .loc[row_indexer,col_indexer] = value instead\n",
      "\n",
      "See the caveats in the documentation: http://pandas.pydata.org/pandas-docs/stable/indexing.html#indexing-view-versus-copy\n",
      "  after removing the cwd from sys.path.\n"
     ]
    }
   ],
   "source": [
    "am_peak_df1['peakLable'] = 1\n",
    "am_peak_df2['peakLable'] = 2\n",
    "mid_peak_df['peakLable'] = 3\n",
    "pm_peak_df['peakLable'] = 4"
   ]
  },
  {
   "cell_type": "code",
   "execution_count": 20,
   "metadata": {},
   "outputs": [],
   "source": [
    "peak_df = pd.concat([am_peak_df1, am_peak_df2, mid_peak_df, pm_peak_df])"
   ]
  },
  {
   "cell_type": "code",
   "execution_count": 21,
   "metadata": {},
   "outputs": [
    {
     "data": {
      "text/plain": [
       "(56389, 7)"
      ]
     },
     "execution_count": 21,
     "metadata": {},
     "output_type": "execute_result"
    }
   ],
   "source": [
    "peak_df.shape"
   ]
  },
  {
   "cell_type": "code",
   "execution_count": 22,
   "metadata": {},
   "outputs": [
    {
     "data": {
      "text/html": [
       "<div>\n",
       "<style scoped>\n",
       "    .dataframe tbody tr th:only-of-type {\n",
       "        vertical-align: middle;\n",
       "    }\n",
       "\n",
       "    .dataframe tbody tr th {\n",
       "        vertical-align: top;\n",
       "    }\n",
       "\n",
       "    .dataframe thead th {\n",
       "        text-align: right;\n",
       "    }\n",
       "</style>\n",
       "<table border=\"1\" class=\"dataframe\">\n",
       "  <thead>\n",
       "    <tr style=\"text-align: right;\">\n",
       "      <th></th>\n",
       "      <th>dBAS</th>\n",
       "      <th>weekday</th>\n",
       "      <th>min_of_day</th>\n",
       "      <th>hour_of_day</th>\n",
       "      <th>rolling_mean</th>\n",
       "      <th>rolling_std</th>\n",
       "      <th>peakLable</th>\n",
       "    </tr>\n",
       "    <tr>\n",
       "      <th>time</th>\n",
       "      <th></th>\n",
       "      <th></th>\n",
       "      <th></th>\n",
       "      <th></th>\n",
       "      <th></th>\n",
       "      <th></th>\n",
       "      <th></th>\n",
       "    </tr>\n",
       "  </thead>\n",
       "  <tbody>\n",
       "    <tr>\n",
       "      <th>2019-04-12 07:50:00-04:00</th>\n",
       "      <td>73.99</td>\n",
       "      <td>4</td>\n",
       "      <td>470.0</td>\n",
       "      <td>7</td>\n",
       "      <td>66.112333</td>\n",
       "      <td>8.480796</td>\n",
       "      <td>1</td>\n",
       "    </tr>\n",
       "    <tr>\n",
       "      <th>2019-04-12 07:50:01-04:00</th>\n",
       "      <td>74.93</td>\n",
       "      <td>4</td>\n",
       "      <td>470.0</td>\n",
       "      <td>7</td>\n",
       "      <td>66.433167</td>\n",
       "      <td>8.443483</td>\n",
       "      <td>1</td>\n",
       "    </tr>\n",
       "    <tr>\n",
       "      <th>2019-04-12 07:50:02-04:00</th>\n",
       "      <td>75.38</td>\n",
       "      <td>4</td>\n",
       "      <td>470.0</td>\n",
       "      <td>7</td>\n",
       "      <td>66.763500</td>\n",
       "      <td>8.398471</td>\n",
       "      <td>1</td>\n",
       "    </tr>\n",
       "    <tr>\n",
       "      <th>2019-04-12 07:50:03-04:00</th>\n",
       "      <td>76.93</td>\n",
       "      <td>4</td>\n",
       "      <td>470.0</td>\n",
       "      <td>7</td>\n",
       "      <td>67.124167</td>\n",
       "      <td>8.361977</td>\n",
       "      <td>1</td>\n",
       "    </tr>\n",
       "    <tr>\n",
       "      <th>2019-04-12 07:50:04-04:00</th>\n",
       "      <td>77.37</td>\n",
       "      <td>4</td>\n",
       "      <td>470.0</td>\n",
       "      <td>7</td>\n",
       "      <td>67.461333</td>\n",
       "      <td>8.360428</td>\n",
       "      <td>1</td>\n",
       "    </tr>\n",
       "  </tbody>\n",
       "</table>\n",
       "</div>"
      ],
      "text/plain": [
       "                            dBAS  weekday  min_of_day  hour_of_day  \\\n",
       "time                                                                 \n",
       "2019-04-12 07:50:00-04:00  73.99        4       470.0            7   \n",
       "2019-04-12 07:50:01-04:00  74.93        4       470.0            7   \n",
       "2019-04-12 07:50:02-04:00  75.38        4       470.0            7   \n",
       "2019-04-12 07:50:03-04:00  76.93        4       470.0            7   \n",
       "2019-04-12 07:50:04-04:00  77.37        4       470.0            7   \n",
       "\n",
       "                           rolling_mean  rolling_std  peakLable  \n",
       "time                                                             \n",
       "2019-04-12 07:50:00-04:00     66.112333     8.480796          1  \n",
       "2019-04-12 07:50:01-04:00     66.433167     8.443483          1  \n",
       "2019-04-12 07:50:02-04:00     66.763500     8.398471          1  \n",
       "2019-04-12 07:50:03-04:00     67.124167     8.361977          1  \n",
       "2019-04-12 07:50:04-04:00     67.461333     8.360428          1  "
      ]
     },
     "execution_count": 22,
     "metadata": {},
     "output_type": "execute_result"
    }
   ],
   "source": [
    "peak_df.head()"
   ]
  },
  {
   "cell_type": "markdown",
   "metadata": {},
   "source": [
    "## Abnormal_Detection"
   ]
  },
  {
   "cell_type": "code",
   "execution_count": 23,
   "metadata": {},
   "outputs": [
    {
     "name": "stdout",
     "output_type": "stream",
     "text": [
      "\n",
      "Start: \t 2019-04-12 07:50:00-04:00\n",
      "End: \t 2019-04-22 18:09:59-04:00\n",
      "\n",
      "Total avg SPL: \t 62.05 dBA\n",
      "Total std SPL: \t 6.37 dBA\n",
      "Total max SPL: \t 95.34 dBA\n",
      "Total min SPL: \t 46.03 dBA\n"
     ]
    }
   ],
   "source": [
    "print('')\n",
    "print('Start: \\t %s' % peak_df.index[0])\n",
    "print('End: \\t %s' % peak_df.index[-1])\n",
    "print('')\n",
    "print('Total avg SPL: \\t %0.2f dBA' % peak_df['dBAS'].mean())\n",
    "print('Total std SPL: \\t %0.2f dBA' % peak_df['dBAS'].std())\n",
    "print('Total max SPL: \\t %0.2f dBA' % peak_df['dBAS'].max())\n",
    "print('Total min SPL: \\t %0.2f dBA' % peak_df['dBAS'].min())"
   ]
  },
  {
   "cell_type": "markdown",
   "metadata": {},
   "source": [
    "From overall average and standard deviation, we assume that if the noise higher 3 moving_std than this window time moving_avg, there is a truck pass by."
   ]
  },
  {
   "cell_type": "code",
   "execution_count": 24,
   "metadata": {},
   "outputs": [],
   "source": [
    "def truckDetection(df):\n",
    "    return(df[(df['dBAS'] - df['rolling_mean']> 3*df['rolling_std'])])"
   ]
  },
  {
   "cell_type": "code",
   "execution_count": 25,
   "metadata": {},
   "outputs": [],
   "source": [
    "truckNoisePoint = truckDetection(peak_df)"
   ]
  },
  {
   "cell_type": "code",
   "execution_count": 26,
   "metadata": {},
   "outputs": [
    {
     "data": {
      "text/plain": [
       "(568, 7)"
      ]
     },
     "execution_count": 26,
     "metadata": {},
     "output_type": "execute_result"
    }
   ],
   "source": [
    "truckNoisePoint.shape"
   ]
  },
  {
   "cell_type": "code",
   "execution_count": 27,
   "metadata": {},
   "outputs": [
    {
     "data": {
      "text/html": [
       "<div>\n",
       "<style scoped>\n",
       "    .dataframe tbody tr th:only-of-type {\n",
       "        vertical-align: middle;\n",
       "    }\n",
       "\n",
       "    .dataframe tbody tr th {\n",
       "        vertical-align: top;\n",
       "    }\n",
       "\n",
       "    .dataframe thead th {\n",
       "        text-align: right;\n",
       "    }\n",
       "</style>\n",
       "<table border=\"1\" class=\"dataframe\">\n",
       "  <thead>\n",
       "    <tr style=\"text-align: right;\">\n",
       "      <th></th>\n",
       "      <th>dBAS</th>\n",
       "      <th>weekday</th>\n",
       "      <th>min_of_day</th>\n",
       "      <th>hour_of_day</th>\n",
       "      <th>rolling_mean</th>\n",
       "      <th>rolling_std</th>\n",
       "      <th>peakLable</th>\n",
       "    </tr>\n",
       "    <tr>\n",
       "      <th>time</th>\n",
       "      <th></th>\n",
       "      <th></th>\n",
       "      <th></th>\n",
       "      <th></th>\n",
       "      <th></th>\n",
       "      <th></th>\n",
       "      <th></th>\n",
       "    </tr>\n",
       "  </thead>\n",
       "  <tbody>\n",
       "    <tr>\n",
       "      <th>2019-04-12 07:56:59-04:00</th>\n",
       "      <td>67.71</td>\n",
       "      <td>4</td>\n",
       "      <td>476.0</td>\n",
       "      <td>7</td>\n",
       "      <td>57.541167</td>\n",
       "      <td>2.985947</td>\n",
       "      <td>1</td>\n",
       "    </tr>\n",
       "    <tr>\n",
       "      <th>2019-04-12 07:57:00-04:00</th>\n",
       "      <td>71.44</td>\n",
       "      <td>4</td>\n",
       "      <td>477.0</td>\n",
       "      <td>7</td>\n",
       "      <td>57.791500</td>\n",
       "      <td>3.479230</td>\n",
       "      <td>1</td>\n",
       "    </tr>\n",
       "    <tr>\n",
       "      <th>2019-04-12 07:57:01-04:00</th>\n",
       "      <td>69.49</td>\n",
       "      <td>4</td>\n",
       "      <td>477.0</td>\n",
       "      <td>7</td>\n",
       "      <td>57.988500</td>\n",
       "      <td>3.792743</td>\n",
       "      <td>1</td>\n",
       "    </tr>\n",
       "    <tr>\n",
       "      <th>2019-04-12 07:58:11-04:00</th>\n",
       "      <td>72.21</td>\n",
       "      <td>4</td>\n",
       "      <td>478.0</td>\n",
       "      <td>7</td>\n",
       "      <td>60.332333</td>\n",
       "      <td>3.762029</td>\n",
       "      <td>1</td>\n",
       "    </tr>\n",
       "    <tr>\n",
       "      <th>2019-04-12 07:58:12-04:00</th>\n",
       "      <td>75.11</td>\n",
       "      <td>4</td>\n",
       "      <td>478.0</td>\n",
       "      <td>7</td>\n",
       "      <td>60.618833</td>\n",
       "      <td>4.203820</td>\n",
       "      <td>1</td>\n",
       "    </tr>\n",
       "  </tbody>\n",
       "</table>\n",
       "</div>"
      ],
      "text/plain": [
       "                            dBAS  weekday  min_of_day  hour_of_day  \\\n",
       "time                                                                 \n",
       "2019-04-12 07:56:59-04:00  67.71        4       476.0            7   \n",
       "2019-04-12 07:57:00-04:00  71.44        4       477.0            7   \n",
       "2019-04-12 07:57:01-04:00  69.49        4       477.0            7   \n",
       "2019-04-12 07:58:11-04:00  72.21        4       478.0            7   \n",
       "2019-04-12 07:58:12-04:00  75.11        4       478.0            7   \n",
       "\n",
       "                           rolling_mean  rolling_std  peakLable  \n",
       "time                                                             \n",
       "2019-04-12 07:56:59-04:00     57.541167     2.985947          1  \n",
       "2019-04-12 07:57:00-04:00     57.791500     3.479230          1  \n",
       "2019-04-12 07:57:01-04:00     57.988500     3.792743          1  \n",
       "2019-04-12 07:58:11-04:00     60.332333     3.762029          1  \n",
       "2019-04-12 07:58:12-04:00     60.618833     4.203820          1  "
      ]
     },
     "execution_count": 27,
     "metadata": {},
     "output_type": "execute_result"
    }
   ],
   "source": [
    "truckNoisePoint.head()"
   ]
  },
  {
   "cell_type": "markdown",
   "metadata": {},
   "source": [
    "Analyze by each day and each peak time."
   ]
  },
  {
   "cell_type": "code",
   "execution_count": 28,
   "metadata": {},
   "outputs": [
    {
     "name": "stderr",
     "output_type": "stream",
     "text": [
      "/anaconda3/envs/myEnv3/lib/python2.7/site-packages/ipykernel_launcher.py:1: SettingWithCopyWarning: \n",
      "A value is trying to be set on a copy of a slice from a DataFrame.\n",
      "Try using .loc[row_indexer,col_indexer] = value instead\n",
      "\n",
      "See the caveats in the documentation: http://pandas.pydata.org/pandas-docs/stable/indexing.html#indexing-view-versus-copy\n",
      "  \"\"\"Entry point for launching an IPython kernel.\n"
     ]
    }
   ],
   "source": [
    "truckNoisePoint['Date'] = truckNoisePoint.index.to_frame()['time'].apply(lambda x: x.date())"
   ]
  },
  {
   "cell_type": "code",
   "execution_count": 45,
   "metadata": {},
   "outputs": [],
   "source": [
    "truckCount = truckNoisePoint.groupby(['Date', 'peakLable','weekday']).size().to_frame().rename(columns = {0: 'TruckCount'})"
   ]
  },
  {
   "cell_type": "code",
   "execution_count": 46,
   "metadata": {},
   "outputs": [],
   "source": [
    "truckCount = truckCount.reset_index()"
   ]
  },
  {
   "cell_type": "code",
   "execution_count": 47,
   "metadata": {},
   "outputs": [
    {
     "data": {
      "text/html": [
       "<div>\n",
       "<style scoped>\n",
       "    .dataframe tbody tr th:only-of-type {\n",
       "        vertical-align: middle;\n",
       "    }\n",
       "\n",
       "    .dataframe tbody tr th {\n",
       "        vertical-align: top;\n",
       "    }\n",
       "\n",
       "    .dataframe thead th {\n",
       "        text-align: right;\n",
       "    }\n",
       "</style>\n",
       "<table border=\"1\" class=\"dataframe\">\n",
       "  <thead>\n",
       "    <tr style=\"text-align: right;\">\n",
       "      <th></th>\n",
       "      <th>Date</th>\n",
       "      <th>peakLable</th>\n",
       "      <th>weekday</th>\n",
       "      <th>TruckCount</th>\n",
       "    </tr>\n",
       "  </thead>\n",
       "  <tbody>\n",
       "    <tr>\n",
       "      <th>0</th>\n",
       "      <td>2019-04-11</td>\n",
       "      <td>3</td>\n",
       "      <td>3</td>\n",
       "      <td>9</td>\n",
       "    </tr>\n",
       "    <tr>\n",
       "      <th>1</th>\n",
       "      <td>2019-04-11</td>\n",
       "      <td>4</td>\n",
       "      <td>3</td>\n",
       "      <td>4</td>\n",
       "    </tr>\n",
       "    <tr>\n",
       "      <th>2</th>\n",
       "      <td>2019-04-12</td>\n",
       "      <td>1</td>\n",
       "      <td>4</td>\n",
       "      <td>10</td>\n",
       "    </tr>\n",
       "    <tr>\n",
       "      <th>3</th>\n",
       "      <td>2019-04-12</td>\n",
       "      <td>2</td>\n",
       "      <td>4</td>\n",
       "      <td>24</td>\n",
       "    </tr>\n",
       "    <tr>\n",
       "      <th>4</th>\n",
       "      <td>2019-04-12</td>\n",
       "      <td>3</td>\n",
       "      <td>4</td>\n",
       "      <td>6</td>\n",
       "    </tr>\n",
       "    <tr>\n",
       "      <th>5</th>\n",
       "      <td>2019-04-12</td>\n",
       "      <td>4</td>\n",
       "      <td>4</td>\n",
       "      <td>6</td>\n",
       "    </tr>\n",
       "    <tr>\n",
       "      <th>6</th>\n",
       "      <td>2019-04-13</td>\n",
       "      <td>1</td>\n",
       "      <td>5</td>\n",
       "      <td>33</td>\n",
       "    </tr>\n",
       "    <tr>\n",
       "      <th>7</th>\n",
       "      <td>2019-04-13</td>\n",
       "      <td>2</td>\n",
       "      <td>5</td>\n",
       "      <td>4</td>\n",
       "    </tr>\n",
       "    <tr>\n",
       "      <th>8</th>\n",
       "      <td>2019-04-13</td>\n",
       "      <td>3</td>\n",
       "      <td>5</td>\n",
       "      <td>6</td>\n",
       "    </tr>\n",
       "    <tr>\n",
       "      <th>9</th>\n",
       "      <td>2019-04-13</td>\n",
       "      <td>4</td>\n",
       "      <td>5</td>\n",
       "      <td>11</td>\n",
       "    </tr>\n",
       "    <tr>\n",
       "      <th>10</th>\n",
       "      <td>2019-04-14</td>\n",
       "      <td>1</td>\n",
       "      <td>6</td>\n",
       "      <td>23</td>\n",
       "    </tr>\n",
       "    <tr>\n",
       "      <th>11</th>\n",
       "      <td>2019-04-14</td>\n",
       "      <td>2</td>\n",
       "      <td>6</td>\n",
       "      <td>22</td>\n",
       "    </tr>\n",
       "    <tr>\n",
       "      <th>12</th>\n",
       "      <td>2019-04-14</td>\n",
       "      <td>3</td>\n",
       "      <td>6</td>\n",
       "      <td>4</td>\n",
       "    </tr>\n",
       "    <tr>\n",
       "      <th>13</th>\n",
       "      <td>2019-04-14</td>\n",
       "      <td>4</td>\n",
       "      <td>6</td>\n",
       "      <td>7</td>\n",
       "    </tr>\n",
       "    <tr>\n",
       "      <th>14</th>\n",
       "      <td>2019-04-15</td>\n",
       "      <td>1</td>\n",
       "      <td>0</td>\n",
       "      <td>15</td>\n",
       "    </tr>\n",
       "    <tr>\n",
       "      <th>15</th>\n",
       "      <td>2019-04-15</td>\n",
       "      <td>2</td>\n",
       "      <td>0</td>\n",
       "      <td>12</td>\n",
       "    </tr>\n",
       "    <tr>\n",
       "      <th>16</th>\n",
       "      <td>2019-04-15</td>\n",
       "      <td>4</td>\n",
       "      <td>0</td>\n",
       "      <td>7</td>\n",
       "    </tr>\n",
       "    <tr>\n",
       "      <th>17</th>\n",
       "      <td>2019-04-16</td>\n",
       "      <td>1</td>\n",
       "      <td>1</td>\n",
       "      <td>5</td>\n",
       "    </tr>\n",
       "    <tr>\n",
       "      <th>18</th>\n",
       "      <td>2019-04-16</td>\n",
       "      <td>2</td>\n",
       "      <td>1</td>\n",
       "      <td>12</td>\n",
       "    </tr>\n",
       "    <tr>\n",
       "      <th>19</th>\n",
       "      <td>2019-04-16</td>\n",
       "      <td>3</td>\n",
       "      <td>1</td>\n",
       "      <td>15</td>\n",
       "    </tr>\n",
       "    <tr>\n",
       "      <th>20</th>\n",
       "      <td>2019-04-16</td>\n",
       "      <td>4</td>\n",
       "      <td>1</td>\n",
       "      <td>8</td>\n",
       "    </tr>\n",
       "    <tr>\n",
       "      <th>21</th>\n",
       "      <td>2019-04-17</td>\n",
       "      <td>1</td>\n",
       "      <td>2</td>\n",
       "      <td>17</td>\n",
       "    </tr>\n",
       "    <tr>\n",
       "      <th>22</th>\n",
       "      <td>2019-04-17</td>\n",
       "      <td>2</td>\n",
       "      <td>2</td>\n",
       "      <td>5</td>\n",
       "    </tr>\n",
       "    <tr>\n",
       "      <th>23</th>\n",
       "      <td>2019-04-17</td>\n",
       "      <td>3</td>\n",
       "      <td>2</td>\n",
       "      <td>15</td>\n",
       "    </tr>\n",
       "    <tr>\n",
       "      <th>24</th>\n",
       "      <td>2019-04-17</td>\n",
       "      <td>4</td>\n",
       "      <td>2</td>\n",
       "      <td>13</td>\n",
       "    </tr>\n",
       "    <tr>\n",
       "      <th>25</th>\n",
       "      <td>2019-04-18</td>\n",
       "      <td>1</td>\n",
       "      <td>3</td>\n",
       "      <td>16</td>\n",
       "    </tr>\n",
       "    <tr>\n",
       "      <th>26</th>\n",
       "      <td>2019-04-18</td>\n",
       "      <td>2</td>\n",
       "      <td>3</td>\n",
       "      <td>27</td>\n",
       "    </tr>\n",
       "    <tr>\n",
       "      <th>27</th>\n",
       "      <td>2019-04-18</td>\n",
       "      <td>3</td>\n",
       "      <td>3</td>\n",
       "      <td>2</td>\n",
       "    </tr>\n",
       "    <tr>\n",
       "      <th>28</th>\n",
       "      <td>2019-04-18</td>\n",
       "      <td>4</td>\n",
       "      <td>3</td>\n",
       "      <td>4</td>\n",
       "    </tr>\n",
       "    <tr>\n",
       "      <th>29</th>\n",
       "      <td>2019-04-19</td>\n",
       "      <td>1</td>\n",
       "      <td>4</td>\n",
       "      <td>24</td>\n",
       "    </tr>\n",
       "    <tr>\n",
       "      <th>30</th>\n",
       "      <td>2019-04-19</td>\n",
       "      <td>2</td>\n",
       "      <td>4</td>\n",
       "      <td>5</td>\n",
       "    </tr>\n",
       "    <tr>\n",
       "      <th>31</th>\n",
       "      <td>2019-04-19</td>\n",
       "      <td>3</td>\n",
       "      <td>4</td>\n",
       "      <td>4</td>\n",
       "    </tr>\n",
       "    <tr>\n",
       "      <th>32</th>\n",
       "      <td>2019-04-19</td>\n",
       "      <td>4</td>\n",
       "      <td>4</td>\n",
       "      <td>4</td>\n",
       "    </tr>\n",
       "    <tr>\n",
       "      <th>33</th>\n",
       "      <td>2019-04-20</td>\n",
       "      <td>1</td>\n",
       "      <td>5</td>\n",
       "      <td>34</td>\n",
       "    </tr>\n",
       "    <tr>\n",
       "      <th>34</th>\n",
       "      <td>2019-04-20</td>\n",
       "      <td>2</td>\n",
       "      <td>5</td>\n",
       "      <td>1</td>\n",
       "    </tr>\n",
       "    <tr>\n",
       "      <th>35</th>\n",
       "      <td>2019-04-20</td>\n",
       "      <td>3</td>\n",
       "      <td>5</td>\n",
       "      <td>5</td>\n",
       "    </tr>\n",
       "    <tr>\n",
       "      <th>36</th>\n",
       "      <td>2019-04-20</td>\n",
       "      <td>4</td>\n",
       "      <td>5</td>\n",
       "      <td>5</td>\n",
       "    </tr>\n",
       "    <tr>\n",
       "      <th>37</th>\n",
       "      <td>2019-04-21</td>\n",
       "      <td>1</td>\n",
       "      <td>6</td>\n",
       "      <td>53</td>\n",
       "    </tr>\n",
       "    <tr>\n",
       "      <th>38</th>\n",
       "      <td>2019-04-21</td>\n",
       "      <td>2</td>\n",
       "      <td>6</td>\n",
       "      <td>19</td>\n",
       "    </tr>\n",
       "    <tr>\n",
       "      <th>39</th>\n",
       "      <td>2019-04-21</td>\n",
       "      <td>3</td>\n",
       "      <td>6</td>\n",
       "      <td>6</td>\n",
       "    </tr>\n",
       "    <tr>\n",
       "      <th>40</th>\n",
       "      <td>2019-04-21</td>\n",
       "      <td>4</td>\n",
       "      <td>6</td>\n",
       "      <td>7</td>\n",
       "    </tr>\n",
       "    <tr>\n",
       "      <th>41</th>\n",
       "      <td>2019-04-22</td>\n",
       "      <td>1</td>\n",
       "      <td>0</td>\n",
       "      <td>19</td>\n",
       "    </tr>\n",
       "    <tr>\n",
       "      <th>42</th>\n",
       "      <td>2019-04-22</td>\n",
       "      <td>2</td>\n",
       "      <td>0</td>\n",
       "      <td>18</td>\n",
       "    </tr>\n",
       "    <tr>\n",
       "      <th>43</th>\n",
       "      <td>2019-04-22</td>\n",
       "      <td>3</td>\n",
       "      <td>0</td>\n",
       "      <td>8</td>\n",
       "    </tr>\n",
       "    <tr>\n",
       "      <th>44</th>\n",
       "      <td>2019-04-22</td>\n",
       "      <td>4</td>\n",
       "      <td>0</td>\n",
       "      <td>5</td>\n",
       "    </tr>\n",
       "    <tr>\n",
       "      <th>45</th>\n",
       "      <td>2019-04-23</td>\n",
       "      <td>1</td>\n",
       "      <td>1</td>\n",
       "      <td>9</td>\n",
       "    </tr>\n",
       "  </tbody>\n",
       "</table>\n",
       "</div>"
      ],
      "text/plain": [
       "          Date  peakLable  weekday  TruckCount\n",
       "0   2019-04-11          3        3           9\n",
       "1   2019-04-11          4        3           4\n",
       "2   2019-04-12          1        4          10\n",
       "3   2019-04-12          2        4          24\n",
       "4   2019-04-12          3        4           6\n",
       "5   2019-04-12          4        4           6\n",
       "6   2019-04-13          1        5          33\n",
       "7   2019-04-13          2        5           4\n",
       "8   2019-04-13          3        5           6\n",
       "9   2019-04-13          4        5          11\n",
       "10  2019-04-14          1        6          23\n",
       "11  2019-04-14          2        6          22\n",
       "12  2019-04-14          3        6           4\n",
       "13  2019-04-14          4        6           7\n",
       "14  2019-04-15          1        0          15\n",
       "15  2019-04-15          2        0          12\n",
       "16  2019-04-15          4        0           7\n",
       "17  2019-04-16          1        1           5\n",
       "18  2019-04-16          2        1          12\n",
       "19  2019-04-16          3        1          15\n",
       "20  2019-04-16          4        1           8\n",
       "21  2019-04-17          1        2          17\n",
       "22  2019-04-17          2        2           5\n",
       "23  2019-04-17          3        2          15\n",
       "24  2019-04-17          4        2          13\n",
       "25  2019-04-18          1        3          16\n",
       "26  2019-04-18          2        3          27\n",
       "27  2019-04-18          3        3           2\n",
       "28  2019-04-18          4        3           4\n",
       "29  2019-04-19          1        4          24\n",
       "30  2019-04-19          2        4           5\n",
       "31  2019-04-19          3        4           4\n",
       "32  2019-04-19          4        4           4\n",
       "33  2019-04-20          1        5          34\n",
       "34  2019-04-20          2        5           1\n",
       "35  2019-04-20          3        5           5\n",
       "36  2019-04-20          4        5           5\n",
       "37  2019-04-21          1        6          53\n",
       "38  2019-04-21          2        6          19\n",
       "39  2019-04-21          3        6           6\n",
       "40  2019-04-21          4        6           7\n",
       "41  2019-04-22          1        0          19\n",
       "42  2019-04-22          2        0          18\n",
       "43  2019-04-22          3        0           8\n",
       "44  2019-04-22          4        0           5\n",
       "45  2019-04-23          1        1           9"
      ]
     },
     "execution_count": 47,
     "metadata": {},
     "output_type": "execute_result"
    }
   ],
   "source": [
    "truckCount"
   ]
  },
  {
   "cell_type": "markdown",
   "metadata": {},
   "source": [
    "Plot the Truck count by each peak Time at each record day"
   ]
  },
  {
   "cell_type": "code",
   "execution_count": 48,
   "metadata": {},
   "outputs": [],
   "source": [
    "truckCount = truckCount.set_index('Date')"
   ]
  },
  {
   "cell_type": "code",
   "execution_count": 61,
   "metadata": {},
   "outputs": [],
   "source": [
    "truckCount1 = truckCount[truckCount['peakLable'] == 1][['TruckCount']].reset_index()\n",
    "truckCount2 = truckCount[truckCount['peakLable'] == 2][['TruckCount']].reset_index()\n",
    "truckCount3 = truckCount[truckCount['peakLable'] == 3][['TruckCount']].reset_index()\n",
    "truckCount4 = truckCount[truckCount['peakLable'] == 4][['TruckCount']].reset_index()"
   ]
  },
  {
   "cell_type": "code",
   "execution_count": 62,
   "metadata": {},
   "outputs": [
    {
     "data": {
      "text/html": [
       "<div>\n",
       "<style scoped>\n",
       "    .dataframe tbody tr th:only-of-type {\n",
       "        vertical-align: middle;\n",
       "    }\n",
       "\n",
       "    .dataframe tbody tr th {\n",
       "        vertical-align: top;\n",
       "    }\n",
       "\n",
       "    .dataframe thead th {\n",
       "        text-align: right;\n",
       "    }\n",
       "</style>\n",
       "<table border=\"1\" class=\"dataframe\">\n",
       "  <thead>\n",
       "    <tr style=\"text-align: right;\">\n",
       "      <th></th>\n",
       "      <th>Date</th>\n",
       "      <th>TruckCount</th>\n",
       "    </tr>\n",
       "  </thead>\n",
       "  <tbody>\n",
       "    <tr>\n",
       "      <th>0</th>\n",
       "      <td>2019-04-12</td>\n",
       "      <td>24</td>\n",
       "    </tr>\n",
       "    <tr>\n",
       "      <th>1</th>\n",
       "      <td>2019-04-13</td>\n",
       "      <td>4</td>\n",
       "    </tr>\n",
       "    <tr>\n",
       "      <th>2</th>\n",
       "      <td>2019-04-14</td>\n",
       "      <td>22</td>\n",
       "    </tr>\n",
       "    <tr>\n",
       "      <th>3</th>\n",
       "      <td>2019-04-15</td>\n",
       "      <td>12</td>\n",
       "    </tr>\n",
       "    <tr>\n",
       "      <th>4</th>\n",
       "      <td>2019-04-16</td>\n",
       "      <td>12</td>\n",
       "    </tr>\n",
       "    <tr>\n",
       "      <th>5</th>\n",
       "      <td>2019-04-17</td>\n",
       "      <td>5</td>\n",
       "    </tr>\n",
       "    <tr>\n",
       "      <th>6</th>\n",
       "      <td>2019-04-18</td>\n",
       "      <td>27</td>\n",
       "    </tr>\n",
       "    <tr>\n",
       "      <th>7</th>\n",
       "      <td>2019-04-19</td>\n",
       "      <td>5</td>\n",
       "    </tr>\n",
       "    <tr>\n",
       "      <th>8</th>\n",
       "      <td>2019-04-20</td>\n",
       "      <td>1</td>\n",
       "    </tr>\n",
       "    <tr>\n",
       "      <th>9</th>\n",
       "      <td>2019-04-21</td>\n",
       "      <td>19</td>\n",
       "    </tr>\n",
       "    <tr>\n",
       "      <th>10</th>\n",
       "      <td>2019-04-22</td>\n",
       "      <td>18</td>\n",
       "    </tr>\n",
       "  </tbody>\n",
       "</table>\n",
       "</div>"
      ],
      "text/plain": [
       "          Date  TruckCount\n",
       "0   2019-04-12          24\n",
       "1   2019-04-13           4\n",
       "2   2019-04-14          22\n",
       "3   2019-04-15          12\n",
       "4   2019-04-16          12\n",
       "5   2019-04-17           5\n",
       "6   2019-04-18          27\n",
       "7   2019-04-19           5\n",
       "8   2019-04-20           1\n",
       "9   2019-04-21          19\n",
       "10  2019-04-22          18"
      ]
     },
     "execution_count": 62,
     "metadata": {},
     "output_type": "execute_result"
    }
   ],
   "source": [
    "truckCount2"
   ]
  },
  {
   "cell_type": "code",
   "execution_count": 63,
   "metadata": {},
   "outputs": [],
   "source": [
    "truckCountLabel = truckCount1.merge(truckCount2, left_on = 'Date', right_on = 'Date', how = 'outer') \\\n",
    ".rename(columns = {'TruckCount_x': 'TruckCount_1', 'TruckCount_y': 'TruckCount_2'}) \\\n",
    ".merge(truckCount3, left_on = 'Date', right_on = 'Date', how = 'outer').rename(columns = {'TruckCount': 'TruckCount_3'}) \\\n",
    ".merge(truckCount4, left_on = 'Date', right_on = 'Date', how = 'outer').rename(columns = {'TruckCount': 'TruckCount_4'}) \\\n",
    ".reindex([12,0,1,2,3,4,5,6,7,8,9,10,11]).set_index('Date')"
   ]
  },
  {
   "cell_type": "code",
   "execution_count": 64,
   "metadata": {},
   "outputs": [
    {
     "data": {
      "text/html": [
       "<div>\n",
       "<style scoped>\n",
       "    .dataframe tbody tr th:only-of-type {\n",
       "        vertical-align: middle;\n",
       "    }\n",
       "\n",
       "    .dataframe tbody tr th {\n",
       "        vertical-align: top;\n",
       "    }\n",
       "\n",
       "    .dataframe thead th {\n",
       "        text-align: right;\n",
       "    }\n",
       "</style>\n",
       "<table border=\"1\" class=\"dataframe\">\n",
       "  <thead>\n",
       "    <tr style=\"text-align: right;\">\n",
       "      <th></th>\n",
       "      <th>TruckCount_1</th>\n",
       "      <th>TruckCount_2</th>\n",
       "      <th>TruckCount_3</th>\n",
       "      <th>TruckCount_4</th>\n",
       "    </tr>\n",
       "    <tr>\n",
       "      <th>Date</th>\n",
       "      <th></th>\n",
       "      <th></th>\n",
       "      <th></th>\n",
       "      <th></th>\n",
       "    </tr>\n",
       "  </thead>\n",
       "  <tbody>\n",
       "    <tr>\n",
       "      <th>2019-04-11</th>\n",
       "      <td>NaN</td>\n",
       "      <td>NaN</td>\n",
       "      <td>9.0</td>\n",
       "      <td>4.0</td>\n",
       "    </tr>\n",
       "    <tr>\n",
       "      <th>2019-04-12</th>\n",
       "      <td>10.0</td>\n",
       "      <td>24.0</td>\n",
       "      <td>6.0</td>\n",
       "      <td>6.0</td>\n",
       "    </tr>\n",
       "    <tr>\n",
       "      <th>2019-04-13</th>\n",
       "      <td>33.0</td>\n",
       "      <td>4.0</td>\n",
       "      <td>6.0</td>\n",
       "      <td>11.0</td>\n",
       "    </tr>\n",
       "    <tr>\n",
       "      <th>2019-04-14</th>\n",
       "      <td>23.0</td>\n",
       "      <td>22.0</td>\n",
       "      <td>4.0</td>\n",
       "      <td>7.0</td>\n",
       "    </tr>\n",
       "    <tr>\n",
       "      <th>2019-04-15</th>\n",
       "      <td>15.0</td>\n",
       "      <td>12.0</td>\n",
       "      <td>NaN</td>\n",
       "      <td>7.0</td>\n",
       "    </tr>\n",
       "    <tr>\n",
       "      <th>2019-04-16</th>\n",
       "      <td>5.0</td>\n",
       "      <td>12.0</td>\n",
       "      <td>15.0</td>\n",
       "      <td>8.0</td>\n",
       "    </tr>\n",
       "    <tr>\n",
       "      <th>2019-04-17</th>\n",
       "      <td>17.0</td>\n",
       "      <td>5.0</td>\n",
       "      <td>15.0</td>\n",
       "      <td>13.0</td>\n",
       "    </tr>\n",
       "    <tr>\n",
       "      <th>2019-04-18</th>\n",
       "      <td>16.0</td>\n",
       "      <td>27.0</td>\n",
       "      <td>2.0</td>\n",
       "      <td>4.0</td>\n",
       "    </tr>\n",
       "    <tr>\n",
       "      <th>2019-04-19</th>\n",
       "      <td>24.0</td>\n",
       "      <td>5.0</td>\n",
       "      <td>4.0</td>\n",
       "      <td>4.0</td>\n",
       "    </tr>\n",
       "    <tr>\n",
       "      <th>2019-04-20</th>\n",
       "      <td>34.0</td>\n",
       "      <td>1.0</td>\n",
       "      <td>5.0</td>\n",
       "      <td>5.0</td>\n",
       "    </tr>\n",
       "    <tr>\n",
       "      <th>2019-04-21</th>\n",
       "      <td>53.0</td>\n",
       "      <td>19.0</td>\n",
       "      <td>6.0</td>\n",
       "      <td>7.0</td>\n",
       "    </tr>\n",
       "    <tr>\n",
       "      <th>2019-04-22</th>\n",
       "      <td>19.0</td>\n",
       "      <td>18.0</td>\n",
       "      <td>8.0</td>\n",
       "      <td>5.0</td>\n",
       "    </tr>\n",
       "    <tr>\n",
       "      <th>2019-04-23</th>\n",
       "      <td>9.0</td>\n",
       "      <td>NaN</td>\n",
       "      <td>NaN</td>\n",
       "      <td>NaN</td>\n",
       "    </tr>\n",
       "  </tbody>\n",
       "</table>\n",
       "</div>"
      ],
      "text/plain": [
       "            TruckCount_1  TruckCount_2  TruckCount_3  TruckCount_4\n",
       "Date                                                              \n",
       "2019-04-11           NaN           NaN           9.0           4.0\n",
       "2019-04-12          10.0          24.0           6.0           6.0\n",
       "2019-04-13          33.0           4.0           6.0          11.0\n",
       "2019-04-14          23.0          22.0           4.0           7.0\n",
       "2019-04-15          15.0          12.0           NaN           7.0\n",
       "2019-04-16           5.0          12.0          15.0           8.0\n",
       "2019-04-17          17.0           5.0          15.0          13.0\n",
       "2019-04-18          16.0          27.0           2.0           4.0\n",
       "2019-04-19          24.0           5.0           4.0           4.0\n",
       "2019-04-20          34.0           1.0           5.0           5.0\n",
       "2019-04-21          53.0          19.0           6.0           7.0\n",
       "2019-04-22          19.0          18.0           8.0           5.0\n",
       "2019-04-23           9.0           NaN           NaN           NaN"
      ]
     },
     "execution_count": 64,
     "metadata": {},
     "output_type": "execute_result"
    }
   ],
   "source": [
    "truckCountLabel"
   ]
  },
  {
   "cell_type": "code",
   "execution_count": 65,
   "metadata": {},
   "outputs": [
    {
     "data": {
      "text/html": [
       "<div>\n",
       "<style scoped>\n",
       "    .dataframe tbody tr th:only-of-type {\n",
       "        vertical-align: middle;\n",
       "    }\n",
       "\n",
       "    .dataframe tbody tr th {\n",
       "        vertical-align: top;\n",
       "    }\n",
       "\n",
       "    .dataframe thead th {\n",
       "        text-align: right;\n",
       "    }\n",
       "</style>\n",
       "<table border=\"1\" class=\"dataframe\">\n",
       "  <thead>\n",
       "    <tr style=\"text-align: right;\">\n",
       "      <th></th>\n",
       "      <th>7:50-8:10</th>\n",
       "      <th>9:50-10:10</th>\n",
       "      <th>11:50-12:10</th>\n",
       "      <th>17:50-18:10</th>\n",
       "    </tr>\n",
       "    <tr>\n",
       "      <th>Date</th>\n",
       "      <th></th>\n",
       "      <th></th>\n",
       "      <th></th>\n",
       "      <th></th>\n",
       "    </tr>\n",
       "  </thead>\n",
       "  <tbody>\n",
       "    <tr>\n",
       "      <th>2019-04-11</th>\n",
       "      <td>NaN</td>\n",
       "      <td>NaN</td>\n",
       "      <td>9.0</td>\n",
       "      <td>4.0</td>\n",
       "    </tr>\n",
       "    <tr>\n",
       "      <th>2019-04-12</th>\n",
       "      <td>10.0</td>\n",
       "      <td>24.0</td>\n",
       "      <td>6.0</td>\n",
       "      <td>6.0</td>\n",
       "    </tr>\n",
       "    <tr>\n",
       "      <th>2019-04-13</th>\n",
       "      <td>33.0</td>\n",
       "      <td>4.0</td>\n",
       "      <td>6.0</td>\n",
       "      <td>11.0</td>\n",
       "    </tr>\n",
       "    <tr>\n",
       "      <th>2019-04-14</th>\n",
       "      <td>23.0</td>\n",
       "      <td>22.0</td>\n",
       "      <td>4.0</td>\n",
       "      <td>7.0</td>\n",
       "    </tr>\n",
       "    <tr>\n",
       "      <th>2019-04-15</th>\n",
       "      <td>15.0</td>\n",
       "      <td>12.0</td>\n",
       "      <td>NaN</td>\n",
       "      <td>7.0</td>\n",
       "    </tr>\n",
       "  </tbody>\n",
       "</table>\n",
       "</div>"
      ],
      "text/plain": [
       "            7:50-8:10  9:50-10:10  11:50-12:10  17:50-18:10\n",
       "Date                                                       \n",
       "2019-04-11        NaN         NaN          9.0          4.0\n",
       "2019-04-12       10.0        24.0          6.0          6.0\n",
       "2019-04-13       33.0         4.0          6.0         11.0\n",
       "2019-04-14       23.0        22.0          4.0          7.0\n",
       "2019-04-15       15.0        12.0          NaN          7.0"
      ]
     },
     "execution_count": 65,
     "metadata": {},
     "output_type": "execute_result"
    }
   ],
   "source": [
    "truckCountLabel.rename(columns = {\"TruckCount_1\":\"7:50-8:10\",\"TruckCount_2\":\"9:50-10:10\",\n",
    "                                 \"TruckCount_3\":\"11:50-12:10\",\"TruckCount_4\":\"17:50-18:10\"}, inplace=True)\n",
    "truckCountLabel.head()"
   ]
  },
  {
   "cell_type": "code",
   "execution_count": 38,
   "metadata": {},
   "outputs": [
    {
     "data": {
      "image/png": "[encoded data removed]",
      "text/plain": [
       "<Figure size 864x360 with 1 Axes>"
      ]
     },
     "metadata": {
      "needs_background": "light"
     },
     "output_type": "display_data"
    }
   ],
   "source": [
    "fig = pl.figure(figsize = (12,5))\n",
    "ax = fig.add_subplot(111)\n",
    "\n",
    "truckCountLabel.plot.bar( alpha=0.75, ax=ax)\n",
    "\n",
    "ax.set_title(\"Land Use Count in Study Area\", fontsize=22, y=1.01)\n",
    "ax.set_xlabel(\"Land Use Count\", fontsize=18)\n",
    "ax.set_ylabel(\"Frequency\", fontsize=18)\n",
    "\n",
    "\n",
    "pl.grid(linewidth=0.5, axis='y', linestyle='-.')\n",
    "pl.legend(fontsize=14)\n",
    "pl.show()"
   ]
  },
  {
   "cell_type": "code",
   "execution_count": 68,
   "metadata": {},
   "outputs": [],
   "source": [
    "truckCountLabel.reset_index(inplace=True)"
   ]
  },
  {
   "cell_type": "code",
   "execution_count": 69,
   "metadata": {},
   "outputs": [
    {
     "data": {
      "text/plain": [
       "datetime.date"
      ]
     },
     "execution_count": 69,
     "metadata": {},
     "output_type": "execute_result"
    }
   ],
   "source": [
    "type(truckCountLabel['Date'][2])"
   ]
  },
  {
   "cell_type": "code",
   "execution_count": 70,
   "metadata": {},
   "outputs": [],
   "source": [
    "truckCountLabel['Weekday'] = truckCountLabel.Date.apply(lambda x: x.weekday())"
   ]
  },
  {
   "cell_type": "code",
   "execution_count": 71,
   "metadata": {},
   "outputs": [
    {
     "data": {
      "text/html": [
       "<div>\n",
       "<style scoped>\n",
       "    .dataframe tbody tr th:only-of-type {\n",
       "        vertical-align: middle;\n",
       "    }\n",
       "\n",
       "    .dataframe tbody tr th {\n",
       "        vertical-align: top;\n",
       "    }\n",
       "\n",
       "    .dataframe thead th {\n",
       "        text-align: right;\n",
       "    }\n",
       "</style>\n",
       "<table border=\"1\" class=\"dataframe\">\n",
       "  <thead>\n",
       "    <tr style=\"text-align: right;\">\n",
       "      <th></th>\n",
       "      <th>Date</th>\n",
       "      <th>7:50-8:10</th>\n",
       "      <th>9:50-10:10</th>\n",
       "      <th>11:50-12:10</th>\n",
       "      <th>17:50-18:10</th>\n",
       "      <th>Weekday</th>\n",
       "    </tr>\n",
       "  </thead>\n",
       "  <tbody>\n",
       "    <tr>\n",
       "      <th>0</th>\n",
       "      <td>2019-04-11</td>\n",
       "      <td>NaN</td>\n",
       "      <td>NaN</td>\n",
       "      <td>9.0</td>\n",
       "      <td>4.0</td>\n",
       "      <td>3</td>\n",
       "    </tr>\n",
       "    <tr>\n",
       "      <th>1</th>\n",
       "      <td>2019-04-12</td>\n",
       "      <td>10.0</td>\n",
       "      <td>24.0</td>\n",
       "      <td>6.0</td>\n",
       "      <td>6.0</td>\n",
       "      <td>4</td>\n",
       "    </tr>\n",
       "    <tr>\n",
       "      <th>2</th>\n",
       "      <td>2019-04-13</td>\n",
       "      <td>33.0</td>\n",
       "      <td>4.0</td>\n",
       "      <td>6.0</td>\n",
       "      <td>11.0</td>\n",
       "      <td>5</td>\n",
       "    </tr>\n",
       "    <tr>\n",
       "      <th>3</th>\n",
       "      <td>2019-04-14</td>\n",
       "      <td>23.0</td>\n",
       "      <td>22.0</td>\n",
       "      <td>4.0</td>\n",
       "      <td>7.0</td>\n",
       "      <td>6</td>\n",
       "    </tr>\n",
       "    <tr>\n",
       "      <th>4</th>\n",
       "      <td>2019-04-15</td>\n",
       "      <td>15.0</td>\n",
       "      <td>12.0</td>\n",
       "      <td>NaN</td>\n",
       "      <td>7.0</td>\n",
       "      <td>0</td>\n",
       "    </tr>\n",
       "    <tr>\n",
       "      <th>5</th>\n",
       "      <td>2019-04-16</td>\n",
       "      <td>5.0</td>\n",
       "      <td>12.0</td>\n",
       "      <td>15.0</td>\n",
       "      <td>8.0</td>\n",
       "      <td>1</td>\n",
       "    </tr>\n",
       "    <tr>\n",
       "      <th>6</th>\n",
       "      <td>2019-04-17</td>\n",
       "      <td>17.0</td>\n",
       "      <td>5.0</td>\n",
       "      <td>15.0</td>\n",
       "      <td>13.0</td>\n",
       "      <td>2</td>\n",
       "    </tr>\n",
       "    <tr>\n",
       "      <th>7</th>\n",
       "      <td>2019-04-18</td>\n",
       "      <td>16.0</td>\n",
       "      <td>27.0</td>\n",
       "      <td>2.0</td>\n",
       "      <td>4.0</td>\n",
       "      <td>3</td>\n",
       "    </tr>\n",
       "    <tr>\n",
       "      <th>8</th>\n",
       "      <td>2019-04-19</td>\n",
       "      <td>24.0</td>\n",
       "      <td>5.0</td>\n",
       "      <td>4.0</td>\n",
       "      <td>4.0</td>\n",
       "      <td>4</td>\n",
       "    </tr>\n",
       "    <tr>\n",
       "      <th>9</th>\n",
       "      <td>2019-04-20</td>\n",
       "      <td>34.0</td>\n",
       "      <td>1.0</td>\n",
       "      <td>5.0</td>\n",
       "      <td>5.0</td>\n",
       "      <td>5</td>\n",
       "    </tr>\n",
       "    <tr>\n",
       "      <th>10</th>\n",
       "      <td>2019-04-21</td>\n",
       "      <td>53.0</td>\n",
       "      <td>19.0</td>\n",
       "      <td>6.0</td>\n",
       "      <td>7.0</td>\n",
       "      <td>6</td>\n",
       "    </tr>\n",
       "    <tr>\n",
       "      <th>11</th>\n",
       "      <td>2019-04-22</td>\n",
       "      <td>19.0</td>\n",
       "      <td>18.0</td>\n",
       "      <td>8.0</td>\n",
       "      <td>5.0</td>\n",
       "      <td>0</td>\n",
       "    </tr>\n",
       "    <tr>\n",
       "      <th>12</th>\n",
       "      <td>2019-04-23</td>\n",
       "      <td>9.0</td>\n",
       "      <td>NaN</td>\n",
       "      <td>NaN</td>\n",
       "      <td>NaN</td>\n",
       "      <td>1</td>\n",
       "    </tr>\n",
       "  </tbody>\n",
       "</table>\n",
       "</div>"
      ],
      "text/plain": [
       "          Date  7:50-8:10  9:50-10:10  11:50-12:10  17:50-18:10  Weekday\n",
       "0   2019-04-11        NaN         NaN          9.0          4.0        3\n",
       "1   2019-04-12       10.0        24.0          6.0          6.0        4\n",
       "2   2019-04-13       33.0         4.0          6.0         11.0        5\n",
       "3   2019-04-14       23.0        22.0          4.0          7.0        6\n",
       "4   2019-04-15       15.0        12.0          NaN          7.0        0\n",
       "5   2019-04-16        5.0        12.0         15.0          8.0        1\n",
       "6   2019-04-17       17.0         5.0         15.0         13.0        2\n",
       "7   2019-04-18       16.0        27.0          2.0          4.0        3\n",
       "8   2019-04-19       24.0         5.0          4.0          4.0        4\n",
       "9   2019-04-20       34.0         1.0          5.0          5.0        5\n",
       "10  2019-04-21       53.0        19.0          6.0          7.0        6\n",
       "11  2019-04-22       19.0        18.0          8.0          5.0        0\n",
       "12  2019-04-23        9.0         NaN          NaN          NaN        1"
      ]
     },
     "execution_count": 71,
     "metadata": {},
     "output_type": "execute_result"
    }
   ],
   "source": [
    "truckCountLabel"
   ]
  },
  {
   "cell_type": "code",
   "execution_count": 79,
   "metadata": {},
   "outputs": [
    {
     "data": {
      "text/plain": [
       "numpy.int64"
      ]
     },
     "execution_count": 79,
     "metadata": {},
     "output_type": "execute_result"
    }
   ],
   "source": [
    "type(truckCountLabel.Weekday[2])"
   ]
  },
  {
   "cell_type": "code",
   "execution_count": 80,
   "metadata": {},
   "outputs": [],
   "source": [
    "truckCountLabel['Weekday'] = truckCountLabel['Weekday'].replace(0,\"Monday\")\n",
    "truckCountLabel['Weekday'] = truckCountLabel['Weekday'].replace(1,\"Tuesday\")\n",
    "truckCountLabel['Weekday'] = truckCountLabel['Weekday'].replace(2,\"Wednesday\")\n",
    "truckCountLabel['Weekday'] = truckCountLabel['Weekday'].replace(3,\"Thursday\")\n",
    "truckCountLabel['Weekday'] = truckCountLabel['Weekday'].replace(4,\"Friday\")\n",
    "truckCountLabel['Weekday'] = truckCountLabel['Weekday'].replace(5,\"Saturday\")\n",
    "truckCountLabel['Weekday'] = truckCountLabel['Weekday'].replace(6,\"Sunday\")"
   ]
  },
  {
   "cell_type": "code",
   "execution_count": 82,
   "metadata": {},
   "outputs": [
    {
     "data": {
      "text/html": [
       "<div>\n",
       "<style scoped>\n",
       "    .dataframe tbody tr th:only-of-type {\n",
       "        vertical-align: middle;\n",
       "    }\n",
       "\n",
       "    .dataframe tbody tr th {\n",
       "        vertical-align: top;\n",
       "    }\n",
       "\n",
       "    .dataframe thead th {\n",
       "        text-align: right;\n",
       "    }\n",
       "</style>\n",
       "<table border=\"1\" class=\"dataframe\">\n",
       "  <thead>\n",
       "    <tr style=\"text-align: right;\">\n",
       "      <th></th>\n",
       "      <th>Date</th>\n",
       "      <th>7:50-8:10</th>\n",
       "      <th>9:50-10:10</th>\n",
       "      <th>11:50-12:10</th>\n",
       "      <th>17:50-18:10</th>\n",
       "      <th>Weekday</th>\n",
       "    </tr>\n",
       "  </thead>\n",
       "  <tbody>\n",
       "    <tr>\n",
       "      <th>0</th>\n",
       "      <td>2019-04-11</td>\n",
       "      <td>NaN</td>\n",
       "      <td>NaN</td>\n",
       "      <td>9.0</td>\n",
       "      <td>4.0</td>\n",
       "      <td>Thursday</td>\n",
       "    </tr>\n",
       "    <tr>\n",
       "      <th>1</th>\n",
       "      <td>2019-04-12</td>\n",
       "      <td>10.0</td>\n",
       "      <td>24.0</td>\n",
       "      <td>6.0</td>\n",
       "      <td>6.0</td>\n",
       "      <td>Friday</td>\n",
       "    </tr>\n",
       "    <tr>\n",
       "      <th>2</th>\n",
       "      <td>2019-04-13</td>\n",
       "      <td>33.0</td>\n",
       "      <td>4.0</td>\n",
       "      <td>6.0</td>\n",
       "      <td>11.0</td>\n",
       "      <td>Saturday</td>\n",
       "    </tr>\n",
       "    <tr>\n",
       "      <th>3</th>\n",
       "      <td>2019-04-14</td>\n",
       "      <td>23.0</td>\n",
       "      <td>22.0</td>\n",
       "      <td>4.0</td>\n",
       "      <td>7.0</td>\n",
       "      <td>Sunday</td>\n",
       "    </tr>\n",
       "    <tr>\n",
       "      <th>4</th>\n",
       "      <td>2019-04-15</td>\n",
       "      <td>15.0</td>\n",
       "      <td>12.0</td>\n",
       "      <td>NaN</td>\n",
       "      <td>7.0</td>\n",
       "      <td>Monday</td>\n",
       "    </tr>\n",
       "  </tbody>\n",
       "</table>\n",
       "</div>"
      ],
      "text/plain": [
       "         Date  7:50-8:10  9:50-10:10  11:50-12:10  17:50-18:10   Weekday\n",
       "0  2019-04-11        NaN         NaN          9.0          4.0  Thursday\n",
       "1  2019-04-12       10.0        24.0          6.0          6.0    Friday\n",
       "2  2019-04-13       33.0         4.0          6.0         11.0  Saturday\n",
       "3  2019-04-14       23.0        22.0          4.0          7.0    Sunday\n",
       "4  2019-04-15       15.0        12.0          NaN          7.0    Monday"
      ]
     },
     "execution_count": 82,
     "metadata": {},
     "output_type": "execute_result"
    }
   ],
   "source": [
    "truckCountLabel.head()"
   ]
  },
  {
   "cell_type": "code",
   "execution_count": 87,
   "metadata": {},
   "outputs": [],
   "source": [
    "truckCountLabelWeekday = truckCountLabel[[\"Weekday\",\"7:50-8:10\",\"9:50-10:10\",\"11:50-12:10\",\"17:50-18:10\"]]\n",
    "truckCountLabelWeekday = truckCountLabelWeekday.groupby('Weekday').sum()"
   ]
  },
  {
   "cell_type": "code",
   "execution_count": 88,
   "metadata": {},
   "outputs": [
    {
     "data": {
      "image/png": "[encoded data removed]",
      "text/plain": [
       "<Figure size 864x360 with 1 Axes>"
      ]
     },
     "metadata": {
      "needs_background": "light"
     },
     "output_type": "display_data"
    }
   ],
   "source": [
    "fig = pl.figure(figsize = (12,5))\n",
    "ax = fig.add_subplot(111)\n",
    "\n",
    "truckCountLabelWeekday.plot.bar(alpha=0.75, ax=ax)\n",
    "\n",
    "ax.set_title(\"Land Use Count in Study Area\", fontsize=22, y=1.01)\n",
    "ax.set_xlabel(\"Land Use Count\", fontsize=18)\n",
    "ax.set_ylabel(\"Frequency\", fontsize=18)\n",
    "\n",
    "\n",
    "pl.grid(linewidth=0.5, axis='y', linestyle='-.')\n",
    "pl.legend(fontsize=14)\n",
    "pl.show()"
   ]
  },
  {
   "cell_type": "code",
   "execution_count": null,
   "metadata": {},
   "outputs": [],
   "source": []
  }
 ],
 "metadata": {
  "kernelspec": {
   "display_name": "myEnv3",
   "language": "python",
   "name": "myenv3"
  },
  "language_info": {
   "codemirror_mode": {
    "name": "ipython",
    "version": 2
   },
   "file_extension": ".py",
   "mimetype": "text/x-python",
   "name": "python",
   "nbconvert_exporter": "python",
   "pygments_lexer": "ipython2",
   "version": "2.7.16"
  }
 },
 "nbformat": 4,
 "nbformat_minor": 2
}
